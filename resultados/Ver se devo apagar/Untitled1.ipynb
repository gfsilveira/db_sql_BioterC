{
 "cells": [
  {
   "cell_type": "code",
   "execution_count": 12,
   "metadata": {},
   "outputs": [
    {
     "data": {
      "text/plain": [
       "Text(1, 1.7175, '1.72')"
      ]
     },
     "execution_count": 12,
     "metadata": {},
     "output_type": "execute_result"
    },
    {
     "data": {
      "image/png": "[encoded data removed]",
      "text/plain": [
       "<Figure size 432x504 with 1 Axes>"
      ]
     },
     "metadata": {
      "needs_background": "light"
     },
     "output_type": "display_data"
    }
   ],
   "source": [
    "import pandas as pd\n",
    "import matplotlib.pyplot as plt\n",
    "\n",
    "df = pd.read_csv('../questionario.csv')\n",
    "\n",
    "alturas = df['Alt']\n",
    "alt_descri = alturas.describe()\n",
    "\n",
    "with open('altura-descricao.txt', 'w') as f:\n",
    "    alt_descri.to_string(f)\n",
    "\n",
    "q1 = alt_descri['25%']\n",
    "mediana = alt_descri['50%']\n",
    "q2 = alt_descri['75%']\n",
    "\n",
    "s_q1 = \"{0:.2f}\".format(q1)\n",
    "s_mediana = \"{0:.2f}\".format(mediana)\n",
    "s_q2 = \"{0:.2f}\".format(q2)\n",
    "\n",
    "font_1 = {'family': 'serif', 'color': 'darkred', 'size':'14'}\n",
    "\n",
    "plt.figure(figsize=(6, 7))\n",
    "plt.boxplot(alturas)\n",
    "plt.title('Boxplot Alturas')\n",
    "plt.ylabel('Altura')\n",
    "plt.text(1, q1, s_q1, fontdict=font_1)\n",
    "plt.text(1, mediana, s_mediana, fontdict=font_1)\n",
    "plt.text(1, q2, s_q2, fontdict=font_1)"
   ]
  },
  {
   "cell_type": "code",
   "execution_count": 24,
   "metadata": {},
   "outputs": [
    {
     "data": {
      "text/plain": [
       "{'G': count    50.000000\n",
       " mean      1.672000\n",
       " std       0.090599\n",
       " min       1.450000\n",
       " 25%       1.602500\n",
       " 50%       1.665000\n",
       " 75%       1.717500\n",
       " max       1.850000\n",
       " Name: Alt, dtype: float64, 'F': count    37.000000\n",
       " mean      1.633784\n",
       " std       0.066514\n",
       " min       1.450000\n",
       " 25%       1.600000\n",
       " 50%       1.640000\n",
       " 75%       1.680000\n",
       " max       1.820000\n",
       " Name: Alt, dtype: float64, 'M': count    13.000000\n",
       " mean      1.780769\n",
       " std       0.054077\n",
       " min       1.700000\n",
       " 25%       1.730000\n",
       " 50%       1.780000\n",
       " 75%       1.830000\n",
       " max       1.850000\n",
       " Name: Alt, dtype: float64}"
      ]
     },
     "execution_count": 24,
     "metadata": {},
     "output_type": "execute_result"
    }
   ],
   "source": [
    "s_describe"
   ]
  },
  {
   "cell_type": "code",
   "execution_count": 22,
   "metadata": {},
   "outputs": [
    {
     "data": {
      "text/plain": [
       "Text(2.8, 1.45, 'G - Geral\\nF - Feminino\\nM - Masculino')"
      ]
     },
     "execution_count": 22,
     "metadata": {},
     "output_type": "execute_result"
    },
    {
     "data": {
      "image/png": "[encoded data removed]",
      "text/plain": [
       "<Figure size 432x576 with 1 Axes>"
      ]
     },
     "metadata": {
      "needs_background": "light"
     },
     "output_type": "display_data"
    }
   ],
   "source": [
    "\n",
    "\"\"\"\n",
    "Criando um boxplot para a coluna alturas, e para as alturas femininas e \n",
    "masculinas\n",
    "\"\"\"\n",
    "df = pd.read_csv('../questionario.csv')\n",
    "\n",
    "alt = df['Alt']\n",
    "alt_f = df[df.Sexo == 'F']\n",
    "alt_f = alt_f['Alt']\n",
    "alt_m = df[df.Sexo == 'M']\n",
    "alt_m = alt_m['Alt']\n",
    "\n",
    "alt_d = alt.describe()\n",
    "alt_fd = alt_f.describe()\n",
    "alt_md = alt_m.describe()\n",
    "\n",
    "s_describe = {'G': alt_d, 'F': alt_fd, 'M': alt_md}\n",
    "\n",
    "for x in s_describe:\n",
    "    f_name = 'altura-descricao-{0}.txt'.format(x)\n",
    "    with open(f_name, 'w') as f:\n",
    "        alt_descri.to_string(f)\n",
    "\n",
    "\n",
    "font_1 = {'family':'serif', 'color':'#993556'}\n",
    "font_2 = {'family':'serif', 'color':'#5C1BCC'}\n",
    "font_3 = {'family':'serif', 'color':'000', 'size':12}\n",
    "\n",
    "fig = plt.figure(figsize=(6, 8))\n",
    "plt.boxplot([alt, alt_f, alt_m], labels=['Geral', 'Fem', 'Masc'])\n",
    "\n",
    "plt.ylabel('Idade')\n",
    "\n",
    "i = 1\n",
    "for ax in s_describe:\n",
    "\n",
    "    plt.text(i, s_describe[ax]['50%'], '{0:.2f}'.format(s_describe[ax]['50%']),\n",
    "                           fontdict=font_2)\n",
    "    plt.text(i, s_describe[ax]['25%'], '{0:.2f}'.format(s_describe[ax]['25%']),\n",
    "             fontdict=font_1)\n",
    "    plt.text(i, s_describe[ax]['75%'], '{0:.2f}'.format(s_describe[ax]['75%']),\n",
    "             fontdict=font_1)\n",
    "    i += 1\n",
    "\n",
    "plt.xticks([1, 2, 3], ['G', 'F', 'M'])\n",
    "plt.text(2.8, 1.45, 'G - Geral\\nF - Feminino\\nM - Masculino',\n",
    "         horizontalalignment='left', fontdict=font_3)"
   ]
  },
  {
   "cell_type": "code",
   "execution_count": null,
   "metadata": {},
   "outputs": [],
   "source": []
  }
 ],
 "metadata": {
  "kernelspec": {
   "display_name": "Python 3",
   "language": "python",
   "name": "python3"
  },
  "language_info": {
   "codemirror_mode": {
    "name": "ipython",
    "version": 3
   },
   "file_extension": ".py",
   "mimetype": "text/x-python",
   "name": "python",
   "nbconvert_exporter": "python",
   "pygments_lexer": "ipython3",
   "version": "3.7.1"
  }
 },
 "nbformat": 4,
 "nbformat_minor": 2
}
