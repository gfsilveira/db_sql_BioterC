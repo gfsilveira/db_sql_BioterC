{
 "cells": [
  {
   "cell_type": "code",
   "execution_count": 1,
   "metadata": {},
   "outputs": [],
   "source": [
    "import timeit\n",
    "import numpy as np\n",
    "import pandas as pd"
   ]
  },
  {
   "cell_type": "code",
   "execution_count": 2,
   "metadata": {},
   "outputs": [],
   "source": [
    "class Resumos():\n",
    "    def __init__(self, lista):\n",
    "        self.lista = lista\n",
    "\n",
    "    \n",
    "    def organo(self):    \n",
    "        lista_org = self.lista[:]\n",
    "        conta = 1\n",
    "        for k1 in range(len(lista_org) - 1):\n",
    "            conta += 1\n",
    "            for k2 in range(len(lista_org) - 1):\n",
    "                if lista_org[k2] > lista_org[k2 + 1]:\n",
    "                    lista_org[k2], lista_org[k2 + 1] = lista_org[k2 + 1], lista_org[k2]\n",
    "        dict_result = {\n",
    "            'N° valores': conta,\n",
    "            'Organizada': lista_org\n",
    "        }\n",
    "        return dict_result\n",
    "    \n",
    "    \n",
    "    def mediana(self):\n",
    "        lista_org = Resumos(self.lista).organo()['Organizada']\n",
    "        conta = Resumos(self.lista).organo()['N° valores']\n",
    "        if conta%2 == 1:\n",
    "            lista_mediana = lista_org[int(conta/2)]\n",
    "        else:\n",
    "            lista_mediana = (lista_org[int(conta/2)] - lista_org[int(conta/2) - 1])/2 + lista_org[int(conta/2) - 1]\n",
    "        dict_result = {\n",
    "            'N° valores': conta,\n",
    "            'Mediana': round(lista_mediana, 2)\n",
    "        }\n",
    "        return dict_result\n",
    "    \n",
    "    \n",
    "    def media_soma(self):\n",
    "        lista_org = self.lista\n",
    "        conta = 0\n",
    "        soma = 0\n",
    "        for k, v in enumerate(lista_org):\n",
    "            soma += v\n",
    "            conta += 1\n",
    "        dict_result = {\n",
    "            'Média': round(soma/conta, 2),\n",
    "            'Soma': soma\n",
    "        }\n",
    "        return dict_result\n",
    "    \n",
    "    \n",
    "    def max_min(self):\n",
    "        lista_org = Resumos(self.lista).organo()['Organizada']\n",
    "        for c in lista_org:\n",
    "            list_max = c\n",
    "        dict_result = {\n",
    "            'Máximo': c,\n",
    "            'Mínimo': lista_org[0],\n",
    "        }\n",
    "        return dict_result\n",
    "    \n",
    "    \n",
    "    def quartils(self):\n",
    "        lista_org = Resumos(self.lista).organo()['Organizada']\n",
    "        conta = Resumos(self.lista).organo()['N° valores']\n",
    "        \n",
    "        q2 = Resumos(self.lista).mediana()['Mediana']\n",
    "        \n",
    "        if conta%2 == 1:\n",
    "            q1 = Resumos(lista_org[:int(conta/2)+1]).mediana()['Mediana']\n",
    "            q3 = Resumos(lista_org[int(conta/2):]).mediana()['Mediana']\n",
    "        else:\n",
    "            q1 = Resumos(lista_org[:int(conta/2)]).mediana()['Mediana']\n",
    "            q3 = Resumos(lista_org[int(conta/2):]).mediana()['Mediana']\n",
    "        \n",
    "        menor = ((q2 - q1) * 1.5) - q1\n",
    "        maior = ((q3 - q2) * 1.5) + q3\n",
    "        \n",
    "        if menor <= lista_org[0]:\n",
    "            menor = lista_org[0]        \n",
    "        min_out = list()\n",
    "        conta_out = 0\n",
    "        for c in lista_org:\n",
    "            if c < menor:\n",
    "                min_out.append(c)\n",
    "                conta_out += 1\n",
    "        \n",
    "        if maior >= lista_org[-1]:\n",
    "            maior = lista_org[-1]\n",
    "        max_out = list()\n",
    "        conta_out = 0\n",
    "        for c in lista_org:\n",
    "            if c > maior:\n",
    "                max_out.append(c)\n",
    "                conta_out += 1\n",
    "        \n",
    "        dict_result = {\n",
    "            'Outliers Menor': min_out,\n",
    "            'Menor': menor,\n",
    "            'Q1': q1,\n",
    "            'Q2': q2,\n",
    "            'Q3': q3,\n",
    "            'Maior': maior,\n",
    "            'Outliers Maior': max_out\n",
    "        }\n",
    "        return dict_result\n",
    "    \n",
    "    \n",
    "    def variancia(self):\n",
    "        lista_org = Resumos(self.lista).organo()['Organizada']\n",
    "        conta = Resumos(self.lista).organo()['N° valores']\n",
    "        media = Resumos(self.lista).media_soma()['Média']\n",
    "        soma_varia = 0\n",
    "        for c in lista_org:\n",
    "            soma_varia += (c - media)**2\n",
    "        varia = round(soma_varia/conta)\n",
    "        desvio = round(varia ** 0.5)\n",
    "        dict_result = {\n",
    "            'Variância': varia,\n",
    "            'Desvio Padrão': desvio,\n",
    "        }\n",
    "        return dict_result\n",
    "\n",
    "    \n",
    "    def describe(self):\n",
    "        lista_org = Resumos(self.lista).organo()['Organizada']\n",
    "        conta = Resumos(self.lista).organo()['N° valores']\n",
    "        lista_mediana = Resumos(self.lista).mediana()['Mediana']\n",
    "        soma = Resumos(self.lista).media_soma()['Soma']\n",
    "        media = Resumos(self.lista).media_soma()['Média']\n",
    "        min_out = Resumos(self.lista).quartils()['Outliers Menor']\n",
    "        menor = Resumos(self.lista).quartils()['Menor']\n",
    "        q1 = Resumos(self.lista).quartils()['Q1']\n",
    "        q2 = Resumos(self.lista).quartils()['Q2']\n",
    "        q3 = Resumos(self.lista).quartils()['Q3']\n",
    "        maior = Resumos(self.lista).quartils()['Maior']\n",
    "        max_out = Resumos(self.lista).quartils()['Outliers Maior']\n",
    "        varia = Resumos(self.lista).variancia()['Variância']\n",
    "        desvio = Resumos(self.lista).variancia()['Desvio Padrão']\n",
    "        \n",
    "        if len(max_out) == 0 & len(min_out) == 0:\n",
    "            normal = 'Sim'\n",
    "        else:\n",
    "            normal = 'Não'\n",
    "        \n",
    "        dict_result = {\n",
    "            'Organizada': lista_org,\n",
    "            'N° valores': conta,\n",
    "            'Soma': soma,\n",
    "            'Média': media,\n",
    "            'Mediana': lista_mediana,\n",
    "            'Variância': varia,\n",
    "            'Desvio Padrão': desvio,\n",
    "            'Normal': normal,\n",
    "            'Mínimo': lista_org[0],\n",
    "            'Outliers Menor': min_out,\n",
    "            'Menor': menor,\n",
    "            'Q1': q1,\n",
    "            'Q2': q2,\n",
    "            'Q3': q3,\n",
    "            'Maior': maior,\n",
    "            'Outliers Maior': max_out,\n",
    "            'Máximo': lista_org[-1],\n",
    "        }\n",
    "        return dict_result\n",
    "        "
   ]
  },
  {
   "cell_type": "code",
   "execution_count": 3,
   "metadata": {},
   "outputs": [],
   "source": [
    "def np_resumos(lista_test):\n",
    "    q1 = round(np.quantile(lista_test, .25), 1)\n",
    "    q2 = round(np.quantile(lista_test, .5), 1)\n",
    "    q3 = round(np.quantile(lista_test, .75), 1)\n",
    "    minimo = ((q2 - q1) * 1.5) - q1\n",
    "    maximo = ((q3 - q2) * 1.5) + q3\n",
    "        \n",
    "    if minimo <= np.min(lista_test):\n",
    "        minimo = np.min(lista_test)\n",
    "    min_out = list()\n",
    "    conta_out = 0\n",
    "    for c in np.sort(lista_test):\n",
    "        if c < minimo:\n",
    "            min_out.append(c)\n",
    "            conta_out += 1\n",
    "            \n",
    "            \n",
    "    if maximo >= np.max(lista_test):\n",
    "        maximo = np.max(lista_test)\n",
    "    max_out = list()\n",
    "    conta_out = 0\n",
    "    for c in np.sort(lista_test):\n",
    "        if c > maximo:\n",
    "            max_out.append(c)\n",
    "            conta_out += 1\n",
    "    \n",
    "    if len(max_out) == 0 & len(min_out):\n",
    "        normal = 'Sim'\n",
    "    else:\n",
    "        normal = 'Não'\n",
    "        \n",
    "    data = [\n",
    "        np.sort(lista_test),\n",
    "        len(lista_test),\n",
    "        np.sum(lista_test),\n",
    "        round(np.mean(lista_test), 2),\n",
    "        round(np.median(lista_test), 2),\n",
    "        round(np.var(lista_test), 2),\n",
    "        round(np.std(lista_test), 2),\n",
    "        normal,\n",
    "        np.min(lista_test),\n",
    "        min_out,\n",
    "        minimo,\n",
    "        q1,\n",
    "        np.median(lista_test),\n",
    "        q3,\n",
    "        maximo,\n",
    "        max_out,\n",
    "        np.max(lista_test),\n",
    "    ]\n",
    "    return data"
   ]
  },
  {
   "cell_type": "code",
   "execution_count": 4,
   "metadata": {},
   "outputs": [
    {
     "data": {
      "text/plain": [
       "[-20, 1, 3, -90, 2, 4, 6, 5, 8, 4, 9, 200, 190, 456]"
      ]
     },
     "execution_count": 4,
     "metadata": {},
     "output_type": "execute_result"
    }
   ],
   "source": [
    "import numpy as np\n",
    "# l = np.random.randint(low=2, high=1000, size=100)\n",
    "l = [-20,1,3,-90,2,4,6,5,8,4,9,200,190,456]\n",
    "l"
   ]
  },
  {
   "cell_type": "code",
   "execution_count": 5,
   "metadata": {},
   "outputs": [
    {
     "data": {
      "text/plain": [
       "<__main__.Resumos at 0x75edbd0>"
      ]
     },
     "execution_count": 5,
     "metadata": {},
     "output_type": "execute_result"
    }
   ],
   "source": [
    "resumo_l = Resumos(l)\n",
    "resumo_l"
   ]
  },
  {
   "cell_type": "code",
   "execution_count": 6,
   "metadata": {},
   "outputs": [
    {
     "name": "stdout",
     "output_type": "stream",
     "text": [
      "N° valores _ 14\n",
      "Organizada _ [-90, -20, 1, 2, 3, 4, 4, 5, 6, 8, 9, 190, 200, 456]\n"
     ]
    }
   ],
   "source": [
    "d = resumo_l.organo().items()\n",
    "for k, v in d:\n",
    "    print(f'{k} _ {v}')"
   ]
  },
  {
   "cell_type": "code",
   "execution_count": 7,
   "metadata": {},
   "outputs": [
    {
     "name": "stdout",
     "output_type": "stream",
     "text": [
      "N° valores _ 14\n",
      "Mediana _ 4.5\n"
     ]
    }
   ],
   "source": [
    "d = resumo_l.mediana().items()\n",
    "for k, v in d:\n",
    "    print(f'{k} _ {v}')"
   ]
  },
  {
   "cell_type": "code",
   "execution_count": 8,
   "metadata": {},
   "outputs": [
    {
     "name": "stdout",
     "output_type": "stream",
     "text": [
      "Média _ 55.57\n",
      "Soma _ 778\n"
     ]
    }
   ],
   "source": [
    "d = resumo_l.media_soma().items()\n",
    "for k, v in d:\n",
    "    print(f'{k} _ {v}')"
   ]
  },
  {
   "cell_type": "code",
   "execution_count": 9,
   "metadata": {},
   "outputs": [
    {
     "name": "stdout",
     "output_type": "stream",
     "text": [
      "Máximo _ 456\n",
      "Mínimo _ -90\n"
     ]
    }
   ],
   "source": [
    "d = resumo_l.max_min().items()\n",
    "for k, v in d:\n",
    "    print(f'{k} _ {v}')"
   ]
  },
  {
   "cell_type": "code",
   "execution_count": 10,
   "metadata": {},
   "outputs": [
    {
     "name": "stdout",
     "output_type": "stream",
     "text": [
      "Outliers Menor _ [-90, -20, 1]\n",
      "Menor _ 1.75\n",
      "Q1 _ 2\n",
      "Q2 _ 4.5\n",
      "Q3 _ 9\n",
      "Maior _ 15.75\n",
      "Outliers Maior _ [190, 200, 456]\n"
     ]
    }
   ],
   "source": [
    "d = resumo_l.quartils().items()\n",
    "for k, v in d:\n",
    "    print(f'{k} _ {v}')"
   ]
  },
  {
   "cell_type": "code",
   "execution_count": 11,
   "metadata": {},
   "outputs": [
    {
     "name": "stdout",
     "output_type": "stream",
     "text": [
      "Variância _ 17825\n",
      "Desvio Padrão _ 134\n"
     ]
    }
   ],
   "source": [
    "d = resumo_l.variancia().items()\n",
    "for k, v in d:\n",
    "    print(f'{k} _ {v}')"
   ]
  },
  {
   "cell_type": "code",
   "execution_count": 12,
   "metadata": {},
   "outputs": [
    {
     "name": "stdout",
     "output_type": "stream",
     "text": [
      "Organizada _ [-90, -20, 1, 2, 3, 4, 4, 5, 6, 8, 9, 190, 200, 456]\n",
      "N° valores _ 14\n",
      "Soma _ 778\n",
      "Média _ 55.57\n",
      "Mediana _ 4.5\n",
      "Variância _ 17825\n",
      "Desvio Padrão _ 134\n",
      "Normal _ Não\n",
      "Mínimo _ -90\n",
      "Outliers Menor _ [-90, -20, 1]\n",
      "Menor _ 1.75\n",
      "Q1 _ 2\n",
      "Q2 _ 4.5\n",
      "Q3 _ 9\n",
      "Maior _ 15.75\n",
      "Outliers Maior _ [190, 200, 456]\n",
      "Máximo _ 456\n"
     ]
    }
   ],
   "source": [
    "d = resumo_l.describe().items()\n",
    "for k, v in d:\n",
    "    print(f'{k} _ {v}')"
   ]
  },
  {
   "cell_type": "code",
   "execution_count": 13,
   "metadata": {},
   "outputs": [
    {
     "data": {
      "text/html": [
       "<div>\n",
       "<style scoped>\n",
       "    .dataframe tbody tr th:only-of-type {\n",
       "        vertical-align: middle;\n",
       "    }\n",
       "\n",
       "    .dataframe tbody tr th {\n",
       "        vertical-align: top;\n",
       "    }\n",
       "\n",
       "    .dataframe thead th {\n",
       "        text-align: right;\n",
       "    }\n",
       "</style>\n",
       "<table border=\"1\" class=\"dataframe\">\n",
       "  <thead>\n",
       "    <tr style=\"text-align: right;\">\n",
       "      <th></th>\n",
       "      <th>Organizada</th>\n",
       "      <th>N° valores</th>\n",
       "      <th>Soma</th>\n",
       "      <th>Média</th>\n",
       "      <th>Mediana</th>\n",
       "      <th>Variância</th>\n",
       "      <th>Desvio Padrão</th>\n",
       "      <th>Normal</th>\n",
       "      <th>Mínimo</th>\n",
       "      <th>Outliers Menor</th>\n",
       "      <th>Menor</th>\n",
       "      <th>Q1</th>\n",
       "      <th>Q2</th>\n",
       "      <th>Q3</th>\n",
       "      <th>Maior</th>\n",
       "      <th>Outliers Maior</th>\n",
       "      <th>Máximo</th>\n",
       "    </tr>\n",
       "  </thead>\n",
       "  <tbody>\n",
       "    <tr>\n",
       "      <td>Resumos</td>\n",
       "      <td>[-90, -20, 1, 2, 3, 4, 4, 5, 6, 8, 9, 190, 200...</td>\n",
       "      <td>14</td>\n",
       "      <td>778</td>\n",
       "      <td>55.57</td>\n",
       "      <td>4.5</td>\n",
       "      <td>17825.00</td>\n",
       "      <td>134.00</td>\n",
       "      <td>Não</td>\n",
       "      <td>-90</td>\n",
       "      <td>[-90, -20, 1]</td>\n",
       "      <td>1.75</td>\n",
       "      <td>2.0</td>\n",
       "      <td>4.5</td>\n",
       "      <td>9.0</td>\n",
       "      <td>15.75</td>\n",
       "      <td>[190, 200, 456]</td>\n",
       "      <td>456</td>\n",
       "    </tr>\n",
       "    <tr>\n",
       "      <td>Numpy</td>\n",
       "      <td>[-90, -20, 1, 2, 3, 4, 4, 5, 6, 8, 9, 190, 200...</td>\n",
       "      <td>14</td>\n",
       "      <td>778</td>\n",
       "      <td>55.57</td>\n",
       "      <td>4.5</td>\n",
       "      <td>17825.24</td>\n",
       "      <td>133.51</td>\n",
       "      <td>Não</td>\n",
       "      <td>-90</td>\n",
       "      <td>[-90, -20, 1]</td>\n",
       "      <td>1.25</td>\n",
       "      <td>2.2</td>\n",
       "      <td>4.5</td>\n",
       "      <td>8.8</td>\n",
       "      <td>15.25</td>\n",
       "      <td>[190, 200, 456]</td>\n",
       "      <td>456</td>\n",
       "    </tr>\n",
       "  </tbody>\n",
       "</table>\n",
       "</div>"
      ],
      "text/plain": [
       "                                                Organizada  N° valores  Soma  \\\n",
       "Resumos  [-90, -20, 1, 2, 3, 4, 4, 5, 6, 8, 9, 190, 200...          14   778   \n",
       "Numpy    [-90, -20, 1, 2, 3, 4, 4, 5, 6, 8, 9, 190, 200...          14   778   \n",
       "\n",
       "         Média  Mediana  Variância  Desvio Padrão Normal  Mínimo  \\\n",
       "Resumos  55.57      4.5   17825.00         134.00    Não     -90   \n",
       "Numpy    55.57      4.5   17825.24         133.51    Não     -90   \n",
       "\n",
       "        Outliers Menor  Menor   Q1   Q2   Q3  Maior   Outliers Maior  Máximo  \n",
       "Resumos  [-90, -20, 1]   1.75  2.0  4.5  9.0  15.75  [190, 200, 456]     456  \n",
       "Numpy    [-90, -20, 1]   1.25  2.2  4.5  8.8  15.25  [190, 200, 456]     456  "
      ]
     },
     "execution_count": 13,
     "metadata": {},
     "output_type": "execute_result"
    }
   ],
   "source": [
    "columns = list(resumo_l.describe().keys())\n",
    "data1 = list(resumo_l.describe().values())\n",
    "data2 = np_resumos(l)\n",
    "df = pd.DataFrame(data=[data1, data2], columns=columns, index=['Resumos','Numpy'])\n",
    "df"
   ]
  },
  {
   "cell_type": "code",
   "execution_count": 14,
   "metadata": {},
   "outputs": [
    {
     "name": "stdout",
     "output_type": "stream",
     "text": [
      "962 µs ± 15.7 µs per loop (mean ± std. dev. of 7 runs, 1000 loops each)\n"
     ]
    }
   ],
   "source": [
    "%timeit Resumos(l).describe()"
   ]
  },
  {
   "cell_type": "code",
   "execution_count": 15,
   "metadata": {},
   "outputs": [
    {
     "name": "stdout",
     "output_type": "stream",
     "text": [
      "539 µs ± 49.4 µs per loop (mean ± std. dev. of 7 runs, 1000 loops each)\n"
     ]
    }
   ],
   "source": [
    "%timeit np_resumos(l)"
   ]
  }
 ],
 "metadata": {
  "kernelspec": {
   "display_name": "Python 3",
   "language": "python",
   "name": "python3"
  },
  "language_info": {
   "codemirror_mode": {
    "name": "ipython",
    "version": 3
   },
   "file_extension": ".py",
   "mimetype": "text/x-python",
   "name": "python",
   "nbconvert_exporter": "python",
   "pygments_lexer": "ipython3",
   "version": "3.7.4"
  }
 },
 "nbformat": 4,
 "nbformat_minor": 4
}
