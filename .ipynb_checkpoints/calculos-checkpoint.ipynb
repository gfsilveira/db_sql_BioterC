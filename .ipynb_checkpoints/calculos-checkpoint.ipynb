{
 "cells": [
  {
   "cell_type": "code",
   "execution_count": 1,
   "metadata": {},
   "outputs": [],
   "source": [
    "import timeit\n",
    "import numpy as np\n",
    "import pandas as pd"
   ]
  },
  {
   "cell_type": "code",
   "execution_count": 2,
   "metadata": {},
   "outputs": [],
   "source": [
    "class Calcular():\n",
    "    def __init__(self, lista):\n",
    "        self.lista = lista\n",
    "\n",
    "    \n",
    "    def organo(self):    \n",
    "        lista_org = self.lista[:]\n",
    "        conta = 1\n",
    "        for k1 in range(len(lista_org) - 1):\n",
    "            conta += 1\n",
    "            for k2 in range(len(lista_org) - 1):\n",
    "                if lista_org[k2] > lista_org[k2 + 1]:\n",
    "                    lista_org[k2], lista_org[k2 + 1] = lista_org[k2 + 1], lista_org[k2]\n",
    "        dict_result = {\n",
    "            'N° valores': conta,\n",
    "            'Organizada': lista_org\n",
    "        }\n",
    "        return dict_result\n",
    "    \n",
    "    \n",
    "    def mediana(self):\n",
    "        lista_org = Calcular(self.lista).organo()['Organizada']\n",
    "        conta = Calcular(self.lista).organo()['N° valores']\n",
    "        if conta%2 == 1:\n",
    "            lista_mediana = lista_org[int(conta/2)]\n",
    "        else:\n",
    "            lista_mediana = (lista_org[int(conta/2)] - lista_org[int(conta/2) - 1])/2 + lista_org[int(conta/2) - 1]\n",
    "        dict_result = {\n",
    "            'N° valores': conta,\n",
    "            'Mediana': round(lista_mediana, 2)\n",
    "        }\n",
    "        return dict_result\n",
    "    \n",
    "    \n",
    "    def media_soma(self):\n",
    "        lista_org = self.lista[:]\n",
    "        conta = 0\n",
    "        soma = 0\n",
    "        for k, v in enumerate(lista_org):\n",
    "            soma += v\n",
    "            conta += 1\n",
    "        dict_result = {\n",
    "            'Média': round(soma/conta, 2),\n",
    "            'Soma': soma\n",
    "        }\n",
    "        return dict_result\n",
    "    \n",
    "    \n",
    "    def max_min(self):\n",
    "        lista_org = Calcular(self.lista).organo()['Organizada']\n",
    "        for c in lista_org:\n",
    "            list_max = c\n",
    "        dict_result = {\n",
    "            'Máximo': c,\n",
    "            'Mínimo': lista_org[0],\n",
    "        }\n",
    "        return dict_result\n",
    "    \n",
    "    \n",
    "    def quartils(self):\n",
    "        lista_org = Calcular(self.lista).organo()['Organizada']\n",
    "        conta = Calcular(self.lista).organo()['N° valores']\n",
    "        \n",
    "        q2 = Calcular(self.lista).mediana()['Mediana']\n",
    "        \n",
    "        if conta%2 == 1:\n",
    "            q1 = Calcular(lista_org[:int(conta/2)+1]).mediana()['Mediana']\n",
    "            q3 = Calcular(lista_org[int(conta/2):]).mediana()['Mediana']\n",
    "        else:\n",
    "            q1 = Calcular(lista_org[:int(conta/2)]).mediana()['Mediana']\n",
    "            q3 = Calcular(lista_org[int(conta/2):]).mediana()['Mediana']\n",
    "        \n",
    "        menor = ((q2 - q1) * 1.5) - q1\n",
    "        maior = ((q3 - q2) * 1.5) + q3\n",
    "        \n",
    "        dict_result = {\n",
    "            'menor': menor,\n",
    "            'q1': q1,\n",
    "            'q2': q2,\n",
    "            'q3': q3,\n",
    "            'maior': maior\n",
    "        }\n",
    "        return dict_result\n",
    "    \n",
    "    \n",
    "    def variancia(self):\n",
    "        lista_org = Calcular(self.lista).organo()['Organizada']\n",
    "        conta = Calcular(self.lista).organo()['N° valores']\n",
    "        media = Calcular(self.lista).media_soma()['Média']\n",
    "        soma_varia = 0\n",
    "        for c in lista_org:\n",
    "            soma_varia += (c - media)**2\n",
    "        varia = round(soma_varia/conta)\n",
    "        desvio = round(varia ** 0.5)\n",
    "        dict_result = {\n",
    "            'Variância': varia,\n",
    "            'Desvio Padrão': desvio,\n",
    "        }\n",
    "        return dict_result\n",
    "\n",
    "    \n",
    "    def describe(self):\n",
    "        lista_org = Calcular(self.lista).organo()['Organizada']\n",
    "        conta = Calcular(self.lista).organo()['N° valores']\n",
    "        lista_mediana = Calcular(self.lista).mediana()['Mediana']\n",
    "        soma = Calcular(self.lista).media_soma()['Soma']\n",
    "        media = Calcular(self.lista).media_soma()['Média']\n",
    "        menor = Calcular(self.lista).quartils()['menor']\n",
    "        q1 = Calcular(self.lista).quartils()['q1']\n",
    "        q2 = Calcular(self.lista).quartils()['q2']\n",
    "        q3 = Calcular(self.lista).quartils()['q3']\n",
    "        maior = Calcular(self.lista).quartils()['maior']\n",
    "        varia = Calcular(self.lista).variancia()['Variância']\n",
    "        desvio = Calcular(self.lista).variancia()['Desvio Padrão']\n",
    "        dict_result = {\n",
    "            'Organizada': lista_org,\n",
    "            'N° valores': conta,\n",
    "            'Mediana': lista_mediana,\n",
    "            'Média': media,\n",
    "            'Soma': soma,\n",
    "            'Variância': varia,\n",
    "            'Desvio Padrão': desvio,\n",
    "            'Mínimo': lista_org[0],\n",
    "            'menor': menor,\n",
    "            'q1': q1,\n",
    "            'q2': q2,\n",
    "            'q3': q3,\n",
    "            'maior': maior,\n",
    "            'Máximo': lista_org[-1],\n",
    "        }\n",
    "        return dict_result\n",
    "        "
   ]
  },
  {
   "cell_type": "code",
   "execution_count": 3,
   "metadata": {},
   "outputs": [
    {
     "data": {
      "text/plain": [
       "[1, 3, 2, 4, 6, 5, 8, 4, 9]"
      ]
     },
     "execution_count": 3,
     "metadata": {},
     "output_type": "execute_result"
    }
   ],
   "source": [
    "# l = np.random.randint(low=2, high=1000, size=10)\n",
    "l = [1,3,2,4,6,5,8,4,9]\n",
    "l"
   ]
  },
  {
   "cell_type": "code",
   "execution_count": 4,
   "metadata": {},
   "outputs": [
    {
     "data": {
      "text/plain": [
       "<__main__.Calcular at 0x79c4810>"
      ]
     },
     "execution_count": 4,
     "metadata": {},
     "output_type": "execute_result"
    }
   ],
   "source": [
    "resumo_l = Calcular(l)\n",
    "resumo_l"
   ]
  },
  {
   "cell_type": "code",
   "execution_count": 5,
   "metadata": {},
   "outputs": [
    {
     "name": "stdout",
     "output_type": "stream",
     "text": [
      "Organizada\n",
      "N° valores _ 9\n",
      "Organizada _ [1, 2, 3, 4, 4, 5, 6, 8, 9]\n"
     ]
    }
   ],
   "source": [
    "print(f'Organizada')\n",
    "d = resumo_l.organo().items()\n",
    "for k, v in d:\n",
    "    print(f'{k} _ {v}')"
   ]
  },
  {
   "cell_type": "code",
   "execution_count": 6,
   "metadata": {},
   "outputs": [
    {
     "name": "stdout",
     "output_type": "stream",
     "text": [
      "Mediana\n",
      "N° valores _ 9\n",
      "Mediana _ 4\n"
     ]
    }
   ],
   "source": [
    "print(f'Mediana')\n",
    "d = resumo_l.mediana().items()\n",
    "for k, v in d:\n",
    "    print(f'{k} _ {v}')"
   ]
  },
  {
   "cell_type": "code",
   "execution_count": 7,
   "metadata": {},
   "outputs": [
    {
     "name": "stdout",
     "output_type": "stream",
     "text": [
      "Média e Soma\n",
      "Média _ 4.67\n",
      "Soma _ 42\n"
     ]
    }
   ],
   "source": [
    "print(f'Média e Soma')\n",
    "d = resumo_l.media_soma().items()\n",
    "for k, v in d:\n",
    "    print(f'{k} _ {v}')"
   ]
  },
  {
   "cell_type": "code",
   "execution_count": 8,
   "metadata": {},
   "outputs": [
    {
     "name": "stdout",
     "output_type": "stream",
     "text": [
      "Limites\n",
      "Máximo _ 9\n",
      "Mínimo _ 1\n"
     ]
    }
   ],
   "source": [
    "print(f'Limites')\n",
    "d = resumo_l.max_min().items()\n",
    "for k, v in d:\n",
    "    print(f'{k} _ {v}')"
   ]
  },
  {
   "cell_type": "code",
   "execution_count": 9,
   "metadata": {},
   "outputs": [
    {
     "name": "stdout",
     "output_type": "stream",
     "text": [
      "Quartils\n",
      "menor _ -1.5\n",
      "q1 _ 3\n",
      "q2 _ 4\n",
      "q3 _ 6\n",
      "maior _ 9.0\n"
     ]
    }
   ],
   "source": [
    "print(f'Quartils')\n",
    "d = resumo_l.quartils().items()\n",
    "for k, v in d:\n",
    "    print(f'{k} _ {v}')"
   ]
  },
  {
   "cell_type": "code",
   "execution_count": 10,
   "metadata": {},
   "outputs": [
    {
     "name": "stdout",
     "output_type": "stream",
     "text": [
      "Variância\n",
      "Variância _ 6\n",
      "Desvio Padrão _ 2\n"
     ]
    }
   ],
   "source": [
    "print(f'Variância')\n",
    "d = resumo_l.variancia().items()\n",
    "for k, v in d:\n",
    "    print(f'{k} _ {v}')"
   ]
  },
  {
   "cell_type": "code",
   "execution_count": 11,
   "metadata": {},
   "outputs": [
    {
     "name": "stdout",
     "output_type": "stream",
     "text": [
      "Descrição\n",
      "Organizada _ [1, 2, 3, 4, 4, 5, 6, 8, 9]\n",
      "N° valores _ 9\n",
      "Mediana _ 4\n",
      "Média _ 4.67\n",
      "Soma _ 42\n",
      "Variância _ 6\n",
      "Desvio Padrão _ 2\n",
      "Mínimo _ 1\n",
      "menor _ -1.5\n",
      "q1 _ 3\n",
      "q2 _ 4\n",
      "q3 _ 6\n",
      "maior _ 9.0\n",
      "Máximo _ 9\n"
     ]
    }
   ],
   "source": [
    "print(f'Descrição')\n",
    "d = resumo_l.describe().items()\n",
    "for k, v in d:\n",
    "    print(f'{k} _ {v}')"
   ]
  },
  {
   "cell_type": "code",
   "execution_count": 12,
   "metadata": {},
   "outputs": [],
   "source": [
    "columns = list(resumo_l.describe().keys())\n",
    "data1 = list(resumo_l.describe().values())\n",
    "q1 = round(np.quantile(resumo_l.organo()['Organizada'], .25), 1)\n",
    "q2 = round(np.quantile(resumo_l.organo()['Organizada'], .5), 1)\n",
    "q3 = round(np.quantile(resumo_l.organo()['Organizada'], .75), 1)\n",
    "minimo = ((q2 - q1) * 1.5) - q1\n",
    "maximo = ((q3 - q2) * 1.5) + q3\n",
    "data2 = [\n",
    "    resumo_l.organo()['Organizada'],\n",
    "    len(l),\n",
    "    round(np.median(l), 2),\n",
    "    round(np.mean(l), 2),\n",
    "    np.sum(l),\n",
    "    round(np.var(l), 2),\n",
    "    round(np.std(l), 2),\n",
    "    np.min(l),\n",
    "    minimo,\n",
    "    q1,\n",
    "    np.median(l),\n",
    "    q3,\n",
    "    maximo,\n",
    "    np.max(l)\n",
    "]"
   ]
  },
  {
   "cell_type": "code",
   "execution_count": 13,
   "metadata": {},
   "outputs": [
    {
     "data": {
      "text/html": [
       "<div>\n",
       "<style scoped>\n",
       "    .dataframe tbody tr th:only-of-type {\n",
       "        vertical-align: middle;\n",
       "    }\n",
       "\n",
       "    .dataframe tbody tr th {\n",
       "        vertical-align: top;\n",
       "    }\n",
       "\n",
       "    .dataframe thead th {\n",
       "        text-align: right;\n",
       "    }\n",
       "</style>\n",
       "<table border=\"1\" class=\"dataframe\">\n",
       "  <thead>\n",
       "    <tr style=\"text-align: right;\">\n",
       "      <th></th>\n",
       "      <th>Organizada</th>\n",
       "      <th>N° valores</th>\n",
       "      <th>Mediana</th>\n",
       "      <th>Média</th>\n",
       "      <th>Soma</th>\n",
       "      <th>Variância</th>\n",
       "      <th>Desvio Padrão</th>\n",
       "      <th>Mínimo</th>\n",
       "      <th>menor</th>\n",
       "      <th>q1</th>\n",
       "      <th>q2</th>\n",
       "      <th>q3</th>\n",
       "      <th>maior</th>\n",
       "      <th>Máximo</th>\n",
       "    </tr>\n",
       "  </thead>\n",
       "  <tbody>\n",
       "    <tr>\n",
       "      <td>Self</td>\n",
       "      <td>[1, 2, 3, 4, 4, 5, 6, 8, 9]</td>\n",
       "      <td>9</td>\n",
       "      <td>4.0</td>\n",
       "      <td>4.67</td>\n",
       "      <td>42</td>\n",
       "      <td>6.00</td>\n",
       "      <td>2.00</td>\n",
       "      <td>1</td>\n",
       "      <td>-1.5</td>\n",
       "      <td>3.0</td>\n",
       "      <td>4.0</td>\n",
       "      <td>6.0</td>\n",
       "      <td>9.0</td>\n",
       "      <td>9</td>\n",
       "    </tr>\n",
       "    <tr>\n",
       "      <td>Numpy</td>\n",
       "      <td>[1, 2, 3, 4, 4, 5, 6, 8, 9]</td>\n",
       "      <td>9</td>\n",
       "      <td>4.0</td>\n",
       "      <td>4.67</td>\n",
       "      <td>42</td>\n",
       "      <td>6.22</td>\n",
       "      <td>2.49</td>\n",
       "      <td>1</td>\n",
       "      <td>-1.5</td>\n",
       "      <td>3.0</td>\n",
       "      <td>4.0</td>\n",
       "      <td>6.0</td>\n",
       "      <td>9.0</td>\n",
       "      <td>9</td>\n",
       "    </tr>\n",
       "  </tbody>\n",
       "</table>\n",
       "</div>"
      ],
      "text/plain": [
       "                        Organizada  N° valores  Mediana  Média  Soma  \\\n",
       "Self   [1, 2, 3, 4, 4, 5, 6, 8, 9]           9      4.0   4.67    42   \n",
       "Numpy  [1, 2, 3, 4, 4, 5, 6, 8, 9]           9      4.0   4.67    42   \n",
       "\n",
       "       Variância  Desvio Padrão  Mínimo  menor   q1   q2   q3  maior  Máximo  \n",
       "Self        6.00           2.00       1   -1.5  3.0  4.0  6.0    9.0       9  \n",
       "Numpy       6.22           2.49       1   -1.5  3.0  4.0  6.0    9.0       9  "
      ]
     },
     "execution_count": 13,
     "metadata": {},
     "output_type": "execute_result"
    }
   ],
   "source": [
    "df = pd.DataFrame(data=[data1, data2], columns=columns, index=['Self','Numpy'])\n",
    "df"
   ]
  },
  {
   "cell_type": "code",
   "execution_count": 14,
   "metadata": {},
   "outputs": [
    {
     "name": "stdout",
     "output_type": "stream",
     "text": [
      "1.01 ms ± 24.6 µs per loop (mean ± std. dev. of 7 runs, 1000 loops each)\n"
     ]
    }
   ],
   "source": [
    "%timeit Calcular(l).describe()"
   ]
  }
 ],
 "metadata": {
  "kernelspec": {
   "display_name": "Python 3",
   "language": "python",
   "name": "python3"
  },
  "language_info": {
   "codemirror_mode": {
    "name": "ipython",
    "version": 3
   },
   "file_extension": ".py",
   "mimetype": "text/x-python",
   "name": "python",
   "nbconvert_exporter": "python",
   "pygments_lexer": "ipython3",
   "version": "3.7.4"
  }
 },
 "nbformat": 4,
 "nbformat_minor": 4
}
