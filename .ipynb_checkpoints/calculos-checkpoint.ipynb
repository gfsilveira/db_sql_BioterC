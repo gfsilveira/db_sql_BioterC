{
 "cells": [
  {
   "cell_type": "code",
   "execution_count": 1,
   "metadata": {},
   "outputs": [],
   "source": [
    "import numpy as np"
   ]
  },
  {
   "cell_type": "code",
   "execution_count": 2,
   "metadata": {},
   "outputs": [],
   "source": [
    "class Calcular():\n",
    "    def __init__(self, lista):\n",
    "        self.lista = lista\n",
    "\n",
    "    \n",
    "    def organo(self):    \n",
    "        lista_org = self.lista[:]\n",
    "        conta = 1\n",
    "        for k1 in range(len(lista_org) - 1):\n",
    "            conta += 1\n",
    "            for k2 in range(len(lista_org) - 1):\n",
    "                if lista_org[k2] > lista_org[k2 + 1]:\n",
    "                    lista_org[k2], lista_org[k2 + 1] = lista_org[k2 + 1], lista_org[k2]\n",
    "        dict_result = {\n",
    "            'N° valores': conta,\n",
    "            'Organizada': lista_org\n",
    "        }\n",
    "        return dict_result\n",
    "    \n",
    "    \n",
    "    def mediana(self):\n",
    "        lista_org = Calcular(self.lista).organo()['Organizada']\n",
    "        conta = Calcular(self.lista).organo()['N° valores']\n",
    "        if conta%2 == 1:\n",
    "            lista_mediana = lista_org[int(conta/2)]\n",
    "        else:\n",
    "            lista_mediana = (lista_org[int(conta/2)] - lista_org[int(conta/2) - 1])/2 + lista_org[int(conta/2) - 1]\n",
    "        dict_result = {\n",
    "            'N° valores': conta,\n",
    "            'Mediana': lista_mediana\n",
    "        }\n",
    "        return dict_result\n",
    "    \n",
    "    \n",
    "    def media_soma(self):\n",
    "        lista_org = self.lista[:]\n",
    "        conta = 0\n",
    "        soma = 0\n",
    "        for k, v in enumerate(lista_org):\n",
    "            soma += v\n",
    "            conta += 1\n",
    "        dict_result = {\n",
    "            'Média': soma/conta,\n",
    "            'Soma': soma\n",
    "        }\n",
    "        return dict_result\n",
    "    \n",
    "    \n",
    "    def max_min(self):\n",
    "        lista_org = Calcular(self.lista).organo()['Organizada']\n",
    "        for c in lista_org:\n",
    "            list_max = c\n",
    "        dict_result = {\n",
    "            'Máximo': c,\n",
    "            'Mínimo': lista_org[0],\n",
    "        }\n",
    "        return dict_result\n",
    "    \n",
    "    \n",
    "    def quartils(self):\n",
    "        lista_org = Calcular(self.lista).organo()['Organizada']\n",
    "        conta = Calcular(self.lista).organo()['N° valores']\n",
    "        \n",
    "        q2 = Calcular(self.lista).mediana()['Mediana']\n",
    "        \n",
    "        if conta%2 == 1:\n",
    "            q1 = Calcular(lista_org[:int(conta/2)+1]).mediana()['Mediana']\n",
    "            q3 = Calcular(lista_org[int(conta/2):]).mediana()['Mediana']\n",
    "        else:\n",
    "            q1 = Calcular(lista_org[:int(conta/2)]).mediana()['Mediana']\n",
    "            q3 = Calcular(lista_org[int(conta/2):]).mediana()['Mediana']\n",
    "        \n",
    "        menor = ((q2 - q1) * 1.5) - q1\n",
    "        maior = ((q3 - q2) * 1.5) + q2\n",
    "        \n",
    "        dict_result = {\n",
    "            'menor': menor,\n",
    "            'q1': q1,\n",
    "            'q2': q2,\n",
    "            'q3': q3,\n",
    "            'maior': maior\n",
    "        }\n",
    "        return dict_result"
   ]
  },
  {
   "cell_type": "code",
   "execution_count": 18,
   "metadata": {},
   "outputs": [
    {
     "data": {
      "text/plain": [
       "[1, 3, 2, 4, 6, 5]"
      ]
     },
     "execution_count": 18,
     "metadata": {},
     "output_type": "execute_result"
    }
   ],
   "source": [
    "l = np.random.randint(low=2, high=1000, size=100)\n",
    "# l = [1,3,2,4,6,5]\n",
    "l"
   ]
  },
  {
   "cell_type": "code",
   "execution_count": 19,
   "metadata": {},
   "outputs": [
    {
     "data": {
      "text/plain": [
       "<__main__.Calcular at 0x6e3d090>"
      ]
     },
     "execution_count": 19,
     "metadata": {},
     "output_type": "execute_result"
    }
   ],
   "source": [
    "resumo_l = Calcular(l)\n",
    "resumo_l"
   ]
  },
  {
   "cell_type": "code",
   "execution_count": 20,
   "metadata": {},
   "outputs": [
    {
     "name": "stdout",
     "output_type": "stream",
     "text": [
      "Organizado -> [1 2 3 4 5 6]\n"
     ]
    }
   ],
   "source": [
    "print(f'Organizado -> {np.sort(l)}')"
   ]
  },
  {
   "cell_type": "code",
   "execution_count": 21,
   "metadata": {},
   "outputs": [
    {
     "name": "stdout",
     "output_type": "stream",
     "text": [
      "Média -> 3.5\n"
     ]
    }
   ],
   "source": [
    "print(f'Média -> {np.mean(l)}')"
   ]
  },
  {
   "cell_type": "code",
   "execution_count": 22,
   "metadata": {},
   "outputs": [
    {
     "name": "stdout",
     "output_type": "stream",
     "text": [
      "Mediana -> 3.5\n"
     ]
    }
   ],
   "source": [
    "print(f'Mediana -> {np.median(l)}')"
   ]
  },
  {
   "cell_type": "code",
   "execution_count": 23,
   "metadata": {},
   "outputs": [
    {
     "name": "stdout",
     "output_type": "stream",
     "text": [
      "Mínimo -> 1\n"
     ]
    }
   ],
   "source": [
    "print(f'Mínimo -> {np.min(l)}')"
   ]
  },
  {
   "cell_type": "code",
   "execution_count": 24,
   "metadata": {},
   "outputs": [
    {
     "name": "stdout",
     "output_type": "stream",
     "text": [
      "Máximo -> 6\n"
     ]
    }
   ],
   "source": [
    "print(f'Máximo -> {np.max(l)}')"
   ]
  },
  {
   "cell_type": "code",
   "execution_count": 25,
   "metadata": {},
   "outputs": [
    {
     "name": "stdout",
     "output_type": "stream",
     "text": [
      "Soma -> 21\n"
     ]
    }
   ],
   "source": [
    "print(f'Soma -> {np.sum(l)}')"
   ]
  },
  {
   "cell_type": "code",
   "execution_count": 26,
   "metadata": {},
   "outputs": [
    {
     "name": "stdout",
     "output_type": "stream",
     "text": [
      "N° valores -> 6\n"
     ]
    }
   ],
   "source": [
    "print(f'N° valores -> {len(l)}')"
   ]
  },
  {
   "cell_type": "code",
   "execution_count": 27,
   "metadata": {},
   "outputs": [
    {
     "name": "stdout",
     "output_type": "stream",
     "text": [
      "Organizada\n",
      "N° valores _ 6\n",
      "Organizada _ [1, 2, 3, 4, 5, 6]\n"
     ]
    }
   ],
   "source": [
    "print(f'Organizada')\n",
    "d = resumo_l.organo().items()\n",
    "for k, v in d:\n",
    "    print(f'{k} _ {v}')"
   ]
  },
  {
   "cell_type": "code",
   "execution_count": 28,
   "metadata": {},
   "outputs": [
    {
     "name": "stdout",
     "output_type": "stream",
     "text": [
      "Mediana\n",
      "N° valores _ 6\n",
      "Mediana _ 3.5\n"
     ]
    }
   ],
   "source": [
    "print(f'Mediana')\n",
    "d = resumo_l.mediana().items()\n",
    "for k, v in d:\n",
    "    print(f'{k} _ {v}')"
   ]
  },
  {
   "cell_type": "code",
   "execution_count": 29,
   "metadata": {},
   "outputs": [
    {
     "name": "stdout",
     "output_type": "stream",
     "text": [
      "Média e Soma\n",
      "Média _ 3.5\n",
      "Soma _ 21\n"
     ]
    }
   ],
   "source": [
    "print(f'Média e Soma')\n",
    "d = resumo_l.media_soma().items()\n",
    "for k, v in d:\n",
    "    print(f'{k} _ {v}')"
   ]
  },
  {
   "cell_type": "code",
   "execution_count": 30,
   "metadata": {},
   "outputs": [
    {
     "name": "stdout",
     "output_type": "stream",
     "text": [
      "Limites\n",
      "Máximo _ 6\n",
      "Mínimo _ 1\n"
     ]
    }
   ],
   "source": [
    "print(f'Limites')\n",
    "d = resumo_l.max_min().items()\n",
    "for k, v in d:\n",
    "    print(f'{k} _ {v}')"
   ]
  },
  {
   "cell_type": "code",
   "execution_count": 31,
   "metadata": {},
   "outputs": [
    {
     "name": "stdout",
     "output_type": "stream",
     "text": [
      "Quartils\n",
      "menor _ 0.25\n",
      "q1 _ 2\n",
      "q2 _ 3.5\n",
      "q3 _ 5\n",
      "maior _ 5.75\n"
     ]
    }
   ],
   "source": [
    "print(f'Quartils')\n",
    "d = resumo_l.quartils().items()\n",
    "for k, v in d:\n",
    "    print(f'{k} _ {v}')"
   ]
  },
  {
   "cell_type": "code",
   "execution_count": null,
   "metadata": {},
   "outputs": [],
   "source": []
  }
 ],
 "metadata": {
  "kernelspec": {
   "display_name": "Python 3",
   "language": "python",
   "name": "python3"
  },
  "language_info": {
   "codemirror_mode": {
    "name": "ipython",
    "version": 3
   },
   "file_extension": ".py",
   "mimetype": "text/x-python",
   "name": "python",
   "nbconvert_exporter": "python",
   "pygments_lexer": "ipython3",
   "version": "3.7.4"
  }
 },
 "nbformat": 4,
 "nbformat_minor": 4
}
