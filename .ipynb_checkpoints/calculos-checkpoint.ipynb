{
 "cells": [
  {
   "cell_type": "code",
   "execution_count": 1,
   "metadata": {},
   "outputs": [],
   "source": [
    "import timeit\n",
    "import numpy as np"
   ]
  },
  {
   "cell_type": "code",
   "execution_count": 2,
   "metadata": {},
   "outputs": [],
   "source": [
    "class Calcular():\n",
    "    def __init__(self, lista):\n",
    "        self.lista = lista\n",
    "\n",
    "    \n",
    "    def organo(self):    \n",
    "        lista_org = self.lista[:]\n",
    "        conta = 1\n",
    "        for k1 in range(len(lista_org) - 1):\n",
    "            conta += 1\n",
    "            for k2 in range(len(lista_org) - 1):\n",
    "                if lista_org[k2] > lista_org[k2 + 1]:\n",
    "                    lista_org[k2], lista_org[k2 + 1] = lista_org[k2 + 1], lista_org[k2]\n",
    "        dict_result = {\n",
    "            'N° valores': conta,\n",
    "            'Organizada': lista_org\n",
    "        }\n",
    "        return dict_result\n",
    "    \n",
    "    \n",
    "    def mediana(self):\n",
    "        lista_org = Calcular(self.lista).organo()['Organizada']\n",
    "        conta = Calcular(self.lista).organo()['N° valores']\n",
    "        if conta%2 == 1:\n",
    "            lista_mediana = lista_org[int(conta/2)]\n",
    "        else:\n",
    "            lista_mediana = (lista_org[int(conta/2)] - lista_org[int(conta/2) - 1])/2 + lista_org[int(conta/2) - 1]\n",
    "        dict_result = {\n",
    "            'N° valores': conta,\n",
    "            'Mediana': lista_mediana\n",
    "        }\n",
    "        return dict_result\n",
    "    \n",
    "    \n",
    "    def media_soma(self):\n",
    "        lista_org = self.lista[:]\n",
    "        conta = 0\n",
    "        soma = 0\n",
    "        for k, v in enumerate(lista_org):\n",
    "            soma += v\n",
    "            conta += 1\n",
    "        dict_result = {\n",
    "            'Média': soma/conta,\n",
    "            'Soma': soma\n",
    "        }\n",
    "        return dict_result\n",
    "    \n",
    "    \n",
    "    def max_min(self):\n",
    "        lista_org = Calcular(self.lista).organo()['Organizada']\n",
    "        for c in lista_org:\n",
    "            list_max = c\n",
    "        dict_result = {\n",
    "            'Máximo': c,\n",
    "            'Mínimo': lista_org[0],\n",
    "        }\n",
    "        return dict_result\n",
    "    \n",
    "    \n",
    "    def quartils(self):\n",
    "        lista_org = Calcular(self.lista).organo()['Organizada']\n",
    "        conta = Calcular(self.lista).organo()['N° valores']\n",
    "        \n",
    "        q2 = Calcular(self.lista).mediana()['Mediana']\n",
    "        \n",
    "        if conta%2 == 1:\n",
    "            q1 = Calcular(lista_org[:int(conta/2)+1]).mediana()['Mediana']\n",
    "            q3 = Calcular(lista_org[int(conta/2):]).mediana()['Mediana']\n",
    "        else:\n",
    "            q1 = Calcular(lista_org[:int(conta/2)]).mediana()['Mediana']\n",
    "            q3 = Calcular(lista_org[int(conta/2):]).mediana()['Mediana']\n",
    "        \n",
    "        menor = ((q2 - q1) * 1.5) - q1\n",
    "        maior = ((q3 - q2) * 1.5) + q2\n",
    "        \n",
    "        dict_result = {\n",
    "            'menor': menor,\n",
    "            'q1': q1,\n",
    "            'q2': q2,\n",
    "            'q3': q3,\n",
    "            'maior': maior\n",
    "        }\n",
    "        return dict_result\n",
    "    \n",
    "    \n",
    "    def variancia(self):\n",
    "        lista_org = Calcular(self.lista).organo()['Organizada']\n",
    "        conta = Calcular(self.lista).organo()['N° valores']\n",
    "        media = Calcular(self.lista).media_soma()['Média']\n",
    "        soma_varia = 0\n",
    "        for c in lista_org:\n",
    "            soma_varia += (c - media)**2\n",
    "        varia = round(soma_varia/conta)\n",
    "        desvio = round(varia ** 0.5)\n",
    "        dict_result = {\n",
    "            'Variância': varia,\n",
    "            'Desvio Padrão': desvio,\n",
    "        }\n",
    "        return dict_result\n",
    "\n",
    "    \n",
    "    def describe(self):\n",
    "        lista_org = Calcular(self.lista).organo()['Organizada']\n",
    "        conta = Calcular(self.lista).organo()['N° valores']\n",
    "        lista_mediana = Calcular(self.lista).mediana()['Mediana']\n",
    "        soma = Calcular(self.lista).media_soma()['Soma']\n",
    "        media = Calcular(self.lista).media_soma()['Média']\n",
    "        menor = Calcular(self.lista).quartils()['menor']\n",
    "        q1 = Calcular(self.lista).quartils()['q1']\n",
    "        q2 = Calcular(self.lista).quartils()['q2']\n",
    "        q3 = Calcular(self.lista).quartils()['q3']\n",
    "        maior = Calcular(self.lista).quartils()['maior']\n",
    "        varia = Calcular(self.lista).variancia()['Variância']\n",
    "        desvio = Calcular(self.lista).variancia()['Desvio Padrão']\n",
    "        dict_result = {\n",
    "#             'Organizada': lista_org,\n",
    "            'N° valores': conta,\n",
    "            'Mediana': lista_mediana,\n",
    "            'Média': media,\n",
    "            'Soma': soma,\n",
    "            'Variância': varia,\n",
    "            'Desvio Padrão': desvio,\n",
    "            'Mínimo': lista_org[0],\n",
    "            'menor': menor,\n",
    "            'q1': q1,\n",
    "            'q2': q2,\n",
    "            'q3': q3,\n",
    "            'maior': maior,\n",
    "            'Máximo': lista_org[-1],\n",
    "        }\n",
    "        return dict_result\n",
    "        "
   ]
  },
  {
   "cell_type": "code",
   "execution_count": 3,
   "metadata": {},
   "outputs": [
    {
     "data": {
      "text/plain": [
       "array([434, 595, 968, 212, 523, 581, 179, 442, 411, 463, 692, 781, 803,\n",
       "       881, 686, 582, 518, 231, 731, 638, 898, 288, 215,  94, 683, 222,\n",
       "       478, 720, 345, 458, 278, 818, 299, 722, 709, 419,  49, 201, 141,\n",
       "       851, 728, 713, 499, 154, 419, 798, 609, 307, 935, 223, 309, 137,\n",
       "       342, 394, 734, 884, 962, 574, 568, 778, 919, 885, 602, 773, 251,\n",
       "       570, 322, 266, 439,  38, 492,  71, 742, 873, 218, 396,   9, 743,\n",
       "       145, 593, 647, 538, 557, 679, 938, 101, 695, 295, 111, 358, 395,\n",
       "       662, 792, 365, 982, 148, 124, 863, 570, 632])"
      ]
     },
     "execution_count": 3,
     "metadata": {},
     "output_type": "execute_result"
    }
   ],
   "source": [
    "l = np.random.randint(low=2, high=1000, size=100)\n",
    "# l = [1,3,2,4,6,5]\n",
    "l"
   ]
  },
  {
   "cell_type": "code",
   "execution_count": 4,
   "metadata": {},
   "outputs": [
    {
     "data": {
      "text/plain": [
       "<__main__.Calcular at 0x67405f0>"
      ]
     },
     "execution_count": 4,
     "metadata": {},
     "output_type": "execute_result"
    }
   ],
   "source": [
    "resumo_l = Calcular(l)\n",
    "resumo_l"
   ]
  },
  {
   "cell_type": "code",
   "execution_count": 5,
   "metadata": {},
   "outputs": [
    {
     "name": "stdout",
     "output_type": "stream",
     "text": [
      "Organizado -> [  9  38  49  71  94 101 111 124 137 141 145 148 154 179 201 212 215 218\n",
      " 222 223 231 251 266 278 288 295 299 307 309 322 342 345 358 365 394 395\n",
      " 396 411 419 419 434 439 442 458 463 478 492 499 518 523 538 557 568 570\n",
      " 570 574 581 582 593 595 602 609 632 638 647 662 679 683 686 692 695 709\n",
      " 713 720 722 728 731 734 742 743 773 778 781 792 798 803 818 851 863 873\n",
      " 881 884 885 898 919 935 938 962 968 982]\n"
     ]
    }
   ],
   "source": [
    "print(f'Organizado -> {np.sort(l)}')"
   ]
  },
  {
   "cell_type": "code",
   "execution_count": 6,
   "metadata": {},
   "outputs": [
    {
     "name": "stdout",
     "output_type": "stream",
     "text": [
      "Média -> 511.05\n"
     ]
    }
   ],
   "source": [
    "print(f'Média -> {np.mean(l)}')"
   ]
  },
  {
   "cell_type": "code",
   "execution_count": 7,
   "metadata": {},
   "outputs": [
    {
     "name": "stdout",
     "output_type": "stream",
     "text": [
      "Mediana -> 530.5\n"
     ]
    }
   ],
   "source": [
    "print(f'Mediana -> {np.median(l)}')"
   ]
  },
  {
   "cell_type": "code",
   "execution_count": 8,
   "metadata": {},
   "outputs": [
    {
     "name": "stdout",
     "output_type": "stream",
     "text": [
      "Mínimo -> 9\n"
     ]
    }
   ],
   "source": [
    "print(f'Mínimo -> {np.min(l)}')"
   ]
  },
  {
   "cell_type": "code",
   "execution_count": 9,
   "metadata": {},
   "outputs": [
    {
     "name": "stdout",
     "output_type": "stream",
     "text": [
      "Máximo -> 982\n"
     ]
    }
   ],
   "source": [
    "print(f'Máximo -> {np.max(l)}')"
   ]
  },
  {
   "cell_type": "code",
   "execution_count": 10,
   "metadata": {},
   "outputs": [
    {
     "name": "stdout",
     "output_type": "stream",
     "text": [
      "Soma -> 51105\n"
     ]
    }
   ],
   "source": [
    "print(f'Soma -> {np.sum(l)}')"
   ]
  },
  {
   "cell_type": "code",
   "execution_count": 11,
   "metadata": {},
   "outputs": [
    {
     "name": "stdout",
     "output_type": "stream",
     "text": [
      "N° valores -> 100\n"
     ]
    }
   ],
   "source": [
    "print(f'N° valores -> {len(l)}')"
   ]
  },
  {
   "cell_type": "code",
   "execution_count": 12,
   "metadata": {},
   "outputs": [
    {
     "name": "stdout",
     "output_type": "stream",
     "text": [
      "Variância -> 69098.0\n"
     ]
    }
   ],
   "source": [
    "print(f'Variância -> {round(np.var(l))}')"
   ]
  },
  {
   "cell_type": "code",
   "execution_count": 13,
   "metadata": {},
   "outputs": [
    {
     "name": "stdout",
     "output_type": "stream",
     "text": [
      "Desvio Padrão -> 263.0\n"
     ]
    }
   ],
   "source": [
    "print(f'Desvio Padrão -> {round(np.std(l))}')"
   ]
  },
  {
   "cell_type": "code",
   "execution_count": 14,
   "metadata": {},
   "outputs": [
    {
     "name": "stdout",
     "output_type": "stream",
     "text": [
      "Organizada\n",
      "N° valores _ 100\n",
      "Organizada _ [  9  38  49  71  94 101 111 124 137 141 145 148 154 179 201 212 215 218\n",
      " 222 223 231 251 266 278 288 295 299 307 309 322 342 345 358 365 394 395\n",
      " 396 411 419 419 434 439 442 458 463 478 492 499 518 523 538 557 568 570\n",
      " 570 574 581 582 593 595 602 609 632 638 647 662 679 683 686 692 695 709\n",
      " 713 720 722 728 731 734 742 743 773 778 781 792 798 803 818 851 863 873\n",
      " 881 884 885 898 919 935 938 962 968 982]\n"
     ]
    }
   ],
   "source": [
    "print(f'Organizada')\n",
    "d = resumo_l.organo().items()\n",
    "for k, v in d:\n",
    "    print(f'{k} _ {v}')"
   ]
  },
  {
   "cell_type": "code",
   "execution_count": 15,
   "metadata": {},
   "outputs": [
    {
     "name": "stdout",
     "output_type": "stream",
     "text": [
      "Mediana\n",
      "N° valores _ 100\n",
      "Mediana _ 530.5\n"
     ]
    }
   ],
   "source": [
    "print(f'Mediana')\n",
    "d = resumo_l.mediana().items()\n",
    "for k, v in d:\n",
    "    print(f'{k} _ {v}')"
   ]
  },
  {
   "cell_type": "code",
   "execution_count": 16,
   "metadata": {},
   "outputs": [
    {
     "name": "stdout",
     "output_type": "stream",
     "text": [
      "Média e Soma\n",
      "Média _ 511.05\n",
      "Soma _ 51105\n"
     ]
    }
   ],
   "source": [
    "print(f'Média e Soma')\n",
    "d = resumo_l.media_soma().items()\n",
    "for k, v in d:\n",
    "    print(f'{k} _ {v}')"
   ]
  },
  {
   "cell_type": "code",
   "execution_count": 17,
   "metadata": {},
   "outputs": [
    {
     "name": "stdout",
     "output_type": "stream",
     "text": [
      "Limites\n",
      "Máximo _ 982\n",
      "Mínimo _ 9\n"
     ]
    }
   ],
   "source": [
    "print(f'Limites')\n",
    "d = resumo_l.max_min().items()\n",
    "for k, v in d:\n",
    "    print(f'{k} _ {v}')"
   ]
  },
  {
   "cell_type": "code",
   "execution_count": 18,
   "metadata": {},
   "outputs": [
    {
     "name": "stdout",
     "output_type": "stream",
     "text": [
      "Quartils\n",
      "menor _ 67.0\n",
      "q1 _ 291.5\n",
      "q2 _ 530.5\n",
      "q3 _ 725.0\n",
      "maior _ 822.25\n"
     ]
    }
   ],
   "source": [
    "print(f'Quartils')\n",
    "d = resumo_l.quartils().items()\n",
    "for k, v in d:\n",
    "    print(f'{k} _ {v}')"
   ]
  },
  {
   "cell_type": "code",
   "execution_count": 19,
   "metadata": {},
   "outputs": [
    {
     "name": "stdout",
     "output_type": "stream",
     "text": [
      "Variância\n",
      "Variância _ 69098.0\n",
      "Desvio Padrão _ 263.0\n"
     ]
    }
   ],
   "source": [
    "print(f'Variância')\n",
    "d = resumo_l.variancia().items()\n",
    "for k, v in d:\n",
    "    print(f'{k} _ {v}')"
   ]
  },
  {
   "cell_type": "code",
   "execution_count": 20,
   "metadata": {},
   "outputs": [
    {
     "name": "stdout",
     "output_type": "stream",
     "text": [
      "Descrição\n",
      "N° valores _ 100\n",
      "Mediana _ 530.5\n",
      "Média _ 511.05\n",
      "Soma _ 51105\n",
      "Variância _ 69098.0\n",
      "Desvio Padrão _ 263.0\n",
      "Mínimo _ 9\n",
      "menor _ 67.0\n",
      "q1 _ 291.5\n",
      "q2 _ 530.5\n",
      "q3 _ 725.0\n",
      "maior _ 822.25\n",
      "Máximo _ 982\n"
     ]
    }
   ],
   "source": [
    "print(f'Descrição')\n",
    "d = resumo_l.describe().items()\n",
    "for k, v in d:\n",
    "    print(f'{k} _ {v}')"
   ]
  },
  {
   "cell_type": "code",
   "execution_count": 21,
   "metadata": {},
   "outputs": [
    {
     "name": "stdout",
     "output_type": "stream",
     "text": [
      "197 ms ± 6.92 ms per loop (mean ± std. dev. of 7 runs, 10 loops each)\n"
     ]
    }
   ],
   "source": [
    "%timeit Calcular(l).describe()"
   ]
  },
  {
   "cell_type": "code",
   "execution_count": null,
   "metadata": {},
   "outputs": [],
   "source": []
  }
 ],
 "metadata": {
  "kernelspec": {
   "display_name": "Python 3",
   "language": "python",
   "name": "python3"
  },
  "language_info": {
   "codemirror_mode": {
    "name": "ipython",
    "version": 3
   },
   "file_extension": ".py",
   "mimetype": "text/x-python",
   "name": "python",
   "nbconvert_exporter": "python",
   "pygments_lexer": "ipython3",
   "version": "3.7.4"
  }
 },
 "nbformat": 4,
 "nbformat_minor": 4
}
