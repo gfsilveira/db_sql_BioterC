{
 "cells": [
  {
   "cell_type": "code",
   "execution_count": 1,
   "metadata": {},
   "outputs": [],
   "source": [
    "import pandas as pd\n",
    "import matplotlib.pyplot as plt"
   ]
  },
  {
   "cell_type": "code",
   "execution_count": 7,
   "metadata": {},
   "outputs": [
    {
     "data": {
      "text/html": [
       "<div>\n",
       "<style scoped>\n",
       "    .dataframe tbody tr th:only-of-type {\n",
       "        vertical-align: middle;\n",
       "    }\n",
       "\n",
       "    .dataframe tbody tr th {\n",
       "        vertical-align: top;\n",
       "    }\n",
       "\n",
       "    .dataframe thead th {\n",
       "        text-align: right;\n",
       "    }\n",
       "</style>\n",
       "<table border=\"1\" class=\"dataframe\">\n",
       "  <thead>\n",
       "    <tr style=\"text-align: right;\">\n",
       "      <th></th>\n",
       "      <th>Subject Accession</th>\n",
       "      <th>Species</th>\n",
       "      <th>Race</th>\n",
       "      <th>Race Specify</th>\n",
       "      <th>Ethnicity</th>\n",
       "      <th>Strain</th>\n",
       "      <th>Gender</th>\n",
       "      <th>Age Event</th>\n",
       "      <th>Age Event Specify</th>\n",
       "      <th>Subject Age</th>\n",
       "      <th>...</th>\n",
       "      <th>Expsample Description</th>\n",
       "      <th>Expsample Result Schema</th>\n",
       "      <th>Expsample Treatement</th>\n",
       "      <th>Reagent Accession</th>\n",
       "      <th>Reagent Name</th>\n",
       "      <th>Reagent Reporter Name</th>\n",
       "      <th>File Info ID</th>\n",
       "      <th>File Detail</th>\n",
       "      <th>File Name</th>\n",
       "      <th>Original File Name</th>\n",
       "    </tr>\n",
       "  </thead>\n",
       "  <tbody>\n",
       "    <tr>\n",
       "      <th>0</th>\n",
       "      <td>SUB177478</td>\n",
       "      <td>Homo sapiens</td>\n",
       "      <td>Black or African American</td>\n",
       "      <td>NaN</td>\n",
       "      <td>Not Hispanic or Latino</td>\n",
       "      <td>NaN</td>\n",
       "      <td>Female</td>\n",
       "      <td>Age at enrollment</td>\n",
       "      <td>Age at enrollment</td>\n",
       "      <td>38</td>\n",
       "      <td>...</td>\n",
       "      <td>NaN</td>\n",
       "      <td>OTHER</td>\n",
       "      <td>No treatment</td>\n",
       "      <td>ESR19623,ESR19624,ESR19625,ESR19626,ESR19627,E...</td>\n",
       "      <td>CD45:FITC-A,CD19:CD19:PE-A,DNA:PI-A,CD11c:ITAX...</td>\n",
       "      <td>FITC-A,PE-A,PI-A,PerCP-Cy5-5-A,BV421-A,BV510-A...</td>\n",
       "      <td>627795</td>\n",
       "      <td>Flow cytometry result</td>\n",
       "      <td>090616_200-0104-K_001.627795.fcs</td>\n",
       "      <td>090616_200-0104-K_001.fcs</td>\n",
       "    </tr>\n",
       "    <tr>\n",
       "      <th>1</th>\n",
       "      <td>SUB177486</td>\n",
       "      <td>Homo sapiens</td>\n",
       "      <td>Black or African American</td>\n",
       "      <td>NaN</td>\n",
       "      <td>Not Hispanic or Latino</td>\n",
       "      <td>NaN</td>\n",
       "      <td>Female</td>\n",
       "      <td>Age at enrollment</td>\n",
       "      <td>Age at enrollment</td>\n",
       "      <td>0</td>\n",
       "      <td>...</td>\n",
       "      <td>NaN</td>\n",
       "      <td>OTHER</td>\n",
       "      <td>No treatment</td>\n",
       "      <td>ESR19623,ESR19624,ESR19625,ESR19626,ESR19627,E...</td>\n",
       "      <td>CD45:FITC-A,CD19:CD19:PE-A,DNA:PI-A,CD11c:ITAX...</td>\n",
       "      <td>FITC-A,PE-A,PI-A,PerCP-Cy5-5-A,BV421-A,BV510-A...</td>\n",
       "      <td>627836</td>\n",
       "      <td>Flow cytometry result</td>\n",
       "      <td>090616_200-0127-K_002.627836.fcs</td>\n",
       "      <td>090616_200-0127-K_002.fcs</td>\n",
       "    </tr>\n",
       "    <tr>\n",
       "      <th>2</th>\n",
       "      <td>SUB179477</td>\n",
       "      <td>Homo sapiens</td>\n",
       "      <td>Unknown</td>\n",
       "      <td>NaN</td>\n",
       "      <td>Not Specified</td>\n",
       "      <td>NaN</td>\n",
       "      <td>Female</td>\n",
       "      <td>Age at enrollment</td>\n",
       "      <td>NaN</td>\n",
       "      <td>38</td>\n",
       "      <td>...</td>\n",
       "      <td>NaN</td>\n",
       "      <td>OTHER</td>\n",
       "      <td>No treatment</td>\n",
       "      <td>ESR19623,ESR19624,ESR19625,ESR19626,ESR19627,E...</td>\n",
       "      <td>CD45:FITC-A,CD19:CD19:PE-A,DNA:PI-A,CD11c:ITAX...</td>\n",
       "      <td>FITC-A,PE-A,PI-A,PerCP-Cy5-5-A,BV421-A,BV510-A...</td>\n",
       "      <td>627877</td>\n",
       "      <td>Flow cytometry result</td>\n",
       "      <td>090616_200-0608-K_003.627877.fcs</td>\n",
       "      <td>090616_200-0608-K_003.fcs</td>\n",
       "    </tr>\n",
       "    <tr>\n",
       "      <th>3</th>\n",
       "      <td>SUB179479</td>\n",
       "      <td>Homo sapiens</td>\n",
       "      <td>Unknown</td>\n",
       "      <td>NaN</td>\n",
       "      <td>Not Specified</td>\n",
       "      <td>NaN</td>\n",
       "      <td>Female</td>\n",
       "      <td>Age at enrollment</td>\n",
       "      <td>NaN</td>\n",
       "      <td>45</td>\n",
       "      <td>...</td>\n",
       "      <td>NaN</td>\n",
       "      <td>OTHER</td>\n",
       "      <td>No treatment</td>\n",
       "      <td>ESR19623,ESR19624,ESR19625,ESR19626,ESR19627,E...</td>\n",
       "      <td>CD45:FITC-A,CD19:CD19:PE-A,DNA:PI-A,CD11c:ITAX...</td>\n",
       "      <td>FITC-A,PE-A,PI-A,PerCP-Cy5-5-A,BV421-A,BV510-A...</td>\n",
       "      <td>627880</td>\n",
       "      <td>Flow cytometry result</td>\n",
       "      <td>090616_200-0609-K_004.627880.fcs</td>\n",
       "      <td>090616_200-0609-K_004.fcs</td>\n",
       "    </tr>\n",
       "    <tr>\n",
       "      <th>4</th>\n",
       "      <td>SUB177478</td>\n",
       "      <td>Homo sapiens</td>\n",
       "      <td>Black or African American</td>\n",
       "      <td>NaN</td>\n",
       "      <td>Not Hispanic or Latino</td>\n",
       "      <td>NaN</td>\n",
       "      <td>Female</td>\n",
       "      <td>Age at enrollment</td>\n",
       "      <td>Age at enrollment</td>\n",
       "      <td>38</td>\n",
       "      <td>...</td>\n",
       "      <td>NaN</td>\n",
       "      <td>OTHER</td>\n",
       "      <td>No treatment</td>\n",
       "      <td>ESR19623,ESR19624,ESR19625,ESR19626,ESR19627,E...</td>\n",
       "      <td>CD45:FITC-A,CD19:CD19:PE-A,DNA:PI-A,CD11c:ITAX...</td>\n",
       "      <td>FITC-A,PE-A,PI-A,PerCP-Cy5-5-A,BV421-A,BV510-A...</td>\n",
       "      <td>627793</td>\n",
       "      <td>Flow cytometry result</td>\n",
       "      <td>090616_INX_200-0104-K_001_005.627793.fcs</td>\n",
       "      <td>090616_INX_200-0104-K_001_005.fcs</td>\n",
       "    </tr>\n",
       "  </tbody>\n",
       "</table>\n",
       "<p>5 rows × 40 columns</p>\n",
       "</div>"
      ],
      "text/plain": [
       "  Subject Accession       Species                       Race  Race Specify  \\\n",
       "0         SUB177478  Homo sapiens  Black or African American           NaN   \n",
       "1         SUB177486  Homo sapiens  Black or African American           NaN   \n",
       "2         SUB179477  Homo sapiens                    Unknown           NaN   \n",
       "3         SUB179479  Homo sapiens                    Unknown           NaN   \n",
       "4         SUB177478  Homo sapiens  Black or African American           NaN   \n",
       "\n",
       "                Ethnicity  Strain  Gender          Age Event  \\\n",
       "0  Not Hispanic or Latino     NaN  Female  Age at enrollment   \n",
       "1  Not Hispanic or Latino     NaN  Female  Age at enrollment   \n",
       "2           Not Specified     NaN  Female  Age at enrollment   \n",
       "3           Not Specified     NaN  Female  Age at enrollment   \n",
       "4  Not Hispanic or Latino     NaN  Female  Age at enrollment   \n",
       "\n",
       "   Age Event Specify  Subject Age                ...                  \\\n",
       "0  Age at enrollment           38                ...                   \n",
       "1  Age at enrollment            0                ...                   \n",
       "2                NaN           38                ...                   \n",
       "3                NaN           45                ...                   \n",
       "4  Age at enrollment           38                ...                   \n",
       "\n",
       "  Expsample Description  Expsample Result Schema Expsample Treatement  \\\n",
       "0                   NaN                    OTHER         No treatment   \n",
       "1                   NaN                    OTHER         No treatment   \n",
       "2                   NaN                    OTHER         No treatment   \n",
       "3                   NaN                    OTHER         No treatment   \n",
       "4                   NaN                    OTHER         No treatment   \n",
       "\n",
       "                                   Reagent Accession  \\\n",
       "0  ESR19623,ESR19624,ESR19625,ESR19626,ESR19627,E...   \n",
       "1  ESR19623,ESR19624,ESR19625,ESR19626,ESR19627,E...   \n",
       "2  ESR19623,ESR19624,ESR19625,ESR19626,ESR19627,E...   \n",
       "3  ESR19623,ESR19624,ESR19625,ESR19626,ESR19627,E...   \n",
       "4  ESR19623,ESR19624,ESR19625,ESR19626,ESR19627,E...   \n",
       "\n",
       "                                        Reagent Name  \\\n",
       "0  CD45:FITC-A,CD19:CD19:PE-A,DNA:PI-A,CD11c:ITAX...   \n",
       "1  CD45:FITC-A,CD19:CD19:PE-A,DNA:PI-A,CD11c:ITAX...   \n",
       "2  CD45:FITC-A,CD19:CD19:PE-A,DNA:PI-A,CD11c:ITAX...   \n",
       "3  CD45:FITC-A,CD19:CD19:PE-A,DNA:PI-A,CD11c:ITAX...   \n",
       "4  CD45:FITC-A,CD19:CD19:PE-A,DNA:PI-A,CD11c:ITAX...   \n",
       "\n",
       "                               Reagent Reporter Name File Info ID  \\\n",
       "0  FITC-A,PE-A,PI-A,PerCP-Cy5-5-A,BV421-A,BV510-A...       627795   \n",
       "1  FITC-A,PE-A,PI-A,PerCP-Cy5-5-A,BV421-A,BV510-A...       627836   \n",
       "2  FITC-A,PE-A,PI-A,PerCP-Cy5-5-A,BV421-A,BV510-A...       627877   \n",
       "3  FITC-A,PE-A,PI-A,PerCP-Cy5-5-A,BV421-A,BV510-A...       627880   \n",
       "4  FITC-A,PE-A,PI-A,PerCP-Cy5-5-A,BV421-A,BV510-A...       627793   \n",
       "\n",
       "             File Detail                                 File Name  \\\n",
       "0  Flow cytometry result          090616_200-0104-K_001.627795.fcs   \n",
       "1  Flow cytometry result          090616_200-0127-K_002.627836.fcs   \n",
       "2  Flow cytometry result          090616_200-0608-K_003.627877.fcs   \n",
       "3  Flow cytometry result          090616_200-0609-K_004.627880.fcs   \n",
       "4  Flow cytometry result  090616_INX_200-0104-K_001_005.627793.fcs   \n",
       "\n",
       "                  Original File Name  \n",
       "0          090616_200-0104-K_001.fcs  \n",
       "1          090616_200-0127-K_002.fcs  \n",
       "2          090616_200-0608-K_003.fcs  \n",
       "3          090616_200-0609-K_004.fcs  \n",
       "4  090616_INX_200-0104-K_001_005.fcs  \n",
       "\n",
       "[5 rows x 40 columns]"
      ]
     },
     "execution_count": 7,
     "metadata": {},
     "output_type": "execute_result"
    }
   ],
   "source": [
    "test_isa = pd.read_excel('../tabelas_test/Content_fcs.xlsx')\n",
    "test_isa.head()"
   ]
  },
  {
   "cell_type": "code",
   "execution_count": 5,
   "metadata": {},
   "outputs": [
    {
     "data": {
      "text/plain": [
       "257"
      ]
     },
     "execution_count": 5,
     "metadata": {},
     "output_type": "execute_result"
    }
   ],
   "source": [
    "#verificando o numero de instâncias - linhas \n",
    "len(test_isa)"
   ]
  },
  {
   "cell_type": "code",
   "execution_count": null,
   "metadata": {},
   "outputs": [],
   "source": [
    "# Original File Name\n",
    "# Biosample Type \n",
    "# Biosample Accession \n",
    "# ARM Name"
   ]
  },
  {
   "cell_type": "code",
   "execution_count": 24,
   "metadata": {},
   "outputs": [
    {
     "data": {
      "text/html": [
       "<div>\n",
       "<style scoped>\n",
       "    .dataframe tbody tr th:only-of-type {\n",
       "        vertical-align: middle;\n",
       "    }\n",
       "\n",
       "    .dataframe tbody tr th {\n",
       "        vertical-align: top;\n",
       "    }\n",
       "\n",
       "    .dataframe thead th {\n",
       "        text-align: right;\n",
       "    }\n",
       "</style>\n",
       "<table border=\"1\" class=\"dataframe\">\n",
       "  <thead>\n",
       "    <tr style=\"text-align: right;\">\n",
       "      <th></th>\n",
       "      <th>Original File Name</th>\n",
       "      <th>Biosample Type</th>\n",
       "      <th>Biosample Accession</th>\n",
       "      <th>ARM Name</th>\n",
       "    </tr>\n",
       "  </thead>\n",
       "  <tbody>\n",
       "    <tr>\n",
       "      <th>0</th>\n",
       "      <td>090616_200-0104-K_001.fcs</td>\n",
       "      <td>Kidney</td>\n",
       "      <td>BS945784</td>\n",
       "      <td>lupus nephritis</td>\n",
       "    </tr>\n",
       "    <tr>\n",
       "      <th>1</th>\n",
       "      <td>090616_200-0127-K_002.fcs</td>\n",
       "      <td>Kidney</td>\n",
       "      <td>BS945792</td>\n",
       "      <td>lupus nephritis</td>\n",
       "    </tr>\n",
       "    <tr>\n",
       "      <th>2</th>\n",
       "      <td>090616_200-0608-K_003.fcs</td>\n",
       "      <td>Kidney</td>\n",
       "      <td>BS945799</td>\n",
       "      <td>control</td>\n",
       "    </tr>\n",
       "    <tr>\n",
       "      <th>3</th>\n",
       "      <td>090616_200-0609-K_004.fcs</td>\n",
       "      <td>Kidney</td>\n",
       "      <td>BS945800</td>\n",
       "      <td>control</td>\n",
       "    </tr>\n",
       "    <tr>\n",
       "      <th>4</th>\n",
       "      <td>090616_INX_200-0104-K_001_005.fcs</td>\n",
       "      <td>Kidney</td>\n",
       "      <td>BS945784</td>\n",
       "      <td>lupus nephritis</td>\n",
       "    </tr>\n",
       "  </tbody>\n",
       "</table>\n",
       "</div>"
      ],
      "text/plain": [
       "                  Original File Name Biosample Type Biosample Accession  \\\n",
       "0          090616_200-0104-K_001.fcs         Kidney            BS945784   \n",
       "1          090616_200-0127-K_002.fcs         Kidney            BS945792   \n",
       "2          090616_200-0608-K_003.fcs         Kidney            BS945799   \n",
       "3          090616_200-0609-K_004.fcs         Kidney            BS945800   \n",
       "4  090616_INX_200-0104-K_001_005.fcs         Kidney            BS945784   \n",
       "\n",
       "          ARM Name  \n",
       "0  lupus nephritis  \n",
       "1  lupus nephritis  \n",
       "2          control  \n",
       "3          control  \n",
       "4  lupus nephritis  "
      ]
     },
     "execution_count": 24,
     "metadata": {},
     "output_type": "execute_result"
    }
   ],
   "source": [
    "#Nova tabela com informação das 4 colunas \n",
    "\n",
    "nova_tabela = pd.DataFrame()\n",
    "nova_tabela['Original File Name'] = test_isa['Original File Name']\n",
    "nova_tabela['Biosample Type'] = test_isa['Biosample Type']\n",
    "nova_tabela['Biosample Accession'] = test_isa['Biosample Accession']\n",
    "nova_tabela['ARM Name'] = test_isa['ARM Name']\n",
    "nova_tabela.head()"
   ]
  },
  {
   "cell_type": "code",
   "execution_count": 30,
   "metadata": {},
   "outputs": [
    {
     "data": {
      "text/html": [
       "<div>\n",
       "<style scoped>\n",
       "    .dataframe tbody tr th:only-of-type {\n",
       "        vertical-align: middle;\n",
       "    }\n",
       "\n",
       "    .dataframe tbody tr th {\n",
       "        vertical-align: top;\n",
       "    }\n",
       "\n",
       "    .dataframe thead th {\n",
       "        text-align: right;\n",
       "    }\n",
       "</style>\n",
       "<table border=\"1\" class=\"dataframe\">\n",
       "  <thead>\n",
       "    <tr style=\"text-align: right;\">\n",
       "      <th></th>\n",
       "      <th>Original File Name</th>\n",
       "      <th>Biosample Type</th>\n",
       "      <th>Biosample Accession</th>\n",
       "      <th>ARM Name</th>\n",
       "    </tr>\n",
       "  </thead>\n",
       "  <tbody>\n",
       "  </tbody>\n",
       "</table>\n",
       "</div>"
      ],
      "text/plain": [
       "Empty DataFrame\n",
       "Columns: [Original File Name, Biosample Type, Biosample Accession, ARM Name]\n",
       "Index: []"
      ]
     },
     "execution_count": 30,
     "metadata": {},
     "output_type": "execute_result"
    }
   ],
   "source": [
    "#Quantidade Urina/control/biopsia/0\n",
    "\n",
    "test_1 = nova_tabela[(nova_tabela['Biosample Type'] == 'Urine') & (nova_tabela['ARM Name'] == 'control')]\n",
    "test_1\n",
    "\n",
    "#nenhum encontrado"
   ]
  },
  {
   "cell_type": "code",
   "execution_count": 43,
   "metadata": {},
   "outputs": [
    {
     "data": {
      "text/plain": [
       "40"
      ]
     },
     "execution_count": 43,
     "metadata": {},
     "output_type": "execute_result"
    }
   ],
   "source": [
    "#Quantidade Rim/control/biopsia/40\n",
    "\n",
    "\n",
    "test_2 = len(nova_tabela[(nova_tabela['Biosample Type'] == 'Kidney') & (nova_tabela['ARM Name'] == 'control')])\n",
    "test_2"
   ]
  },
  {
   "cell_type": "code",
   "execution_count": 36,
   "metadata": {},
   "outputs": [
    {
     "data": {
      "text/plain": [
       "54"
      ]
     },
     "execution_count": 36,
     "metadata": {},
     "output_type": "execute_result"
    }
   ],
   "source": [
    "#Quantidade Lupus/urina/biopsia/54\n",
    "\n",
    "test_3 = len(nova_tabela[(nova_tabela['Biosample Type'] == 'Urine') & (nova_tabela['ARM Name'] == 'lupus nephritis')])\n",
    "test_3"
   ]
  },
  {
   "cell_type": "code",
   "execution_count": 38,
   "metadata": {},
   "outputs": [
    {
     "data": {
      "text/plain": [
       "163"
      ]
     },
     "execution_count": 38,
     "metadata": {},
     "output_type": "execute_result"
    }
   ],
   "source": [
    "#Quantidade Lupus/Rim/Biopsia/163\n",
    "\n",
    "test_4 = len(nova_tabela[(nova_tabela['Biosample Type'] == 'Kidney') & (nova_tabela['ARM Name'] == 'lupus nephritis')])\n",
    "test_4"
   ]
  },
  {
   "cell_type": "code",
   "execution_count": 60,
   "metadata": {},
   "outputs": [
    {
     "data": {
      "text/plain": [
       "257"
      ]
     },
     "execution_count": 60,
     "metadata": {},
     "output_type": "execute_result"
    }
   ],
   "source": [
    "#Quantidade de arquivos\n",
    "len(nova_tabela['Original File Name'])"
   ]
  },
  {
   "cell_type": "code",
   "execution_count": 61,
   "metadata": {},
   "outputs": [
    {
     "data": {
      "text/plain": [
       "lupus nephritis    217\n",
       "control             40\n",
       "Name: ARM Name, dtype: int64"
      ]
     },
     "execution_count": 61,
     "metadata": {},
     "output_type": "execute_result"
    }
   ],
   "source": [
    "#Quantos os arquivos são controle e quantos lupus\n",
    "nova_tabela['ARM Name'].value_counts()"
   ]
  },
  {
   "cell_type": "code",
   "execution_count": 62,
   "metadata": {},
   "outputs": [
    {
     "data": {
      "text/plain": [
       "Kidney    203\n",
       "Urine      54\n",
       "Name: Biosample Type, dtype: int64"
      ]
     },
     "execution_count": 62,
     "metadata": {},
     "output_type": "execute_result"
    }
   ],
   "source": [
    "#Quantos arquivos são Kidney\n",
    "nova_tabela['Biosample Type'].value_counts()"
   ]
  },
  {
   "cell_type": "code",
   "execution_count": 66,
   "metadata": {},
   "outputs": [
    {
     "data": {
      "text/plain": [
       "<matplotlib.axes._subplots.AxesSubplot at 0x7f5b878f4be0>"
      ]
     },
     "execution_count": 66,
     "metadata": {},
     "output_type": "execute_result"
    },
    {
     "data": {
      "image/png": "[encoded data removed]",
      "text/plain": [
       "<Figure size 432x288 with 1 Axes>"
      ]
     },
     "metadata": {},
     "output_type": "display_data"
    }
   ],
   "source": [
    "nova_tabela['ARM Name'].value_counts().plot(kind='pie')"
   ]
  },
  {
   "cell_type": "code",
   "execution_count": 58,
   "metadata": {},
   "outputs": [
    {
     "data": {
      "text/plain": [
       "<matplotlib.axes._subplots.AxesSubplot at 0x7f5b8c417048>"
      ]
     },
     "execution_count": 58,
     "metadata": {},
     "output_type": "execute_result"
    },
    {
     "data": {
      "image/png": "[encoded data removed]",
      "text/plain": [
       "<Figure size 432x288 with 1 Axes>"
      ]
     },
     "metadata": {},
     "output_type": "display_data"
    }
   ],
   "source": [
    "nova_tabela['Biosample Type'].value_counts().plot(kind='pie')"
   ]
  },
  {
   "cell_type": "code",
   "execution_count": null,
   "metadata": {},
   "outputs": [],
   "source": []
  }
 ],
 "metadata": {
  "kernelspec": {
   "display_name": "Python 3",
   "language": "python",
   "name": "python3"
  },
  "language_info": {
   "codemirror_mode": {
    "name": "ipython",
    "version": 3
   },
   "file_extension": ".py",
   "mimetype": "text/x-python",
   "name": "python",
   "nbconvert_exporter": "python",
   "pygments_lexer": "ipython3",
   "version": "3.7.1"
  }
 },
 "nbformat": 4,
 "nbformat_minor": 2
}
