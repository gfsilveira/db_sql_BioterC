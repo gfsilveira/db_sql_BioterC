{
 "cells": [
  {
   "cell_type": "markdown",
   "metadata": {},
   "source": [
    "Objetivo específico: Determinar parâmetros gerais (n° de animais nascidos, período para nascimento e sexagem) da criação animal no biotério do ICC, total e por linhagem, nos últimos 5 anos; "
   ]
  },
  {
   "cell_type": "markdown",
   "metadata": {},
   "source": [
    "6) Questão - Qual número médio de animais nascidos por linhagem nos registros do BioterC "
   ]
  },
  {
   "cell_type": "markdown",
   "metadata": {},
   "source": [
    "Hipótese:\n",
    "Número médio de nascimentos dos animais de acordo com os registros é superior em linhagens heterogênicas em relação aos isogênicos.\n"
   ]
  },
  {
   "cell_type": "code",
   "execution_count": 1,
   "metadata": {},
   "outputs": [],
   "source": [
    "#Importando bibliotecas necessárias para a análise.\n",
    "\n",
    "import matplotlib.pyplot as plt \n",
    "import pandas as pd \n",
    "import os\n",
    "\n",
    "plt.rcParams.update({'font.size': 20}) #tamanho da fonte\n",
    "plt.rcParams['xtick.labelsize'] = 20 #tamanho da fonte\n",
    "plt.rcParams['ytick.labelsize'] = 20 #tamanho da fonte"
   ]
  },
  {
   "cell_type": "code",
   "execution_count": 2,
   "metadata": {},
   "outputs": [
    {
     "name": "stdout",
     "output_type": "stream",
     "text": [
      "0 - .ipynb_checkpoints\n",
      "1 - est_nasc_2019-06-18.csv\n",
      "2 - iris.csv\n",
      "3 - nasc_rast_2019-06-18.csv\n",
      "4 - licenciamento_2019-06-18.csv\n",
      "5 - users_2019-06-18.csv\n",
      "6 - linhagens_2019-06-18.csv\n",
      "7 - grupos_acas_2019-06-18.csv\n",
      "8 - material_2019-06-18.csv\n",
      "9 - est_est_2019-06-18.csv\n",
      "10 - pedido_2019-06-18.csv\n",
      "11 - laboratorios_2019-06-18.csv\n",
      "12 - est_est_log_2019-06-18.csv\n",
      "13 - mater_est_est_2019-06-18.csv\n"
     ]
    }
   ],
   "source": [
    "#lista das tabelas disponíveis\n",
    "\n",
    "t = os.listdir('../tabelas_test') #listar o que tem dentro do diretório que for indicado\n",
    "chave_arq = 12 #indice na lista t que indica o documento .csv analisado\n",
    "for k, v in enumerate(t):\n",
    "    print(f'{k} - {v}')"
   ]
  },
  {
   "cell_type": "code",
   "execution_count": 3,
   "metadata": {},
   "outputs": [
    {
     "data": {
      "text/plain": [
       "{'est_nasc_2019-06-18.csv': [1812, 7],\n",
       " 'nasc_rast_2019-06-18.csv': [8679, 13],\n",
       " 'licenciamento_2019-06-18.csv': [1, 2],\n",
       " 'users_2019-06-18.csv': [5, 11],\n",
       " 'linhagens_2019-06-18.csv': [10, 3],\n",
       " 'grupos_acas_2019-06-18.csv': [30, 6],\n",
       " 'material_2019-06-18.csv': [34, 6],\n",
       " 'est_est_2019-06-18.csv': [600, 28],\n",
       " 'pedido_2019-06-18.csv': [403, 20],\n",
       " 'laboratorios_2019-06-18.csv': [10, 3],\n",
       " 'est_est_log_2019-06-18.csv': [18293, 29],\n",
       " 'mater_est_est_2019-06-18.csv': [11, 7]}"
      ]
     },
     "execution_count": 3,
     "metadata": {},
     "output_type": "execute_result"
    }
   ],
   "source": [
    "# Tabelas contendo o numero de instâncias e colunas\n",
    "\n",
    "shap_arq = dict() #dicionário shap (com esse nome por conta da função shape - que numera numero de instancias e colunas)\n",
    "for k, v in enumerate(t): #laço para percorrer a lista t, que cotém os nomes dos arquivos no diretório analisado\n",
    "    if k != 0 and k != 2: #comando if condicional para ignorar os arquivos t[0] e t[2]\n",
    "        db = pd.read_csv('../tabelas_test/' + str(t[k])).shape #função, read_csv, para abrir os arquivos .csv e função,shape, para mostrar o numero de instâncias e colunas.\n",
    "        shap_arq[v] = [db[0], db[1]] #inserir lista com os valores db[0] (n° instâncias) e db[1] (n° colunas) no dicionário shap_arq com a chave v (nome do arquivo)\n",
    "shap_arq"
   ]
  },
  {
   "cell_type": "code",
   "execution_count": 4,
   "metadata": {},
   "outputs": [
    {
     "name": "stdout",
     "output_type": "stream",
     "text": [
      "est_nasc_2019-06-18.csv\n",
      "nasc_rast_2019-06-18.csv\n",
      "est_est_2019-06-18.csv\n",
      "pedido_2019-06-18.csv\n",
      "est_est_log_2019-06-18.csv\n"
     ]
    }
   ],
   "source": [
    "#Tabelas que contem a coluna de linhagens\n",
    "\n",
    "ling_pos = dict()\n",
    "for a in shap_arq:\n",
    "    arquivos = pd.read_csv('../tabelas_test/' + str(a))\n",
    "    for l in arquivos.columns:\n",
    "        if l == 'ling':\n",
    "            ling_pos[a] = arquivos\n",
    "for j in ling_pos.keys():\n",
    "    print(f'{j}')"
   ]
  },
  {
   "cell_type": "code",
   "execution_count": 5,
   "metadata": {},
   "outputs": [],
   "source": [
    "#Listas contendo informações das linhagens\n",
    "\n",
    "ling_names = list(ling_pos[t[chave_arq]]['ling'].drop_duplicates())\n",
    "\n",
    "# ling_names = list(ling_pos[t[12]])\n",
    "\n",
    "# ling_names = list(ling_pos['est_est_log_2019-06-18.csv']['ling'].drop_duplicates())\n",
    "'''\n",
    "ling_grafico foi criado como um dicionário para conter todas as informações abaixo e tb\n",
    "para plotar as informações\n",
    "'''\n",
    "ling_grafico = dict()\n",
    "d = 0 #variável d foi atribuído ao valor 0. c será utilizada para finalizar o laço while\n",
    "val = list() #val é uma variável do tipo lista que irá receber os valores de interesse\n",
    "historico_num_a = list()\n",
    "'''\n",
    "while mantem o laço enquanto d for menor que o número de linhagens, len(ling_names)\n",
    "'''\n",
    "while d < len(ling_names):\n",
    "    '''\n",
    "    condição para que as linhagens \"Test\", \"Swiss\" e \"AAA\" não sejam analisadas, pois não são linhagens\n",
    "    reais\n",
    "    '''\n",
    "    ex_ling = ('Test', 'AAA', 'Swiss', 'C57BL06WT\\t', 'Swiss/CFW B', 'Swiss/CFW D','Swiss/CFW A',\n",
    "               'Swiss/CFW C', 'Swiss/CFW', 'Swiss-2', 'Swiss-2 A ', 'NZB/BINJ','NZW/LacJ','NOD / SHILTJ')\n",
    "    if ling_names[d] not in ex_ling:\n",
    "        na = 0 #variável na (soma do número de animais) recebe o valor 0\n",
    "        soma_util = 0 #variável que soma o número de eventos de nascimento, coluna util == 'nasc'\n",
    "        soma_util_sex = 0\n",
    "        soma_dias_nascimentos = 0\n",
    "        soma_dias_sexagem = 0\n",
    "        soma_sex_m = 0\n",
    "        na_sex_m = 0\n",
    "        soma_sex_f = 0\n",
    "        na_sex_f = 0\n",
    "        '''\n",
    "        #laço para percorrer as chaves (k) e os valores (v) na Serie ling_pos[t[chave_arq]]['ling'], \n",
    "        referente a coluna 'ling' no DataFrame t[chave_arq] do dicionário ling_pos.\n",
    "        '''\n",
    "        for k, v in enumerate(ling_pos[t[chave_arq]]['ling']):\n",
    "            '''\n",
    "            uma condição para que os valores (v) em ling_pos[t[chave_arq]]['ling']' sejam iguais a \n",
    "            cada um dos valores (ling_names[d]) referntes aos nomes das linhgens não repetidas\n",
    "            '''\n",
    "            if v == ling_names[d]:\n",
    "                '''\n",
    "                num_a é uma variável do tipo Serie que recebe ling_pos[t[chave_arq]] valor da coluna\n",
    "                ['num_ani'], pela função loc[k], com a chave k\n",
    "                '''\n",
    "                num_a = ling_pos[t[chave_arq]]['num_nasc'].loc[k]\n",
    "                '''\n",
    "                util_a é uma variável do tipo Serie que recebe ling_pos[t[chave_arq]] valor da coluna\n",
    "                ['util'], pela função loc[k], com a chave k\n",
    "                '''\n",
    "                util_a = ling_pos[t[chave_arq]]['util'].loc[k]\n",
    "                '''\n",
    "                #data_acasalamento = pd.to_datetime(ling_pos[t[chave_arq]]['date_acas'].loc[k], unit = 's')\n",
    "                data_acasalamento\n",
    "                '''\n",
    "                data_acasalamento = ling_pos[t[chave_arq]]['date_acas'].loc[k]\n",
    "                data_nascimento = ling_pos[t[chave_arq]]['date_nasc_acas'].loc[k]\n",
    "                data_sexagem = ling_pos[t[chave_arq]]['date_sex'].loc[k]\n",
    "                '''\n",
    "                condição para que o num_a (numero de animais) seja menor ou igual a 200, porque no sql o \n",
    "                valor 666 é referente a NULL (ausencia de valor) e que a variável util_a seja igual a \n",
    "                \"nasc\", referente a registro de nascimento\n",
    "                '''\n",
    "                if num_a <= 200 and util_a == 'nasc':\n",
    "                    soma_util += 1 #soma ele mesmo mais 1\n",
    "                    na += num_a #soma ele mesmo mais o número de animais\n",
    "                    soma_dias_nascimentos += int((data_nascimento - data_acasalamento)/86400)\n",
    "                    historico_num_a.append(num_a)\n",
    "                '''\n",
    "                condição para que o num_a (numero de animais) seja menor ou igual a 200, porque\n",
    "                valor 666 é referente a NULL (ausência de valor) e que a variável util_a seja igual\n",
    "                \"sex\", referente a registro de sexagem.\n",
    "                '''\n",
    "                if num_a <= 200 and util_a == 'sex':\n",
    "                    soma_util_sex += 1 #soma ele mesmo mais 1\n",
    "                    soma_dias_sexagem += int((data_sexagem - data_nascimento)/86400)\n",
    "                    if ling_pos[t[chave_arq]]['num_sex_m'].loc[k] <= 200:\n",
    "                        soma_sex_m += 1 #soma ele mesmo mais 1\n",
    "                        na_sex_m += ling_pos[t[chave_arq]]['num_sex_m'].loc[k] #soma ele mesmo mais o número de animais\n",
    "                    else:\n",
    "                        soma_sex_f += 1 #soma ele mesmo mais 1\n",
    "                        na_sex_f += ling_pos[t[chave_arq]]['num_sex_f'].loc[k] #soma ele mesmo mais o número de animais\n",
    "                        \n",
    "                        \n",
    "        '''\n",
    "        variável do tipo lista que recebe numero de animais e número de eventos de nascimentos para cada\n",
    "        linhagem\n",
    "        \n",
    "       >> Daria pra criar uma função?\n",
    "        '''\n",
    "        if soma_util == 0: #condição para que soma_util seja igual a zero\n",
    "            med = 0\n",
    "            med_nascimentos = 0\n",
    "        else: #se não for, a soma do numero de animais na dividido por soma_util\n",
    "            med = round(na/soma_util, 2)\n",
    "            med_nascimentos = round(soma_dias_nascimentos/soma_util, 2)\n",
    "        if soma_util_sex == 0: #condição para que soma_util da sexagem seja igual a zero\n",
    "            med_sexagem = 0 #variável que recebe valor zero\n",
    "        else: #se não for, a soma do numero de animais na dividido por soma_util de sexagem\n",
    "            med_sexagem = round(soma_dias_sexagem/soma_util_sex, 2)\n",
    "        if soma_sex_m == 0: #condição para que soma_sex_m seja igual a zero\n",
    "            med_sex_m = 0 #variavel que recebe o valor zero\n",
    "        else: #se não for, a soma do numero de animais na dividido por soma_util de sexagem do sexo m\n",
    "            med_sex_m = round(na_sex_m/soma_sex_m, 2)\n",
    "        if soma_sex_f == 0: #condição para que soma_sex_f seja igual a zero\n",
    "            med_sex_f = 0 #variavel que recebe o valor zero\n",
    "        else:#se não for, a soma do numero de animais na dividido por soma_util de sexagem do sexo f\n",
    "            med_sex_f = round(na_sex_f/soma_sex_f, 2)\n",
    "        val = [na, soma_util, med, med_nascimentos, med_sexagem, na_sex_m, soma_sex_m, med_sex_m, na_sex_f, soma_sex_f, med_sex_f, historico_num_a[:]]\n",
    "        '''\n",
    "        é um dicionário que recebe uma cópia da lista val (número de animais nascidos e número de \n",
    "        nascimentos) com a chave ling_names[d] (nome das linhagens)\n",
    "        '''\n",
    "        ling_grafico[ling_names[d]] = val[:]\n",
    "        val.clear()\n",
    "        historico_num_a.clear()\n",
    "    d += 1 #soma ele mesmo mais 1"
   ]
  },
  {
   "cell_type": "code",
   "execution_count": 6,
   "metadata": {},
   "outputs": [
    {
     "data": {
      "text/html": [
       "<div>\n",
       "<style scoped>\n",
       "    .dataframe tbody tr th:only-of-type {\n",
       "        vertical-align: middle;\n",
       "    }\n",
       "\n",
       "    .dataframe tbody tr th {\n",
       "        vertical-align: top;\n",
       "    }\n",
       "\n",
       "    .dataframe thead th {\n",
       "        text-align: right;\n",
       "    }\n",
       "</style>\n",
       "<table border=\"1\" class=\"dataframe\">\n",
       "  <thead>\n",
       "    <tr style=\"text-align: right;\">\n",
       "      <th></th>\n",
       "      <th>num</th>\n",
       "      <th>eventos</th>\n",
       "      <th>med</th>\n",
       "      <th>med_dias_nasc</th>\n",
       "      <th>med_dias_sex</th>\n",
       "      <th>num_sex_m</th>\n",
       "      <th>soma_sex_m</th>\n",
       "      <th>med_sex_m</th>\n",
       "      <th>num_sex_f</th>\n",
       "      <th>soma_sex_f</th>\n",
       "      <th>med_sex_f</th>\n",
       "      <th>hist_num_a</th>\n",
       "    </tr>\n",
       "    <tr>\n",
       "      <th>ling</th>\n",
       "      <th></th>\n",
       "      <th></th>\n",
       "      <th></th>\n",
       "      <th></th>\n",
       "      <th></th>\n",
       "      <th></th>\n",
       "      <th></th>\n",
       "      <th></th>\n",
       "      <th></th>\n",
       "      <th></th>\n",
       "      <th></th>\n",
       "      <th></th>\n",
       "    </tr>\n",
       "  </thead>\n",
       "  <tbody>\n",
       "    <tr>\n",
       "      <th>Swiss A</th>\n",
       "      <td>165</td>\n",
       "      <td>14</td>\n",
       "      <td>11.79</td>\n",
       "      <td>74.79</td>\n",
       "      <td>11.65</td>\n",
       "      <td>35</td>\n",
       "      <td>9</td>\n",
       "      <td>3.89</td>\n",
       "      <td>38</td>\n",
       "      <td>11</td>\n",
       "      <td>3.45</td>\n",
       "      <td>[12, 12, 4, 19, 30, 8, 16, 10, 5, 15, 11, 14, ...</td>\n",
       "    </tr>\n",
       "    <tr>\n",
       "      <th>Swiss B</th>\n",
       "      <td>115</td>\n",
       "      <td>11</td>\n",
       "      <td>10.45</td>\n",
       "      <td>35.82</td>\n",
       "      <td>14.31</td>\n",
       "      <td>25</td>\n",
       "      <td>9</td>\n",
       "      <td>2.78</td>\n",
       "      <td>13</td>\n",
       "      <td>4</td>\n",
       "      <td>3.25</td>\n",
       "      <td>[10, 4, 10, 8, 9, 5, 10, 9, 10, 12, 28]</td>\n",
       "    </tr>\n",
       "    <tr>\n",
       "      <th>Swiss C</th>\n",
       "      <td>249</td>\n",
       "      <td>15</td>\n",
       "      <td>16.6</td>\n",
       "      <td>33.53</td>\n",
       "      <td>10.93</td>\n",
       "      <td>30</td>\n",
       "      <td>8</td>\n",
       "      <td>3.75</td>\n",
       "      <td>22</td>\n",
       "      <td>6</td>\n",
       "      <td>3.67</td>\n",
       "      <td>[20, 40, 60, 8, 16, 9, 9, 3, 11, 8, 19, 6, 9, ...</td>\n",
       "    </tr>\n",
       "    <tr>\n",
       "      <th>Swiss D</th>\n",
       "      <td>136</td>\n",
       "      <td>13</td>\n",
       "      <td>10.46</td>\n",
       "      <td>50.69</td>\n",
       "      <td>10.2</td>\n",
       "      <td>31</td>\n",
       "      <td>9</td>\n",
       "      <td>3.44</td>\n",
       "      <td>21</td>\n",
       "      <td>6</td>\n",
       "      <td>3.5</td>\n",
       "      <td>[10, 10, 6, 14, 9, 9, 9, 12, 6, 8, 10, 16, 17]</td>\n",
       "    </tr>\n",
       "    <tr>\n",
       "      <th>Swiss E</th>\n",
       "      <td>257</td>\n",
       "      <td>22</td>\n",
       "      <td>11.68</td>\n",
       "      <td>45.18</td>\n",
       "      <td>12.92</td>\n",
       "      <td>18</td>\n",
       "      <td>5</td>\n",
       "      <td>3.6</td>\n",
       "      <td>23</td>\n",
       "      <td>7</td>\n",
       "      <td>3.29</td>\n",
       "      <td>[5, 10, 10, 20, 18, 26, 34, 11, 22, 10, 11, 7,...</td>\n",
       "    </tr>\n",
       "  </tbody>\n",
       "</table>\n",
       "</div>"
      ],
      "text/plain": [
       "         num eventos    med med_dias_nasc med_dias_sex num_sex_m soma_sex_m  \\\n",
       "ling                                                                          \n",
       "Swiss A  165      14  11.79         74.79        11.65        35          9   \n",
       "Swiss B  115      11  10.45         35.82        14.31        25          9   \n",
       "Swiss C  249      15   16.6         33.53        10.93        30          8   \n",
       "Swiss D  136      13  10.46         50.69         10.2        31          9   \n",
       "Swiss E  257      22  11.68         45.18        12.92        18          5   \n",
       "\n",
       "        med_sex_m num_sex_f soma_sex_f med_sex_f  \\\n",
       "ling                                               \n",
       "Swiss A      3.89        38         11      3.45   \n",
       "Swiss B      2.78        13          4      3.25   \n",
       "Swiss C      3.75        22          6      3.67   \n",
       "Swiss D      3.44        21          6       3.5   \n",
       "Swiss E       3.6        23          7      3.29   \n",
       "\n",
       "                                                hist_num_a  \n",
       "ling                                                        \n",
       "Swiss A  [12, 12, 4, 19, 30, 8, 16, 10, 5, 15, 11, 14, ...  \n",
       "Swiss B            [10, 4, 10, 8, 9, 5, 10, 9, 10, 12, 28]  \n",
       "Swiss C  [20, 40, 60, 8, 16, 9, 9, 3, 11, 8, 19, 6, 9, ...  \n",
       "Swiss D     [10, 10, 6, 14, 9, 9, 9, 12, 6, 8, 10, 16, 17]  \n",
       "Swiss E  [5, 10, 10, 20, 18, 26, 34, 11, 22, 10, 11, 7,...  "
      ]
     },
     "execution_count": 6,
     "metadata": {},
     "output_type": "execute_result"
    }
   ],
   "source": [
    "#Célula com tabela das médias e informações das linhagens\n",
    "'''\n",
    "Célula com tabela das médias e informações das linhagens\n",
    "'''\n",
    "\n",
    "\n",
    "'''\n",
    "transf_graficos é uma variável do tipo DataFrame que recebe o dicionário ling_grafico\n",
    "atraves da função from_dict que converte dicionarios para DataFrame\n",
    "'''\n",
    "transf_graficos = pd.DataFrame.from_dict(ling_grafico)\n",
    "'''\n",
    "testa_graficos é uma variável do tipo DataFrame.\n",
    "'''\n",
    "test_graficos = pd.DataFrame()\n",
    "'''\n",
    "cria a coluna ling na DataFrame test_graficos que recebe as colunas da DataFrame transf_graficos.\n",
    "As colunas são os nomes das linhgens.\n",
    "'''\n",
    "test_graficos['ling'] = transf_graficos.columns\n",
    "'''\n",
    "cria a coluna num na DataFrame test_graficos que recebe os valores (função values) no index 0\n",
    "(função loc[0]) da DataFrame transf_graficos. O index 0 são os números de animais para cada linhagem\n",
    "'''\n",
    "test_graficos['num'] = transf_graficos.loc[0].values\n",
    "'''\n",
    "cria a coluna eventos na DataFrame test_graficos que recebe os valores (função values) no index 1\n",
    "(função loc[1]) da DataFrame transf_graficos. O index 1 são os números de eventos de nascimentos para cada\n",
    "linhagem\n",
    "'''\n",
    "test_graficos['eventos'] = transf_graficos.loc[1].values\n",
    "'''\n",
    "cria a coluna med na DataFrame test_graficos que recebe os valores das médias aritméticas de \n",
    "número de nascimentos por evento\n",
    "'''\n",
    "test_graficos['med'] = transf_graficos.loc[2].values\n",
    "\n",
    "'''\n",
    "cria a coluna med_dias_nasc na DataFrame test_graficos que recebe os valores das médias \n",
    "aritméticas de número de nascimentos por evento\n",
    "'''\n",
    "test_graficos['med_dias_nasc'] = transf_graficos.loc[3].values\n",
    "'''\n",
    "cria a coluna med_dias_sex na DataFrame test_graficos que recebe os valores das médias \n",
    "aritméticas de número de nascimentos por evento\n",
    "'''\n",
    "test_graficos['med_dias_sex'] = transf_graficos.loc[4].values\n",
    "'''\n",
    "cria a coluna num_sex_m na DataFrame test_graficos que recebe os valores das médias \n",
    "aritméticas de número de nascimentos por evento, além da coluna soma_sex_m. \n",
    "'''\n",
    "test_graficos['num_sex_m'] = transf_graficos.loc[5].values\n",
    "test_graficos['soma_sex_m'] = transf_graficos.loc[6].values\n",
    "'''\n",
    "cria a coluna med_sex_m na DataFrame test_graficos que recebe os valores das médias \n",
    "aritméticas de número de nascimentos por evento \n",
    "'''\n",
    "test_graficos['med_sex_m'] = transf_graficos.loc[7].values\n",
    "'''\n",
    "cria a coluna num_sex_f na DataFrame test_graficos que recebe os valores das médias \n",
    "aritméticas de número de nascimentos por evento, além da coluna soma_sex_f. \n",
    "'''\n",
    "test_graficos['num_sex_f'] = transf_graficos.loc[8].values\n",
    "test_graficos['soma_sex_f'] = transf_graficos.loc[9].values\n",
    "'''\n",
    "cria a coluna med_sex_f na DataFrame test_graficos que recebe os valores das médias \n",
    "aritméticas de número de nascimentos por evento. \n",
    "'''\n",
    "test_graficos['med_sex_f'] = transf_graficos.loc[10].values\n",
    "'''\n",
    "cria a coluna hist_num_a na DataFrame test_graficos que recebe os valores das médias \n",
    "aritméticas de número de nascimentos por evento. \n",
    "'''\n",
    "test_graficos['hist_num_a'] = transf_graficos.loc[11].values\n",
    "'''\n",
    "função set_index utiliza a coluna ling como indece da DataFrame test_graficos\n",
    "'''\n",
    "test_graficos = test_graficos.set_index('ling')\n",
    "test_graficos.head() #função head() que mostra as primeiros 5 inst\n",
    "#test_graficos.sort_values(['ling']).index"
   ]
  },
  {
   "cell_type": "code",
   "execution_count": 7,
   "metadata": {},
   "outputs": [
    {
     "data": {
      "text/plain": [
       "num                                                            905\n",
       "eventos                                                        149\n",
       "med                                                        7.57667\n",
       "med_dias_nasc                                              45.4367\n",
       "med_dias_sex                                               8.98333\n",
       "num_sex_m                                                      229\n",
       "soma_sex_m                                                      72\n",
       "med_sex_m                                                  3.19333\n",
       "num_sex_f                                                      188\n",
       "soma_sex_f                                                      61\n",
       "med_sex_f                                                  3.44667\n",
       "hist_num_a       [8, 2, 4, 5, 9, 3, 9, 8, 8, 4, 6, 8, 19, 7, 17...\n",
       "dtype: object"
      ]
     },
     "execution_count": 7,
     "metadata": {},
     "output_type": "execute_result"
    }
   ],
   "source": [
    "#Concatenação de linhagens S129WT\n",
    "\n",
    "a = 'S129WT'\n",
    "b = ' S129WT'\n",
    "c = '129/SV-E'\n",
    "\n",
    "cento = test_graficos.loc[[a, b, c]].sum() #soma as intancias entre as linhagens que quero concatenar\n",
    "cento[['med', 'med_dias_nasc', 'med_dias_sex', 'med_sex_m', 'med_sex_f']] = cento[['med', 'med_dias_nasc', 'med_dias_sex', 'med_sex_m', 'med_sex_f']]/3 \n",
    "#linha serve para incluir todas as colunas que possuem um valor médio, já somados serão dividios pelo numero de linhagens, nesse caso, são 3\n",
    "test_graficos.at[c, test_graficos.columns] = cento\n",
    "test_graficos.drop([a,b], inplace=True)\n",
    "cento #print"
   ]
  },
  {
   "cell_type": "code",
   "execution_count": 8,
   "metadata": {},
   "outputs": [
    {
     "data": {
      "text/plain": [
       "num                                                           1612\n",
       "eventos                                                        250\n",
       "med                                                          5.895\n",
       "med_dias_nasc                                               58.345\n",
       "med_dias_sex                                                14.385\n",
       "num_sex_m                                                      398\n",
       "soma_sex_m                                                     123\n",
       "med_sex_m                                                     3.12\n",
       "num_sex_f                                                      335\n",
       "soma_sex_f                                                      95\n",
       "med_sex_f                                                    3.265\n",
       "hist_num_a       [5, 6, 3, 15, 5, 4, 7, 8, 7, 6, 3, 2, 4, 5, 5,...\n",
       "dtype: object"
      ]
     },
     "execution_count": 8,
     "metadata": {},
     "output_type": "execute_result"
    }
   ],
   "source": [
    "#Concatenação de linhagens S129KO\n",
    "\n",
    "a = 'S129KO'\n",
    "b = ' S129KO'\n",
    "\n",
    "ko = test_graficos.loc[[a, b]].sum() #soma as intancias entre as linhagens que quero concatenar\n",
    "ko[['med', 'med_dias_nasc', 'med_dias_sex', 'med_sex_m', 'med_sex_f']] = ko[['med', 'med_dias_nasc', 'med_dias_sex', 'med_sex_m', 'med_sex_f']]/2 \n",
    "#linha serve para incluir todas as colunas que possuem um valor médio, já somados serão dividios pelo numero de linhagens, nesse caso, são 3\n",
    "test_graficos.at[a , test_graficos.columns] = ko #linhagem que quer manter\n",
    "test_graficos.drop([b], inplace=True) #linhagem que quer excluir\n",
    "ko"
   ]
  },
  {
   "cell_type": "code",
   "execution_count": 9,
   "metadata": {},
   "outputs": [
    {
     "data": {
      "text/plain": [
       "num                                                           4001\n",
       "eventos                                                        460\n",
       "med                                                           8.05\n",
       "med_dias_nasc                                               56.405\n",
       "med_dias_sex                                                  15.2\n",
       "num_sex_m                                                     1091\n",
       "soma_sex_m                                                     280\n",
       "med_sex_m                                                     3.62\n",
       "num_sex_f                                                      748\n",
       "soma_sex_f                                                     203\n",
       "med_sex_f                                                    3.185\n",
       "hist_num_a       [5, 7, 8, 9, 11, 5, 4, 4, 7, 7, 10, 8, 7, 6, 1...\n",
       "dtype: object"
      ]
     },
     "execution_count": 9,
     "metadata": {},
     "output_type": "execute_result"
    }
   ],
   "source": [
    "#Concatenação de linhagens C57BL/06\n",
    "\n",
    "a = 'C57BL/6'\n",
    "b = 'C57BL06WT'\n",
    "\n",
    "black = test_graficos.loc[[a, b]].sum() #soma as intancias entre as linhagens que quero concatenar\n",
    "black[['med', 'med_dias_nasc', 'med_dias_sex', 'med_sex_m', 'med_sex_f']] = black[['med', 'med_dias_nasc', 'med_dias_sex', 'med_sex_m', 'med_sex_f']]/2 \n",
    "#linha serve para incluir todas as colunas que possuem um valor médio, já somados serão dividios pelo numero de linhagens, nesse caso, são 3\n",
    "test_graficos.at[a, test_graficos.columns] = black #linhagem que quer manter\n",
    "test_graficos.drop([b], inplace=True)\n",
    "black"
   ]
  },
  {
   "cell_type": "code",
   "execution_count": 10,
   "metadata": {},
   "outputs": [
    {
     "data": {
      "text/plain": [
       "num                                                            404\n",
       "eventos                                                         37\n",
       "med                                                          11.09\n",
       "med_dias_nasc                                               59.655\n",
       "med_dias_sex                                                14.375\n",
       "num_sex_m                                                       95\n",
       "soma_sex_m                                                      30\n",
       "med_sex_m                                                    3.375\n",
       "num_sex_f                                                      107\n",
       "soma_sex_f                                                      32\n",
       "med_sex_f                                                     3.37\n",
       "hist_num_a       [10, 8, 8, 14, 8, 16, 7, 12, 9, 12, 11, 7, 12,...\n",
       "dtype: object"
      ]
     },
     "execution_count": 10,
     "metadata": {},
     "output_type": "execute_result"
    }
   ],
   "source": [
    "#Concatenação de linhagens SWISS-1 A\n",
    "\n",
    "a = 'Swiss-1 A'\n",
    "b = 'Swiss A'\n",
    "\n",
    "s_A = test_graficos.loc[[a, b]].sum() #soma as intancias entre as linhagens que quero concatenar\n",
    "s_A[['med', 'med_dias_nasc', 'med_dias_sex', 'med_sex_m', 'med_sex_f']] = s_A[['med', 'med_dias_nasc', 'med_dias_sex', 'med_sex_m', 'med_sex_f']]/2 \n",
    "#linha serve para incluir todas as colunas que possuem um valor médio, já somados serão dividios pelo numero de linhagens, nesse caso, são 3\n",
    "test_graficos.at[a, test_graficos.columns] = s_A #linhagem que quer manter\n",
    "test_graficos.drop([b], inplace=True)\n",
    "s_A"
   ]
  },
  {
   "cell_type": "code",
   "execution_count": 11,
   "metadata": {},
   "outputs": [
    {
     "data": {
      "text/plain": [
       "num                                                            344\n",
       "eventos                                                         32\n",
       "med                                                         10.675\n",
       "med_dias_nasc                                                36.41\n",
       "med_dias_sex                                                15.485\n",
       "num_sex_m                                                      107\n",
       "soma_sex_m                                                      33\n",
       "med_sex_m                                                      3.1\n",
       "num_sex_f                                                       71\n",
       "soma_sex_f                                                      21\n",
       "med_sex_f                                                     3.33\n",
       "hist_num_a       [10, 9, 10, 14, 13, 11, 11, 13, 7, 4, 11, 12, ...\n",
       "dtype: object"
      ]
     },
     "execution_count": 11,
     "metadata": {},
     "output_type": "execute_result"
    }
   ],
   "source": [
    "#Concatenação de linhagens SWISS-1 B\n",
    "\n",
    "a = 'Swiss-1 B'\n",
    "b = 'Swiss B'\n",
    "\n",
    "s_B = test_graficos.loc[[a, b]].sum() #soma as intancias entre as linhagens que quero concatenar\n",
    "s_B[['med', 'med_dias_nasc', 'med_dias_sex', 'med_sex_m', 'med_sex_f']] = s_B[['med', 'med_dias_nasc', 'med_dias_sex', 'med_sex_m', 'med_sex_f']]/2 \n",
    "#linha serve para incluir todas as colunas que possuem um valor médio, já somados serão dividios pelo numero de linhagens, nesse caso, são 3\n",
    "test_graficos.at[a, test_graficos.columns] = s_B #linhagem que quer manter\n",
    "test_graficos.drop([b], inplace=True)\n",
    "s_B"
   ]
  },
  {
   "cell_type": "code",
   "execution_count": 12,
   "metadata": {},
   "outputs": [
    {
     "data": {
      "text/plain": [
       "num                                                            413\n",
       "eventos                                                         32\n",
       "med                                                         13.125\n",
       "med_dias_nasc                                               35.205\n",
       "med_dias_sex                                                 15.25\n",
       "num_sex_m                                                       88\n",
       "soma_sex_m                                                      25\n",
       "med_sex_m                                                     3.58\n",
       "num_sex_f                                                       59\n",
       "soma_sex_f                                                      19\n",
       "med_sex_f                                                     3.26\n",
       "hist_num_a       [8, 10, 10, 14, 11, 14, 5, 3, 11, 7, 13, 8, 13...\n",
       "dtype: object"
      ]
     },
     "execution_count": 12,
     "metadata": {},
     "output_type": "execute_result"
    }
   ],
   "source": [
    "#Concatenação de linhagens Swiss-1 C\n",
    "\n",
    "a = 'Swiss-1 C'\n",
    "b = 'Swiss C'\n",
    "\n",
    "s_C = test_graficos.loc[[a, b]].sum() #soma as intancias entre as linhagens que quero concatenar\n",
    "s_C[['med', 'med_dias_nasc', 'med_dias_sex', 'med_sex_m', 'med_sex_f']] = s_C[['med', 'med_dias_nasc', 'med_dias_sex', 'med_sex_m', 'med_sex_f']]/2 \n",
    "#linha serve para incluir todas as colunas que possuem um valor médio, já somados serão dividios pelo numero de linhagens, nesse caso, são 3\n",
    "test_graficos.at[a, test_graficos.columns] = s_C #linhagem que quer manter\n",
    "test_graficos.drop([b], inplace=True)\n",
    "s_C"
   ]
  },
  {
   "cell_type": "code",
   "execution_count": 13,
   "metadata": {},
   "outputs": [
    {
     "data": {
      "text/plain": [
       "num                                                            311\n",
       "eventos                                                         31\n",
       "med                                                          10.09\n",
       "med_dias_nasc                                               45.125\n",
       "med_dias_sex                                                 13.53\n",
       "num_sex_m                                                       89\n",
       "soma_sex_m                                                      25\n",
       "med_sex_m                                                     3.53\n",
       "num_sex_f                                                       61\n",
       "soma_sex_f                                                      19\n",
       "med_sex_f                                                     3.29\n",
       "hist_num_a       [9, 14, 10, 8, 6, 13, 4, 6, 12, 11, 7, 10, 13,...\n",
       "dtype: object"
      ]
     },
     "execution_count": 13,
     "metadata": {},
     "output_type": "execute_result"
    }
   ],
   "source": [
    "#Concatenação de linhagens SWISS-1 D\n",
    "\n",
    "a = 'Swiss-1 D'\n",
    "b = 'Swiss D'\n",
    "\n",
    "s_D = test_graficos.loc[[a, b]].sum() #soma as intancias entre as linhagens que quero concatenar\n",
    "s_D[['med', 'med_dias_nasc', 'med_dias_sex', 'med_sex_m', 'med_sex_f']] = s_D[['med', 'med_dias_nasc', 'med_dias_sex', 'med_sex_m', 'med_sex_f']]/2 \n",
    "#linha serve para incluir todas as colunas que possuem um valor médio, já somados serão dividios pelo numero de linhagens, nesse caso, são 3\n",
    "test_graficos.at[a, test_graficos.columns] = s_D #linhagem que quer manter\n",
    "test_graficos.drop([b], inplace=True)\n",
    "s_D"
   ]
  },
  {
   "cell_type": "code",
   "execution_count": 14,
   "metadata": {},
   "outputs": [
    {
     "data": {
      "text/plain": [
       "num                                                            531\n",
       "eventos                                                         47\n",
       "med                                                          11.32\n",
       "med_dias_nasc                                                39.61\n",
       "med_dias_sex                                                13.015\n",
       "num_sex_m                                                       74\n",
       "soma_sex_m                                                      23\n",
       "med_sex_m                                                    3.355\n",
       "num_sex_f                                                       90\n",
       "soma_sex_f                                                      26\n",
       "med_sex_f                                                     3.41\n",
       "hist_num_a       [10, 8, 9, 12, 8, 12, 16, 9, 12, 10, 8, 8, 9, ...\n",
       "dtype: object"
      ]
     },
     "execution_count": 14,
     "metadata": {},
     "output_type": "execute_result"
    }
   ],
   "source": [
    "#Concatenação de linhagens SWISS-1 E\n",
    "\n",
    "a = 'Swiss-1 E'\n",
    "b = 'Swiss E'\n",
    "\n",
    "s_E = test_graficos.loc[[a, b]].sum() #soma as intancias entre as linhagens que quero concatenar\n",
    "s_E[['med', 'med_dias_nasc', 'med_dias_sex', 'med_sex_m', 'med_sex_f']] = s_E[['med', 'med_dias_nasc', 'med_dias_sex', 'med_sex_m', 'med_sex_f']]/2 \n",
    "#linha serve para incluir todas as colunas que possuem um valor médio, já somados serão dividios pelo numero de linhagens, nesse caso, são 3\n",
    "test_graficos.at[a, test_graficos.columns] = s_E #linhagem que quer manter\n",
    "test_graficos.drop([b], inplace=True)\n",
    "s_E"
   ]
  },
  {
   "cell_type": "code",
   "execution_count": 15,
   "metadata": {},
   "outputs": [
    {
     "data": {
      "text/plain": [
       "num                                                           3204\n",
       "eventos                                                        293\n",
       "med                                                         10.917\n",
       "med_dias_nasc                                              39.0745\n",
       "med_dias_sex                                               15.1955\n",
       "num_sex_m                                                      870\n",
       "soma_sex_m                                                     243\n",
       "med_sex_m                                                    3.642\n",
       "num_sex_f                                                      620\n",
       "soma_sex_f                                                     182\n",
       "med_sex_f                                                    3.458\n",
       "hist_num_a       [10, 8, 8, 14, 8, 16, 7, 12, 9, 12, 11, 7, 12,...\n",
       "dtype: object"
      ]
     },
     "execution_count": 15,
     "metadata": {},
     "output_type": "execute_result"
    }
   ],
   "source": [
    "#Média de linhagens heterogenicas\n",
    "\n",
    "a = 'Swiss-1 A'\n",
    "b = 'Swiss-1 B'\n",
    "c = 'Swiss-1 C'\n",
    "d = 'Swiss-1 D'\n",
    "e = 'Swiss-1 E'\n",
    "f = 'Swiss-2 A'\n",
    "g = 'Swiss-2 B'\n",
    "h = 'Swiss-2 C'\n",
    "i = 'Swiss-2 D'\n",
    "j = 'Swiss-2 E'\n",
    "\n",
    "soma_het = test_graficos.loc[[a, b, c, d, e, f, g, h, i, j]].sum() #soma as intancias entre as linhagens que quero concatenar\n",
    "soma_het[['med', 'med_dias_nasc', 'med_dias_sex', 'med_sex_m', 'med_sex_f']] = soma_het[['med', 'med_dias_nasc', 'med_dias_sex', 'med_sex_m', 'med_sex_f']]/10 \n",
    "#pra fazer a mediana deve criar uma coluna?\n",
    "soma_het"
   ]
  },
  {
   "cell_type": "code",
   "execution_count": 16,
   "metadata": {},
   "outputs": [
    {
     "name": "stderr",
     "output_type": "stream",
     "text": [
      "/home/eloiza/anaconda3/lib/python3.7/site-packages/ipykernel_launcher.py:11: FutureWarning: \n",
      "Passing list-likes to .loc or [] with any missing label will raise\n",
      "KeyError in the future, you can use .reindex() as an alternative.\n",
      "\n",
      "See the documentation here:\n",
      "https://pandas.pydata.org/pandas-docs/stable/indexing.html#deprecate-loc-reindex-listlike\n",
      "  # This is added back by InteractiveShellApp.init_path()\n"
     ]
    },
    {
     "data": {
      "text/plain": [
       "num              7452.000000\n",
       "eventos          1008.000000\n",
       "med                 4.681667\n",
       "med_dias_nasc      39.283095\n",
       "med_dias_sex       15.559762\n",
       "num_sex_m        1670.000000\n",
       "soma_sex_m        514.000000\n",
       "med_sex_m           2.227619\n",
       "num_sex_f        1644.000000\n",
       "soma_sex_f        469.000000\n",
       "med_sex_f           2.594524\n",
       "dtype: float64"
      ]
     },
     "execution_count": 16,
     "metadata": {},
     "output_type": "execute_result"
    }
   ],
   "source": [
    "#Media das linhagens isogênicas\n",
    "\n",
    "a = '129/SV-E'\n",
    "b = 'AG129'\n",
    "c = 'Balb/c'\n",
    "d = 'C3H'\n",
    "e = 'C57BL/06'\n",
    "f = 'DBA/1j'\n",
    "g = 'S129KO'\n",
    "\n",
    "soma_iso = test_graficos.loc[[a, b, c, d, e, f, g]].sum() #soma as intancias entre as linhagens que quero concatenar\n",
    "soma_iso[['med', 'med_dias_nasc', 'med_dias_sex', 'med_sex_m', 'med_sex_f']] = soma_iso[['med', 'med_dias_nasc', 'med_dias_sex', 'med_sex_m', 'med_sex_f']]/7 \n",
    "soma_iso"
   ]
  },
  {
   "cell_type": "code",
   "execution_count": 17,
   "metadata": {},
   "outputs": [
    {
     "data": {
      "text/plain": [
       "{'median_het': 10.0, 'mean_het': 10.94, 'median_iso': 7.0, 'mean_iso': 8.08}"
      ]
     },
     "execution_count": 17,
     "metadata": {},
     "output_type": "execute_result"
    }
   ],
   "source": [
    "#Média e mediana em linhagens heterogênicas\n",
    "\n",
    "a = 'Swiss-1 A'\n",
    "b = 'Swiss-1 B'\n",
    "c = 'Swiss-1 C'\n",
    "d = 'Swiss-1 D'\n",
    "e = 'Swiss-1 E'\n",
    "f = 'Swiss-2 A'\n",
    "g = 'Swiss-2 B'\n",
    "h = 'Swiss-2 C'\n",
    "i = 'Swiss-2 D'\n",
    "j = 'Swiss-2 E'\n",
    "\n",
    "median_het = round(pd.Series(test_graficos['hist_num_a'].loc[[a,b,c,d,e,f,g,h,i,j]].sum()).median(), 2)\n",
    "mean_het = round(pd.Series(test_graficos['hist_num_a'].loc[[a,b,c,d,e,f,g,h,i,j]].sum()).mean(), 2)\n",
    "\n",
    "#Média e mediana em linhagens Isogênicas\n",
    "\n",
    "a = '129/SV-E'\n",
    "b = 'AG129'\n",
    "c = 'Balb/c'\n",
    "d = 'C3H'\n",
    "e = 'C57BL/6'\n",
    "f = 'DBA/1j'\n",
    "g = 'S129KO'\n",
    "\n",
    "median_iso = round(pd.Series(test_graficos['hist_num_a'].loc[[a,b,c,d,e]].sum()).median(), 2)\n",
    "mean_iso = round(pd.Series(test_graficos['hist_num_a'].loc[[a,b,c,d,e]].sum()).mean(), 2)\n",
    "\n",
    "d = {'median_het': median_het,\n",
    "     'mean_het': mean_het,\n",
    "     'median_iso': median_iso,\n",
    "     'mean_iso': mean_iso\n",
    "}\n",
    "d"
   ]
  },
  {
   "cell_type": "code",
   "execution_count": 18,
   "metadata": {},
   "outputs": [
    {
     "data": {
      "image/png": "[encoded data removed]",
      "text/plain": [
       "<Figure size 1440x1080 with 1 Axes>"
      ]
     },
     "metadata": {
      "needs_background": "light"
     },
     "output_type": "display_data"
    }
   ],
   "source": [
    "#++++++++++++++++++++++++++++++++++++++++++++++++++++++++++++++++++++++++++++++++++++++++++++++++++++++++++++++++\n",
    "#Calculo de média e mediana\n",
    "media_geral = round(test_graficos['med'].sum() / len(test_graficos.index), 2) #media\n",
    "mediana_geral = round(test_graficos.median()['med'],2) #mediana\n",
    "\n",
    "#++++++++++++++++++++++++++++++++++++++++++++++++++++++++++++++++++++++++++++++++++++++++++++++++++++++++++++++++\n",
    "#Configuações do gráfico\n",
    "plt.figure(figsize=(20,15))\n",
    "plt.barh(\n",
    "    y=test_graficos.sort_values(['ling'], ascending=False).index,\n",
    "    width=test_graficos.sort_values(['ling'], ascending=False)['med']\n",
    ")\n",
    "\n",
    "#++++++++++++++++++++++++++++++++++++++++++++++++++++++++++++++++++++++++++++++++++++++++++++++++++++++++++++++++\n",
    "#Plotagem de linhas média e mediana\n",
    "plt.plot(\n",
    "    [media_geral, media_geral],\n",
    "    [len(test_graficos.index), 0],\n",
    "    c='red'\n",
    ")\n",
    "\n",
    "plt.plot( #função para plotar o gráfico\n",
    "    [mediana_geral, mediana_geral], #faixa que marca a mediana\n",
    "    [len(test_graficos.index), 0], \n",
    "    c='green' #cor verde da faixa\n",
    ")\n",
    "\n",
    "#++++++++++++++++++++++++++++++++++++++++++++++++++++++++++++++++++++++++++++++++++++++++++++++++++++++++++++++++\n",
    "#Configuações do gráfico\n",
    "\n",
    "plt.legend([str(media_geral) + ' média ani/ling', str(mediana_geral) + ' mediana ani/ling']) #legenda do gŕafico\n",
    "plt.ylabel('Linhagem')\n",
    "plt.xlabel('Animais')\n",
    "plt.title('Número médio de animais nascidos por linhagem (Total animais/nascimentos)')\n",
    "plt.savefig(\n",
    "    fname=\"../resultados/6_pergunta_Med_Animais_Lin_2019-06-25-rela.png\",\n",
    "    bbox_inches='tight',\n",
    "    dpi=150,\n",
    "    transparent=True\n",
    ")"
   ]
  },
  {
   "cell_type": "markdown",
   "metadata": {},
   "source": [
    "Resultados:\n",
    "\n",
    "Nesse resultado foi avaliado o número médio de nascimentos por grupos de linhagens entre os isogênicos (linhagem pura) e heterogênicos. Resultando a média de nascimentos por acasalamento nos animais superior à media nos isogênicos.\n",
    "A linha vermelha representa a média e a linha verde a mediana da produção de animais. É possível observar o grupo do Swiss (heterogênicis) foi o que mais se aproxima ou passa da média em comparação com o grupo de isogênicos, como as linhagens C3H e S129 ko (isogênicos) que estão abaixo da média. concordando com a hipótese, que os Swiss produzem mais filhotes que os isogênicos."
   ]
  },
  {
   "cell_type": "markdown",
   "metadata": {},
   "source": [
    "Desdobramento: Após verificar uma produção maior de heterogênicos, mesmo que os pedidos sejam maiores entre as linhagens isogênicas, como está relacionado os pedidos com as linhagens e quais grupos de pesquisadores utilizam as linhagens heterogênicas e porque é os pedidos são inferiores?"
   ]
  },
  {
   "cell_type": "code",
   "execution_count": null,
   "metadata": {},
   "outputs": [],
   "source": []
  }
 ],
 "metadata": {
  "kernelspec": {
   "display_name": "Python 3",
   "language": "python",
   "name": "python3"
  },
  "language_info": {
   "codemirror_mode": {
    "name": "ipython",
    "version": 3
   },
   "file_extension": ".py",
   "mimetype": "text/x-python",
   "name": "python",
   "nbconvert_exporter": "python",
   "pygments_lexer": "ipython3",
   "version": "3.7.1"
  }
 },
 "nbformat": 4,
 "nbformat_minor": 2
}
