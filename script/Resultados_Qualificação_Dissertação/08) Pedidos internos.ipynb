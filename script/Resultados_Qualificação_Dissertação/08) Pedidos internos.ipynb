{
 "cells": [
  {
   "cell_type": "markdown",
   "metadata": {},
   "source": [
    "Objetivo específico: Determinar parâmetros gerais (n° de animais nascidos, período para nascimento e sexagem) da criação animal no biotério do ICC, total e por linhagem, nos últimos 5 anos; "
   ]
  },
  {
   "cell_type": "markdown",
   "metadata": {},
   "source": [
    "Pergunta: Dados dos requisitantes, tipos de uso - associação com linhagens e demanda e tipos de ensaios. \n",
    "Necessário ter todas essas linhagens? -  Alessandra Aguiar.\n",
    "\n",
    "Tipo de uso: Não temos informações sobre os Usuários Externos para qual tipo de uso, é realizada apenas a produção dos animais. Já os usuários internos da pra saber, porém, não pelo software BioterC"
   ]
  },
  {
   "cell_type": "markdown",
   "metadata": {},
   "source": [
    "Quais são os pedidos externos e linhagens?\n",
    "Qual tipo de uso para cada linhagem?\n",
    "Qual período de pedidos para cada linhagem?\n",
    "\n",
    "Quais são os pedidos internos e as linhagens?\n",
    "Qual tipo de uso para cada linhagem?\n",
    "Qual período de pedidos para linhagem?"
   ]
  },
  {
   "cell_type": "code",
   "execution_count": 6,
   "metadata": {},
   "outputs": [],
   "source": [
    "import pandas as pd \n",
    "import matplotlib.pyplot as plt\n",
    "from statsmodels.tsa.seasonal import seasonal_decompose\n",
    "\n",
    "plt.rcParams.update({'font.size': 20})\n",
    "# plt.rcParams['xtick.labelsize'] = 20\n",
    "# plt.rcParams['ytick.labelsize'] = 20"
   ]
  },
  {
   "cell_type": "code",
   "execution_count": 7,
   "metadata": {},
   "outputs": [
    {
     "data": {
      "text/html": [
       "<div>\n",
       "<style scoped>\n",
       "    .dataframe tbody tr th:only-of-type {\n",
       "        vertical-align: middle;\n",
       "    }\n",
       "\n",
       "    .dataframe tbody tr th {\n",
       "        vertical-align: top;\n",
       "    }\n",
       "\n",
       "    .dataframe thead th {\n",
       "        text-align: right;\n",
       "    }\n",
       "</style>\n",
       "<table border=\"1\" class=\"dataframe\">\n",
       "  <thead>\n",
       "    <tr style=\"text-align: right;\">\n",
       "      <th></th>\n",
       "      <th>solic</th>\n",
       "      <th>mail</th>\n",
       "      <th>lab</th>\n",
       "      <th>exter</th>\n",
       "      <th>ling</th>\n",
       "      <th>num_ani</th>\n",
       "      <th>time</th>\n",
       "      <th>total_time</th>\n",
       "      <th>doses</th>\n",
       "      <th>cep</th>\n",
       "      <th>cep_num_ani</th>\n",
       "      <th>id_orig</th>\n",
       "      <th>caix_est</th>\n",
       "      <th>id_fim</th>\n",
       "      <th>caix_exp</th>\n",
       "      <th>data_inicio</th>\n",
       "      <th>data_solic</th>\n",
       "      <th>data_forn</th>\n",
       "      <th>data_fim</th>\n",
       "    </tr>\n",
       "    <tr>\n",
       "      <th>id</th>\n",
       "      <th></th>\n",
       "      <th></th>\n",
       "      <th></th>\n",
       "      <th></th>\n",
       "      <th></th>\n",
       "      <th></th>\n",
       "      <th></th>\n",
       "      <th></th>\n",
       "      <th></th>\n",
       "      <th></th>\n",
       "      <th></th>\n",
       "      <th></th>\n",
       "      <th></th>\n",
       "      <th></th>\n",
       "      <th></th>\n",
       "      <th></th>\n",
       "      <th></th>\n",
       "      <th></th>\n",
       "      <th></th>\n",
       "    </tr>\n",
       "  </thead>\n",
       "  <tbody>\n",
       "    <tr>\n",
       "      <th>2</th>\n",
       "      <td>Tania</td>\n",
       "      <td>tschepainski@gmail.com</td>\n",
       "      <td>Usuário Externo</td>\n",
       "      <td>x</td>\n",
       "      <td>Balb/c</td>\n",
       "      <td>2</td>\n",
       "      <td>dia</td>\n",
       "      <td>3</td>\n",
       "      <td>2</td>\n",
       "      <td>83050140</td>\n",
       "      <td>666</td>\n",
       "      <td>666</td>\n",
       "      <td>AAA</td>\n",
       "      <td>666</td>\n",
       "      <td>AAA</td>\n",
       "      <td>1421625600</td>\n",
       "      <td>1411391851</td>\n",
       "      <td>666</td>\n",
       "      <td>1411392413</td>\n",
       "    </tr>\n",
       "    <tr>\n",
       "      <th>6</th>\n",
       "      <td>Hálisson Tesseroli Miot</td>\n",
       "      <td>halissontm@gmail.com</td>\n",
       "      <td>LPEP</td>\n",
       "      <td>-</td>\n",
       "      <td>Swiss</td>\n",
       "      <td>4</td>\n",
       "      <td>mes</td>\n",
       "      <td>2</td>\n",
       "      <td>5</td>\n",
       "      <td>0000000000</td>\n",
       "      <td>666</td>\n",
       "      <td>16</td>\n",
       "      <td>1-3-2-16</td>\n",
       "      <td>106</td>\n",
       "      <td>4-1-1-106</td>\n",
       "      <td>1412121600</td>\n",
       "      <td>1411583300</td>\n",
       "      <td>1412619416</td>\n",
       "      <td>1418727743</td>\n",
       "    </tr>\n",
       "    <tr>\n",
       "      <th>4</th>\n",
       "      <td>Tania</td>\n",
       "      <td>tschepainski@gmail.com</td>\n",
       "      <td>Usuário Externo</td>\n",
       "      <td>.</td>\n",
       "      <td>Balb/c</td>\n",
       "      <td>2</td>\n",
       "      <td>dia</td>\n",
       "      <td>2</td>\n",
       "      <td>2</td>\n",
       "      <td>81300</td>\n",
       "      <td>666</td>\n",
       "      <td>666</td>\n",
       "      <td>AAA</td>\n",
       "      <td>666</td>\n",
       "      <td>AAA</td>\n",
       "      <td>1420070400</td>\n",
       "      <td>1411491911</td>\n",
       "      <td>666</td>\n",
       "      <td>1411491957</td>\n",
       "    </tr>\n",
       "    <tr>\n",
       "      <th>5</th>\n",
       "      <td>Claudemir de Souza</td>\n",
       "      <td>claudemir.s@tecpar.br</td>\n",
       "      <td>VIROMOL</td>\n",
       "      <td>-</td>\n",
       "      <td>Swiss</td>\n",
       "      <td>11</td>\n",
       "      <td>dia</td>\n",
       "      <td>30</td>\n",
       "      <td>5</td>\n",
       "      <td>555555</td>\n",
       "      <td>666</td>\n",
       "      <td>14</td>\n",
       "      <td>1-2-7-14</td>\n",
       "      <td>113</td>\n",
       "      <td>NaN</td>\n",
       "      <td>1412899200</td>\n",
       "      <td>1411579273</td>\n",
       "      <td>1412620096</td>\n",
       "      <td>1422037389</td>\n",
       "    </tr>\n",
       "    <tr>\n",
       "      <th>7</th>\n",
       "      <td>Camila Oliveira</td>\n",
       "      <td>halissontm@gmail.com</td>\n",
       "      <td>LPEP</td>\n",
       "      <td>-</td>\n",
       "      <td>Balb/c</td>\n",
       "      <td>6</td>\n",
       "      <td>mes</td>\n",
       "      <td>2</td>\n",
       "      <td>5</td>\n",
       "      <td>0000000000</td>\n",
       "      <td>666</td>\n",
       "      <td>50</td>\n",
       "      <td>2-3-1-50</td>\n",
       "      <td>108</td>\n",
       "      <td>4-1-3-108</td>\n",
       "      <td>1412121600</td>\n",
       "      <td>1411583355</td>\n",
       "      <td>1412082161</td>\n",
       "      <td>1418727745</td>\n",
       "    </tr>\n",
       "  </tbody>\n",
       "</table>\n",
       "</div>"
      ],
      "text/plain": [
       "                      solic                    mail              lab exter  \\\n",
       "id                                                                           \n",
       "2                     Tania  tschepainski@gmail.com  Usuário Externo     x   \n",
       "6   Hálisson Tesseroli Miot    halissontm@gmail.com             LPEP     -   \n",
       "4                     Tania  tschepainski@gmail.com  Usuário Externo     .   \n",
       "5        Claudemir de Souza   claudemir.s@tecpar.br          VIROMOL     -   \n",
       "7           Camila Oliveira    halissontm@gmail.com             LPEP     -   \n",
       "\n",
       "      ling  num_ani time  total_time  doses         cep  cep_num_ani  id_orig  \\\n",
       "id                                                                              \n",
       "2   Balb/c        2  dia           3      2    83050140          666      666   \n",
       "6    Swiss        4  mes           2      5  0000000000          666       16   \n",
       "4   Balb/c        2  dia           2      2       81300          666      666   \n",
       "5    Swiss       11  dia          30      5      555555          666       14   \n",
       "7   Balb/c        6  mes           2      5  0000000000          666       50   \n",
       "\n",
       "    caix_est  id_fim   caix_exp  data_inicio  data_solic   data_forn  \\\n",
       "id                                                                     \n",
       "2        AAA     666        AAA   1421625600  1411391851         666   \n",
       "6   1-3-2-16     106  4-1-1-106   1412121600  1411583300  1412619416   \n",
       "4        AAA     666        AAA   1420070400  1411491911         666   \n",
       "5   1-2-7-14     113        NaN   1412899200  1411579273  1412620096   \n",
       "7   2-3-1-50     108  4-1-3-108   1412121600  1411583355  1412082161   \n",
       "\n",
       "      data_fim  \n",
       "id              \n",
       "2   1411392413  \n",
       "6   1418727743  \n",
       "4   1411491957  \n",
       "5   1422037389  \n",
       "7   1418727745  "
      ]
     },
     "execution_count": 7,
     "metadata": {},
     "output_type": "execute_result"
    }
   ],
   "source": [
    "#Dataframe contendo as informações referentes a pedidos\n",
    "\n",
    "pedido = pd.read_csv('../../tabelas_test/pedido_2019-06-18.csv', index_col='id')\n",
    "pedido.head()"
   ]
  },
  {
   "cell_type": "code",
   "execution_count": 8,
   "metadata": {},
   "outputs": [
    {
     "name": "stdout",
     "output_type": "stream",
     "text": [
      "1608: animais solicitados internamente\n"
     ]
    }
   ],
   "source": [
    "#Verificando a quantidade de animais solicitados de usuários internos.\n",
    "\n",
    "pedi_soma_int = pedido[pedido['lab'] != 'Usuário Externo']['num_ani'].sum()\n",
    "print(f'{pedi_soma_int}: animais solicitados internamente')"
   ]
  },
  {
   "cell_type": "code",
   "execution_count": 9,
   "metadata": {},
   "outputs": [
    {
     "data": {
      "text/plain": [
       "Balb/c       215\n",
       "Swiss         82\n",
       "C57BL/6       37\n",
       "S129KO        21\n",
       "C57BL06WT     15\n",
       "Swiss-2        9\n",
       "S129WT         6\n",
       "Swiss-1        3\n",
       "C3H            2\n",
       "AG129          2\n",
       "DBA/1J         1\n",
       "Name: ling, dtype: int64"
      ]
     },
     "execution_count": 9,
     "metadata": {},
     "output_type": "execute_result"
    }
   ],
   "source": [
    "#verificando a quantidade de entradas para cada linhagem\n",
    "\n",
    "pedido['ling'].value_counts()"
   ]
  },
  {
   "cell_type": "markdown",
   "metadata": {},
   "source": [
    "COMEÇA AQUI"
   ]
  },
  {
   "cell_type": "code",
   "execution_count": 47,
   "metadata": {},
   "outputs": [
    {
     "name": "stderr",
     "output_type": "stream",
     "text": [
      "/home/eloiza/anaconda3/lib/python3.7/site-packages/ipykernel_launcher.py:12: SettingWithCopyWarning: \n",
      "A value is trying to be set on a copy of a slice from a DataFrame.\n",
      "Try using .loc[row_indexer,col_indexer] = value instead\n",
      "\n",
      "See the caveats in the documentation: http://pandas.pydata.org/pandas-docs/stable/indexing.html#indexing-view-versus-copy\n",
      "  if sys.path[0] == '':\n"
     ]
    },
    {
     "data": {
      "text/html": [
       "<div>\n",
       "<style scoped>\n",
       "    .dataframe tbody tr th:only-of-type {\n",
       "        vertical-align: middle;\n",
       "    }\n",
       "\n",
       "    .dataframe tbody tr th {\n",
       "        vertical-align: top;\n",
       "    }\n",
       "\n",
       "    .dataframe thead th {\n",
       "        text-align: right;\n",
       "    }\n",
       "</style>\n",
       "<table border=\"1\" class=\"dataframe\">\n",
       "  <thead>\n",
       "    <tr style=\"text-align: right;\">\n",
       "      <th></th>\n",
       "      <th>solic</th>\n",
       "      <th>mail</th>\n",
       "      <th>lab</th>\n",
       "      <th>exter</th>\n",
       "      <th>ling</th>\n",
       "      <th>num_ani</th>\n",
       "      <th>time</th>\n",
       "      <th>total_time</th>\n",
       "      <th>doses</th>\n",
       "      <th>cep</th>\n",
       "      <th>cep_num_ani</th>\n",
       "      <th>id_orig</th>\n",
       "      <th>caix_est</th>\n",
       "      <th>id_fim</th>\n",
       "      <th>caix_exp</th>\n",
       "      <th>data_inicio</th>\n",
       "      <th>data_solic</th>\n",
       "      <th>data_forn</th>\n",
       "      <th>data_fim</th>\n",
       "    </tr>\n",
       "    <tr>\n",
       "      <th>id</th>\n",
       "      <th></th>\n",
       "      <th></th>\n",
       "      <th></th>\n",
       "      <th></th>\n",
       "      <th></th>\n",
       "      <th></th>\n",
       "      <th></th>\n",
       "      <th></th>\n",
       "      <th></th>\n",
       "      <th></th>\n",
       "      <th></th>\n",
       "      <th></th>\n",
       "      <th></th>\n",
       "      <th></th>\n",
       "      <th></th>\n",
       "      <th></th>\n",
       "      <th></th>\n",
       "      <th></th>\n",
       "      <th></th>\n",
       "    </tr>\n",
       "  </thead>\n",
       "  <tbody>\n",
       "    <tr>\n",
       "      <th>6</th>\n",
       "      <td>Hálisson Tesseroli Miot</td>\n",
       "      <td>halissontm@gmail.com</td>\n",
       "      <td>LPEP</td>\n",
       "      <td>-</td>\n",
       "      <td>Swiss</td>\n",
       "      <td>4</td>\n",
       "      <td>mes</td>\n",
       "      <td>2</td>\n",
       "      <td>5</td>\n",
       "      <td>0000000000</td>\n",
       "      <td>666</td>\n",
       "      <td>16</td>\n",
       "      <td>1-3-2-16</td>\n",
       "      <td>106</td>\n",
       "      <td>4-1-1-106</td>\n",
       "      <td>2014-10-01 00:00:00</td>\n",
       "      <td>2014-09-24 18:28:20</td>\n",
       "      <td>2014-10-06 18:16:56</td>\n",
       "      <td>2014-12-16 11:02:23</td>\n",
       "    </tr>\n",
       "    <tr>\n",
       "      <th>5</th>\n",
       "      <td>Claudemir de Souza</td>\n",
       "      <td>claudemir.s@tecpar.br</td>\n",
       "      <td>VIROMOL</td>\n",
       "      <td>-</td>\n",
       "      <td>Swiss</td>\n",
       "      <td>11</td>\n",
       "      <td>dia</td>\n",
       "      <td>30</td>\n",
       "      <td>5</td>\n",
       "      <td>555555</td>\n",
       "      <td>666</td>\n",
       "      <td>14</td>\n",
       "      <td>1-2-7-14</td>\n",
       "      <td>113</td>\n",
       "      <td>NaN</td>\n",
       "      <td>2014-10-10 00:00:00</td>\n",
       "      <td>2014-09-24 17:21:13</td>\n",
       "      <td>2014-10-06 18:28:16</td>\n",
       "      <td>2015-01-23 18:23:09</td>\n",
       "    </tr>\n",
       "    <tr>\n",
       "      <th>7</th>\n",
       "      <td>Camila Oliveira</td>\n",
       "      <td>halissontm@gmail.com</td>\n",
       "      <td>LPEP</td>\n",
       "      <td>-</td>\n",
       "      <td>Balb/c</td>\n",
       "      <td>6</td>\n",
       "      <td>mes</td>\n",
       "      <td>2</td>\n",
       "      <td>5</td>\n",
       "      <td>0000000000</td>\n",
       "      <td>666</td>\n",
       "      <td>50</td>\n",
       "      <td>2-3-1-50</td>\n",
       "      <td>108</td>\n",
       "      <td>4-1-3-108</td>\n",
       "      <td>2014-10-01 00:00:00</td>\n",
       "      <td>2014-09-24 18:29:15</td>\n",
       "      <td>2014-09-30 13:02:41</td>\n",
       "      <td>2014-12-16 11:02:25</td>\n",
       "    </tr>\n",
       "    <tr>\n",
       "      <th>8</th>\n",
       "      <td>Eloise P. G. Slompo</td>\n",
       "      <td>epgslompo@tecpar.br</td>\n",
       "      <td>LPEP</td>\n",
       "      <td>-</td>\n",
       "      <td>Swiss</td>\n",
       "      <td>3</td>\n",
       "      <td>mes</td>\n",
       "      <td>3</td>\n",
       "      <td>5</td>\n",
       "      <td>A confirmar</td>\n",
       "      <td>666</td>\n",
       "      <td>196</td>\n",
       "      <td>5-7-8-196</td>\n",
       "      <td>107</td>\n",
       "      <td>4-1-2-107</td>\n",
       "      <td>2014-10-24 00:00:00</td>\n",
       "      <td>2014-09-26 19:56:40</td>\n",
       "      <td>2014-09-29 19:21:29</td>\n",
       "      <td>2014-12-03 12:23:33</td>\n",
       "    </tr>\n",
       "    <tr>\n",
       "      <th>24</th>\n",
       "      <td>Fabíola Barbieri Holetz</td>\n",
       "      <td>biaholetz@gmail.com</td>\n",
       "      <td>LABREG</td>\n",
       "      <td>-</td>\n",
       "      <td>Swiss</td>\n",
       "      <td>2</td>\n",
       "      <td>dia</td>\n",
       "      <td>2</td>\n",
       "      <td>0</td>\n",
       "      <td>LW-15/13</td>\n",
       "      <td>666</td>\n",
       "      <td>701017</td>\n",
       "      <td>1-1-7-7&lt;br /&gt;1-1-7-7</td>\n",
       "      <td>1150101115</td>\n",
       "      <td>&lt;br /&gt;4-2-3-115</td>\n",
       "      <td>2014-11-28 05:00:00</td>\n",
       "      <td>2014-11-25 19:23:08</td>\n",
       "      <td>2014-12-03 12:14:51</td>\n",
       "      <td>2015-01-23 18:29:01</td>\n",
       "    </tr>\n",
       "  </tbody>\n",
       "</table>\n",
       "</div>"
      ],
      "text/plain": [
       "                      solic                   mail      lab exter    ling  \\\n",
       "id                                                                          \n",
       "6   Hálisson Tesseroli Miot   halissontm@gmail.com     LPEP     -   Swiss   \n",
       "5        Claudemir de Souza  claudemir.s@tecpar.br  VIROMOL     -   Swiss   \n",
       "7           Camila Oliveira   halissontm@gmail.com     LPEP     -  Balb/c   \n",
       "8       Eloise P. G. Slompo    epgslompo@tecpar.br     LPEP     -   Swiss   \n",
       "24  Fabíola Barbieri Holetz    biaholetz@gmail.com   LABREG     -   Swiss   \n",
       "\n",
       "    num_ani time  total_time  doses          cep  cep_num_ani  id_orig  \\\n",
       "id                                                                       \n",
       "6         4  mes           2      5   0000000000          666       16   \n",
       "5        11  dia          30      5       555555          666       14   \n",
       "7         6  mes           2      5   0000000000          666       50   \n",
       "8         3  mes           3      5  A confirmar          666      196   \n",
       "24        2  dia           2      0     LW-15/13          666   701017   \n",
       "\n",
       "                caix_est      id_fim         caix_exp         data_inicio  \\\n",
       "id                                                                          \n",
       "6               1-3-2-16         106        4-1-1-106 2014-10-01 00:00:00   \n",
       "5               1-2-7-14         113              NaN 2014-10-10 00:00:00   \n",
       "7               2-3-1-50         108        4-1-3-108 2014-10-01 00:00:00   \n",
       "8              5-7-8-196         107        4-1-2-107 2014-10-24 00:00:00   \n",
       "24  1-1-7-7<br />1-1-7-7  1150101115  <br />4-2-3-115 2014-11-28 05:00:00   \n",
       "\n",
       "            data_solic           data_forn            data_fim  \n",
       "id                                                              \n",
       "6  2014-09-24 18:28:20 2014-10-06 18:16:56 2014-12-16 11:02:23  \n",
       "5  2014-09-24 17:21:13 2014-10-06 18:28:16 2015-01-23 18:23:09  \n",
       "7  2014-09-24 18:29:15 2014-09-30 13:02:41 2014-12-16 11:02:25  \n",
       "8  2014-09-26 19:56:40 2014-09-29 19:21:29 2014-12-03 12:23:33  \n",
       "24 2014-11-25 19:23:08 2014-12-03 12:14:51 2015-01-23 18:29:01  "
      ]
     },
     "execution_count": 47,
     "metadata": {},
     "output_type": "execute_result"
    }
   ],
   "source": [
    "#Criando uma variável para receber o filtro só de usuários internos\n",
    "pedidos_int = pedido[(pedido['lab'] != 'Usuário Externo') &\n",
    "              (pedido['lab'] != 'Teste') &\n",
    "               (pedido['lab'] != 'Imunova')]\n",
    "\n",
    "#+++++++++++++++++++++++++++++++++++++++++++++++++++++++++++++++++++++++++++++++++++++++++++++++++++++++\n",
    "#Transformando todas as datas\n",
    "\n",
    "datas = ['data_inicio', 'data_solic', 'data_forn', 'data_fim']\n",
    "\n",
    "for d in datas:\n",
    "    pedidos_int[d] = pd.to_datetime(pedidos_int[d], unit = 's') #indica o formato das datas\n",
    "    \n",
    "pedidos_int.head()\n",
    "#pedidos_int[pedidos_int['ling'] == 'C3H']"
   ]
  },
  {
   "cell_type": "code",
   "execution_count": 48,
   "metadata": {},
   "outputs": [
    {
     "data": {
      "text/plain": [
       "Balb/c     128\n",
       "Swiss       50\n",
       "Swiss-2      9\n",
       "S129KO       7\n",
       "Swiss-1      3\n",
       "C57BL/6      3\n",
       "AG129        2\n",
       "DBA/1J       1\n",
       "Name: ling, dtype: int64"
      ]
     },
     "execution_count": 48,
     "metadata": {},
     "output_type": "execute_result"
    }
   ],
   "source": [
    "pedidos_int['ling'].value_counts()"
   ]
  },
  {
   "cell_type": "code",
   "execution_count": 49,
   "metadata": {},
   "outputs": [
    {
     "name": "stderr",
     "output_type": "stream",
     "text": [
      "/home/eloiza/anaconda3/lib/python3.7/site-packages/pandas/core/generic.py:5890: SettingWithCopyWarning: \n",
      "A value is trying to be set on a copy of a slice from a DataFrame\n",
      "\n",
      "See the caveats in the documentation: http://pandas.pydata.org/pandas-docs/stable/indexing.html#indexing-view-versus-copy\n",
      "  self._update_inplace(new_data)\n"
     ]
    },
    {
     "data": {
      "text/plain": [
       "Balb/c     128\n",
       "Swiss       62\n",
       "S129KO       7\n",
       "C57BL/6      3\n",
       "AG129        2\n",
       "DBA/1J       1\n",
       "Name: ling, dtype: int64"
      ]
     },
     "execution_count": 49,
     "metadata": {},
     "output_type": "execute_result"
    }
   ],
   "source": [
    "pedidos_int['ling'].replace(['Swiss-1', 'Swiss-2'],'Swiss' ,inplace=True)\n",
    "pedidos_int['ling'].value_counts()"
   ]
  },
  {
   "cell_type": "code",
   "execution_count": 50,
   "metadata": {},
   "outputs": [
    {
     "name": "stdout",
     "output_type": "stream",
     "text": [
      "368: total de animais heterogênicos solicitações internas\n"
     ]
    }
   ],
   "source": [
    "ped_heter_int = pedidos_int[pedidos_int['ling'] == 'Swiss']['num_ani'].sum()\n",
    "print(f'{ped_heter_int}: total de animais heterogênicos solicitações internas')"
   ]
  },
  {
   "cell_type": "code",
   "execution_count": 51,
   "metadata": {},
   "outputs": [
    {
     "data": {
      "text/html": [
       "<div>\n",
       "<style scoped>\n",
       "    .dataframe tbody tr th:only-of-type {\n",
       "        vertical-align: middle;\n",
       "    }\n",
       "\n",
       "    .dataframe tbody tr th {\n",
       "        vertical-align: top;\n",
       "    }\n",
       "\n",
       "    .dataframe thead th {\n",
       "        text-align: right;\n",
       "    }\n",
       "</style>\n",
       "<table border=\"1\" class=\"dataframe\">\n",
       "  <thead>\n",
       "    <tr style=\"text-align: right;\">\n",
       "      <th></th>\n",
       "      <th>num_ani</th>\n",
       "      <th>total_time</th>\n",
       "      <th>doses</th>\n",
       "      <th>cep_num_ani</th>\n",
       "      <th>id_orig</th>\n",
       "      <th>id_fim</th>\n",
       "    </tr>\n",
       "    <tr>\n",
       "      <th>lab</th>\n",
       "      <th></th>\n",
       "      <th></th>\n",
       "      <th></th>\n",
       "      <th></th>\n",
       "      <th></th>\n",
       "      <th></th>\n",
       "    </tr>\n",
       "  </thead>\n",
       "  <tbody>\n",
       "    <tr>\n",
       "      <th>BIOMOLTRIP</th>\n",
       "      <td>224</td>\n",
       "      <td>156</td>\n",
       "      <td>193</td>\n",
       "      <td>22560</td>\n",
       "      <td>6869968961</td>\n",
       "      <td>13190353124</td>\n",
       "    </tr>\n",
       "    <tr>\n",
       "      <th>IBMP</th>\n",
       "      <td>10</td>\n",
       "      <td>1</td>\n",
       "      <td>1</td>\n",
       "      <td>490</td>\n",
       "      <td>1950101194</td>\n",
       "      <td>11010112</td>\n",
       "    </tr>\n",
       "    <tr>\n",
       "      <th>LABCET</th>\n",
       "      <td>1</td>\n",
       "      <td>1</td>\n",
       "      <td>1</td>\n",
       "      <td>240</td>\n",
       "      <td>666</td>\n",
       "      <td>666</td>\n",
       "    </tr>\n",
       "    <tr>\n",
       "      <th>LABGEN</th>\n",
       "      <td>227</td>\n",
       "      <td>347</td>\n",
       "      <td>47</td>\n",
       "      <td>8889</td>\n",
       "      <td>12886005479</td>\n",
       "      <td>4317689676</td>\n",
       "    </tr>\n",
       "    <tr>\n",
       "      <th>LABREG</th>\n",
       "      <td>425</td>\n",
       "      <td>998</td>\n",
       "      <td>289</td>\n",
       "      <td>35981</td>\n",
       "      <td>36728317470</td>\n",
       "      <td>21865725303</td>\n",
       "    </tr>\n",
       "    <tr>\n",
       "      <th>LBC</th>\n",
       "      <td>98</td>\n",
       "      <td>78</td>\n",
       "      <td>21</td>\n",
       "      <td>6294</td>\n",
       "      <td>8747957126</td>\n",
       "      <td>2043</td>\n",
       "    </tr>\n",
       "    <tr>\n",
       "      <th>LBL</th>\n",
       "      <td>21</td>\n",
       "      <td>24</td>\n",
       "      <td>35</td>\n",
       "      <td>4662</td>\n",
       "      <td>36010396</td>\n",
       "      <td>1140101793</td>\n",
       "    </tr>\n",
       "    <tr>\n",
       "      <th>LPEP</th>\n",
       "      <td>212</td>\n",
       "      <td>117</td>\n",
       "      <td>153</td>\n",
       "      <td>8430</td>\n",
       "      <td>19382374703</td>\n",
       "      <td>3297589337</td>\n",
       "    </tr>\n",
       "    <tr>\n",
       "      <th>VIROMOL</th>\n",
       "      <td>383</td>\n",
       "      <td>286</td>\n",
       "      <td>104</td>\n",
       "      <td>8920</td>\n",
       "      <td>18323399392</td>\n",
       "      <td>10787438370</td>\n",
       "    </tr>\n",
       "  </tbody>\n",
       "</table>\n",
       "</div>"
      ],
      "text/plain": [
       "            num_ani  total_time  doses  cep_num_ani      id_orig       id_fim\n",
       "lab                                                                          \n",
       "BIOMOLTRIP      224         156    193        22560   6869968961  13190353124\n",
       "IBMP             10           1      1          490   1950101194     11010112\n",
       "LABCET            1           1      1          240          666          666\n",
       "LABGEN          227         347     47         8889  12886005479   4317689676\n",
       "LABREG          425         998    289        35981  36728317470  21865725303\n",
       "LBC              98          78     21         6294   8747957126         2043\n",
       "LBL              21          24     35         4662     36010396   1140101793\n",
       "LPEP            212         117    153         8430  19382374703   3297589337\n",
       "VIROMOL         383         286    104         8920  18323399392  10787438370"
      ]
     },
     "execution_count": 51,
     "metadata": {},
     "output_type": "execute_result"
    }
   ],
   "source": [
    "inte = pedidos_int.groupby('lab')\n",
    "inte.sum()"
   ]
  },
  {
   "cell_type": "code",
   "execution_count": 52,
   "metadata": {},
   "outputs": [
    {
     "data": {
      "text/plain": [
       "LABREG        60\n",
       "BIOMOLTRIP    48\n",
       "VIROMOL       34\n",
       "LPEP          21\n",
       "LABGEN        16\n",
       "LBC           15\n",
       "LBL            7\n",
       "IBMP           1\n",
       "LABCET         1\n",
       "Name: lab, dtype: int64"
      ]
     },
     "execution_count": 52,
     "metadata": {},
     "output_type": "execute_result"
    }
   ],
   "source": [
    "pedidos_int['lab'].value_counts()"
   ]
  },
  {
   "cell_type": "code",
   "execution_count": 55,
   "metadata": {},
   "outputs": [
    {
     "data": {
      "image/png": "[encoded data removed]",
      "text/plain": [
       "<Figure size 720x360 with 1 Axes>"
      ]
     },
     "metadata": {
      "needs_background": "light"
     },
     "output_type": "display_data"
    }
   ],
   "source": [
    "plt.figure(figsize=(10,5))\n",
    "plt.title('Laboratórios de Usuários Internos - ICC')\n",
    "\n",
    "plot = pedidos_int.groupby('lab')\n",
    "plot['num_ani'].sum().sort_values(ascending=True).plot(\n",
    "kind='barh'\n",
    ")\n",
    "plt.xlabel('Número de Animais') #definindo nome do eixo X\n",
    "plt.ylabel('Laboratórios') #definindo nome do eixo Y\n",
    "#+++++++++++++++++++++++++++++++++++++++++++++++++++++++++++++++++++++++++++++++++++++++++++++++++++++++++++++++++++++++++++++++++++++++++++++++++++++++\n",
    "#Salvando os gráficos\n",
    "plt.savefig(\n",
    "    fname=\"../../resultados/labs_int_I.png\", #pasta e nome do arquivo onde vai ser salvo\n",
    "    bbox_inches='tight', #função que deixa o gráfico mais próxima da margem\n",
    "    dpi=150, #numero de pixels da imagem?\n",
    "    transparent=True #deixar o gráfico transparente\n",
    ")"
   ]
  },
  {
   "cell_type": "code",
   "execution_count": 54,
   "metadata": {},
   "outputs": [
    {
     "data": {
      "text/html": [
       "<div>\n",
       "<style scoped>\n",
       "    .dataframe tbody tr th:only-of-type {\n",
       "        vertical-align: middle;\n",
       "    }\n",
       "\n",
       "    .dataframe tbody tr th {\n",
       "        vertical-align: top;\n",
       "    }\n",
       "\n",
       "    .dataframe thead th {\n",
       "        text-align: right;\n",
       "    }\n",
       "</style>\n",
       "<table border=\"1\" class=\"dataframe\">\n",
       "  <thead>\n",
       "    <tr style=\"text-align: right;\">\n",
       "      <th></th>\n",
       "      <th>num_ani</th>\n",
       "      <th>total_time</th>\n",
       "      <th>doses</th>\n",
       "      <th>cep_num_ani</th>\n",
       "      <th>id_orig</th>\n",
       "      <th>id_fim</th>\n",
       "    </tr>\n",
       "    <tr>\n",
       "      <th>ling</th>\n",
       "      <th></th>\n",
       "      <th></th>\n",
       "      <th></th>\n",
       "      <th></th>\n",
       "      <th></th>\n",
       "      <th></th>\n",
       "    </tr>\n",
       "  </thead>\n",
       "  <tbody>\n",
       "    <tr>\n",
       "      <th>Balb/c</th>\n",
       "      <td>962</td>\n",
       "      <td>1302</td>\n",
       "      <td>601</td>\n",
       "      <td>53782</td>\n",
       "      <td>64343007450</td>\n",
       "      <td>29428293888</td>\n",
       "    </tr>\n",
       "    <tr>\n",
       "      <th>S129KO</th>\n",
       "      <td>202</td>\n",
       "      <td>26</td>\n",
       "      <td>7</td>\n",
       "      <td>1957</td>\n",
       "      <td>10737819434</td>\n",
       "      <td>2197494220</td>\n",
       "    </tr>\n",
       "    <tr>\n",
       "      <th>Swiss</th>\n",
       "      <td>368</td>\n",
       "      <td>608</td>\n",
       "      <td>216</td>\n",
       "      <td>38437</td>\n",
       "      <td>25745721404</td>\n",
       "      <td>22973109512</td>\n",
       "    </tr>\n",
       "  </tbody>\n",
       "</table>\n",
       "</div>"
      ],
      "text/plain": [
       "        num_ani  total_time  doses  cep_num_ani      id_orig       id_fim\n",
       "ling                                                                     \n",
       "Balb/c      962        1302    601        53782  64343007450  29428293888\n",
       "S129KO      202          26      7         1957  10737819434   2197494220\n",
       "Swiss       368         608    216        38437  25745721404  22973109512"
      ]
     },
     "execution_count": 54,
     "metadata": {},
     "output_type": "execute_result"
    }
   ],
   "source": [
    "ling_mais_soli_ano = ['Balb/c','Swiss','S129KO']\n",
    "\n",
    "g_ling_mais_ped_in = pedidos_int[pedidos_int['ling'].isin(ling_mais_soli_ano)].groupby('ling')\n",
    "lin_mais_ped_in = g_ling_mais_ped_in.sum()\n",
    "lin_mais_ped_in"
   ]
  },
  {
   "cell_type": "code",
   "execution_count": 64,
   "metadata": {},
   "outputs": [
    {
     "data": {
      "image/png": "[encoded data removed]",
      "text/plain": [
       "<Figure size 720x360 with 1 Axes>"
      ]
     },
     "metadata": {
      "needs_background": "light"
     },
     "output_type": "display_data"
    }
   ],
   "source": [
    "plt.figure(figsize=(10,5))\n",
    "plt.title('Linhagens com mais Solicitações Internas')\n",
    "\n",
    "plot = lin_mais_ped_in.groupby('ling')\n",
    "plot['num_ani'].sum().sort_values(ascending=True).plot(\n",
    "kind='barh'\n",
    "\n",
    ")\n",
    "plt.xlabel('Número de Animais') #definindo nome do eixo X\n",
    "plt.ylabel('Linhagens') #definindo nome do eixo Y\n",
    "#+++++++++++++++++++++++++++++++++++++++++++++++++++++++++++++++++++++++++++++++++++++++++++++++++++++++++++++++++++++++++++++++++++++++++++++++++++++++\n",
    "#Salvando os gráficos\n",
    "plt.savefig(\n",
    "    fname=\"../../resultados/animais_mais_int_I.png\", #pasta e nome do arquivo onde vai ser salvo\n",
    "    bbox_inches='tight', #função que deixa o gráfico mais próxima da margem\n",
    "    dpi=150, #numero de pixels da imagem?\n",
    "    transparent=True #deixar o gráfico transparente\n",
    ")"
   ]
  },
  {
   "cell_type": "code",
   "execution_count": 12,
   "metadata": {},
   "outputs": [
    {
     "data": {
      "text/html": [
       "<div>\n",
       "<style scoped>\n",
       "    .dataframe tbody tr th:only-of-type {\n",
       "        vertical-align: middle;\n",
       "    }\n",
       "\n",
       "    .dataframe tbody tr th {\n",
       "        vertical-align: top;\n",
       "    }\n",
       "\n",
       "    .dataframe thead th {\n",
       "        text-align: right;\n",
       "    }\n",
       "</style>\n",
       "<table border=\"1\" class=\"dataframe\">\n",
       "  <thead>\n",
       "    <tr style=\"text-align: right;\">\n",
       "      <th></th>\n",
       "      <th>num_ani</th>\n",
       "      <th>total_time</th>\n",
       "      <th>doses</th>\n",
       "      <th>cep_num_ani</th>\n",
       "      <th>id_orig</th>\n",
       "      <th>id_fim</th>\n",
       "    </tr>\n",
       "    <tr>\n",
       "      <th>ling</th>\n",
       "      <th></th>\n",
       "      <th></th>\n",
       "      <th></th>\n",
       "      <th></th>\n",
       "      <th></th>\n",
       "      <th></th>\n",
       "    </tr>\n",
       "  </thead>\n",
       "  <tbody>\n",
       "    <tr>\n",
       "      <th>AG129</th>\n",
       "      <td>34</td>\n",
       "      <td>42</td>\n",
       "      <td>2</td>\n",
       "      <td>228</td>\n",
       "      <td>1332</td>\n",
       "      <td>1332</td>\n",
       "    </tr>\n",
       "    <tr>\n",
       "      <th>C57BL/6</th>\n",
       "      <td>25</td>\n",
       "      <td>29</td>\n",
       "      <td>17</td>\n",
       "      <td>1572</td>\n",
       "      <td>2147484573</td>\n",
       "      <td>1360</td>\n",
       "    </tr>\n",
       "    <tr>\n",
       "      <th>DBA/1J</th>\n",
       "      <td>10</td>\n",
       "      <td>1</td>\n",
       "      <td>1</td>\n",
       "      <td>490</td>\n",
       "      <td>1950101194</td>\n",
       "      <td>11010112</td>\n",
       "    </tr>\n",
       "  </tbody>\n",
       "</table>\n",
       "</div>"
      ],
      "text/plain": [
       "         num_ani  total_time  doses  cep_num_ani     id_orig    id_fim\n",
       "ling                                                                  \n",
       "AG129         34          42      2          228        1332      1332\n",
       "C57BL/6       25          29     17         1572  2147484573      1360\n",
       "DBA/1J        10           1      1          490  1950101194  11010112"
      ]
     },
     "execution_count": 12,
     "metadata": {},
     "output_type": "execute_result"
    }
   ],
   "source": [
    "ling_menos_soli_ano = ['AG129', 'C57BL/6', 'DBA/1J' ]\n",
    "\n",
    "g_ling_menos_ped_int = pedidos_int[pedidos_int['ling'].isin(ling_menos_soli_ano)].groupby('ling')\n",
    "lin_menos_ped_int = g_ling_menos_ped_int.sum()\n",
    "lin_menos_ped_int"
   ]
  },
  {
   "cell_type": "code",
   "execution_count": 13,
   "metadata": {},
   "outputs": [
    {
     "data": {
      "image/png": "[encoded data removed]",
      "text/plain": [
       "<Figure size 720x360 with 1 Axes>"
      ]
     },
     "metadata": {
      "needs_background": "light"
     },
     "output_type": "display_data"
    }
   ],
   "source": [
    "plt.figure(figsize=(10,5))\n",
    "plt.title('Linhagens com menos Solicitações Internas')\n",
    "\n",
    "plot = lin_menos_ped_int.groupby('ling')\n",
    "plot['num_ani'].sum().sort_values(ascending=True).plot(\n",
    "kind='barh'\n",
    "\n",
    ")\n",
    "plt.xlabel('Número de Animais') #definindo nome do eixo X\n",
    "plt.ylabel('Linhagens') #definindo nome do eixo Y\n",
    "#+++++++++++++++++++++++++++++++++++++++++++++++++++++++++++++++++++++++++++++++++++++++++++++++++++++++++++++++++++++++++++++++++++++++++++++++++++++++\n",
    "#Salvando os gráficos\n",
    "plt.savefig(\n",
    "    fname=\"../../resultados/animais_menos_int_I.png\", #pasta e nome do arquivo onde vai ser salvo\n",
    "    bbox_inches='tight', #função que deixa o gráfico mais próxima da margem\n",
    "    dpi=150, #numero de pixels da imagem?\n",
    "    transparent=True #deixar o gráfico transparente\n",
    ")"
   ]
  },
  {
   "cell_type": "code",
   "execution_count": 34,
   "metadata": {},
   "outputs": [
    {
     "data": {
      "text/html": [
       "<div>\n",
       "<style scoped>\n",
       "    .dataframe tbody tr th:only-of-type {\n",
       "        vertical-align: middle;\n",
       "    }\n",
       "\n",
       "    .dataframe tbody tr th {\n",
       "        vertical-align: top;\n",
       "    }\n",
       "\n",
       "    .dataframe thead th {\n",
       "        text-align: right;\n",
       "    }\n",
       "</style>\n",
       "<table border=\"1\" class=\"dataframe\">\n",
       "  <thead>\n",
       "    <tr style=\"text-align: right;\">\n",
       "      <th></th>\n",
       "      <th>solic</th>\n",
       "      <th>mail</th>\n",
       "      <th>lab</th>\n",
       "      <th>exter</th>\n",
       "      <th>ling</th>\n",
       "      <th>num_ani</th>\n",
       "      <th>time</th>\n",
       "      <th>total_time</th>\n",
       "      <th>doses</th>\n",
       "      <th>cep</th>\n",
       "      <th>cep_num_ani</th>\n",
       "      <th>id_orig</th>\n",
       "      <th>caix_est</th>\n",
       "      <th>id_fim</th>\n",
       "      <th>caix_exp</th>\n",
       "      <th>data_inicio</th>\n",
       "      <th>data_solic</th>\n",
       "      <th>data_forn</th>\n",
       "      <th>data_fim</th>\n",
       "    </tr>\n",
       "    <tr>\n",
       "      <th>id</th>\n",
       "      <th></th>\n",
       "      <th></th>\n",
       "      <th></th>\n",
       "      <th></th>\n",
       "      <th></th>\n",
       "      <th></th>\n",
       "      <th></th>\n",
       "      <th></th>\n",
       "      <th></th>\n",
       "      <th></th>\n",
       "      <th></th>\n",
       "      <th></th>\n",
       "      <th></th>\n",
       "      <th></th>\n",
       "      <th></th>\n",
       "      <th></th>\n",
       "      <th></th>\n",
       "      <th></th>\n",
       "      <th></th>\n",
       "    </tr>\n",
       "  </thead>\n",
       "  <tbody>\n",
       "    <tr>\n",
       "      <th>284</th>\n",
       "      <td>Caroline de Moraes de Siqueira</td>\n",
       "      <td>Carol.moraes.siqueira@gmail.com</td>\n",
       "      <td>LABREG</td>\n",
       "      <td>-</td>\n",
       "      <td>Swiss</td>\n",
       "      <td>3</td>\n",
       "      <td>dia</td>\n",
       "      <td>45</td>\n",
       "      <td>3</td>\n",
       "      <td>LW-34/16</td>\n",
       "      <td>100</td>\n",
       "      <td>18</td>\n",
       "      <td>1-18</td>\n",
       "      <td>369</td>\n",
       "      <td>7-33</td>\n",
       "      <td>2018-04-23 03:00:00</td>\n",
       "      <td>2018-04-18 10:53:08</td>\n",
       "      <td>2018-04-19 13:57:54</td>\n",
       "      <td>2018-06-21 15:19:35</td>\n",
       "    </tr>\n",
       "    <tr>\n",
       "      <th>292</th>\n",
       "      <td>Kamille Schmitt Pereira</td>\n",
       "      <td>kami.schmitt@gmail.com</td>\n",
       "      <td>BIOMOLTRIP</td>\n",
       "      <td>-</td>\n",
       "      <td>Swiss</td>\n",
       "      <td>6</td>\n",
       "      <td>mes</td>\n",
       "      <td>2</td>\n",
       "      <td>4</td>\n",
       "      <td>LW-34/16</td>\n",
       "      <td>100</td>\n",
       "      <td>37010136</td>\n",
       "      <td>1-37&lt;br /&gt;1-36</td>\n",
       "      <td>362</td>\n",
       "      <td>7-26</td>\n",
       "      <td>2018-05-08 03:00:00</td>\n",
       "      <td>2018-05-07 11:14:15</td>\n",
       "      <td>2018-05-18 12:54:12</td>\n",
       "      <td>2018-07-26 14:18:56</td>\n",
       "    </tr>\n",
       "    <tr>\n",
       "      <th>293</th>\n",
       "      <td>Andreia Akemi Suzukawa</td>\n",
       "      <td>andreia.suzukawa@fiocruz.br</td>\n",
       "      <td>VIROMOL</td>\n",
       "      <td>-</td>\n",
       "      <td>Swiss</td>\n",
       "      <td>16</td>\n",
       "      <td>dia</td>\n",
       "      <td>15</td>\n",
       "      <td>1</td>\n",
       "      <td>LW-2/17</td>\n",
       "      <td>90</td>\n",
       "      <td>2147483647</td>\n",
       "      <td>2-54&lt;br /&gt;2-53&lt;br /&gt;2-50&lt;</td>\n",
       "      <td>361</td>\n",
       "      <td>7-25</td>\n",
       "      <td>2018-06-04 03:00:00</td>\n",
       "      <td>2018-05-09 14:48:40</td>\n",
       "      <td>2018-05-30 13:48:42</td>\n",
       "      <td>2018-06-28 17:47:35</td>\n",
       "    </tr>\n",
       "    <tr>\n",
       "      <th>296</th>\n",
       "      <td>JAQUELINE DE OLIVEIRA ROSA</td>\n",
       "      <td>jaquedeoliveirarosa@gmail.com</td>\n",
       "      <td>BIOMOLTRIP</td>\n",
       "      <td>-</td>\n",
       "      <td>Swiss</td>\n",
       "      <td>6</td>\n",
       "      <td>mes</td>\n",
       "      <td>2</td>\n",
       "      <td>4</td>\n",
       "      <td>LW-34/16</td>\n",
       "      <td>100</td>\n",
       "      <td>34010133</td>\n",
       "      <td>1-34&lt;br /&gt;1-33</td>\n",
       "      <td>378</td>\n",
       "      <td>7-42</td>\n",
       "      <td>2018-05-23 03:00:00</td>\n",
       "      <td>2018-05-23 19:00:08</td>\n",
       "      <td>2018-05-29 14:37:25</td>\n",
       "      <td>2018-07-23 17:22:39</td>\n",
       "    </tr>\n",
       "    <tr>\n",
       "      <th>331</th>\n",
       "      <td>Flavia Souza Morini</td>\n",
       "      <td>bioflavia@gmail.com</td>\n",
       "      <td>LABGEN</td>\n",
       "      <td>-</td>\n",
       "      <td>Swiss</td>\n",
       "      <td>5</td>\n",
       "      <td>dia</td>\n",
       "      <td>30</td>\n",
       "      <td>4</td>\n",
       "      <td>LW-34/16</td>\n",
       "      <td>100</td>\n",
       "      <td>666</td>\n",
       "      <td>AAA</td>\n",
       "      <td>666</td>\n",
       "      <td>AAA</td>\n",
       "      <td>2018-11-22 02:00:00</td>\n",
       "      <td>2018-11-21 17:49:19</td>\n",
       "      <td>1970-01-01 00:11:06</td>\n",
       "      <td>2018-11-23 18:05:56</td>\n",
       "    </tr>\n",
       "  </tbody>\n",
       "</table>\n",
       "</div>"
      ],
      "text/plain": [
       "                              solic                             mail  \\\n",
       "id                                                                     \n",
       "284  Caroline de Moraes de Siqueira  Carol.moraes.siqueira@gmail.com   \n",
       "292         Kamille Schmitt Pereira           kami.schmitt@gmail.com   \n",
       "293          Andreia Akemi Suzukawa      andreia.suzukawa@fiocruz.br   \n",
       "296      JAQUELINE DE OLIVEIRA ROSA    jaquedeoliveirarosa@gmail.com   \n",
       "331             Flavia Souza Morini              bioflavia@gmail.com   \n",
       "\n",
       "            lab exter   ling  num_ani time  total_time  doses       cep  \\\n",
       "id                                                                        \n",
       "284      LABREG     -  Swiss        3  dia          45      3  LW-34/16   \n",
       "292  BIOMOLTRIP     -  Swiss        6  mes           2      4  LW-34/16   \n",
       "293     VIROMOL     -  Swiss       16  dia          15      1   LW-2/17   \n",
       "296  BIOMOLTRIP     -  Swiss        6  mes           2      4  LW-34/16   \n",
       "331      LABGEN     -  Swiss        5  dia          30      4  LW-34/16   \n",
       "\n",
       "     cep_num_ani     id_orig                   caix_est  id_fim caix_exp  \\\n",
       "id                                                                         \n",
       "284          100          18                       1-18     369     7-33   \n",
       "292          100    37010136             1-37<br />1-36     362     7-26   \n",
       "293           90  2147483647  2-54<br />2-53<br />2-50<     361     7-25   \n",
       "296          100    34010133             1-34<br />1-33     378     7-42   \n",
       "331          100         666                        AAA     666      AAA   \n",
       "\n",
       "            data_inicio          data_solic           data_forn  \\\n",
       "id                                                                \n",
       "284 2018-04-23 03:00:00 2018-04-18 10:53:08 2018-04-19 13:57:54   \n",
       "292 2018-05-08 03:00:00 2018-05-07 11:14:15 2018-05-18 12:54:12   \n",
       "293 2018-06-04 03:00:00 2018-05-09 14:48:40 2018-05-30 13:48:42   \n",
       "296 2018-05-23 03:00:00 2018-05-23 19:00:08 2018-05-29 14:37:25   \n",
       "331 2018-11-22 02:00:00 2018-11-21 17:49:19 1970-01-01 00:11:06   \n",
       "\n",
       "               data_fim  \n",
       "id                       \n",
       "284 2018-06-21 15:19:35  \n",
       "292 2018-07-26 14:18:56  \n",
       "293 2018-06-28 17:47:35  \n",
       "296 2018-07-23 17:22:39  \n",
       "331 2018-11-23 18:05:56  "
      ]
     },
     "execution_count": 34,
     "metadata": {},
     "output_type": "execute_result"
    }
   ],
   "source": [
    "pedidos_int[pedidos_int['ling'] == 'Swiss'].tail()"
   ]
  },
  {
   "cell_type": "code",
   "execution_count": 43,
   "metadata": {},
   "outputs": [],
   "source": [
    "ling = pedidos_int[pedidos_int['ling'] == 'AG129']"
   ]
  },
  {
   "cell_type": "code",
   "execution_count": 44,
   "metadata": {},
   "outputs": [
    {
     "data": {
      "text/html": [
       "<div>\n",
       "<style scoped>\n",
       "    .dataframe tbody tr th:only-of-type {\n",
       "        vertical-align: middle;\n",
       "    }\n",
       "\n",
       "    .dataframe tbody tr th {\n",
       "        vertical-align: top;\n",
       "    }\n",
       "\n",
       "    .dataframe thead th {\n",
       "        text-align: right;\n",
       "    }\n",
       "</style>\n",
       "<table border=\"1\" class=\"dataframe\">\n",
       "  <thead>\n",
       "    <tr style=\"text-align: right;\">\n",
       "      <th></th>\n",
       "      <th>num_ani</th>\n",
       "      <th>total_time</th>\n",
       "      <th>doses</th>\n",
       "      <th>cep_num_ani</th>\n",
       "      <th>id_orig</th>\n",
       "      <th>id_fim</th>\n",
       "    </tr>\n",
       "    <tr>\n",
       "      <th>lab</th>\n",
       "      <th></th>\n",
       "      <th></th>\n",
       "      <th></th>\n",
       "      <th></th>\n",
       "      <th></th>\n",
       "      <th></th>\n",
       "    </tr>\n",
       "  </thead>\n",
       "  <tbody>\n",
       "    <tr>\n",
       "      <th>VIROMOL</th>\n",
       "      <td>34</td>\n",
       "      <td>42</td>\n",
       "      <td>2</td>\n",
       "      <td>228</td>\n",
       "      <td>1332</td>\n",
       "      <td>1332</td>\n",
       "    </tr>\n",
       "  </tbody>\n",
       "</table>\n",
       "</div>"
      ],
      "text/plain": [
       "         num_ani  total_time  doses  cep_num_ani  id_orig  id_fim\n",
       "lab                                                              \n",
       "VIROMOL       34          42      2          228     1332    1332"
      ]
     },
     "execution_count": 44,
     "metadata": {},
     "output_type": "execute_result"
    }
   ],
   "source": [
    "testa = ling.groupby('lab')\n",
    "testa.sum()"
   ]
  },
  {
   "cell_type": "code",
   "execution_count": null,
   "metadata": {},
   "outputs": [],
   "source": []
  },
  {
   "cell_type": "code",
   "execution_count": null,
   "metadata": {},
   "outputs": [],
   "source": []
  },
  {
   "cell_type": "markdown",
   "metadata": {},
   "source": [
    "+++++++++++++++++++++++++++++++++++++++++++++++++++++++++++++++++++++++++++++++++++++++++++++++++++++++++++++++++++++"
   ]
  },
  {
   "cell_type": "markdown",
   "metadata": {},
   "source": [
    "D: Em quanto tempo em media leva para os animais serem fornecidos para os pedidos?\n",
    "Acho que seria interessante pra controle pro Giovanny. Pro trabalho não tem muito impacto."
   ]
  },
  {
   "cell_type": "markdown",
   "metadata": {},
   "source": [
    "APENAS CASO O GIOVANNY QUEIRA"
   ]
  },
  {
   "cell_type": "code",
   "execution_count": 14,
   "metadata": {},
   "outputs": [],
   "source": [
    "# #Criada um DataFrame com o período entre acasalamento e nascimento - com outliers (datas day_nasc_acas)\n",
    "# ped_int_periodo = pd.DataFrame()\n",
    "# ped_int_periodo = pedidos_int[['data_solic', 'data_forn', 'num_ani', 'ling']]\n",
    "# ped_int_periodo['day_pedido_int'] = list(map(lambda day_pedido: pedidos_int['data_forn'] - pedidos_int['data_solic'], pedidos_int))[0]\n",
    "# ped_int_periodo.head()"
   ]
  },
  {
   "cell_type": "code",
   "execution_count": 15,
   "metadata": {},
   "outputs": [],
   "source": [
    "# #retirando os horários da coluna 'day_acas_sex_day'\n",
    "# p1 = lambda s: int(str(s).split(' ')[0])                    #Criada uma função única para transforar a serie em string, cortar por espaços na [0]\n",
    "# p2 = ped_int_periodo['day_pedido_int']                             #Chamando essa coluna na minha dataframe\n",
    "# l = list(map(p1, p2))                                       #Guardando essas informações numa lista/map para iteração e percorrer a serie de uma só vez\n",
    "# ped_int_periodo['day_pedido_day'] = l                 #Criando nova coluna com apenas o valor dos dias que vai receber o que tenho na minha lista          \n",
    "# ped_int_periodo.head()"
   ]
  },
  {
   "cell_type": "code",
   "execution_count": 16,
   "metadata": {},
   "outputs": [],
   "source": [
    "# #Retirando os outliers da coluna day_nasc_acas_day para verificar o período de acasalamento ao nascimento.\n",
    "# q1 = ped_int_periodo['day_pedido_int'].quantile(0.25) #filtro para a retirada dos valores discrepantes\n",
    "# q3 = ped_int_periodo['day_pedido_int'].quantile(0.75)\n",
    "# iqr = q3 - q1\n",
    "\n",
    "# ped_int_periodo_sout = ped_int_periodo[(ped_int_periodo['day_pedido_int'] > (q1 - 1.5 * iqr)) & \n",
    "#                                        (ped_int_periodo['day_pedido_int'] < (q3 + 1.5 * iqr))]#dataframe\n"
   ]
  },
  {
   "cell_type": "code",
   "execution_count": 17,
   "metadata": {},
   "outputs": [],
   "source": [
    "# ped_int_periodo_sout = ped_int_periodo_sout[ped_int_periodo_sout['day_pedido_day'] != 0]\n",
    "# ped_int_periodo_sout.head()"
   ]
  },
  {
   "cell_type": "code",
   "execution_count": 18,
   "metadata": {},
   "outputs": [],
   "source": [
    "# group = ped_int_periodo_sout.groupby('ling')\n",
    "# group.mean()"
   ]
  },
  {
   "cell_type": "code",
   "execution_count": 19,
   "metadata": {},
   "outputs": [],
   "source": [
    "# #Plotando gráfico do período médio de entrega.\n",
    "\n",
    "# plt.figure(figsize=(15,10))\n",
    "# plt.title('Mediana do período entre solicitação e entrega')\n",
    "\n",
    "# plot = ped_int_periodo_sout.groupby('ling')\n",
    "# plot['day_pedido_day'].median().sort_values(ascending=True).plot(\n",
    "# kind='barh'\n",
    "# )\n",
    "# plt.xlabel('Dias') #definindo nome do eixo X\n",
    "# plt.ylabel('Linhagens')"
   ]
  },
  {
   "cell_type": "markdown",
   "metadata": {},
   "source": [
    "Hipótese de que o período de entrega de animais é menor entre Swiss e Balb/c por ter maior disponibilidade ?\n",
    "E isso é importante saber?"
   ]
  },
  {
   "cell_type": "markdown",
   "metadata": {},
   "source": [
    "++++++++++++++++++++++++++++++++++++++++++++++++++++++++++++++++++++++++++++++++++++++++++++++++++++++++++++++++++"
   ]
  },
  {
   "cell_type": "markdown",
   "metadata": {},
   "source": [
    "Gerando série temporal para criar previsão de solicitações para o próximo ano"
   ]
  },
  {
   "cell_type": "markdown",
   "metadata": {},
   "source": [
    "SÉRIES TEMPORAIS + MODELO PREDITIVO"
   ]
  },
  {
   "cell_type": "code",
   "execution_count": 17,
   "metadata": {},
   "outputs": [],
   "source": [
    "# #Criando Dataframe para serie temporal\n",
    "\n",
    "# pedido_df = pd.DataFrame(pedidos_int['data_solic'])\n",
    "# pedido_df['ling'] = pedidos_int['ling']\n",
    "# pedido_df['lab'] = pedidos_int['lab']\n",
    "# pedido_df['num_ani'] = pedidos_int['num_ani']\n",
    "# pedido_df['data_inicio'] = pedidos_int['data_inicio']\n",
    "# pedido_df['data_forn'] = pedidos_int['data_forn']\n",
    "# pedido_df['data_fim'] = pedidos_int['data_fim']\n",
    "# pedido_df = pedido_df.set_index('data_solic')\n",
    "# pedido_df.head()"
   ]
  },
  {
   "cell_type": "code",
   "execution_count": 18,
   "metadata": {},
   "outputs": [],
   "source": [
    "# tempo_mes = pedido_df.resample('M').sum()\n",
    "# tempo_mes.head()"
   ]
  },
  {
   "cell_type": "code",
   "execution_count": 19,
   "metadata": {},
   "outputs": [],
   "source": [
    "# #Gráfico de série temporal por linhagem\n",
    "\n",
    "# serie_ling = pedido_df.resample('M').sum() #somando os meses\n",
    "# decom = seasonal_decompose(serie_ling, freq=12)\n",
    "\n",
    "# # Plotagem de gráfico ++++++++++++++++++++++++++++++++++++++++++++++++++++++++++++++++++++++++++++\n",
    "# plt.figure(figsize=(25, 15))\n",
    "\n",
    "# plt.subplot(4, 1, 1)\n",
    "# plt.plot(serie_ling, label = 'Nº de solicitações Balb/c', color='red')\n",
    "# plt.legend(loc = 'best')\n",
    "# plt.title('Decomposição da Série Temporal: Pedidos Internos') \n",
    "\n",
    "# plt.subplot(4, 1, 2)\n",
    "# plt.plot(decom.trend, label = 'Tendência', color='green')\n",
    "# plt.legend(loc = 'best')\n",
    "\n",
    "# plt.subplot(4, 1, 3)\n",
    "# plt.plot(decom.seasonal, label = 'Sazonalidade', color='blue')\n",
    "# plt.legend(loc = 'best')\n",
    "\n",
    "# plt.subplot(4, 1, 4)\n",
    "# plt.plot(decom.resid, label = 'Aleatoriedade', color='grey')\n",
    "# plt.legend(loc = 'best')\n",
    "\n",
    "# plt.xlabel('Período de solicitação')\n",
    "# plt.tight_layout()\n"
   ]
  },
  {
   "cell_type": "code",
   "execution_count": 20,
   "metadata": {},
   "outputs": [],
   "source": [
    "# #Gráfico de série temporal por linhagem\n",
    "\n",
    "# serie_ped_inte = pedido_df.resample('W').sum() #somando as semanas\n",
    "# decom = seasonal_decompose(serie_ped_inte, freq=12)\n",
    "\n",
    "# # Plotagem de gráfico ++++++++++++++++++++++++++++++++++++++++++++++++++++++++++++++++++++++++++++\n",
    "# plt.figure(figsize=(25, 15))\n",
    "\n",
    "# plt.subplot(4, 1, 1)\n",
    "# plt.plot(serie_ped_inte, label = 'Nº de solicitações', color='red')\n",
    "# plt.legend(loc = 'best')\n",
    "# plt.title('Decomposição da Série Temporal: Pedidos Internos somando os meses') \n",
    "\n",
    "# plt.subplot(4, 1, 2)\n",
    "# plt.plot(decom.trend, label = 'Tendência', color='green')\n",
    "# plt.legend(loc = 'best')\n",
    "\n",
    "# plt.subplot(4, 1, 3)\n",
    "# plt.plot(decom.seasonal, label = 'Sazonalidade', color='blue')\n",
    "# plt.legend(loc = 'best')\n",
    "\n",
    "# plt.subplot(4, 1, 4)\n",
    "# plt.plot(decom.resid, label = 'Aleatoriedade', color='grey')\n",
    "# plt.legend(loc = 'best')\n",
    "\n",
    "# plt.xlabel('Período de solicitação')\n",
    "# plt.tight_layout()\n"
   ]
  },
  {
   "cell_type": "code",
   "execution_count": 21,
   "metadata": {},
   "outputs": [],
   "source": [
    "# from statsmodels.tsa.arima_model import ARIMA"
   ]
  },
  {
   "cell_type": "code",
   "execution_count": 22,
   "metadata": {},
   "outputs": [],
   "source": [
    "# previsao = pedido_df.resample('M').sum()               #somando mês a mês\n",
    "# previsao = previsao['num_ani']                                     #para trabalhar com a previsão deve usar uma série, na qual foi escolhida 'num_ani'\n",
    "# previsao.head()"
   ]
  },
  {
   "cell_type": "code",
   "execution_count": 23,
   "metadata": {},
   "outputs": [],
   "source": [
    "# pedido_df.index.max()"
   ]
  },
  {
   "cell_type": "code",
   "execution_count": 24,
   "metadata": {},
   "outputs": [],
   "source": [
    "# for p in range(3):                                    #laço com tamanho 3 para p\n",
    "#     for q in range(3):                                #laço com tamanho 3 para q\n",
    "#         for d in range(3):                            #laço com tamanho 3 para d\n",
    "#             test = (p, q, d)                          #guardando p,q,d em uma variável\n",
    "#             modelo = ARIMA(previsao, order=test, freq='M')  #modelo ARIMA\n",
    "#             try:                                      #tente\n",
    "#                 results = modelo.fit()                #usando a função fit\n",
    "#                 print(f'({p}, {q}, {d})')             #printando os valores ajustados\n",
    "#                 print(results.summary())              #resumo dos parâmetros\n",
    "#                 print()\n",
    "#             except: \n",
    "#                 print('Não')"
   ]
  },
  {
   "cell_type": "code",
   "execution_count": 25,
   "metadata": {},
   "outputs": [],
   "source": [
    "# teste = ARIMA(previsao, order=(2, 1, 1))                  # dentro de order temos (p, q, d) p n° de termos auto regressivos, q n° da média móvel (muveing average), d n° de diferenças ñ sazonais\n",
    "# modelo_tr = teste.fit()                             #ajusta o modelo ARIMA (p, d, q)\n",
    "# modelo_tr.summary()  "
   ]
  },
  {
   "cell_type": "code",
   "execution_count": 26,
   "metadata": {},
   "outputs": [],
   "source": [
    "# #previsão somando todas as linhagens mês a mês\n",
    "\n",
    "# prev = modelo_tr.forecast(steps=12)                                            #que irá te retornar a previsão para o período definido, que pode ser dias, meses, anos,\n",
    "# plt.figure(figsize=(25, 5))\n",
    "# modelo_tr.plot_predict('2018-06', '2020-06',                                   #decedindo o período de previsão\n",
    "#                        ax = previsao.plot(),\n",
    "#                        plot_insample=True\n",
    "#                       )\n",
    "# plt.rcParams.update({'font.size': 20}) #tamanho da fonte\n",
    "# plt.title('Previsão de pedidos internos para dois anos ARIMA(2,1,1)')\n",
    "\n",
    "# plt.xlabel('Períodos') #definindo nome do eixo X\n",
    "# plt.ylabel('Número de Animais') #definindo nome do eixo Y\n",
    "# #+++++++++++++++++++++++++++++++++++++++++++++++++++++++++++++++++++++++++++++++++++++++++++++++++++++++++++++++++++++++++++++++++++++++++++++++++++++++\n",
    "# #Salvando os gráficos\n",
    "# plt.savefig(\n",
    "#     fname=\"../../resultados/previsao_sol_inte.png\", #pasta e nome do arquivo onde vai ser salvo\n",
    "#     bbox_inches='tight', #função que deixa o gráfico mais próxima da margem\n",
    "#     dpi=150, #numero de pixels da imagem?\n",
    "#     transparent=True #deixar o gráfico transparente\n",
    "# )"
   ]
  },
  {
   "cell_type": "code",
   "execution_count": 30,
   "metadata": {},
   "outputs": [],
   "source": [
    "inic = pedidos_int.loc[pedidos_int.index.min(), 'data_solic'] #loc: localizador - localizando a primeira data\n",
    "fim = pedidos_int.loc[pedidos_int.index.max(), 'data_solic']"
   ]
  },
  {
   "cell_type": "markdown",
   "metadata": {},
   "source": [
    "Gráfico solicitação de animais usuários internos ICC linhagens mais pedidas ano a ano"
   ]
  },
  {
   "cell_type": "markdown",
   "metadata": {},
   "source": [
    "++++++++++++++++++++++++++++++++++++++++++++++++++++++++++++++++++++++++++++++++++++++++++++++++++++++++++"
   ]
  },
  {
   "cell_type": "code",
   "execution_count": 31,
   "metadata": {},
   "outputs": [
    {
     "data": {
      "image/png": "[encoded data removed]",
      "text/plain": [
       "<Figure size 1080x360 with 1 Axes>"
      ]
     },
     "metadata": {
      "needs_background": "light"
     },
     "output_type": "display_data"
    }
   ],
   "source": [
    "#Gráfico para as linhagens mais solicitadas por ano\n",
    "ling_mais_soli_ano = ['Balb/c','S129KO','Swiss']\n",
    "\n",
    "plt.figure(figsize=(15, 5))\n",
    "for l in ling_mais_soli_ano:\n",
    "    pedido_df[pedido_df['ling'] == l]['num_ani'].resample('A').sum().plot()\n",
    "#+++++++++++++++++++++++++++++++++++++++++++++++++++++++++++++++++++++++++++++++++++++++++++++++++++++++++++++++++++++++++++++++++++++++++++++++++++++\n",
    "#Editando legendas do gráfico\n",
    "\n",
    "plt.title(f'Linhagens mais solicitadas Usuários ICC por ano {inic.day}/{inic.month}/{inic.year} até {fim.day}/{fim.month}/{fim.year}')\n",
    "plt.legend(ling_mais_soli_ano)\n",
    "plt.xlabel('Ano Nascimento')\n",
    "plt.ylabel('Número de animais')\n",
    "#++++++++++++++++++++++++++++++++++++++++++++++++++++++++++++++++++++++++++++++++++++++++++++++++++++++++++++++++++++++++++\n",
    "plt.savefig(\n",
    "    fname=\"../../resultados/solic_usuariointerno_mais_ano_I.png\", #pasta e nome do arquivo onde vai ser salvo\n",
    "    bbox_inches='tight', #função que deixa o gráfico mais próxima da margem\n",
    "    dpi=150, #numero de pixels da imagem?\n",
    "    transparent=True #deixar o gráfico transparente\n",
    ")"
   ]
  },
  {
   "cell_type": "markdown",
   "metadata": {},
   "source": [
    "Gráfico solicitação de animais usuários internos ICC linhagens mais pedidas mês a mês"
   ]
  },
  {
   "cell_type": "code",
   "execution_count": 32,
   "metadata": {},
   "outputs": [],
   "source": [
    "# #Gráfico de solicitações internas por mês\n",
    "# ling_mais_soli_mes = ['Balb/c','S129KO','Swiss']\n",
    "\n",
    "# plt.figure(figsize=(15, 5))\n",
    "# for c in ling_mais_soli_mes:\n",
    "#     pedido_df[pedido_df['ling'] == c]['num_ani'].groupby([lambda x: x.month]).sum().plot()\n",
    "\n",
    "# #+++++++++++++++++++++++++++++++++++++++++++++++++++++++++++++++++++++++++++++++++++++++++++++++++++++++++++++++++++++++++++++++++++++++++++++++++++++++++\n",
    "# #Editando o gráfico\n",
    "# plt.title(f'Linhagens mais solicitadas Usuários Internos ICC por mês {inic.day}/{inic.month}/{inic.year} até {fim.day}/{fim.month}/{fim.year}')\n",
    "# plt.legend(ling_mais_soli_mes)\n",
    "# plt.xlabel('Mês Nascimento')\n",
    "# plt.ylabel('Soma de animais')\n",
    "\n",
    "# #+++++++++++++++++++++++++++++++++++++++++++++++++++++++++++++++++++++++++++++++++++++++++++++++++++++++++++++++++++++++++++++++++++++++++++++++++++++++++\n",
    "# #Salvando o gráfico.\n",
    "# plt.savefig(\n",
    "#     fname=\"../resultados/14_pergunta_solic_usuarioexterno_mais_mes.png\", #pasta e nome do arquivo onde vai ser salvo\n",
    "#     bbox_inches='tight', #função que deixa o gráfico mais próxima da margem\n",
    "#     dpi=150, #numero de pixels da imagem?\n",
    "#     transparent=True #deixar o gráfico transparente\n",
    "# )"
   ]
  },
  {
   "cell_type": "markdown",
   "metadata": {},
   "source": [
    "Gráfico solicitação de animais usuários internos ICC linhagens menos pedidas ano a ano"
   ]
  },
  {
   "cell_type": "code",
   "execution_count": 33,
   "metadata": {},
   "outputs": [
    {
     "data": {
      "image/png": "[encoded data removed]",
      "text/plain": [
       "<Figure size 1080x360 with 1 Axes>"
      ]
     },
     "metadata": {
      "needs_background": "light"
     },
     "output_type": "display_data"
    }
   ],
   "source": [
    "ling_menos_soli_ano = ['AG129', 'DBA/1J', 'C57BL/6' ]\n",
    "\n",
    "plt.figure(figsize=(15, 5))\n",
    "for l in ling_menos_soli_ano:\n",
    "    pedido_df[pedido_df['ling'] == l]['num_ani'].resample('A').sum().plot()\n",
    "plt.title(f'Linhagens menos solicitadas Usuário Interno ICC por ano {inic.day}/{inic.month}/{inic.year} até {fim.day}/{fim.month}/{fim.year}')\n",
    "plt.legend(ling_menos_soli_ano)\n",
    "plt.xlabel('Ano Nascimento')\n",
    "plt.ylabel('Soma de animais')\n",
    "#++++++++++++++++++++++++++++++++++++++++++++++++++++++++++++++++++++++++++++++++++++++++++++++++++++++++++++++++++++++++++\n",
    "plt.savefig(\n",
    "    fname=\"../../resultados/solic_usuariointerno_menos_ano_I.png\", #pasta e nome do arquivo onde vai ser salvo\n",
    "    bbox_inches='tight', #função que deixa o gráfico mais próxima da margem\n",
    "    dpi=150, #numero de pixels da imagem?\n",
    "    transparent=True #deixar o gráfico transparente\n",
    ")"
   ]
  },
  {
   "cell_type": "markdown",
   "metadata": {},
   "source": [
    "Gráfico solicitação de animais usuários internos ICC linhagens menos pedidas mês a mês"
   ]
  },
  {
   "cell_type": "code",
   "execution_count": 34,
   "metadata": {},
   "outputs": [],
   "source": [
    "# ling_menos_soli_mes = ['AG129', 'DBA/1J', 'C57BL/6']\n",
    "\n",
    "# plt.figure(figsize=(15, 5))\n",
    "# for c in ling_menos_soli_mes:\n",
    "#     pedido_df[pedido_df['ling'] == c]['num_ani'].groupby([lambda x: x.month]).sum().plot()\n",
    "    \n",
    "# plt.title(f'Linhagens menos solicitadas Usuários Internos ICC por mês {inic.day}/{inic.month}/{inic.year} até {fim.day}/{fim.month}/{fim.year}')\n",
    "# plt.legend(ling_menos_soli_mes)\n",
    "# plt.xlabel('Mês Nascimento')\n",
    "# plt.ylabel('Soma de animais')\n",
    "# plt.savefig(\n",
    "#     fname=\"../resultados/14_pergunta_solic_usuarioexterno_menos_mes.png\", #pasta e nome do arquivo onde vai ser salvo\n",
    "#     bbox_inches='tight', #função que deixa o gráfico mais próxima da margem\n",
    "#     dpi=150, #numero de pixels da imagem?\n",
    "#     transparent=True #deixar o gráfico transparente\n",
    "# )"
   ]
  },
  {
   "cell_type": "markdown",
   "metadata": {},
   "source": [
    "Primeiros Resultados: As solicitações Internas dos laboratórios do ICC são inferiores aos pedidos externos. As linhagens mais solicitadas são Balb/c, em seguida Swiss e em terceiro a linhagem S129KO. Já as linhagens menos solicitadas são AG129, C57BL/6 e DBA/1J respectivamente.\n",
    "\n",
    "Resultado por período anual (linhagens mais pedidas):\n",
    "\n",
    "Balb/c - por ser uma linhagem de produção de anticorpos monoclonais é a linhagem mais solicitada entre os laboratórios do ICC. Com um aumento de solicitação entre os anos 2016 e 2017, com um pico maior de solicitação em 2018.\n",
    "\n",
    "Swiss - Teve um período constante de solicitação desde o ano 2014 até 2018, onde parou de ser solicitado. Uma hipótese pode ser que os pesquisadores tenham preferência na linhagem Balb/c, substituindo o uso dos Swiss (produção de policlonal).\n",
    "\n",
    "S129KO - Maior solicitação no ano de 2018 e 2019.\n",
    "\n",
    "Resultado por período mensal (linhagens mais pedidas):\n",
    "\n",
    "Balb/c - Linhagem com solicitações superiores em todos os meses. Apenas em Julho há uma queda de solicitação desta linhagem.\n",
    "\n",
    "Swiss - Solicitação durante o ano todo, com picos maiores em Março e Setembro e baixa solicitação nos demais meses.\n",
    "\n",
    "S129KO - Solicitações a partir de Fevereiro, com queda em Junho, resuzindo ainda mais em Outubro.\n",
    "\n",
    "Resultado por período anual (linhagens menos pedidas):\n",
    "\n",
    "C57BL/6 - É a unica linhagem solicitada que aparece no gráfico, maior produção em 2017 e quase nenhuma solicitação em 2017 ou 2019.\n",
    "\n",
    "Resultado por período mensal (linhagens menos pedidas):\n",
    "\n",
    "C57BL/6 - Maior solicitação em Abril e reduzido de Maio a Julho.\n",
    "\n",
    "AG129 - Uma Unica solicitação durante o período de Outubro."
   ]
  },
  {
   "cell_type": "code",
   "execution_count": null,
   "metadata": {},
   "outputs": [],
   "source": []
  }
 ],
 "metadata": {
  "kernelspec": {
   "display_name": "Python 3",
   "language": "python",
   "name": "python3"
  },
  "language_info": {
   "codemirror_mode": {
    "name": "ipython",
    "version": 3
   },
   "file_extension": ".py",
   "mimetype": "text/x-python",
   "name": "python",
   "nbconvert_exporter": "python",
   "pygments_lexer": "ipython3",
   "version": "3.7.1"
  }
 },
 "nbformat": 4,
 "nbformat_minor": 2
}
