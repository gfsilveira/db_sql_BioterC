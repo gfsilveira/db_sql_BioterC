{
 "cells": [
  {
   "cell_type": "markdown",
   "metadata": {},
   "source": [
    "Verificando informações referentes a sexagem de animais."
   ]
  },
  {
   "cell_type": "code",
   "execution_count": 22,
   "metadata": {},
   "outputs": [],
   "source": [
    "#Importando bibliotecas necessárias para a análise.\n",
    "\n",
    "import matplotlib.pyplot as plt \n",
    "import pandas as pd \n",
    "import os\n",
    "import seaborn as sns\n",
    "\n",
    "\n",
    "plt.rcParams.update({'font.size': 20}) #tamanho da fonte\n",
    "plt.rcParams['xtick.labelsize'] = 20 #tamanho da fonte\n",
    "plt.rcParams['ytick.labelsize'] = 20 #tamanho da fonte"
   ]
  },
  {
   "cell_type": "markdown",
   "metadata": {},
   "source": [
    "Verificando informações referente aos machos"
   ]
  },
  {
   "cell_type": "code",
   "execution_count": 86,
   "metadata": {},
   "outputs": [
    {
     "name": "stderr",
     "output_type": "stream",
     "text": [
      "/home/eloiza/anaconda3/lib/python3.7/site-packages/ipykernel_launcher.py:8: UserWarning: Boolean Series key will be reindexed to match DataFrame index.\n",
      "  \n"
     ]
    },
    {
     "data": {
      "text/html": [
       "<div>\n",
       "<style scoped>\n",
       "    .dataframe tbody tr th:only-of-type {\n",
       "        vertical-align: middle;\n",
       "    }\n",
       "\n",
       "    .dataframe tbody tr th {\n",
       "        vertical-align: top;\n",
       "    }\n",
       "\n",
       "    .dataframe thead th {\n",
       "        text-align: right;\n",
       "    }\n",
       "</style>\n",
       "<table border=\"1\" class=\"dataframe\">\n",
       "  <thead>\n",
       "    <tr style=\"text-align: right;\">\n",
       "      <th></th>\n",
       "      <th>date_hoje</th>\n",
       "      <th>user</th>\n",
       "      <th>ling</th>\n",
       "      <th>num_ani</th>\n",
       "      <th>m_f</th>\n",
       "      <th>date_nasc</th>\n",
       "      <th>id_orig</th>\n",
       "      <th>util</th>\n",
       "      <th>id_solic</th>\n",
       "      <th>data_inicio</th>\n",
       "      <th>...</th>\n",
       "      <th>date_acas</th>\n",
       "      <th>date_nasc_acas</th>\n",
       "      <th>num_nasc</th>\n",
       "      <th>date_sex</th>\n",
       "      <th>num_sex_m</th>\n",
       "      <th>num_sex_f</th>\n",
       "      <th>num_ani_ini</th>\n",
       "      <th>num_ani_fim</th>\n",
       "      <th>obs_desc</th>\n",
       "      <th>grupos_acas</th>\n",
       "    </tr>\n",
       "    <tr>\n",
       "      <th>id</th>\n",
       "      <th></th>\n",
       "      <th></th>\n",
       "      <th></th>\n",
       "      <th></th>\n",
       "      <th></th>\n",
       "      <th></th>\n",
       "      <th></th>\n",
       "      <th></th>\n",
       "      <th></th>\n",
       "      <th></th>\n",
       "      <th></th>\n",
       "      <th></th>\n",
       "      <th></th>\n",
       "      <th></th>\n",
       "      <th></th>\n",
       "      <th></th>\n",
       "      <th></th>\n",
       "      <th></th>\n",
       "      <th></th>\n",
       "      <th></th>\n",
       "      <th></th>\n",
       "    </tr>\n",
       "  </thead>\n",
       "  <tbody>\n",
       "    <tr>\n",
       "      <th>458</th>\n",
       "      <td>2014-10-30 12:06:36</td>\n",
       "      <td>Tania</td>\n",
       "      <td>S129WT</td>\n",
       "      <td>4</td>\n",
       "      <td>m</td>\n",
       "      <td>2014-10-21 12:43:17</td>\n",
       "      <td>374</td>\n",
       "      <td>sex</td>\n",
       "      <td>666</td>\n",
       "      <td>1970-01-01 00:11:06</td>\n",
       "      <td>...</td>\n",
       "      <td>1970-01-01 00:11:06</td>\n",
       "      <td>1970-01-01 00:11:06</td>\n",
       "      <td>666</td>\n",
       "      <td>2014-10-30 12:06:36</td>\n",
       "      <td>4</td>\n",
       "      <td>666</td>\n",
       "      <td>666</td>\n",
       "      <td>666</td>\n",
       "      <td>AAA</td>\n",
       "      <td>AAA</td>\n",
       "    </tr>\n",
       "    <tr>\n",
       "      <th>465</th>\n",
       "      <td>2014-10-30 12:34:35</td>\n",
       "      <td>Tania</td>\n",
       "      <td>Swiss E</td>\n",
       "      <td>16</td>\n",
       "      <td>m</td>\n",
       "      <td>2014-10-06 18:11:54</td>\n",
       "      <td>463</td>\n",
       "      <td>sex</td>\n",
       "      <td>666</td>\n",
       "      <td>1970-01-01 00:11:06</td>\n",
       "      <td>...</td>\n",
       "      <td>1970-01-01 00:11:06</td>\n",
       "      <td>1970-01-01 00:11:06</td>\n",
       "      <td>666</td>\n",
       "      <td>2014-10-30 12:34:35</td>\n",
       "      <td>3</td>\n",
       "      <td>666</td>\n",
       "      <td>666</td>\n",
       "      <td>666</td>\n",
       "      <td>AAA</td>\n",
       "      <td>I</td>\n",
       "    </tr>\n",
       "    <tr>\n",
       "      <th>467</th>\n",
       "      <td>2014-10-30 12:34:35</td>\n",
       "      <td>Tania</td>\n",
       "      <td>Swiss E</td>\n",
       "      <td>13</td>\n",
       "      <td>m</td>\n",
       "      <td>2014-10-06 18:11:54</td>\n",
       "      <td>465</td>\n",
       "      <td>sex</td>\n",
       "      <td>666</td>\n",
       "      <td>1970-01-01 00:11:06</td>\n",
       "      <td>...</td>\n",
       "      <td>1970-01-01 00:11:06</td>\n",
       "      <td>1970-01-01 00:11:06</td>\n",
       "      <td>666</td>\n",
       "      <td>2014-10-30 12:34:35</td>\n",
       "      <td>3</td>\n",
       "      <td>666</td>\n",
       "      <td>666</td>\n",
       "      <td>666</td>\n",
       "      <td>AAA</td>\n",
       "      <td>I</td>\n",
       "    </tr>\n",
       "    <tr>\n",
       "      <th>489</th>\n",
       "      <td>2014-11-05 17:13:53</td>\n",
       "      <td>Tania</td>\n",
       "      <td>S129WT</td>\n",
       "      <td>666</td>\n",
       "      <td>m</td>\n",
       "      <td>2014-10-21 12:43:17</td>\n",
       "      <td>376</td>\n",
       "      <td>sex</td>\n",
       "      <td>666</td>\n",
       "      <td>1970-01-01 00:11:06</td>\n",
       "      <td>...</td>\n",
       "      <td>1970-01-01 00:11:06</td>\n",
       "      <td>1970-01-01 00:11:06</td>\n",
       "      <td>666</td>\n",
       "      <td>2014-11-05 17:13:53</td>\n",
       "      <td>4</td>\n",
       "      <td>666</td>\n",
       "      <td>666</td>\n",
       "      <td>666</td>\n",
       "      <td>AAA</td>\n",
       "      <td>AAA</td>\n",
       "    </tr>\n",
       "    <tr>\n",
       "      <th>517</th>\n",
       "      <td>2014-11-11 12:26:51</td>\n",
       "      <td>Tania</td>\n",
       "      <td>C57BL06WT</td>\n",
       "      <td>6</td>\n",
       "      <td>m</td>\n",
       "      <td>2014-11-11 12:25:07</td>\n",
       "      <td>515</td>\n",
       "      <td>sex</td>\n",
       "      <td>666</td>\n",
       "      <td>1970-01-01 00:11:06</td>\n",
       "      <td>...</td>\n",
       "      <td>2014-11-11 12:26:51</td>\n",
       "      <td>2014-11-11 12:26:51</td>\n",
       "      <td>6</td>\n",
       "      <td>2014-11-11 12:26:51</td>\n",
       "      <td>4</td>\n",
       "      <td>666</td>\n",
       "      <td>666</td>\n",
       "      <td>666</td>\n",
       "      <td>AAA</td>\n",
       "      <td>AAA</td>\n",
       "    </tr>\n",
       "  </tbody>\n",
       "</table>\n",
       "<p>5 rows × 28 columns</p>\n",
       "</div>"
      ],
      "text/plain": [
       "              date_hoje   user       ling  num_ani m_f           date_nasc  \\\n",
       "id                                                                           \n",
       "458 2014-10-30 12:06:36  Tania     S129WT        4   m 2014-10-21 12:43:17   \n",
       "465 2014-10-30 12:34:35  Tania    Swiss E       16   m 2014-10-06 18:11:54   \n",
       "467 2014-10-30 12:34:35  Tania    Swiss E       13   m 2014-10-06 18:11:54   \n",
       "489 2014-11-05 17:13:53  Tania     S129WT      666   m 2014-10-21 12:43:17   \n",
       "517 2014-11-11 12:26:51  Tania  C57BL06WT        6   m 2014-11-11 12:25:07   \n",
       "\n",
       "    id_orig util  id_solic         data_inicio     ...      \\\n",
       "id                                                 ...       \n",
       "458     374  sex       666 1970-01-01 00:11:06     ...       \n",
       "465     463  sex       666 1970-01-01 00:11:06     ...       \n",
       "467     465  sex       666 1970-01-01 00:11:06     ...       \n",
       "489     376  sex       666 1970-01-01 00:11:06     ...       \n",
       "517     515  sex       666 1970-01-01 00:11:06     ...       \n",
       "\n",
       "              date_acas      date_nasc_acas  num_nasc            date_sex  \\\n",
       "id                                                                          \n",
       "458 1970-01-01 00:11:06 1970-01-01 00:11:06       666 2014-10-30 12:06:36   \n",
       "465 1970-01-01 00:11:06 1970-01-01 00:11:06       666 2014-10-30 12:34:35   \n",
       "467 1970-01-01 00:11:06 1970-01-01 00:11:06       666 2014-10-30 12:34:35   \n",
       "489 1970-01-01 00:11:06 1970-01-01 00:11:06       666 2014-11-05 17:13:53   \n",
       "517 2014-11-11 12:26:51 2014-11-11 12:26:51         6 2014-11-11 12:26:51   \n",
       "\n",
       "     num_sex_m  num_sex_f  num_ani_ini  num_ani_fim obs_desc grupos_acas  \n",
       "id                                                                        \n",
       "458          4        666          666          666      AAA         AAA  \n",
       "465          3        666          666          666      AAA           I  \n",
       "467          3        666          666          666      AAA           I  \n",
       "489          4        666          666          666      AAA         AAA  \n",
       "517          4        666          666          666      AAA         AAA  \n",
       "\n",
       "[5 rows x 28 columns]"
      ]
     },
     "execution_count": 86,
     "metadata": {},
     "output_type": "execute_result"
    }
   ],
   "source": [
    "#Filtros para trabalhar com os dados da minha dataframe original\n",
    "\n",
    "sexa_ani_m = pd.read_csv('../tabelas_test/est_est_log_2019-06-18.csv', index_col='id')\n",
    "sexa_ani_m = sexa_ani[\n",
    "    (sexa_ani_m['num_sex_m'] < 200) &\n",
    "    (sexa_ani_m['util'] == 'sex') &\n",
    "    (sexa_ani_m['ling'] != 'Test') &\n",
    "    (sexa_ani_m['num_sex_m'] != 666)\n",
    "]\n",
    "                   \n",
    "\n",
    "\n",
    "#+++++++++++++++++++++++++++++++++++++++++++++++++++++++++++++++++++++++++++++++++++++++++++++++++++++++++++++++++++++++++++++++\n",
    "#Alterando formato da data\n",
    "\n",
    "datas = ['date_hoje', 'date_nasc', 'data_inicio', 'date_acas', 'date_nasc_acas', 'date_sex']\n",
    "\n",
    "for d in datas:\n",
    "    sexa_ani_m[d] = pd.to_datetime(sexa_ani_m[d], unit = 's')\n",
    "    \n",
    "sexa_ani_m.head()"
   ]
  },
  {
   "cell_type": "code",
   "execution_count": 87,
   "metadata": {},
   "outputs": [
    {
     "data": {
      "text/html": [
       "<div>\n",
       "<style scoped>\n",
       "    .dataframe tbody tr th:only-of-type {\n",
       "        vertical-align: middle;\n",
       "    }\n",
       "\n",
       "    .dataframe tbody tr th {\n",
       "        vertical-align: top;\n",
       "    }\n",
       "\n",
       "    .dataframe thead th {\n",
       "        text-align: right;\n",
       "    }\n",
       "</style>\n",
       "<table border=\"1\" class=\"dataframe\">\n",
       "  <thead>\n",
       "    <tr style=\"text-align: right;\">\n",
       "      <th></th>\n",
       "      <th>date_hoje</th>\n",
       "      <th>user</th>\n",
       "      <th>ling</th>\n",
       "      <th>num_ani</th>\n",
       "      <th>m_f</th>\n",
       "      <th>date_nasc</th>\n",
       "      <th>id_orig</th>\n",
       "      <th>util</th>\n",
       "      <th>id_solic</th>\n",
       "      <th>data_inicio</th>\n",
       "      <th>...</th>\n",
       "      <th>date_acas</th>\n",
       "      <th>date_nasc_acas</th>\n",
       "      <th>num_nasc</th>\n",
       "      <th>date_sex</th>\n",
       "      <th>num_sex_m</th>\n",
       "      <th>num_sex_f</th>\n",
       "      <th>num_ani_ini</th>\n",
       "      <th>num_ani_fim</th>\n",
       "      <th>obs_desc</th>\n",
       "      <th>grupos_acas</th>\n",
       "    </tr>\n",
       "    <tr>\n",
       "      <th>id</th>\n",
       "      <th></th>\n",
       "      <th></th>\n",
       "      <th></th>\n",
       "      <th></th>\n",
       "      <th></th>\n",
       "      <th></th>\n",
       "      <th></th>\n",
       "      <th></th>\n",
       "      <th></th>\n",
       "      <th></th>\n",
       "      <th></th>\n",
       "      <th></th>\n",
       "      <th></th>\n",
       "      <th></th>\n",
       "      <th></th>\n",
       "      <th></th>\n",
       "      <th></th>\n",
       "      <th></th>\n",
       "      <th></th>\n",
       "      <th></th>\n",
       "      <th></th>\n",
       "    </tr>\n",
       "  </thead>\n",
       "  <tbody>\n",
       "    <tr>\n",
       "      <th>460</th>\n",
       "      <td>2014-10-30 12:06:36</td>\n",
       "      <td>Tania</td>\n",
       "      <td>S129WT</td>\n",
       "      <td>2</td>\n",
       "      <td>f</td>\n",
       "      <td>2014-10-21 12:43:17</td>\n",
       "      <td>458</td>\n",
       "      <td>sex</td>\n",
       "      <td>666</td>\n",
       "      <td>1970-01-01 00:11:06</td>\n",
       "      <td>...</td>\n",
       "      <td>1970-01-01 00:11:06</td>\n",
       "      <td>1970-01-01 00:11:06</td>\n",
       "      <td>666</td>\n",
       "      <td>2014-10-30 12:06:36</td>\n",
       "      <td>666</td>\n",
       "      <td>2</td>\n",
       "      <td>666</td>\n",
       "      <td>666</td>\n",
       "      <td>AAA</td>\n",
       "      <td>AAA</td>\n",
       "    </tr>\n",
       "    <tr>\n",
       "      <th>463</th>\n",
       "      <td>2014-10-30 12:34:35</td>\n",
       "      <td>Tania</td>\n",
       "      <td>Swiss E</td>\n",
       "      <td>19</td>\n",
       "      <td>f</td>\n",
       "      <td>2014-10-06 18:11:54</td>\n",
       "      <td>454</td>\n",
       "      <td>sex</td>\n",
       "      <td>666</td>\n",
       "      <td>1970-01-01 00:11:06</td>\n",
       "      <td>...</td>\n",
       "      <td>1970-01-01 00:11:06</td>\n",
       "      <td>1970-01-01 00:11:06</td>\n",
       "      <td>666</td>\n",
       "      <td>2014-10-30 12:34:35</td>\n",
       "      <td>666</td>\n",
       "      <td>3</td>\n",
       "      <td>666</td>\n",
       "      <td>666</td>\n",
       "      <td>AAA</td>\n",
       "      <td>I</td>\n",
       "    </tr>\n",
       "    <tr>\n",
       "      <th>491</th>\n",
       "      <td>2014-11-05 17:13:53</td>\n",
       "      <td>Tania</td>\n",
       "      <td>S129WT</td>\n",
       "      <td>665</td>\n",
       "      <td>f</td>\n",
       "      <td>2014-10-21 12:43:17</td>\n",
       "      <td>489</td>\n",
       "      <td>sex</td>\n",
       "      <td>666</td>\n",
       "      <td>1970-01-01 00:11:06</td>\n",
       "      <td>...</td>\n",
       "      <td>1970-01-01 00:11:06</td>\n",
       "      <td>1970-01-01 00:11:06</td>\n",
       "      <td>666</td>\n",
       "      <td>2014-11-05 17:13:53</td>\n",
       "      <td>666</td>\n",
       "      <td>1</td>\n",
       "      <td>666</td>\n",
       "      <td>666</td>\n",
       "      <td>AAA</td>\n",
       "      <td>AAA</td>\n",
       "    </tr>\n",
       "    <tr>\n",
       "      <th>515</th>\n",
       "      <td>2014-11-11 12:26:51</td>\n",
       "      <td>Tania</td>\n",
       "      <td>C57BL06WT</td>\n",
       "      <td>4</td>\n",
       "      <td>f</td>\n",
       "      <td>2014-11-11 12:25:07</td>\n",
       "      <td>513</td>\n",
       "      <td>sex</td>\n",
       "      <td>666</td>\n",
       "      <td>1970-01-01 00:11:06</td>\n",
       "      <td>...</td>\n",
       "      <td>2014-11-11 12:26:51</td>\n",
       "      <td>2014-11-11 12:26:51</td>\n",
       "      <td>6</td>\n",
       "      <td>2014-11-11 12:26:51</td>\n",
       "      <td>666</td>\n",
       "      <td>2</td>\n",
       "      <td>666</td>\n",
       "      <td>666</td>\n",
       "      <td>AAA</td>\n",
       "      <td>AAA</td>\n",
       "    </tr>\n",
       "    <tr>\n",
       "      <th>534</th>\n",
       "      <td>2014-11-12 12:47:13</td>\n",
       "      <td>Tania</td>\n",
       "      <td>S129WT</td>\n",
       "      <td>1</td>\n",
       "      <td>f</td>\n",
       "      <td>2014-10-21 12:43:17</td>\n",
       "      <td>375</td>\n",
       "      <td>sex</td>\n",
       "      <td>666</td>\n",
       "      <td>1970-01-01 00:11:06</td>\n",
       "      <td>...</td>\n",
       "      <td>1970-01-01 00:11:06</td>\n",
       "      <td>1970-01-01 00:11:06</td>\n",
       "      <td>666</td>\n",
       "      <td>2014-11-12 12:47:13</td>\n",
       "      <td>666</td>\n",
       "      <td>1</td>\n",
       "      <td>666</td>\n",
       "      <td>666</td>\n",
       "      <td>AAA</td>\n",
       "      <td>AAA</td>\n",
       "    </tr>\n",
       "  </tbody>\n",
       "</table>\n",
       "<p>5 rows × 28 columns</p>\n",
       "</div>"
      ],
      "text/plain": [
       "              date_hoje   user       ling  num_ani m_f           date_nasc  \\\n",
       "id                                                                           \n",
       "460 2014-10-30 12:06:36  Tania     S129WT        2   f 2014-10-21 12:43:17   \n",
       "463 2014-10-30 12:34:35  Tania    Swiss E       19   f 2014-10-06 18:11:54   \n",
       "491 2014-11-05 17:13:53  Tania     S129WT      665   f 2014-10-21 12:43:17   \n",
       "515 2014-11-11 12:26:51  Tania  C57BL06WT        4   f 2014-11-11 12:25:07   \n",
       "534 2014-11-12 12:47:13  Tania     S129WT        1   f 2014-10-21 12:43:17   \n",
       "\n",
       "    id_orig util  id_solic         data_inicio     ...      \\\n",
       "id                                                 ...       \n",
       "460     458  sex       666 1970-01-01 00:11:06     ...       \n",
       "463     454  sex       666 1970-01-01 00:11:06     ...       \n",
       "491     489  sex       666 1970-01-01 00:11:06     ...       \n",
       "515     513  sex       666 1970-01-01 00:11:06     ...       \n",
       "534     375  sex       666 1970-01-01 00:11:06     ...       \n",
       "\n",
       "              date_acas      date_nasc_acas  num_nasc            date_sex  \\\n",
       "id                                                                          \n",
       "460 1970-01-01 00:11:06 1970-01-01 00:11:06       666 2014-10-30 12:06:36   \n",
       "463 1970-01-01 00:11:06 1970-01-01 00:11:06       666 2014-10-30 12:34:35   \n",
       "491 1970-01-01 00:11:06 1970-01-01 00:11:06       666 2014-11-05 17:13:53   \n",
       "515 2014-11-11 12:26:51 2014-11-11 12:26:51         6 2014-11-11 12:26:51   \n",
       "534 1970-01-01 00:11:06 1970-01-01 00:11:06       666 2014-11-12 12:47:13   \n",
       "\n",
       "     num_sex_m  num_sex_f  num_ani_ini  num_ani_fim obs_desc grupos_acas  \n",
       "id                                                                        \n",
       "460        666          2          666          666      AAA         AAA  \n",
       "463        666          3          666          666      AAA           I  \n",
       "491        666          1          666          666      AAA         AAA  \n",
       "515        666          2          666          666      AAA         AAA  \n",
       "534        666          1          666          666      AAA         AAA  \n",
       "\n",
       "[5 rows x 28 columns]"
      ]
     },
     "execution_count": 87,
     "metadata": {},
     "output_type": "execute_result"
    }
   ],
   "source": [
    "#Filtros para trabalhar com os dados da minha dataframe original\n",
    "\n",
    "sexa_ani_f = pd.read_csv('../tabelas_test/est_est_log_2019-06-18.csv', index_col='id')\n",
    "sexa_ani_f = sexa_ani_f[\n",
    "    (sexa_ani_f['num_sex_f'] < 200) &\n",
    "    (sexa_ani_f['util'] == 'sex') &\n",
    "    (sexa_ani_f['ling'] != 'Test') &\n",
    "    (sexa_ani_f['num_sex_f'] != 666)\n",
    "]\n",
    "                   \n",
    "\n",
    "\n",
    "#+++++++++++++++++++++++++++++++++++++++++++++++++++++++++++++++++++++++++++++++++++++++++++++++++++++++++++++++++++++++++++++++\n",
    "#Alterando formato da data\n",
    "\n",
    "datas = ['date_hoje', 'date_nasc', 'data_inicio', 'date_acas', 'date_nasc_acas', 'date_sex']\n",
    "\n",
    "for d in datas:\n",
    "    sexa_ani_f[d] = pd.to_datetime(sexa_ani_f[d], unit = 's')\n",
    "    \n",
    "sexa_ani_f.head()"
   ]
  },
  {
   "cell_type": "code",
   "execution_count": null,
   "metadata": {},
   "outputs": [],
   "source": []
  },
  {
   "cell_type": "code",
   "execution_count": 25,
   "metadata": {},
   "outputs": [
    {
     "data": {
      "text/plain": [
       "5258"
      ]
     },
     "execution_count": 25,
     "metadata": {},
     "output_type": "execute_result"
    }
   ],
   "source": [
    "sexa_ani['num_sex_m'].sum()"
   ]
  },
  {
   "cell_type": "code",
   "execution_count": 26,
   "metadata": {},
   "outputs": [
    {
     "data": {
      "text/plain": [
       "1529"
      ]
     },
     "execution_count": 26,
     "metadata": {},
     "output_type": "execute_result"
    }
   ],
   "source": [
    "len(sexa_ani)"
   ]
  },
  {
   "cell_type": "code",
   "execution_count": 27,
   "metadata": {},
   "outputs": [
    {
     "data": {
      "text/plain": [
       "Balb/c         371\n",
       "C57BL/6        352\n",
       "S129KO         197\n",
       "C3H             89\n",
       "129/SV-E        83\n",
       "Swiss-2 D       45\n",
       "Swiss-1 B       31\n",
       "Swiss-2 C       30\n",
       "Swiss-1 A       29\n",
       "Swiss-2 E       28\n",
       "Swiss-2 B       27\n",
       "Swiss-1 E       26\n",
       "S129WT          25\n",
       "Swiss-2 A       25\n",
       "C57BL06WT       24\n",
       "Swiss-1 D       24\n",
       "Swiss-1 C       24\n",
       "Swiss A         14\n",
       "Swiss D         11\n",
       "Swiss C         11\n",
       "Swiss E         11\n",
       "Swiss B         10\n",
       "Swiss/CFW C      7\n",
       " S129WT          7\n",
       "Swiss/CFW B      6\n",
       "AG129            6\n",
       "Swiss/CFW        6\n",
       "Swiss/CFW A      4\n",
       "Swiss/CFW D      3\n",
       " S129KO          3\n",
       "Name: ling, dtype: int64"
      ]
     },
     "execution_count": 27,
     "metadata": {},
     "output_type": "execute_result"
    }
   ],
   "source": [
    "sexa_ani['ling'].value_counts()"
   ]
  },
  {
   "cell_type": "code",
   "execution_count": 28,
   "metadata": {},
   "outputs": [],
   "source": [
    "#Substituindo linhagens  - ' S129WT', 'S129WT'] PARA '129/SV-E'\n",
    "\n",
    "sexa_ani['ling'].replace([' S129WT', 'S129WT'], '129/SV-E', inplace=True)\n",
    "#sexa_ani[(sexa_ani['ling'] == '129/SV-E')].info()\n",
    "\n",
    "'''\n",
    "#++++++++++++++++++++++++++++++++++++++++++++++++++++++++++++++++++++++++++++++++++++++++++++++\n",
    "'''\n",
    "\n",
    "#Substituindo linhagens  - ' S129KO'  PARA 'S129KO'\n",
    "\n",
    "sexa_ani['ling'].replace(' S129KO', 'S129KO', inplace=True)\n",
    "#sexa_ani[(sexa_ani['ling'] == 'S129KO')].info()\n",
    "\n",
    "'''\n",
    "#++++++++++++++++++++++++++++++++++++++++++++++++++++++++++++++++++++++++++++++++++++++++++++++\n",
    "'''\n",
    "#Substituindo linhagens  - 'C57BL06WT'  PARA 'C57BL/6'\n",
    "\n",
    "sexa_ani['ling'].replace(['C57BL06WT','C57BL06WT\\t'], 'C57BL/6', inplace=True)\n",
    "#sexa_ani[(sexa_ani['ling'] == 'C57BL/6')].info()\n",
    "\n",
    "'''\n",
    "#++++++++++++++++++++++++++++++++++++++++++++++++++++++++++++++++++++++++++++++++++++++++++++++\n",
    "'''\n",
    "#Substituindo linhagens  - 'Swiss A' PARA 'Swiss-1 A'\n",
    "\n",
    "sexa_ani['ling'].replace(['Swiss A','Swiss/CFW', 'Swiss/CFW A'], 'Swiss-1 A', inplace=True)\n",
    "#sexa_ani[(sexa_ani['ling'] == 'Swiss-1 A')].info()\n",
    "\n",
    "'''\n",
    "#++++++++++++++++++++++++++++++++++++++++++++++++++++++++++++++++++++++++++++++++++++++++++++++\n",
    "'''\n",
    "#Substituindo linhagens  - 'Swiss B' PARA 'Swiss-1 B'\n",
    "\n",
    "sexa_ani['ling'].replace(['Swiss B','Swiss/CFW B'], 'Swiss-1 B', inplace=True)\n",
    "#sexa_ani[(sexa_ani['ling'] == 'Swiss-1 B')].info()\n",
    "\n",
    "'''\n",
    "#++++++++++++++++++++++++++++++++++++++++++++++++++++++++++++++++++++++++++++++++++++++++++++++\n",
    "'''\n",
    "#Substituindo linhagens  - 'Swiss C' PARA 'Swiss-1 C'\n",
    "\n",
    "sexa_ani['ling'].replace(['Swiss C','Swiss/CFW C'], 'Swiss-1 C', inplace=True)\n",
    "#sexa_ani[(sexa_ani['ling'] == 'Swiss-1 C')].info()\n",
    "\n",
    "'''\n",
    "#++++++++++++++++++++++++++++++++++++++++++++++++++++++++++++++++++++++++++++++++++++++++++++++\n",
    "'''\n",
    "#Substituindo linhagens  - 'Swiss D' PARA 'Swiss-1 D'\n",
    "\n",
    "sexa_ani['ling'].replace(['Swiss D','Swiss/CFW D'], 'Swiss-1 D', inplace=True)\n",
    "#sexa_ani[(sexa_ani['ling'] == 'Swiss-1 D')].info()\n",
    "\n",
    "'''\n",
    "#++++++++++++++++++++++++++++++++++++++++++++++++++++++++++++++++++++++++++++++++++++++++++++++\n",
    "'''\n",
    "#Substituindo linhagens  - 'Swiss E' PARA 'Swiss-1 E'\n",
    "\n",
    "sexa_ani['ling'].replace('Swiss E', 'Swiss-1 E', inplace=True)\n",
    "#sexa_ani[(sexa_ani['ling'] == 'Swiss-1 E')].info()\n",
    "'''\n",
    "#++++++++++++++++++++++++++++++++++++++++++++++++++++++++++++++++++++++++++++++++++++++++++++++\n",
    "'''\n",
    "#Substituindo linhagens  - 'Swiss-2 A' PARA 'Swiss-2 A'\n",
    "\n",
    "sexa_ani['ling'].replace('Swiss-2 A ', 'Swiss-2 A', inplace=True)\n",
    "#sexa_ani[(sexa_ani['ling'] == 'Swiss-1 E')].info()"
   ]
  },
  {
   "cell_type": "code",
   "execution_count": 29,
   "metadata": {},
   "outputs": [
    {
     "data": {
      "text/plain": [
       "C57BL/6      376\n",
       "Balb/c       371\n",
       "S129KO       200\n",
       "129/SV-E     115\n",
       "C3H           89\n",
       "Swiss-1 A     53\n",
       "Swiss-1 B     47\n",
       "Swiss-2 D     45\n",
       "Swiss-1 C     42\n",
       "Swiss-1 D     38\n",
       "Swiss-1 E     37\n",
       "Swiss-2 C     30\n",
       "Swiss-2 E     28\n",
       "Swiss-2 B     27\n",
       "Swiss-2 A     25\n",
       "AG129          6\n",
       "Name: ling, dtype: int64"
      ]
     },
     "execution_count": 29,
     "metadata": {},
     "output_type": "execute_result"
    }
   ],
   "source": [
    "sexa_ani['ling'].value_counts()"
   ]
  },
  {
   "cell_type": "code",
   "execution_count": 38,
   "metadata": {},
   "outputs": [
    {
     "data": {
      "text/plain": [
       "328.62"
      ]
     },
     "execution_count": 38,
     "metadata": {},
     "output_type": "execute_result"
    }
   ],
   "source": [
    "media_g = sexa_ani.groupby('ling')\n",
    "media_plot = round(media_g['num_sex_m'].sum().mean(),2)\n",
    "media_plot"
   ]
  },
  {
   "cell_type": "code",
   "execution_count": 44,
   "metadata": {},
   "outputs": [
    {
     "data": {
      "text/plain": [
       "151.5"
      ]
     },
     "execution_count": 44,
     "metadata": {},
     "output_type": "execute_result"
    }
   ],
   "source": [
    "mediana_g = sexa_ani.groupby('ling')\n",
    "mediana_plot = round(mediana_g['num_sex_m'].sum().median(),2)\n",
    "mediana_plot"
   ]
  },
  {
   "cell_type": "code",
   "execution_count": 65,
   "metadata": {},
   "outputs": [
    {
     "data": {
      "text/plain": [
       "Text(0, 0.5, 'Linhagens')"
      ]
     },
     "execution_count": 65,
     "metadata": {},
     "output_type": "execute_result"
    },
    {
     "data": {
      "image/png": "[encoded data removed]",
      "text/plain": [
       "<Figure size 1080x720 with 1 Axes>"
      ]
     },
     "metadata": {
      "needs_background": "light"
     },
     "output_type": "display_data"
    }
   ],
   "source": [
    "#Numero total de machos produzidos \n",
    "\n",
    "plt.figure(figsize=(15,10)) #tamanho do gráfico\n",
    "plt.title('Total de machos produzidos por linhagem') #título do gráfico\n",
    "\n",
    "plot = sexa_ani.groupby('ling') #pedindo pra agrupar por linhagem\n",
    "plot['num_sex_m'].sum().sort_values(ascending=True).plot( #plotando a soma de animais e ordenando do maior para o menor\n",
    "kind='barh'\n",
    ")\n",
    "#+++++++++++++++++++++++++++++++++++++++++++++++++++++++++++++++++++++++++++++++++++++++++++++++++++++++++++++++++++++++++++++++++++++++++\n",
    "#plotando faixas de média e mediana\n",
    "\n",
    "\n",
    "plt.plot( #função para plotar o gráfico\n",
    "    [media_plot, media_plot], #faixa que marca a média\n",
    "    [len(sexa_ani.index), 0], \n",
    "    c='red' #cor vermelha da faixa\n",
    ")\n",
    "plt.plot( #função para plotar o gráfico\n",
    "    [mediana_plot, mediana_plot], #faixa que marca a mediana\n",
    "    [len(sexa_ani.index), 0], \n",
    "    c='green' #cor verde da faixa\n",
    ")\n",
    "#+++++++++++++++++++++++++++++++++++++++++++++++++++++++++++++++++++++++++++++++++++++++++++++++++++++++++++++++++++++++++++++++++++++++++\n",
    "#Editando as legendas \n",
    "\n",
    "plt.legend([str(media_plot) + ' média ani/ling', str(mediana_plot) + ' mediana ani/ling'])\n",
    "plt.xlabel('Número de Animais') #definindo nome do eixo X\n",
    "plt.ylabel('Linhagens') #definindo nome do eixo Y"
   ]
  },
  {
   "cell_type": "code",
   "execution_count": 57,
   "metadata": {},
   "outputs": [
    {
     "data": {
      "text/plain": [
       "3.47"
      ]
     },
     "execution_count": 57,
     "metadata": {},
     "output_type": "execute_result"
    }
   ],
   "source": [
    "media_mg = sexa_ani.groupby('ling')                    #Agrupando minha dataframe por linhagem\n",
    "mediana = round(media_mg['num_sex_m'].median(),2)      #Pegando as medianas da coluna 'num_sex_m', arredondando e guardando numa variável\n",
    "media_grafico = round(mediana.mean(),2)                #Calculando a média das minhas medianas e guardando em outra variavel\n",
    "media_grafico"
   ]
  },
  {
   "cell_type": "code",
   "execution_count": 64,
   "metadata": {},
   "outputs": [
    {
     "data": {
      "text/plain": [
       "3.25"
      ]
     },
     "execution_count": 64,
     "metadata": {},
     "output_type": "execute_result"
    }
   ],
   "source": [
    "mediana_grafico = round(mediana.median(),2)          #peguei a variável que continha minhas medianas e calculei a mediana das medianas.\n",
    "mediana_grafico"
   ]
  },
  {
   "cell_type": "code",
   "execution_count": 66,
   "metadata": {},
   "outputs": [
    {
     "data": {
      "text/plain": [
       "Text(0, 0.5, 'Linhagens')"
      ]
     },
     "execution_count": 66,
     "metadata": {},
     "output_type": "execute_result"
    },
    {
     "data": {
      "image/png": "[encoded data removed]",
      "text/plain": [
       "<Figure size 1080x720 with 1 Axes>"
      ]
     },
     "metadata": {
      "needs_background": "light"
     },
     "output_type": "display_data"
    }
   ],
   "source": [
    "# Calculando a mediana da produção de animais machos\n",
    "\n",
    "plt.figure(figsize=(15,10)) #tamanho do gráfico\n",
    "plt.title('Mediana de machos produzidos por linhagem') #título do gráfico\n",
    "\n",
    "plot = sexa_ani.groupby('ling') #pedindo pra agrupar por linhagem\n",
    "plot['num_sex_m'].median().sort_values(ascending=True).plot( #plotando a soma de animais e ordenando do maior para o menor\n",
    "kind='barh'\n",
    ")\n",
    "#+++++++++++++++++++++++++++++++++++++++++++++++++++++++++++++++++++++++++++++++++++++++++++++++++++++++++++++++++++++++++++++++++++++++++\n",
    "#plotando faixas de média e mediana\n",
    "\n",
    "\n",
    "plt.plot( #função para plotar o gráfico\n",
    "    [media_grafico, media_grafico], #faixa que marca a média\n",
    "    [len(sexa_ani.index), 0], \n",
    "    c='red' #cor vermelha da faixa\n",
    ")\n",
    "plt.plot( #função para plotar o gráfico\n",
    "    [mediana_grafico, mediana_grafico], #faixa que marca a mediana\n",
    "    [len(sexa_ani.index), 0], \n",
    "    c='green' #cor verde da faixa\n",
    ")\n",
    "#+++++++++++++++++++++++++++++++++++++++++++++++++++++++++++++++++++++++++++++++++++++++++++++++++++++++++++++++++++++++++++++++++++++++++\n",
    "#Editando as legendas \n",
    "\n",
    "plt.legend([str(media_grafico) + ' média ani/ling', str(mediana_grafico) + ' mediana ani/ling'])\n",
    "plt.xlabel('Número de Animais') #definindo nome do eixo X\n",
    "plt.ylabel('Linhagens') #definindo nome do eixo Y"
   ]
  },
  {
   "cell_type": "code",
   "execution_count": 75,
   "metadata": {},
   "outputs": [
    {
     "data": {
      "text/plain": [
       "Text(0, 0.5, 'Linhagens')"
      ]
     },
     "execution_count": 75,
     "metadata": {},
     "output_type": "execute_result"
    },
    {
     "data": {
      "image/png": "[encoded data removed]",
      "text/plain": [
       "<Figure size 1080x1080 with 1 Axes>"
      ]
     },
     "metadata": {
      "needs_background": "light"
     },
     "output_type": "display_data"
    }
   ],
   "source": [
    "plt.figure(figsize=(15,15))\n",
    "plt.title('Total de machos por linhagem apresentando outliers')\n",
    "sns.boxplot(\n",
    "    \n",
    "    y='ling',\n",
    "    x='num_sex_m',\n",
    "#     hue='ling',\n",
    "    data=sexa_ani.sort_values('ling')\n",
    ")\n",
    "plt.xlabel('Número de Animais com outliers') #definindo nome do eixo X\n",
    "plt.ylabel('Linhagens') #definindo nome do eixo Y\n"
   ]
  },
  {
   "cell_type": "code",
   "execution_count": 74,
   "metadata": {},
   "outputs": [
    {
     "data": {
      "text/html": [
       "<div>\n",
       "<style scoped>\n",
       "    .dataframe tbody tr th:only-of-type {\n",
       "        vertical-align: middle;\n",
       "    }\n",
       "\n",
       "    .dataframe tbody tr th {\n",
       "        vertical-align: top;\n",
       "    }\n",
       "\n",
       "    .dataframe thead th {\n",
       "        text-align: right;\n",
       "    }\n",
       "</style>\n",
       "<table border=\"1\" class=\"dataframe\">\n",
       "  <thead>\n",
       "    <tr style=\"text-align: right;\">\n",
       "      <th></th>\n",
       "      <th>date_hoje</th>\n",
       "      <th>user</th>\n",
       "      <th>ling</th>\n",
       "      <th>num_ani</th>\n",
       "      <th>m_f</th>\n",
       "      <th>date_nasc</th>\n",
       "      <th>id_orig</th>\n",
       "      <th>util</th>\n",
       "      <th>id_solic</th>\n",
       "      <th>data_inicio</th>\n",
       "      <th>...</th>\n",
       "      <th>date_acas</th>\n",
       "      <th>date_nasc_acas</th>\n",
       "      <th>num_nasc</th>\n",
       "      <th>date_sex</th>\n",
       "      <th>num_sex_m</th>\n",
       "      <th>num_sex_f</th>\n",
       "      <th>num_ani_ini</th>\n",
       "      <th>num_ani_fim</th>\n",
       "      <th>obs_desc</th>\n",
       "      <th>grupos_acas</th>\n",
       "    </tr>\n",
       "    <tr>\n",
       "      <th>id</th>\n",
       "      <th></th>\n",
       "      <th></th>\n",
       "      <th></th>\n",
       "      <th></th>\n",
       "      <th></th>\n",
       "      <th></th>\n",
       "      <th></th>\n",
       "      <th></th>\n",
       "      <th></th>\n",
       "      <th></th>\n",
       "      <th></th>\n",
       "      <th></th>\n",
       "      <th></th>\n",
       "      <th></th>\n",
       "      <th></th>\n",
       "      <th></th>\n",
       "      <th></th>\n",
       "      <th></th>\n",
       "      <th></th>\n",
       "      <th></th>\n",
       "      <th></th>\n",
       "    </tr>\n",
       "  </thead>\n",
       "  <tbody>\n",
       "  </tbody>\n",
       "</table>\n",
       "<p>0 rows × 28 columns</p>\n",
       "</div>"
      ],
      "text/plain": [
       "Empty DataFrame\n",
       "Columns: [date_hoje, user, ling, num_ani, m_f, date_nasc, id_orig, util, id_solic, data_inicio, time, total_time, doses, data_solic, data_forn, data_fim, num_m, num_f, date_acas, date_nasc_acas, num_nasc, date_sex, num_sex_m, num_sex_f, num_ani_ini, num_ani_fim, obs_desc, grupos_acas]\n",
       "Index: []\n",
       "\n",
       "[0 rows x 28 columns]"
      ]
     },
     "execution_count": 74,
     "metadata": {},
     "output_type": "execute_result"
    }
   ],
   "source": [
    "sexa_ani[(sexa_ani['num_sex_f'] > 200) & (sexa_ani['num_sex_f'] != 666)]\n",
    "\n"
   ]
  },
  {
   "cell_type": "code",
   "execution_count": null,
   "metadata": {},
   "outputs": [],
   "source": []
  }
 ],
 "metadata": {
  "kernelspec": {
   "display_name": "Python 3",
   "language": "python",
   "name": "python3"
  },
  "language_info": {
   "codemirror_mode": {
    "name": "ipython",
    "version": 3
   },
   "file_extension": ".py",
   "mimetype": "text/x-python",
   "name": "python",
   "nbconvert_exporter": "python",
   "pygments_lexer": "ipython3",
   "version": "3.7.1"
  }
 },
 "nbformat": 4,
 "nbformat_minor": 2
}
