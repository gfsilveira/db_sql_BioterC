{
 "cells": [
  {
   "cell_type": "markdown",
   "metadata": {},
   "source": [
    "Verificando informações referentes aos dados de nascimentos dos animais por linhagem"
   ]
  },
  {
   "cell_type": "code",
   "execution_count": 11,
   "metadata": {},
   "outputs": [],
   "source": [
    "#Importando bibliotecas necessárias para a análise.\n",
    "\n",
    "import matplotlib.pyplot as plt \n",
    "import pandas as pd \n",
    "import os\n",
    "import seaborn as sns\n",
    "\n",
    "\n",
    "plt.rcParams.update({'font.size': 20}) #tamanho da fonte\n",
    "plt.rcParams['xtick.labelsize'] = 20 #tamanho da fonte\n",
    "plt.rcParams['ytick.labelsize'] = 20 #tamanho da fonte"
   ]
  },
  {
   "cell_type": "code",
   "execution_count": 12,
   "metadata": {},
   "outputs": [
    {
     "data": {
      "text/html": [
       "<div>\n",
       "<style scoped>\n",
       "    .dataframe tbody tr th:only-of-type {\n",
       "        vertical-align: middle;\n",
       "    }\n",
       "\n",
       "    .dataframe tbody tr th {\n",
       "        vertical-align: top;\n",
       "    }\n",
       "\n",
       "    .dataframe thead th {\n",
       "        text-align: right;\n",
       "    }\n",
       "</style>\n",
       "<table border=\"1\" class=\"dataframe\">\n",
       "  <thead>\n",
       "    <tr style=\"text-align: right;\">\n",
       "      <th></th>\n",
       "      <th>date_hoje</th>\n",
       "      <th>user</th>\n",
       "      <th>ling</th>\n",
       "      <th>num_ani</th>\n",
       "      <th>m_f</th>\n",
       "      <th>date_nasc</th>\n",
       "      <th>id_orig</th>\n",
       "      <th>util</th>\n",
       "      <th>id_solic</th>\n",
       "      <th>data_inicio</th>\n",
       "      <th>...</th>\n",
       "      <th>date_acas</th>\n",
       "      <th>date_nasc_acas</th>\n",
       "      <th>num_nasc</th>\n",
       "      <th>date_sex</th>\n",
       "      <th>num_sex_m</th>\n",
       "      <th>num_sex_f</th>\n",
       "      <th>num_ani_ini</th>\n",
       "      <th>num_ani_fim</th>\n",
       "      <th>obs_desc</th>\n",
       "      <th>grupos_acas</th>\n",
       "    </tr>\n",
       "    <tr>\n",
       "      <th>id</th>\n",
       "      <th></th>\n",
       "      <th></th>\n",
       "      <th></th>\n",
       "      <th></th>\n",
       "      <th></th>\n",
       "      <th></th>\n",
       "      <th></th>\n",
       "      <th></th>\n",
       "      <th></th>\n",
       "      <th></th>\n",
       "      <th></th>\n",
       "      <th></th>\n",
       "      <th></th>\n",
       "      <th></th>\n",
       "      <th></th>\n",
       "      <th></th>\n",
       "      <th></th>\n",
       "      <th></th>\n",
       "      <th></th>\n",
       "      <th></th>\n",
       "      <th></th>\n",
       "    </tr>\n",
       "  </thead>\n",
       "  <tbody>\n",
       "    <tr>\n",
       "      <th>116</th>\n",
       "      <td>2014-09-23 17:40:33</td>\n",
       "      <td>Tania</td>\n",
       "      <td>Swiss E</td>\n",
       "      <td>5</td>\n",
       "      <td>AAA</td>\n",
       "      <td>1970-01-01 00:11:06</td>\n",
       "      <td>54</td>\n",
       "      <td>nasc</td>\n",
       "      <td>666</td>\n",
       "      <td>1970-01-01 00:11:06</td>\n",
       "      <td>...</td>\n",
       "      <td>2014-08-26 17:06:07</td>\n",
       "      <td>2014-09-23 17:40:33</td>\n",
       "      <td>5</td>\n",
       "      <td>2014-10-14 17:40:33</td>\n",
       "      <td>666</td>\n",
       "      <td>666</td>\n",
       "      <td>666</td>\n",
       "      <td>666</td>\n",
       "      <td>AAA</td>\n",
       "      <td>AAA</td>\n",
       "    </tr>\n",
       "    <tr>\n",
       "      <th>117</th>\n",
       "      <td>2014-09-23 17:40:33</td>\n",
       "      <td>Tania</td>\n",
       "      <td>Swiss E</td>\n",
       "      <td>10</td>\n",
       "      <td>AAA</td>\n",
       "      <td>1970-01-01 00:11:06</td>\n",
       "      <td>56</td>\n",
       "      <td>nasc</td>\n",
       "      <td>666</td>\n",
       "      <td>1970-01-01 00:11:06</td>\n",
       "      <td>...</td>\n",
       "      <td>2014-08-26 17:14:19</td>\n",
       "      <td>2014-09-23 17:40:33</td>\n",
       "      <td>10</td>\n",
       "      <td>2014-10-14 17:40:33</td>\n",
       "      <td>666</td>\n",
       "      <td>666</td>\n",
       "      <td>666</td>\n",
       "      <td>666</td>\n",
       "      <td>AAA</td>\n",
       "      <td>AAA</td>\n",
       "    </tr>\n",
       "    <tr>\n",
       "      <th>118</th>\n",
       "      <td>2014-09-23 17:40:33</td>\n",
       "      <td>Tania</td>\n",
       "      <td>Swiss C</td>\n",
       "      <td>20</td>\n",
       "      <td>AAA</td>\n",
       "      <td>1970-01-01 00:11:06</td>\n",
       "      <td>62</td>\n",
       "      <td>nasc</td>\n",
       "      <td>666</td>\n",
       "      <td>1970-01-01 00:11:06</td>\n",
       "      <td>...</td>\n",
       "      <td>2014-08-26 17:46:07</td>\n",
       "      <td>2014-09-23 17:40:33</td>\n",
       "      <td>20</td>\n",
       "      <td>2014-10-14 17:40:33</td>\n",
       "      <td>666</td>\n",
       "      <td>666</td>\n",
       "      <td>666</td>\n",
       "      <td>666</td>\n",
       "      <td>AAA</td>\n",
       "      <td>AAA</td>\n",
       "    </tr>\n",
       "    <tr>\n",
       "      <th>119</th>\n",
       "      <td>2014-09-23 17:40:47</td>\n",
       "      <td>Tania</td>\n",
       "      <td>Swiss E</td>\n",
       "      <td>10</td>\n",
       "      <td>AAA</td>\n",
       "      <td>1970-01-01 00:11:06</td>\n",
       "      <td>116</td>\n",
       "      <td>nasc</td>\n",
       "      <td>666</td>\n",
       "      <td>1970-01-01 00:11:06</td>\n",
       "      <td>...</td>\n",
       "      <td>2014-08-26 17:06:07</td>\n",
       "      <td>2014-09-23 17:40:47</td>\n",
       "      <td>10</td>\n",
       "      <td>2014-10-14 17:40:47</td>\n",
       "      <td>666</td>\n",
       "      <td>666</td>\n",
       "      <td>666</td>\n",
       "      <td>666</td>\n",
       "      <td>AAA</td>\n",
       "      <td>AAA</td>\n",
       "    </tr>\n",
       "    <tr>\n",
       "      <th>120</th>\n",
       "      <td>2014-09-23 17:40:47</td>\n",
       "      <td>Tania</td>\n",
       "      <td>Swiss E</td>\n",
       "      <td>20</td>\n",
       "      <td>AAA</td>\n",
       "      <td>1970-01-01 00:11:06</td>\n",
       "      <td>117</td>\n",
       "      <td>nasc</td>\n",
       "      <td>666</td>\n",
       "      <td>1970-01-01 00:11:06</td>\n",
       "      <td>...</td>\n",
       "      <td>2014-08-26 17:14:19</td>\n",
       "      <td>2014-09-23 17:40:47</td>\n",
       "      <td>20</td>\n",
       "      <td>2014-10-14 17:40:47</td>\n",
       "      <td>666</td>\n",
       "      <td>666</td>\n",
       "      <td>666</td>\n",
       "      <td>666</td>\n",
       "      <td>AAA</td>\n",
       "      <td>AAA</td>\n",
       "    </tr>\n",
       "  </tbody>\n",
       "</table>\n",
       "<p>5 rows × 28 columns</p>\n",
       "</div>"
      ],
      "text/plain": [
       "              date_hoje   user     ling  num_ani  m_f           date_nasc  \\\n",
       "id                                                                          \n",
       "116 2014-09-23 17:40:33  Tania  Swiss E        5  AAA 1970-01-01 00:11:06   \n",
       "117 2014-09-23 17:40:33  Tania  Swiss E       10  AAA 1970-01-01 00:11:06   \n",
       "118 2014-09-23 17:40:33  Tania  Swiss C       20  AAA 1970-01-01 00:11:06   \n",
       "119 2014-09-23 17:40:47  Tania  Swiss E       10  AAA 1970-01-01 00:11:06   \n",
       "120 2014-09-23 17:40:47  Tania  Swiss E       20  AAA 1970-01-01 00:11:06   \n",
       "\n",
       "    id_orig  util  id_solic         data_inicio     ...      \\\n",
       "id                                                  ...       \n",
       "116      54  nasc       666 1970-01-01 00:11:06     ...       \n",
       "117      56  nasc       666 1970-01-01 00:11:06     ...       \n",
       "118      62  nasc       666 1970-01-01 00:11:06     ...       \n",
       "119     116  nasc       666 1970-01-01 00:11:06     ...       \n",
       "120     117  nasc       666 1970-01-01 00:11:06     ...       \n",
       "\n",
       "              date_acas      date_nasc_acas  num_nasc            date_sex  \\\n",
       "id                                                                          \n",
       "116 2014-08-26 17:06:07 2014-09-23 17:40:33         5 2014-10-14 17:40:33   \n",
       "117 2014-08-26 17:14:19 2014-09-23 17:40:33        10 2014-10-14 17:40:33   \n",
       "118 2014-08-26 17:46:07 2014-09-23 17:40:33        20 2014-10-14 17:40:33   \n",
       "119 2014-08-26 17:06:07 2014-09-23 17:40:47        10 2014-10-14 17:40:47   \n",
       "120 2014-08-26 17:14:19 2014-09-23 17:40:47        20 2014-10-14 17:40:47   \n",
       "\n",
       "     num_sex_m  num_sex_f  num_ani_ini  num_ani_fim obs_desc grupos_acas  \n",
       "id                                                                        \n",
       "116        666        666          666          666      AAA         AAA  \n",
       "117        666        666          666          666      AAA         AAA  \n",
       "118        666        666          666          666      AAA         AAA  \n",
       "119        666        666          666          666      AAA         AAA  \n",
       "120        666        666          666          666      AAA         AAA  \n",
       "\n",
       "[5 rows x 28 columns]"
      ]
     },
     "execution_count": 12,
     "metadata": {},
     "output_type": "execute_result"
    }
   ],
   "source": [
    "#Filtros para trabalhar com os dados da minha dataframe original\n",
    "\n",
    "nume_ani = pd.read_csv('../tabelas_test/est_est_log_2019-06-18.csv', index_col='id')\n",
    "nume_ani = nume_ani[(nume_ani['num_ani'] < 200) \n",
    "                    & (nume_ani['util'] == 'nasc')\n",
    "                    & (nume_ani['ling'] != 'Test')]\n",
    " #descarte[(descarte['obs_desc'] != 'AAA')\n",
    "                   \n",
    "\n",
    "\n",
    "#+++++++++++++++++++++++++++++++++++++++++++++++++++++++++++++++++++++++++++++++++++++++++++++++++++++++++++++++++++++++++++++++\n",
    "#Alterando formato da data\n",
    "\n",
    "datas = ['date_hoje', 'date_nasc', 'data_inicio', 'date_acas', 'date_nasc_acas', 'date_sex']\n",
    "\n",
    "for d in datas:\n",
    "    nume_ani[d] = pd.to_datetime(nume_ani[d], unit = 's')\n",
    "    \n",
    "nume_ani.head()"
   ]
  },
  {
   "cell_type": "code",
   "execution_count": 13,
   "metadata": {},
   "outputs": [
    {
     "data": {
      "text/plain": [
       "15106"
      ]
     },
     "execution_count": 13,
     "metadata": {},
     "output_type": "execute_result"
    }
   ],
   "source": [
    "#numero total de animais por nascimento\n",
    "nume_ani['num_ani'].sum()"
   ]
  },
  {
   "cell_type": "code",
   "execution_count": 14,
   "metadata": {},
   "outputs": [
    {
     "data": {
      "text/plain": [
       "1808"
      ]
     },
     "execution_count": 14,
     "metadata": {},
     "output_type": "execute_result"
    }
   ],
   "source": [
    "#numero total de eventos de nascimento\n",
    "len(nume_ani)"
   ]
  },
  {
   "cell_type": "code",
   "execution_count": 15,
   "metadata": {},
   "outputs": [],
   "source": [
    "#Substituindo linhagens  - ' S129WT', 'S129WT'] PARA '129/SV-E'\n",
    "\n",
    "nume_ani['ling'].replace([' S129WT', 'S129WT'], '129/SV-E', inplace=True)\n",
    "#descarte[(descarte['ling'] == '129/SV-E')].info()\n",
    "\n",
    "'''\n",
    "#++++++++++++++++++++++++++++++++++++++++++++++++++++++++++++++++++++++++++++++++++++++++++++++\n",
    "'''\n",
    "\n",
    "#Substituindo linhagens  - ' S129KO'  PARA 'S129KO'\n",
    "\n",
    "nume_ani['ling'].replace(' S129KO', 'S129KO', inplace=True)\n",
    "#descarte[(descarte['ling'] == 'S129KO')].info()\n",
    "\n",
    "'''\n",
    "#++++++++++++++++++++++++++++++++++++++++++++++++++++++++++++++++++++++++++++++++++++++++++++++\n",
    "'''\n",
    "#Substituindo linhagens  - 'C57BL06WT'  PARA 'C57BL/6'\n",
    "\n",
    "nume_ani['ling'].replace(['C57BL06WT','C57BL06WT\\t'], 'C57BL/6', inplace=True)\n",
    "#descarte[(descarte['ling'] == 'C57BL/6')].info()\n",
    "\n",
    "'''\n",
    "#++++++++++++++++++++++++++++++++++++++++++++++++++++++++++++++++++++++++++++++++++++++++++++++\n",
    "'''\n",
    "#Substituindo linhagens  - 'Swiss A' PARA 'Swiss-1 A'\n",
    "\n",
    "nume_ani['ling'].replace(['Swiss A','Swiss/CFW', 'Swiss/CFW A'], 'Swiss-1 A', inplace=True)\n",
    "#descarte[(descarte['ling'] == 'Swiss-1 A')].info()\n",
    "\n",
    "'''\n",
    "#++++++++++++++++++++++++++++++++++++++++++++++++++++++++++++++++++++++++++++++++++++++++++++++\n",
    "'''\n",
    "#Substituindo linhagens  - 'Swiss B' PARA 'Swiss-1 B'\n",
    "\n",
    "nume_ani['ling'].replace(['Swiss B','Swiss/CFW B'], 'Swiss-1 B', inplace=True)\n",
    "#descarte[(descarte['ling'] == 'Swiss-1 B')].info()\n",
    "\n",
    "'''\n",
    "#++++++++++++++++++++++++++++++++++++++++++++++++++++++++++++++++++++++++++++++++++++++++++++++\n",
    "'''\n",
    "#Substituindo linhagens  - 'Swiss C' PARA 'Swiss-1 C'\n",
    "\n",
    "nume_ani['ling'].replace(['Swiss C','Swiss/CFW C'], 'Swiss-1 C', inplace=True)\n",
    "#descarte[(descarte['ling'] == 'Swiss-1 C')].info()\n",
    "\n",
    "'''\n",
    "#++++++++++++++++++++++++++++++++++++++++++++++++++++++++++++++++++++++++++++++++++++++++++++++\n",
    "'''\n",
    "#Substituindo linhagens  - 'Swiss D' PARA 'Swiss-1 D'\n",
    "\n",
    "nume_ani['ling'].replace(['Swiss D','Swiss/CFW D'], 'Swiss-1 D', inplace=True)\n",
    "#descarte[(descarte['ling'] == 'Swiss-1 D')].info()\n",
    "\n",
    "'''\n",
    "#++++++++++++++++++++++++++++++++++++++++++++++++++++++++++++++++++++++++++++++++++++++++++++++\n",
    "'''\n",
    "#Substituindo linhagens  - 'Swiss E' PARA 'Swiss-1 E'\n",
    "\n",
    "nume_ani['ling'].replace('Swiss E', 'Swiss-1 E', inplace=True)\n",
    "#descarte[(descarte['ling'] == 'Swiss-1 E')].info()\n",
    "'''\n",
    "#++++++++++++++++++++++++++++++++++++++++++++++++++++++++++++++++++++++++++++++++++++++++++++++\n",
    "'''\n",
    "#Substituindo linhagens  - 'Swiss-2 A' PARA 'Swiss-2 A'\n",
    "\n",
    "nume_ani['ling'].replace('Swiss-2 A ', 'Swiss-2 A', inplace=True)\n",
    "#descarte[(descarte['ling'] == 'Swiss-1 E')].info()"
   ]
  },
  {
   "cell_type": "code",
   "execution_count": 16,
   "metadata": {},
   "outputs": [
    {
     "data": {
      "text/plain": [
       "Balb/c       498\n",
       "C57BL/6      460\n",
       "S129KO       250\n",
       "129/SV-E     149\n",
       "C3H          102\n",
       "Swiss-1 A     48\n",
       "Swiss-1 E     47\n",
       "Swiss-1 C     38\n",
       "Swiss-1 B     36\n",
       "Swiss-1 D     33\n",
       "Swiss-2 C     27\n",
       "Swiss-2 B     24\n",
       "DBA/1J        24\n",
       "Swiss-2 E     21\n",
       "Swiss-2 D     21\n",
       "Swiss-2 A     21\n",
       "AG129          9\n",
       "Name: ling, dtype: int64"
      ]
     },
     "execution_count": 16,
     "metadata": {},
     "output_type": "execute_result"
    }
   ],
   "source": [
    "nume_ani['ling'].value_counts()"
   ]
  },
  {
   "cell_type": "markdown",
   "metadata": {},
   "source": [
    "Calculo de media e mediana para printar no gráfico as faixas verde e vermelha"
   ]
  },
  {
   "cell_type": "code",
   "execution_count": 17,
   "metadata": {},
   "outputs": [
    {
     "data": {
      "text/plain": [
       "381.0"
      ]
     },
     "execution_count": 17,
     "metadata": {},
     "output_type": "execute_result"
    }
   ],
   "source": [
    "mediana = nume_ani.groupby('ling')                      #Agrupando por linhagem e guardando em uma variável\n",
    "mediana = round(mediana['num_ani'].sum().median(),2)    #Somando o numero total de animas e pedidndo a mediana\n",
    "mediana"
   ]
  },
  {
   "cell_type": "code",
   "execution_count": 18,
   "metadata": {},
   "outputs": [
    {
     "data": {
      "text/plain": [
       "888.59"
      ]
     },
     "execution_count": 18,
     "metadata": {},
     "output_type": "execute_result"
    }
   ],
   "source": [
    "media_g = nume_ani.groupby('ling')                      #Agrupando por linhagem e guardando em uma variável\n",
    "media = round(media_g['num_ani'].sum().mean(),2)        #Somando o numero total de animais e calculando a média\n",
    "media                                                   #função .round() serve para arredondar"
   ]
  },
  {
   "cell_type": "code",
   "execution_count": 22,
   "metadata": {},
   "outputs": [
    {
     "data": {
      "image/png": "[encoded data removed]",
      "text/plain": [
       "<Figure size 1080x720 with 1 Axes>"
      ]
     },
     "metadata": {
      "needs_background": "light"
     },
     "output_type": "display_data"
    }
   ],
   "source": [
    "plt.figure(figsize=(15,10)) #tamanho do gráfico\n",
    "plt.title('Total de nascimentos de camundongos por linhagem') #título do gráfico\n",
    "\n",
    "plot = nume_ani.groupby('ling') #pedindo pra agrupar por linhagem\n",
    "plot['num_ani'].sum().sort_values(ascending=True).plot( #plotando a soma de animais e ordenando do maior para o menor\n",
    "kind='barh'\n",
    ")\n",
    "\n",
    "plt.plot( #função para plotar o gráfico\n",
    "    [media, media], #faixa que marca a média\n",
    "    [len(nume_ani.index), 0], \n",
    "    c='red' #cor vermelha da faixa\n",
    ")\n",
    "plt.plot( #função para plotar o gráfico\n",
    "    [mediana,mediana], #faixa que marca a mediana\n",
    "    [len(nume_ani.index), 0], \n",
    "    c='green' #cor verde da faixa\n",
    ")\n",
    "\n",
    "\n",
    "plt.legend([str(media) + ' média ani/ling', str(mediana) + ' mediana ani/ling'])\n",
    "plt.xlabel('Número de Animais') #definindo nome do eixo X\n",
    "plt.ylabel('Linhagens') #definindo nome do eixo Y\n",
    "#plt.annotate()\n",
    "plt.savefig(\n",
    "    fname=\"../resultados/17-numero_total_animais.png\", #pasta e nome do arquivo onde vai ser salvo\n",
    "    bbox_inches='tight', #função que deixa o gráfico mais próxima da margem\n",
    "    dpi=150, #numero de pixels da imagem?\n",
    "    transparent=True #deixar o gráfico transparente\n",
    ")\n"
   ]
  },
  {
   "cell_type": "code",
   "execution_count": 24,
   "metadata": {},
   "outputs": [
    {
     "data": {
      "text/plain": [
       "8.82"
      ]
     },
     "execution_count": 24,
     "metadata": {},
     "output_type": "execute_result"
    }
   ],
   "source": [
    "media_plot = nume_ani.groupby('ling')                       #agrupando por linhagem e guardando na variável\n",
    "calcu_mediana = round(media_plot['num_ani'].median(), 2)  #calculando a mediana de cada linhagem para plotar traço no gráfico\n",
    "media_grafico = round(calcu_mediana.mean(), 2)                #Calculando a media das minhas medianas\n",
    "media_grafico"
   ]
  },
  {
   "cell_type": "code",
   "execution_count": 25,
   "metadata": {},
   "outputs": [
    {
     "data": {
      "text/plain": [
       "10.0"
      ]
     },
     "execution_count": 25,
     "metadata": {},
     "output_type": "execute_result"
    }
   ],
   "source": [
    "mediana_plot = nume_ani.groupby('ling')                 #agrupando por linhagem e guardando na variável\n",
    "mediana_grafico = calcu_mediana.median()                #Calculando a mediana da mediana que já foi estabelecida na célula acima\n",
    "mediana_grafico"
   ]
  },
  {
   "cell_type": "code",
   "execution_count": null,
   "metadata": {},
   "outputs": [],
   "source": [
    "# Plotando Gráfico referente a todos animais produzidos por linhagem\n",
    "\n",
    "\n",
    "plt.figure(figsize=(15,10))\n",
    "plt.title('Média de nascimentos por linhagem')\n",
    "\n",
    "plot = nume_ani.groupby('ling')\n",
    "plot['num_ani'].median().sort_values(ascending=True).plot(\n",
    "kind='barh'\n",
    ")\n",
    "\n",
    "#Plotagem de faixas (média e mediana)\n",
    "\n",
    "plt.plot( #função para plotar o gráfico\n",
    "    [media_grafico, media_grafico], #faixa que marca a média\n",
    "    [len(nume_ani.index), 0], \n",
    "    c='red' #cor vermelha da faixa\n",
    ")\n",
    "plt.plot( #função para plotar o gráfico\n",
    "    [mediana_grafico, mediana_grafico], #faixa que marca a mediana\n",
    "    [len(nume_ani.index), 0], \n",
    "    c='green' #cor verde da faixa\n",
    ")\n",
    "\n",
    "#Editando gráfico com legendas\n",
    "\n",
    "plt.legend([str(media_grafico) + ' média ani/ling', str(mediana_grafico) + ' mediana ani/ling'])\n",
    "plt.xlabel('Número de Animais') #definindo nome do eixo X\n",
    "plt.ylabel('Linhagens') #definindo nome do eixo Y\n",
    "\n",
    "\n",
    "#Salvando os gráficos\n",
    "plt.savefig(\n",
    "    fname=\"../resultados/17-numero_media_animais.png\", #pasta e nome do arquivo onde vai ser salvo\n",
    "    bbox_inches='tight', #função que deixa o gráfico mais próxima da margem\n",
    "    dpi=150, #numero de pixels da imagem?\n",
    "    transparent=True #deixar o gráfico transparente\n",
    ")\n",
    "\n"
   ]
  },
  {
   "cell_type": "code",
   "execution_count": null,
   "metadata": {},
   "outputs": [],
   "source": []
  },
  {
   "cell_type": "code",
   "execution_count": null,
   "metadata": {},
   "outputs": [],
   "source": [
    "#Valores discrepantes do numero de nascimentos de animais\n",
    "\n",
    "plt.figure(figsize=(15,15))\n",
    "plt.title('Total de nascimentos por linhagem com outliers')\n",
    "sns.boxplot(\n",
    "    \n",
    "    y='ling',\n",
    "    x='num_nasc',\n",
    "#     hue='ling',\n",
    "    data=nume_ani.sort_values('ling')\n",
    ")\n",
    "\n",
    "plt.xlabel('Número de Animais com outliers') #definindo nome do eixo X\n",
    "plt.ylabel('Linhagens') #definindo nome do eixo Y\n",
    "\n",
    "plt.savefig(\n",
    "    fname=\"../resultados/17-numero_total_animais_boxplot.png\", #pasta e nome do arquivo onde vai ser salvo\n",
    "    bbox_inches='tight', #função que deixa o gráfico mais próxima da margem\n",
    "    dpi=150, #numero de pixels da imagem?\n",
    "    transparent=True #deixar o gráfico transparente\n",
    ")"
   ]
  },
  {
   "cell_type": "markdown",
   "metadata": {},
   "source": [
    "++++++++++++++++++++++++++++++++++++++++++++++++++++++++++++++++++++++++++++++++++++++++++++++++++++++++++++++++++++++++++++++++++++"
   ]
  },
  {
   "cell_type": "markdown",
   "metadata": {},
   "source": [
    "RETIRANDO OS OUTLIERS DOS DADOS"
   ]
  },
  {
   "cell_type": "code",
   "execution_count": null,
   "metadata": {},
   "outputs": [],
   "source": [
    "#Criando uma nova Dataframe, filtrando os valores discrepantes\n",
    "q1 = nume_ani['num_ani'].quantile(0.25)\n",
    "q3 = nume_ani['num_ani'].quantile(0.75)\n",
    "iqr = q3 - q1\n",
    "\n",
    "sem_out = nume_ani[(nume_ani['num_ani'] > (q1 - 1.5 * iqr)) & (nume_ani['num_ani'] < (q3 + 1.5 * iqr))]#['num_ani']\n",
    "sem_out.head()"
   ]
  },
  {
   "cell_type": "code",
   "execution_count": null,
   "metadata": {},
   "outputs": [],
   "source": [
    "test_g= sem_out.groupby('ling')\n",
    "test_g.mean()"
   ]
  },
  {
   "cell_type": "code",
   "execution_count": null,
   "metadata": {},
   "outputs": [],
   "source": [
    "mediana_g = sem_out.groupby('ling')                      #Agrupando por linhagem e guardando em uma variável\n",
    "mediana = round(mediana_g['num_ani'].sum().median(),2)    #Somando o numero total de animas e pedidndo a mediana\n",
    "mediana"
   ]
  },
  {
   "cell_type": "code",
   "execution_count": null,
   "metadata": {},
   "outputs": [],
   "source": [
    "media_g = sem_out.groupby('ling')                      #Agrupando por linhagem e guardando em uma variável\n",
    "media = round(media_g['num_ani'].sum().mean(),2)        #Somando o numero total de animais e calculando a média\n",
    "media                                                   #função .round() serve para arredondar"
   ]
  },
  {
   "cell_type": "code",
   "execution_count": null,
   "metadata": {},
   "outputs": [],
   "source": [
    "#Gráfico total de animais com a retirada de outliers\n",
    "\n",
    "plt.figure(figsize=(15,10))\n",
    "plt.title('Total de nascimentos por linhagem Sem Outliers')\n",
    "\n",
    "#Calculando a retirada de outliers\n",
    "q1 = nume_ani['num_ani'].quantile(0.25)\n",
    "q3 = nume_ani['num_ani'].quantile(0.75)\n",
    "iqr = q3 - q1\n",
    "\n",
    "test = nume_ani[(nume_ani['num_ani'] > (q1 - 1.5 * iqr)) & (nume_ani['num_ani'] < (q3 + 1.5 * iqr))]#['num_ani']\n",
    "test\n",
    "\n",
    "plot = test.groupby('ling')\n",
    "plot['num_ani'].sum().sort_values(ascending=True).plot(\n",
    "kind='barh'\n",
    ")\n",
    "\n",
    "plt.plot( #função para plotar o gráfico\n",
    "    [media, media], #faixa que marca a média\n",
    "    [len(nume_ani.index), 0], \n",
    "    c='red' #cor vermelha da faixa\n",
    ")\n",
    "plt.plot( #função para plotar o gráfico\n",
    "    [mediana,mediana], #faixa que marca a mediana\n",
    "    [len(nume_ani.index), 0], \n",
    "    c='green' #cor verde da faixa\n",
    ")\n",
    "\n",
    "\n",
    "plt.legend([str(media) + ' média ani/ling', str(mediana) + ' mediana ani/ling'])\n",
    "\n",
    "plt.xlabel('Número de Animais') #definindo nome do eixo X\n",
    "plt.ylabel('Linhagens') #definindo nome do eixo Y\n"
   ]
  },
  {
   "cell_type": "code",
   "execution_count": null,
   "metadata": {},
   "outputs": [],
   "source": [
    "#Bloxplot com a retirada de outliers\n",
    "\n",
    "plt.figure(figsize=(15,15))\n",
    "plt.title('Total de nascimentos por linhagem retirando outliers')\n",
    "sns.boxplot(\n",
    "    \n",
    "    y='ling',\n",
    "    x='num_nasc',\n",
    "#     hue='ling',\n",
    "    data=test.sort_values('ling')\n",
    ")\n",
    "plt.xlabel('Número de Animais com outliers') #definindo nome do eixo X\n",
    "plt.ylabel('Linhagens') #definindo nome do eixo Y\n"
   ]
  },
  {
   "cell_type": "code",
   "execution_count": null,
   "metadata": {},
   "outputs": [],
   "source": [
    "#Calculo de média e mediana sem outlier\n",
    "\n",
    "media_geral = round(test['num_ani'].sum() / len(test.index), 2) \n",
    "mediana_geral = round(test.median()['num_ani'],2)\n",
    "\n",
    "\n",
    "#Gráfico referente a todos animais produzidos por linhagem\n",
    "\n",
    "\n",
    "plt.figure(figsize=(15,10))\n",
    "plt.title('Média de nascimentos por linhagem')\n",
    "\n",
    "plot = test.groupby('ling')\n",
    "plot['num_ani'].mean().sort_values(ascending=True).plot(\n",
    "kind='barh'\n",
    ")\n",
    "\n",
    "#Plotagem de faixas (média e mediana)\n",
    "\n",
    "plt.plot( #função para plotar o gráfico\n",
    "    [media_geral, media_geral], #faixa que marca a média\n",
    "    [len(test.index), 0], \n",
    "    c='red' #cor vermelha da faixa\n",
    ")\n",
    "plt.plot( #função para plotar o gráfico\n",
    "    [mediana_geral, mediana_geral], #faixa que marca a mediana\n",
    "    [len(test.index), 0], \n",
    "    c='green' #cor verde da faixa\n",
    ")\n",
    "\n",
    "\n",
    "\n",
    "\n",
    "plt.xlabel('Número de Animais') #definindo nome do eixo X\n",
    "plt.ylabel('Linhagens') #definindo nome do eixo Y\n"
   ]
  },
  {
   "cell_type": "code",
   "execution_count": null,
   "metadata": {},
   "outputs": [],
   "source": []
  }
 ],
 "metadata": {
  "kernelspec": {
   "display_name": "Python 3",
   "language": "python",
   "name": "python3"
  },
  "language_info": {
   "codemirror_mode": {
    "name": "ipython",
    "version": 3
   },
   "file_extension": ".py",
   "mimetype": "text/x-python",
   "name": "python",
   "nbconvert_exporter": "python",
   "pygments_lexer": "ipython3",
   "version": "3.7.1"
  }
 },
 "nbformat": 4,
 "nbformat_minor": 2
}
