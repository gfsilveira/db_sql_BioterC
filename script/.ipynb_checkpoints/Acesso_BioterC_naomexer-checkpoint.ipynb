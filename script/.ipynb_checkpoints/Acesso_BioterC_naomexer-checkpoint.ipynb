{
 "cells": [
  {
   "cell_type": "code",
   "execution_count": 1,
   "metadata": {},
   "outputs": [],
   "source": [
    "import pymysql\n",
    "import pandas as pd\n",
    "from datetime import date\n",
    "\n",
    "hj = date.today()\n",
    "\n",
    "host='189.125.242.30'\n",
    "port=3306\n",
    "user='bioterc_view'\n",
    "passwd='@B240T080'\n",
    "db='biote621_icc2'\n",
    "\n",
    "con = pymysql.connect(host=host,\n",
    "                       port=port,\n",
    "                       user=user,\n",
    "                       passwd=passwd,\n",
    "                       db=db,\n",
    "                      )\n",
    "with con:\n",
    "    cur = con.cursor()\n",
    "    cur.execute(f\"SHOW TABLES FROM `{db}`\")\n",
    "    rows = cur.fetchall()\n",
    "\n",
    "tabelas = list()\n",
    "for row in rows:\n",
    "    tabelas.append(f\"{row[0]}\")"
   ]
  },
  {
   "cell_type": "code",
   "execution_count": 2,
   "metadata": {},
   "outputs": [
    {
     "name": "stdout",
     "output_type": "stream",
     "text": [
      "0 - backup_prog\n",
      "1 - cep\n",
      "2 - conf_smtp\n",
      "3 - consumo\n",
      "4 - est_est\n",
      "5 - est_est_log\n",
      "6 - est_nasc\n",
      "7 - grupos_acas\n",
      "8 - laboratorios\n",
      "9 - licenciamento\n",
      "10 - linhagens\n",
      "11 - mater_est_est\n",
      "12 - material\n",
      "13 - nasc_rast\n",
      "14 - pedido\n",
      "15 - users\n"
     ]
    }
   ],
   "source": [
    "#for t in tabelas:\n",
    "    #print(t)\n",
    "for k, v in enumerate(tabelas):\n",
    "    print(f'{k} - {v}')"
   ]
  },
  {
   "cell_type": "code",
   "execution_count": 3,
   "metadata": {},
   "outputs": [
    {
     "name": "stdout",
     "output_type": "stream",
     "text": [
      "est_est\n",
      "est_est_log\n",
      "est_nasc\n",
      "grupos_acas\n",
      "laboratorios\n",
      "licenciamento\n",
      "linhagens\n",
      "mater_est_est\n",
      "material\n",
      "nasc_rast\n",
      "pedido\n",
      "users\n"
     ]
    }
   ],
   "source": [
    "dados = dict()\n",
    "valores = list()\n",
    "for t in range(len(tabelas)):\n",
    "    if t != 3 & t != 4:\n",
    "        with con:\n",
    "            cur.execute(f\"SELECT * FROM `{tabelas[t]}`\")\n",
    "            rows = cur.fetchall()\n",
    "            desc = cur.description\n",
    "        for c in range(len(desc)):\n",
    "            for cc in range(len(rows)):\n",
    "                valores.append(rows[cc][c])\n",
    "            dados[desc[c][0]] = valores[:]\n",
    "            valores.clear()\n",
    "        if 'id' in dados.keys():\n",
    "            print(tabelas[t])\n",
    "            tabela = pd.DataFrame.from_dict(dados).set_index('id')\n",
    "            dados.clear()\n",
    "            tabela.to_csv('tabelas_test/'+ str(tabelas[t]) +'_'+ str(hj) +'.csv')"
   ]
  }
 ],
 "metadata": {
  "kernelspec": {
   "display_name": "Python 3",
   "language": "python",
   "name": "python3"
  },
  "language_info": {
   "codemirror_mode": {
    "name": "ipython",
    "version": 3
   },
   "file_extension": ".py",
   "mimetype": "text/x-python",
   "name": "python",
   "nbconvert_exporter": "python",
   "pygments_lexer": "ipython3",
   "version": "3.7.1"
  }
 },
 "nbformat": 4,
 "nbformat_minor": 2
}
