{
 "cells": [
  {
   "cell_type": "code",
   "execution_count": 7,
   "metadata": {},
   "outputs": [
    {
     "name": "stdout",
     "output_type": "stream",
     "text": [
      "[{'uf': 'Rio de Janiero', 'sigla': 'RJ'}, {'uf': 'Paraná', 'sigla': 'PR'}]\n"
     ]
    }
   ],
   "source": [
    "brasil = []\n",
    "estado1 = {'uf': 'Rio de Janiero', 'sigla': 'RJ'}\n",
    "estado2 = {'uf': 'Paraná', 'sigla': 'PR'}\n",
    "brasil.append(estado1)\n",
    "brasil.append(estado2)\n",
    "    \n",
    "print(brasil)\n"
   ]
  },
  {
   "cell_type": "code",
   "execution_count": 10,
   "metadata": {},
   "outputs": [
    {
     "name": "stdin",
     "output_type": "stream",
     "text": [
      "Unidade Federativa:  kljlj\n",
      "Sigla Federativa:  jkjl\n",
      "Unidade Federativa:  jjlkj\n",
      "Sigla Federativa:  jlklkj\n",
      "Unidade Federativa:  jljoioj\n",
      "Sigla Federativa:  joijoij\n"
     ]
    },
    {
     "name": "stdout",
     "output_type": "stream",
     "text": [
      "O campo uf tem valor kljlj.\n",
      "O campo sigla tem valor jkjl.\n",
      "O campo uf tem valor jjlkj.\n",
      "O campo sigla tem valor jlklkj.\n",
      "O campo uf tem valor jljoioj.\n",
      "O campo sigla tem valor joijoij.\n"
     ]
    }
   ],
   "source": [
    "estado = dict()\n",
    "brasil = list()\n",
    "for c in range(0, 3):\n",
    "    estado['uf'] = str(input('Unidade Federativa: '))\n",
    "    estado['sigla'] = str(input('Sigla Federativa: '))\n",
    "    brasil.append(estado.copy())\n",
    "for e in brasil:    \n",
    "    for k, v in e.items():\n",
    "        print(f'O campo {k} tem valor {v}.')"
   ]
  },
  {
   "cell_type": "code",
   "execution_count": 11,
   "metadata": {},
   "outputs": [
    {
     "name": "stdin",
     "output_type": "stream",
     "text": [
      "Nome:  Eluana\n",
      "Média de Eluana:  9\n"
     ]
    },
    {
     "name": "stdout",
     "output_type": "stream",
     "text": [
      "-=-=-=-=-=-=-=-=-=-=-=-=-=-=-=-=-=-=-=-=-=-=-=-=-=-=-=-=-=-=\n",
      " - nome é de Eluana\n",
      " - média é de 9.0\n",
      " - situação é de Aprovado\n"
     ]
    }
   ],
   "source": [
    "aluno = dict()\n",
    "aluno['nome'] = str(input('Nome: '))\n",
    "aluno['média'] = float(input(f'Média de {aluno[\"nome\"]}: '))\n",
    "if aluno['média'] >= 7:\n",
    "    aluno['situação'] = 'Aprovado'\n",
    "elif 5 <= aluno['média'] < 7:\n",
    "    aluno['situação'] = 'Recuperação'\n",
    "else: \n",
    "    aluno['situação'] = 'Reprovado'\n",
    "print('-=' * 30)\n",
    "for k, v in aluno.items():\n",
    "    print(f' - {k} é de {v}')\n",
    "                             "
   ]
  },
  {
   "cell_type": "code",
   "execution_count": 12,
   "metadata": {},
   "outputs": [
    {
     "name": "stdout",
     "output_type": "stream",
     "text": [
      "Valores sorteados: \n",
      "jogador-1 tirou 4 no dado.\n",
      "jogador-2 tirou 3 no dado.\n",
      "jogador-3 tirou 1 no dado.\n",
      "jogador-4 tirou 4 no dado.\n",
      "-=-=-=-=-=-=-=-=-=-=-=-=-=-=-=-=-=-=-=-=-=-=-=-=-=-=-=-=-=-=\n",
      "== RANKING DOS JOGADORES ==\n",
      "1° lugar: jogador-1 com 4.\n",
      "2° lugar: jogador-4 com 4.\n",
      "3° lugar: jogador-2 com 3.\n",
      "4° lugar: jogador-3 com 1.\n"
     ]
    }
   ],
   "source": [
    "from random import randint\n",
    "from time import sleep\n",
    "from operator import itemgetter\n",
    "jogo = {'jogador-1': randint(1, 6),\n",
    "        'jogador-2': randint(1, 6),\n",
    "        'jogador-3': randint(1, 6),\n",
    "        'jogador-4': randint(1, 6)}\n",
    "ranking = list()\n",
    "print('Valores sorteados: ')\n",
    "for k, v in jogo.items():\n",
    "    print(f'{k} tirou {v} no dado.')\n",
    "    sleep(1)\n",
    "ranking = sorted(jogo.items(), key=itemgetter(1), reverse=True)\n",
    "print('-=' * 30)\n",
    "print('== RANKING DOS JOGADORES ==')\n",
    "for i, v in enumerate(ranking):\n",
    "    print(f'{i+1}° lugar: {v[0]} com {v[1]}.')\n",
    "    sleep(1)"
   ]
  },
  {
   "cell_type": "code",
   "execution_count": 17,
   "metadata": {},
   "outputs": [
    {
     "name": "stdin",
     "output_type": "stream",
     "text": [
      "Nome:  Eloiza\n",
      "Ano de nascimento:  1994\n",
      "Carteira de trabalho (0 não tem):  1234\n",
      "Ano de contratação:  2019\n",
      "Salário: R$  1500\n"
     ]
    },
    {
     "name": "stdout",
     "output_type": "stream",
     "text": [
      "-=-=-=-=-=-=-=-=-=-=-=-=-=-=-=-=-=-=-=-=-=-=-=-=-=-=-=-=-=-=\n",
      "  - nome tem o valor Eloiza\n",
      "  - idade tem o valor 25\n",
      "  - ctps tem o valor 1234\n",
      "  - contratação tem o valor 2019\n",
      "  - Salário tem o valor 1500.0\n",
      "  - aposentadoria tem o valor 60\n"
     ]
    }
   ],
   "source": [
    "from datetime import datetime\n",
    "dados = dict()\n",
    "dados['nome'] = str(input('Nome: '))\n",
    "nasc = int(input('Ano de nascimento: '))\n",
    "dados['idade'] = datetime.now().year - nasc\n",
    "dados['ctps'] = int(input('Carteira de trabalho (0 não tem): '))\n",
    "if dados['ctps'] != 0:\n",
    "    dados['contratação'] = int(input('Ano de contratação: '))\n",
    "    dados['Salário'] = float(input('Salário: R$ '))\n",
    "    dados['aposentadoria'] = dados['idade'] + ((dados ['contratação'] + 35)- datetime.now().year)\n",
    "print('-=' * 30)\n",
    "for k, v in dados.items():\n",
    "    print(f'  - {k} tem o valor {v}') "
   ]
  },
  {
   "cell_type": "code",
   "execution_count": 28,
   "metadata": {},
   "outputs": [
    {
     "name": "stdin",
     "output_type": "stream",
     "text": [
      "Nome do Jogador:  iwdw\n",
      "Quantas partidas iwdw jogou?  3\n",
      "   Quantos gols na partida 1? 5\n",
      "   Quantos gols na partida 2? 4\n",
      "   Quantos gols na partida 3? 3\n"
     ]
    },
    {
     "name": "stdout",
     "output_type": "stream",
     "text": [
      "-=-=-=-=-=-=-=-=-=-=-=-=-=-=-=-=-=-=-=-=-=-=-=-=-=-=-=-=-=-=\n",
      "{'nome': 'iwdw', 'gols': [5, 4, 3], 'total': 12}\n",
      "-=-=-=-=-=-=-=-=-=-=-=-=-=-=-=-=-=-=-=-=-=-=-=-=-=-=-=-=-=-=\n",
      "O campo nome tem o valor iwdw\n",
      "O campo gols tem o valor [5, 4, 3]\n",
      "O campo total tem o valor 12\n",
      "-=-=-=-=-=-=-=-=-=-=-=-=-=-=-=-=-=-=-=-=-=-=-=-=-=-=-=-=-=-=\n",
      "O jogador iwdw jogou 3 partida.\n",
      "   => Na partida 0, fez 5 gols.\n",
      "   => Na partida 1, fez 4 gols.\n",
      "   => Na partida 2, fez 3 gols.\n",
      "Foi um total de 12 gols.\n"
     ]
    }
   ],
   "source": [
    "jogador = dict()\n",
    "partidas = list()\n",
    "jogador['nome'] = str(input('Nome do Jogador: '))\n",
    "tot = int(input(f'Quantas partidas {jogador[\"nome\"]} jogou? '))\n",
    "for c in range(0,tot):\n",
    "    partidas.append(int(input(f'   Quantos gols na partida {c+1}?')))\n",
    "jogador['gols'] = partidas [:]\n",
    "jogador['total'] = sum(partidas)\n",
    "print('-=' * 30)\n",
    "print(jogador)\n",
    "print('-=' * 30)\n",
    "for k, v in jogador.items():\n",
    "    print(f'O campo {k} tem o valor {v}')\n",
    "print('-=' * 30)\n",
    "print(f'O jogador {jogador[\"nome\"]} jogou {len(jogador[\"gols\"])} partida.')\n",
    "for i, v in enumerate(jogador['gols']):\n",
    "      print(f'   => Na partida {i+1}, fez {v} gols.')\n",
    "print(f'Foi um total de {jogador[\"total\"]} gols.')"
   ]
  },
  {
   "cell_type": "code",
   "execution_count": 27,
   "metadata": {},
   "outputs": [
    {
     "name": "stdin",
     "output_type": "stream",
     "text": [
      "Nome:  lalo\n",
      "Sexo: [M/F]  g\n"
     ]
    },
    {
     "name": "stdout",
     "output_type": "stream",
     "text": [
      "ERRO! Por favor, digite apenas M ou F.\n"
     ]
    },
    {
     "name": "stdin",
     "output_type": "stream",
     "text": [
      "Sexo: [M/F]  f\n",
      "Idade:  435\n",
      "Quer continuar? [S/N]  n\n"
     ]
    },
    {
     "name": "stdout",
     "output_type": "stream",
     "text": [
      "-=-=-=-=-=-=-=-=-=-=-=-=-=-=-=-=-=-=-=-=-=-=-=-=-=-=-=-=-=-=\n",
      "A) ao todo temos 1 pessoas cadastradas.\n",
      "B) A média de idade é de 435.0 anos.\n",
      "C) As mulheres cadastradas foram   \n",
      "nome = lalo; sexo = F; idade = 435; \n",
      "D) Lista das pessoas que estão acima da média: \n",
      "   \n",
      "nome = lalo; sexo = F; idade = 435; \n",
      "<< ENCERRADO >>\n"
     ]
    }
   ],
   "source": [
    "galera = list()\n",
    "pessoa = dict()\n",
    "soma = média = 0\n",
    "while True:\n",
    "    pessoa.clear() \n",
    "    pessoa['nome'] = str(input('Nome: '))\n",
    "    while True:\n",
    "        pessoa['sexo'] = str(input('Sexo: [M/F] ')).upper()[0]\n",
    "        if pessoa['sexo'] in 'MF':\n",
    "            break\n",
    "        print('ERRO! Por favor, digite apenas M ou F.')\n",
    "    pessoa['idade'] = int(input('Idade: '))\n",
    "    soma += pessoa['idade']\n",
    "    galera.append(pessoa.copy())\n",
    "    while True:\n",
    "        resp = str(input('Quer continuar? [S/N] ')).upper()[0]\n",
    "        if resp in 'SN':\n",
    "            break\n",
    "        print('ERRO! Responda apenas S ou N.')  \n",
    "    if resp == 'N':\n",
    "        break\n",
    "print('-=' * 30)\n",
    "print(f'A) ao todo temos {len(galera)} pessoas cadastradas.')\n",
    "média = soma / len(galera) \n",
    "print(f'B) A média de idade é de {média} anos.')\n",
    "print(f'C) As mulheres cadastradas foram', end='')\n",
    "for p in galera:\n",
    "    if p['sexo'] in 'Ff':\n",
    "        print('   ')\n",
    "        for k, v in p.items():\n",
    "            print(f'{k} = {v}; ', end='')\n",
    "print()\n",
    "print('D) Lista das pessoas que estão acima da média: ')\n",
    "for p in galera:\n",
    "    if p['idade'] >= média:\n",
    "        print('   ')\n",
    "        for k, v in p.items():\n",
    "            print(f'{k} = {v}; ', end='')\n",
    "        print()\n",
    "print('<< ENCERRADO >>')"
   ]
  },
  {
   "cell_type": "code",
   "execution_count": 35,
   "metadata": {},
   "outputs": [
    {
     "name": "stdin",
     "output_type": "stream",
     "text": [
      "Nome do Jogador:  eloiza\n",
      "Quantas partidas eloiza jogou?  4\n",
      "   Quantos gols na partida 1? 2\n",
      "   Quantos gols na partida 2? 3\n",
      "   Quantos gols na partida 3? 4\n",
      "   Quantos gols na partida 4? 2\n",
      "Quer continuar? [S/N]  2\n"
     ]
    },
    {
     "name": "stdout",
     "output_type": "stream",
     "text": [
      "ERRO! Responda apenas S ou N.\n"
     ]
    },
    {
     "name": "stdin",
     "output_type": "stream",
     "text": [
      "Quer continuar? [S/N]  n\n"
     ]
    },
    {
     "name": "stdout",
     "output_type": "stream",
     "text": [
      "-=-=-=-=-=-=-=-=-=-=-=-=-=-=-=-=-=-=-=-=-=-=-=-=-=-=-=-=-=-=\n",
      "codnome           gols           total          \n",
      "-=-=-=-=-=-=-=-=-=-=-=-=-=-=-=-=-=-=-=-=-=-=-=-=-=-=-=-=-=-=-=-=-=-=-=-=-=-=-=-=\n",
      "  1 eloiza         [2, 3, 4, 2]   11             \n",
      "----------------------------------------\n"
     ]
    },
    {
     "name": "stdin",
     "output_type": "stream",
     "text": [
      "Mostrar dados de qual jogador? (666 para parar) 1\n"
     ]
    },
    {
     "name": "stdout",
     "output_type": "stream",
     "text": [
      "ERRO! Não existe jogador com código 1\n",
      "----------------------------------------\n"
     ]
    },
    {
     "name": "stdin",
     "output_type": "stream",
     "text": [
      "Mostrar dados de qual jogador? (666 para parar) 2\n"
     ]
    },
    {
     "name": "stdout",
     "output_type": "stream",
     "text": [
      "ERRO! Não existe jogador com código 2\n",
      "----------------------------------------\n"
     ]
    },
    {
     "name": "stdin",
     "output_type": "stream",
     "text": [
      "Mostrar dados de qual jogador? (666 para parar) 1\n"
     ]
    },
    {
     "name": "stdout",
     "output_type": "stream",
     "text": [
      "ERRO! Não existe jogador com código 1\n",
      "----------------------------------------\n"
     ]
    },
    {
     "name": "stdin",
     "output_type": "stream",
     "text": [
      "Mostrar dados de qual jogador? (666 para parar) 0\n"
     ]
    },
    {
     "name": "stdout",
     "output_type": "stream",
     "text": [
      "LEVANTAMENTO DO JOGADOR eloiza:\n",
      "   No jogo 1 fez 2 gols.\n",
      "   No jogo 2 fez 3 gols.\n",
      "   No jogo 3 fez 4 gols.\n",
      "   No jogo 4 fez 2 gols.\n",
      "----------------------------------------\n"
     ]
    },
    {
     "name": "stdin",
     "output_type": "stream",
     "text": [
      "Mostrar dados de qual jogador? (666 para parar) 666\n"
     ]
    },
    {
     "name": "stdout",
     "output_type": "stream",
     "text": [
      "<<< Volte sempre >>>\n"
     ]
    }
   ],
   "source": [
    "time = list()\n",
    "jogador = dict()\n",
    "partidas = list()\n",
    "\n",
    "while True:\n",
    "    jogador.clear() #limpar cada vez que adicionar um jogador novo\n",
    "    jogador['nome'] = str(input('Nome do Jogador: '))\n",
    "    tot = int(input(f'Quantas partidas {jogador[\"nome\"]} jogou? '))\n",
    "    partidas.clear()                \n",
    "    for c in range(0,tot):\n",
    "        partidas.append(int(input(f'   Quantos gols na partida {c+1}?')))\n",
    "    jogador['gols'] = partidas [:]\n",
    "    jogador['total'] = sum(partidas)\n",
    "    time.append(jogador.copy()) #a lista time está sendo adicionada dentro da lista jogador\n",
    "    while True:\n",
    "        resp = str(input('Quer continuar? [S/N] ')).upper()[0]\n",
    "        if resp in 'SN':\n",
    "            break\n",
    "        print('ERRO! Responda apenas S ou N.')\n",
    "    if resp == 'N':\n",
    "        break\n",
    "print('-=' * 30)\n",
    "print('cod', end='')\n",
    "for i in jogador.keys():\n",
    "    print(f'{i:<15}', end='')\n",
    "print()\n",
    "print('-=' * 40)\n",
    "for k, v in enumerate(time):\n",
    "    print(f'{k+1:>3} ', end='')\n",
    "    for d in v.values():\n",
    "        print(f'{str(d):<15}', end='')\n",
    "    print()\n",
    "print('-' * 40)\n",
    "while True:\n",
    "    busca = int(input('Mostrar dados de qual jogador? (666 para parar)'))\n",
    "    if busca == 666:\n",
    "        break\n",
    "    if busca >= len(time):\n",
    "        print(f'ERRO! Não existe jogador com código {busca}')\n",
    "    else:\n",
    "        print(f'LEVANTAMENTO DO JOGADOR {time[busca][\"nome\"]}:')\n",
    "        for i, g in enumerate(time[busca]['gols']):\n",
    "              print(f'   No jogo {i+1} fez {g} gols.')\n",
    "    print('-' * 40)\n",
    "print('<<< Volte sempre >>>')"
   ]
  }
 ],
 "metadata": {
  "kernelspec": {
   "display_name": "Python 3",
   "language": "python",
   "name": "python3"
  },
  "language_info": {
   "codemirror_mode": {
    "name": "ipython",
    "version": 3
   },
   "file_extension": ".py",
   "mimetype": "text/x-python",
   "name": "python",
   "nbconvert_exporter": "python",
   "pygments_lexer": "ipython3",
   "version": "3.7.1"
  }
 },
 "nbformat": 4,
 "nbformat_minor": 2
}
