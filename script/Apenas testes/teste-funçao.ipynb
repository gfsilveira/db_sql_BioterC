{
 "cells": [
  {
   "cell_type": "code",
   "execution_count": 6,
   "metadata": {},
   "outputs": [
    {
     "name": "stdout",
     "output_type": "stream",
     "text": [
      "somando os valores (5, 2) temos 7\n",
      "somando os valores (3, 6, 1) temos 10\n"
     ]
    }
   ],
   "source": [
    "#teste\n",
    "def soma(*valores):\n",
    "    s = 0\n",
    "    for num in valores:\n",
    "        s += num\n",
    "    print(f'somando os valores {valores} temos {s}')\n",
    "    \n",
    "#programa principal\n",
    "soma(5, 2)\n",
    "soma(3, 6, 1)\n",
    "    "
   ]
  },
  {
   "cell_type": "code",
   "execution_count": 7,
   "metadata": {},
   "outputs": [
    {
     "ename": "SyntaxError",
     "evalue": "invalid syntax (<ipython-input-7-ac5b2274e9ad>, line 4)",
     "output_type": "error",
     "traceback": [
      "\u001b[0;36m  File \u001b[0;32m\"<ipython-input-7-ac5b2274e9ad>\"\u001b[0;36m, line \u001b[0;32m4\u001b[0m\n\u001b[0;31m    else return False\u001b[0m\n\u001b[0m              ^\u001b[0m\n\u001b[0;31mSyntaxError\u001b[0m\u001b[0;31m:\u001b[0m invalid syntax\n"
     ]
    }
   ],
   "source": [
    "def par(n=0):\n",
    "    if n % 2 == 0:\n",
    "        return True\n",
    "    else \n",
    "    return False\n",
    "\n",
    "#programa principal\n",
    "num = int(input('Digite um numero: '))\n",
    "if par(num):\n",
    "    print('é par!')\n",
    "else:\n",
    "    print('Não é par')\n",
    "    "
   ]
  },
  {
   "cell_type": "code",
   "execution_count": null,
   "metadata": {},
   "outputs": [],
   "source": [
    "def soma():\n",
    "    \n",
    "def gráfico():\n",
    "\n",
    "def média():\n",
    "    \n",
    "def mediana():\n",
    "    "
   ]
  }
 ],
 "metadata": {
  "kernelspec": {
   "display_name": "Python 3",
   "language": "python",
   "name": "python3"
  },
  "language_info": {
   "codemirror_mode": {
    "name": "ipython",
    "version": 3
   },
   "file_extension": ".py",
   "mimetype": "text/x-python",
   "name": "python",
   "nbconvert_exporter": "python",
   "pygments_lexer": "ipython3",
   "version": "3.7.1"
  }
 },
 "nbformat": 4,
 "nbformat_minor": 2
}
