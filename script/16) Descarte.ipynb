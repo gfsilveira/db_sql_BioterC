{
 "cells": [
  {
   "cell_type": "markdown",
   "metadata": {},
   "source": [
    "16) Quais são os principais motivos de descarte? Qual valor total de descarte? Qual período com maior descarte? Qual sexo é mais descartado? "
   ]
  },
  {
   "cell_type": "code",
   "execution_count": 1,
   "metadata": {},
   "outputs": [],
   "source": [
    "import pandas as pd \n",
    "import matplotlib.pyplot as plt\n",
    "import re as re"
   ]
  },
  {
   "cell_type": "code",
   "execution_count": 2,
   "metadata": {},
   "outputs": [
    {
     "data": {
      "text/html": [
       "<div>\n",
       "<style scoped>\n",
       "    .dataframe tbody tr th:only-of-type {\n",
       "        vertical-align: middle;\n",
       "    }\n",
       "\n",
       "    .dataframe tbody tr th {\n",
       "        vertical-align: top;\n",
       "    }\n",
       "\n",
       "    .dataframe thead th {\n",
       "        text-align: right;\n",
       "    }\n",
       "</style>\n",
       "<table border=\"1\" class=\"dataframe\">\n",
       "  <thead>\n",
       "    <tr style=\"text-align: right;\">\n",
       "      <th></th>\n",
       "      <th>date_hoje</th>\n",
       "      <th>user</th>\n",
       "      <th>ling</th>\n",
       "      <th>num_ani</th>\n",
       "      <th>m_f</th>\n",
       "      <th>date_nasc</th>\n",
       "      <th>id_orig</th>\n",
       "      <th>util</th>\n",
       "      <th>id_solic</th>\n",
       "      <th>data_inicio</th>\n",
       "      <th>...</th>\n",
       "      <th>date_acas</th>\n",
       "      <th>date_nasc_acas</th>\n",
       "      <th>num_nasc</th>\n",
       "      <th>date_sex</th>\n",
       "      <th>num_sex_m</th>\n",
       "      <th>num_sex_f</th>\n",
       "      <th>num_ani_ini</th>\n",
       "      <th>num_ani_fim</th>\n",
       "      <th>obs_desc</th>\n",
       "      <th>grupos_acas</th>\n",
       "    </tr>\n",
       "    <tr>\n",
       "      <th>id</th>\n",
       "      <th></th>\n",
       "      <th></th>\n",
       "      <th></th>\n",
       "      <th></th>\n",
       "      <th></th>\n",
       "      <th></th>\n",
       "      <th></th>\n",
       "      <th></th>\n",
       "      <th></th>\n",
       "      <th></th>\n",
       "      <th></th>\n",
       "      <th></th>\n",
       "      <th></th>\n",
       "      <th></th>\n",
       "      <th></th>\n",
       "      <th></th>\n",
       "      <th></th>\n",
       "      <th></th>\n",
       "      <th></th>\n",
       "      <th></th>\n",
       "      <th></th>\n",
       "    </tr>\n",
       "  </thead>\n",
       "  <tbody>\n",
       "    <tr>\n",
       "      <th>66</th>\n",
       "      <td>2014-08-26 17:58:05</td>\n",
       "      <td>Tania</td>\n",
       "      <td>Swiss B</td>\n",
       "      <td>3</td>\n",
       "      <td>f</td>\n",
       "      <td>2014-04-03 04:00:00</td>\n",
       "      <td>6</td>\n",
       "      <td>desc</td>\n",
       "      <td>666</td>\n",
       "      <td>1970-01-01 00:11:06</td>\n",
       "      <td>...</td>\n",
       "      <td>1970-01-01 00:11:06</td>\n",
       "      <td>1970-01-01 00:11:06</td>\n",
       "      <td>666</td>\n",
       "      <td>1970-01-01 00:11:06</td>\n",
       "      <td>666</td>\n",
       "      <td>666</td>\n",
       "      <td>3</td>\n",
       "      <td>0</td>\n",
       "      <td>Descarte Zootecnico</td>\n",
       "      <td>I</td>\n",
       "    </tr>\n",
       "    <tr>\n",
       "      <th>73</th>\n",
       "      <td>2014-09-02 12:20:36</td>\n",
       "      <td>Tania</td>\n",
       "      <td>Swiss B</td>\n",
       "      <td>1</td>\n",
       "      <td>m</td>\n",
       "      <td>2014-06-10 04:00:00</td>\n",
       "      <td>55</td>\n",
       "      <td>desc</td>\n",
       "      <td>666</td>\n",
       "      <td>1970-01-01 00:11:06</td>\n",
       "      <td>...</td>\n",
       "      <td>1970-01-01 00:11:06</td>\n",
       "      <td>1970-01-01 00:11:06</td>\n",
       "      <td>666</td>\n",
       "      <td>1970-01-01 00:11:06</td>\n",
       "      <td>666</td>\n",
       "      <td>666</td>\n",
       "      <td>1</td>\n",
       "      <td>0</td>\n",
       "      <td>p/ acasal.</td>\n",
       "      <td>I</td>\n",
       "    </tr>\n",
       "    <tr>\n",
       "      <th>95</th>\n",
       "      <td>2014-09-17 13:14:12</td>\n",
       "      <td>Tania</td>\n",
       "      <td>S129WT</td>\n",
       "      <td>2</td>\n",
       "      <td>m</td>\n",
       "      <td>2014-04-21 04:00:00</td>\n",
       "      <td>67</td>\n",
       "      <td>desc</td>\n",
       "      <td>666</td>\n",
       "      <td>1970-01-01 00:11:06</td>\n",
       "      <td>...</td>\n",
       "      <td>1970-01-01 00:11:06</td>\n",
       "      <td>1970-01-01 00:11:06</td>\n",
       "      <td>666</td>\n",
       "      <td>1970-01-01 00:11:06</td>\n",
       "      <td>666</td>\n",
       "      <td>666</td>\n",
       "      <td>2</td>\n",
       "      <td>0</td>\n",
       "      <td>Tranferencia cx</td>\n",
       "      <td>AAA</td>\n",
       "    </tr>\n",
       "    <tr>\n",
       "      <th>96</th>\n",
       "      <td>2014-09-17 13:14:12</td>\n",
       "      <td>Tania</td>\n",
       "      <td>S129WT</td>\n",
       "      <td>4</td>\n",
       "      <td>m</td>\n",
       "      <td>2014-06-26 04:00:00</td>\n",
       "      <td>68</td>\n",
       "      <td>desc</td>\n",
       "      <td>666</td>\n",
       "      <td>1970-01-01 00:11:06</td>\n",
       "      <td>...</td>\n",
       "      <td>1970-01-01 00:11:06</td>\n",
       "      <td>1970-01-01 00:11:06</td>\n",
       "      <td>666</td>\n",
       "      <td>1970-01-01 00:11:06</td>\n",
       "      <td>666</td>\n",
       "      <td>666</td>\n",
       "      <td>4</td>\n",
       "      <td>0</td>\n",
       "      <td>Tranferencia cx</td>\n",
       "      <td>AAA</td>\n",
       "    </tr>\n",
       "    <tr>\n",
       "      <th>97</th>\n",
       "      <td>2014-09-17 13:14:12</td>\n",
       "      <td>Tania</td>\n",
       "      <td>S129WT</td>\n",
       "      <td>2</td>\n",
       "      <td>m</td>\n",
       "      <td>2014-07-28 04:00:00</td>\n",
       "      <td>69</td>\n",
       "      <td>desc</td>\n",
       "      <td>666</td>\n",
       "      <td>1970-01-01 00:11:06</td>\n",
       "      <td>...</td>\n",
       "      <td>1970-01-01 00:11:06</td>\n",
       "      <td>1970-01-01 00:11:06</td>\n",
       "      <td>666</td>\n",
       "      <td>1970-01-01 00:11:06</td>\n",
       "      <td>666</td>\n",
       "      <td>666</td>\n",
       "      <td>2</td>\n",
       "      <td>0</td>\n",
       "      <td>Tranferencia cx</td>\n",
       "      <td>AAA</td>\n",
       "    </tr>\n",
       "  </tbody>\n",
       "</table>\n",
       "<p>5 rows × 28 columns</p>\n",
       "</div>"
      ],
      "text/plain": [
       "             date_hoje   user     ling  num_ani m_f           date_nasc  \\\n",
       "id                                                                        \n",
       "66 2014-08-26 17:58:05  Tania  Swiss B        3   f 2014-04-03 04:00:00   \n",
       "73 2014-09-02 12:20:36  Tania  Swiss B        1   m 2014-06-10 04:00:00   \n",
       "95 2014-09-17 13:14:12  Tania   S129WT        2   m 2014-04-21 04:00:00   \n",
       "96 2014-09-17 13:14:12  Tania   S129WT        4   m 2014-06-26 04:00:00   \n",
       "97 2014-09-17 13:14:12  Tania   S129WT        2   m 2014-07-28 04:00:00   \n",
       "\n",
       "   id_orig  util  id_solic         data_inicio     ...      \\\n",
       "id                                                 ...       \n",
       "66       6  desc       666 1970-01-01 00:11:06     ...       \n",
       "73      55  desc       666 1970-01-01 00:11:06     ...       \n",
       "95      67  desc       666 1970-01-01 00:11:06     ...       \n",
       "96      68  desc       666 1970-01-01 00:11:06     ...       \n",
       "97      69  desc       666 1970-01-01 00:11:06     ...       \n",
       "\n",
       "             date_acas      date_nasc_acas  num_nasc            date_sex  \\\n",
       "id                                                                         \n",
       "66 1970-01-01 00:11:06 1970-01-01 00:11:06       666 1970-01-01 00:11:06   \n",
       "73 1970-01-01 00:11:06 1970-01-01 00:11:06       666 1970-01-01 00:11:06   \n",
       "95 1970-01-01 00:11:06 1970-01-01 00:11:06       666 1970-01-01 00:11:06   \n",
       "96 1970-01-01 00:11:06 1970-01-01 00:11:06       666 1970-01-01 00:11:06   \n",
       "97 1970-01-01 00:11:06 1970-01-01 00:11:06       666 1970-01-01 00:11:06   \n",
       "\n",
       "    num_sex_m  num_sex_f  num_ani_ini  num_ani_fim             obs_desc  \\\n",
       "id                                                                        \n",
       "66        666        666            3            0  Descarte Zootecnico   \n",
       "73        666        666            1            0           p/ acasal.   \n",
       "95        666        666            2            0      Tranferencia cx   \n",
       "96        666        666            4            0      Tranferencia cx   \n",
       "97        666        666            2            0      Tranferencia cx   \n",
       "\n",
       "   grupos_acas  \n",
       "id              \n",
       "66           I  \n",
       "73           I  \n",
       "95         AAA  \n",
       "96         AAA  \n",
       "97         AAA  \n",
       "\n",
       "[5 rows x 28 columns]"
      ]
     },
     "execution_count": 2,
     "metadata": {},
     "output_type": "execute_result"
    }
   ],
   "source": [
    "descarte = pd.read_csv('../tabelas_test/est_est_log_2019-06-18.csv', index_col='id')\n",
    "descarte = descarte[(descarte['obs_desc'] != 'AAA') \n",
    "            & (descarte['obs_desc'] != '666')\n",
    "            & (descarte['obs_desc'] != 'Test BioterC')\n",
    "            & (descarte['obs_desc'] != 'Test')\n",
    "            & (descarte['num_ani'] < 200)\n",
    "            & (descarte['util'] == 'desc')\n",
    "           ]\n",
    "\n",
    "#+++++++++++++++++++++++++++++++++++++++++++++++++++++++++++++++++++++++++++++++++++++++++++++++++++++++++++++++++++++++++++++++\n",
    "#Alterando formato da data\n",
    "\n",
    "datas = ['date_hoje', 'date_nasc', 'data_inicio', 'date_acas', 'date_nasc_acas', 'date_sex']\n",
    "\n",
    "for d in datas:\n",
    "    descarte[d] = pd.to_datetime(descarte[d], unit = 's')\n",
    "descarte.head()"
   ]
  },
  {
   "cell_type": "code",
   "execution_count": 3,
   "metadata": {},
   "outputs": [
    {
     "data": {
      "text/plain": [
       "945"
      ]
     },
     "execution_count": 3,
     "metadata": {},
     "output_type": "execute_result"
    }
   ],
   "source": [
    "len(descarte[descarte['obs_desc'] == 'Descarte Zootécnico'])"
   ]
  },
  {
   "cell_type": "code",
   "execution_count": 4,
   "metadata": {},
   "outputs": [],
   "source": [
    "descarte['obs_desc'] = list(map(lambda x: str(x).strip(), descarte['obs_desc']))"
   ]
  },
  {
   "cell_type": "code",
   "execution_count": 5,
   "metadata": {},
   "outputs": [
    {
     "data": {
      "text/plain": [
       "948"
      ]
     },
     "execution_count": 5,
     "metadata": {},
     "output_type": "execute_result"
    }
   ],
   "source": [
    "len(descarte[descarte['obs_desc'] == 'Descarte Zootécnico'])"
   ]
  },
  {
   "cell_type": "code",
   "execution_count": 6,
   "metadata": {},
   "outputs": [
    {
     "data": {
      "text/html": [
       "<div>\n",
       "<style scoped>\n",
       "    .dataframe tbody tr th:only-of-type {\n",
       "        vertical-align: middle;\n",
       "    }\n",
       "\n",
       "    .dataframe tbody tr th {\n",
       "        vertical-align: top;\n",
       "    }\n",
       "\n",
       "    .dataframe thead th {\n",
       "        text-align: right;\n",
       "    }\n",
       "</style>\n",
       "<table border=\"1\" class=\"dataframe\">\n",
       "  <thead>\n",
       "    <tr style=\"text-align: right;\">\n",
       "      <th></th>\n",
       "      <th>obs_desc</th>\n",
       "      <th>num_ani</th>\n",
       "    </tr>\n",
       "    <tr>\n",
       "      <th>id</th>\n",
       "      <th></th>\n",
       "      <th></th>\n",
       "    </tr>\n",
       "  </thead>\n",
       "  <tbody>\n",
       "    <tr>\n",
       "      <th>66</th>\n",
       "      <td>Descarte Zootecnico</td>\n",
       "      <td>3</td>\n",
       "    </tr>\n",
       "    <tr>\n",
       "      <th>73</th>\n",
       "      <td>p/ acasal.</td>\n",
       "      <td>1</td>\n",
       "    </tr>\n",
       "    <tr>\n",
       "      <th>95</th>\n",
       "      <td>Tranferencia cx</td>\n",
       "      <td>2</td>\n",
       "    </tr>\n",
       "    <tr>\n",
       "      <th>96</th>\n",
       "      <td>Tranferencia cx</td>\n",
       "      <td>4</td>\n",
       "    </tr>\n",
       "    <tr>\n",
       "      <th>97</th>\n",
       "      <td>Tranferencia cx</td>\n",
       "      <td>2</td>\n",
       "    </tr>\n",
       "  </tbody>\n",
       "</table>\n",
       "</div>"
      ],
      "text/plain": [
       "               obs_desc  num_ani\n",
       "id                              \n",
       "66  Descarte Zootecnico        3\n",
       "73           p/ acasal.        1\n",
       "95      Tranferencia cx        2\n",
       "96      Tranferencia cx        4\n",
       "97      Tranferencia cx        2"
      ]
     },
     "execution_count": 6,
     "metadata": {},
     "output_type": "execute_result"
    }
   ],
   "source": [
    "desc_df = pd.DataFrame(descarte['obs_desc'])\n",
    "desc_df['num_ani'] = descarte['num_ani']\n",
    "#desc_df = descarte.set_index('obs_desc')\n",
    "desc_df.head()\n",
    "\n",
    "#.lower().capitalize()"
   ]
  },
  {
   "cell_type": "code",
   "execution_count": 7,
   "metadata": {},
   "outputs": [
    {
     "name": "stdout",
     "output_type": "stream",
     "text": [
      "<class 'pandas.core.frame.DataFrame'>\n",
      "Int64Index: 2287 entries, 66 to 18379\n",
      "Data columns (total 28 columns):\n",
      "date_hoje         2287 non-null datetime64[ns]\n",
      "user              2284 non-null object\n",
      "ling              2287 non-null object\n",
      "num_ani           2287 non-null int64\n",
      "m_f               2287 non-null object\n",
      "date_nasc         2287 non-null datetime64[ns]\n",
      "id_orig           2287 non-null object\n",
      "util              2287 non-null object\n",
      "id_solic          2287 non-null int64\n",
      "data_inicio       2287 non-null datetime64[ns]\n",
      "time              2287 non-null object\n",
      "total_time        2287 non-null int64\n",
      "doses             2287 non-null int64\n",
      "data_solic        2287 non-null int64\n",
      "data_forn         2287 non-null int64\n",
      "data_fim          2287 non-null int64\n",
      "num_m             2287 non-null int64\n",
      "num_f             2287 non-null int64\n",
      "date_acas         2287 non-null datetime64[ns]\n",
      "date_nasc_acas    2287 non-null datetime64[ns]\n",
      "num_nasc          2287 non-null int64\n",
      "date_sex          2287 non-null datetime64[ns]\n",
      "num_sex_m         2287 non-null int64\n",
      "num_sex_f         2287 non-null int64\n",
      "num_ani_ini       2287 non-null int64\n",
      "num_ani_fim       2287 non-null int64\n",
      "obs_desc          2287 non-null object\n",
      "grupos_acas       2287 non-null object\n",
      "dtypes: datetime64[ns](6), int64(14), object(8)\n",
      "memory usage: 518.1+ KB\n"
     ]
    }
   ],
   "source": [
    "descarte.info()"
   ]
  },
  {
   "cell_type": "code",
   "execution_count": 8,
   "metadata": {},
   "outputs": [],
   "source": [
    "erro = descarte['obs_desc'].replace(('erro de cadastro', \n",
    "                              'erro cadastro', 'error','erro de cadastro era 1 fêmea','erro  de cadastro',\n",
    "                             'erro programa','Transferencia error','erro de contagem','erro de cadatro',\n",
    "                             'erro de casa','erro sexagem','Erro Cadastro', 'Erro cadastro', 'Erro cadastro',\n",
    "                              'Erro de Cadastro', 'Erro no cadastro','Animais fornecidos para Fabiano Figueiredo em 15/02/2018 - Erro no sistema (Exp. já encerrado).',\n",
    "                              'Erro de registro','Erro de cadastro. Eram femeas', 'Erro de sexagem', 'Erro de cadastro, não estava na cx',\n",
    "                             'Erro de lançamento no bioterc', 'teste de cadastro', 'ñ encontrado na cx',\n",
    "                                    'nao estava na cx', 'Erro de cadastro', 'não estava na cx'), 'Erro de cadastro', inplace=True)\n",
    "#descarte['obs_desc'].value_counts()[:25]"
   ]
  },
  {
   "cell_type": "code",
   "execution_count": 9,
   "metadata": {},
   "outputs": [],
   "source": [
    "zoo = descarte['obs_desc'].replace(('ZOO', 'fornecido Zoológico', \n",
    "                              'Fornecido zoológico', \n",
    "                              'Fornecido Zoológico', \n",
    "                              'Fornecidos Zoológico',\n",
    "                             'fornecido zoológico',\n",
    "                             'zoo', 'zoologico'),'Fornecido Zoológico', inplace=True)\n",
    "#descarte['obs_desc'].value_counts()[:25]"
   ]
  },
  {
   "cell_type": "code",
   "execution_count": 10,
   "metadata": {},
   "outputs": [],
   "source": [
    "velhos = descarte['obs_desc'].replace(('velhos', \n",
    "                              'ANIMAIS VELHOS',\n",
    "                             'Animais velhos',\n",
    "                             'Animais Velhos',\n",
    "                             'Animal velho'), 'Velhos', inplace=True)\n",
    "#descarte['obs_desc'].value_counts()[:25]"
   ]
  },
  {
   "cell_type": "code",
   "execution_count": 11,
   "metadata": {},
   "outputs": [],
   "source": [
    "descart_zoo = descarte['obs_desc'].replace(('Descarte Zootecnico', \n",
    "                              'Caixa caiu no chão > Descarte Zootécnico',\n",
    "                             'Animais com idade apropriada para descarte zootécnico',\n",
    "                             'descarte'), 'Descarte Zootécnico', inplace=True)\n",
    "#descarte['obs_desc'].value_counts()[:25]"
   ]
  },
  {
   "cell_type": "code",
   "execution_count": 12,
   "metadata": {},
   "outputs": [],
   "source": [
    "monitoramento = descarte['obs_desc'].replace(('monitoramento sanitario', \n",
    "                                              'Kelly monitoramento'), 'Monitoramento Sanitátio', inplace=True)\n",
    "#descarte['obs_desc'].value_counts()[:25]"
   ]
  },
  {
   "cell_type": "code",
   "execution_count": 13,
   "metadata": {},
   "outputs": [],
   "source": [
    "ex_filho = descarte['obs_desc'].replace(('Excesso de filhotes', 'Filhotes em excesso'), 'Excesso de Filhotes', inplace=True)\n",
    "#descarte['obs_desc'].value_counts()[:25]"
   ]
  },
  {
   "cell_type": "code",
   "execution_count": 14,
   "metadata": {},
   "outputs": [],
   "source": [
    "acasa = descarte['obs_desc'].replace(('para acasalamento', \n",
    "                              'usada em acasalamento',\n",
    "                             'P acasalamento experim Rosiane',\n",
    "                             'Usado em acasalamento',\n",
    "                             'p acasalamento',\n",
    "                             'Para acasalamento 21136',\n",
    "                             'Foi para o acasalamento B2',\n",
    "                             'foi para acasalamento',\n",
    "                             'para acasalamento 2:1',\n",
    "                             'Foi para o acasalamento - Troca de macho',\n",
    "                             'Usada em acasalamento',\n",
    "                             'Para acasalamento 2:1',\n",
    "                             'Foi encaminhada para acasalamento',\n",
    "                             'Foi encaminhada para acasalamento na experimentação',\n",
    "                             'Para o acasalamento 193',\n",
    "                             'Usada no acasalamento 5.50',\n",
    "                             'para acasalamento 3:!',\n",
    "                             'Para acasalamento 25568',\n",
    "                             'Usada no acasalamento 2.54',\n",
    "                             'Enviado para acasalamento na experimentação.',\n",
    "                             'Usada no acasalamento',\n",
    "                             'femea usada em acasalamento 2:1',\n",
    "                             'Para acasalamento da cesárea', 'Foi encaminhada para acasalamento na experimentação',\n",
    "                                      'Foi encaminhada para acasalamento'), 'Para acasalamento', inplace=True)\n",
    "#descarte['obs_desc'].value_counts()[:25]"
   ]
  },
  {
   "cell_type": "code",
   "execution_count": 15,
   "metadata": {},
   "outputs": [],
   "source": [
    "lorena = descarte['obs_desc'].replace('Lorena', 'Exp Lorena', inplace=True)\n",
    "#descarte['obs_desc'].value_counts()[:25]"
   ]
  },
  {
   "cell_type": "code",
   "execution_count": 16,
   "metadata": {},
   "outputs": [],
   "source": [
    "ninhada_g = descarte['obs_desc'].replace(('ninhada grande', 'Animais |Sacrificados ninhada grande',\n",
    "                                         'ninhada muito grande', 'Filhote menor na ninhada'),'Ninhada Grande', inplace=True)"
   ]
  },
  {
   "cell_type": "code",
   "execution_count": 29,
   "metadata": {},
   "outputs": [],
   "source": [
    "test_lista = ['nao estavam na cx', 'Transferido para a cx 526141', 'haviam apenas 10 na cx', 'Transferido para a cx 3-1-4-74',\n",
    "                                        'Transf para a cx 436', 'Transferido para a cx 21237',\n",
    "                                        'Transferência de cx', 'Troca de cx', 'Transferido para cx 513143',\n",
    "                                        'Transferido para a cx 512142', 'Transferidos 3 para cx 3.38',\n",
    "                                        'Transferido para a cx 514144', 'transferência de cx',\n",
    "                                        'Tranferencia cx', 'Transferido para cx 522150',\n",
    "                                        'para outra cx', 'Trocado de cx']\n",
    "trans_cx = descarte['obs_desc'].replace(test_lista, 'Transferencia cx', inplace=True)\n",
    "trans_cx"
   ]
  },
  {
   "cell_type": "code",
   "execution_count": 18,
   "metadata": {},
   "outputs": [
    {
     "data": {
      "text/plain": [
       "['Descarte Zootécnico',\n",
       " 'Fim Experimento',\n",
       " 'Encontrado Morto',\n",
       " 'Velhos',\n",
       " 'Erro de cadastro',\n",
       " 'Canibalismo',\n",
       " 'Fornecido Zoológico',\n",
       " 'Para acasalamento',\n",
       " 'UEL',\n",
       " 'Animais Doentes',\n",
       " 'Mudança',\n",
       " 'Transferencia cx',\n",
       " 'Cascavel',\n",
       " 'Troca de Macho',\n",
       " 'Monitoramento Sanitário',\n",
       " 'Ivermectina',\n",
       " 'Excesso de Filhotes',\n",
       " 'Exp Lorena',\n",
       " '.',\n",
       " 'Ninhada Grande',\n",
       " 'Fornecimento Guilhermina - Sem número do comitê de Ética']"
      ]
     },
     "execution_count": 18,
     "metadata": {},
     "output_type": "execute_result"
    }
   ],
   "source": [
    "#lista com 10% das observações com maior numero de animais;\n",
    "lista_10por_super = list(descarte['obs_desc'].value_counts()[:21].index)\n",
    "lista_10por_super"
   ]
  },
  {
   "cell_type": "code",
   "execution_count": 19,
   "metadata": {},
   "outputs": [
    {
     "data": {
      "text/plain": [
       "['Fornecimento Recife - Sem número do comitê de Ética',\n",
       " 'Erro Experimento',\n",
       " 'Troca de Fêmea',\n",
       " 'TCC João',\n",
       " 'nan',\n",
       " 'Monitoramento Sanitátio',\n",
       " 'Presenca de fungo na caixa.',\n",
       " 'Teste BioterC',\n",
       " 'Teste',\n",
       " 'briga']"
      ]
     },
     "execution_count": 19,
     "metadata": {},
     "output_type": "execute_result"
    }
   ],
   "source": [
    "#lista com observações inferiores aos 10%\n",
    "lista_10por_infer = list(descarte['obs_desc'].value_counts()[21:].index)\n",
    "lista_10por_infer[:10]"
   ]
  },
  {
   "cell_type": "markdown",
   "metadata": {},
   "source": [
    "Criada lista que vai receber todos os termos com condições;\n"
   ]
  },
  {
   "cell_type": "code",
   "execution_count": 20,
   "metadata": {},
   "outputs": [
    {
     "data": {
      "text/plain": [
       "['escart',\n",
       " 'ootécnic',\n",
       " 'xperiment',\n",
       " 'ncontrad',\n",
       " 'ort',\n",
       " 'elho',\n",
       " 'rro',\n",
       " 'adastr',\n",
       " 'anibalism',\n",
       " 'ornecid',\n",
       " 'oológic',\n",
       " 'ara',\n",
       " 'casalament',\n",
       " 'nimai',\n",
       " 'oente',\n",
       " 'udanç',\n",
       " 'ransferenci',\n",
       " 'ascave',\n",
       " 'roc',\n",
       " 'ach',\n",
       " 'onitorament',\n",
       " 'anitári',\n",
       " 'vermectin',\n",
       " 'xcess',\n",
       " 'ilhote',\n",
       " 'oren',\n",
       " 'inhad',\n",
       " 'rand',\n",
       " 'orneciment',\n",
       " 'uilhermin',\n",
       " 'úmer',\n",
       " 'omit',\n",
       " 'tic']"
      ]
     },
     "execution_count": 20,
     "metadata": {},
     "output_type": "execute_result"
    }
   ],
   "source": [
    "lista_termos_pesq = list()\n",
    "for i in lista_10por_super: #laço para que percorra na lista e itere em i\n",
    "#     print(i)\n",
    "    obs = i.split(' ') #uma nova variavel vai receber o que tem em i e separar pelos espaços\n",
    "    for j in obs:      #novo laço que vai percorrer em obs e guardar em j\n",
    "        if len(j) > 3: #condição para que os temos sejam maiores que 3 letras\n",
    "            if len(j) > 4: #condição para seja maior que 4\n",
    "                lista_termos_pesq.append(j[1:-1]) #append= adicionando essas informações na lista_termos_pesq e que retire a primeira e ultima letra \n",
    "            else:\n",
    "                lista_termos_pesq.append(j[1:]) #se não só a primera.\n",
    "lista_termos_pesq"
   ]
  },
  {
   "cell_type": "code",
   "execution_count": 51,
   "metadata": {},
   "outputs": [
    {
     "data": {
      "text/plain": [
       "['Erro de cadastro', 'Cadastrados a mais']"
      ]
     },
     "execution_count": 51,
     "metadata": {},
     "output_type": "execute_result"
    }
   ],
   "source": [
    "#Na dataframe descarte - coluna obs_desc, buscando padrões para fazer o replace de diferentes termos\n",
    "#str - indica que é uma string/ contains onde buscarei o padrão / astype boleano/ e apresentando os valores dessa mesma coluna.\n",
    "\n",
    "\n",
    "\n",
    "termos_repetidos = dict() #criado dicionario pra armazenar os motivos e as repetições dos seus termos;\n",
    "\n",
    "for i in lista_termos_pesq:\n",
    "    lista_resol = list(descarte[descarte['obs_desc'].str.contains(i, regex=False).astype('bool')]['obs_desc'].value_counts().index)\n",
    "    termos_repetidos[i] = lista_resol\n",
    "# for i, j in enumerate(termos_repetidos['escart']):\n",
    "# #     print(j)\n",
    "#         if i != 2:\n",
    "#             print(j)\n",
    "termos_repetidos['adastr']"
   ]
  },
  {
   "cell_type": "code",
   "execution_count": 37,
   "metadata": {},
   "outputs": [
    {
     "data": {
      "text/plain": [
       "'Descarte'"
      ]
     },
     "execution_count": 37,
     "metadata": {},
     "output_type": "execute_result"
    }
   ],
   "source": [
    "termos_repetidos['escart']"
   ]
  },
  {
   "cell_type": "code",
   "execution_count": 31,
   "metadata": {},
   "outputs": [],
   "source": [
    "descarte_z = descarte['obs_desc'].replace(termos_repetidos['escart'], 'Descarte Zootécnico', inplace=True)\n",
    "descarte_z"
   ]
  },
  {
   "cell_type": "code",
   "execution_count": 50,
   "metadata": {},
   "outputs": [],
   "source": [
    "morto = descarte['obs_desc'].replace(termos_repetidos['ort'], 'Encontrado Morto', inplace=True)\n",
    "morto"
   ]
  },
  {
   "cell_type": "code",
   "execution_count": 39,
   "metadata": {},
   "outputs": [
    {
     "data": {
      "text/html": [
       "<div>\n",
       "<style scoped>\n",
       "    .dataframe tbody tr th:only-of-type {\n",
       "        vertical-align: middle;\n",
       "    }\n",
       "\n",
       "    .dataframe tbody tr th {\n",
       "        vertical-align: top;\n",
       "    }\n",
       "\n",
       "    .dataframe thead th {\n",
       "        text-align: right;\n",
       "    }\n",
       "</style>\n",
       "<table border=\"1\" class=\"dataframe\">\n",
       "  <thead>\n",
       "    <tr style=\"text-align: right;\">\n",
       "      <th></th>\n",
       "      <th>date_hoje</th>\n",
       "      <th>user</th>\n",
       "      <th>ling</th>\n",
       "      <th>num_ani</th>\n",
       "      <th>m_f</th>\n",
       "      <th>date_nasc</th>\n",
       "      <th>id_orig</th>\n",
       "      <th>util</th>\n",
       "      <th>id_solic</th>\n",
       "      <th>data_inicio</th>\n",
       "      <th>...</th>\n",
       "      <th>date_acas</th>\n",
       "      <th>date_nasc_acas</th>\n",
       "      <th>num_nasc</th>\n",
       "      <th>date_sex</th>\n",
       "      <th>num_sex_m</th>\n",
       "      <th>num_sex_f</th>\n",
       "      <th>num_ani_ini</th>\n",
       "      <th>num_ani_fim</th>\n",
       "      <th>obs_desc</th>\n",
       "      <th>grupos_acas</th>\n",
       "    </tr>\n",
       "    <tr>\n",
       "      <th>id</th>\n",
       "      <th></th>\n",
       "      <th></th>\n",
       "      <th></th>\n",
       "      <th></th>\n",
       "      <th></th>\n",
       "      <th></th>\n",
       "      <th></th>\n",
       "      <th></th>\n",
       "      <th></th>\n",
       "      <th></th>\n",
       "      <th></th>\n",
       "      <th></th>\n",
       "      <th></th>\n",
       "      <th></th>\n",
       "      <th></th>\n",
       "      <th></th>\n",
       "      <th></th>\n",
       "      <th></th>\n",
       "      <th></th>\n",
       "      <th></th>\n",
       "      <th></th>\n",
       "    </tr>\n",
       "  </thead>\n",
       "  <tbody>\n",
       "  </tbody>\n",
       "</table>\n",
       "<p>0 rows × 28 columns</p>\n",
       "</div>"
      ],
      "text/plain": [
       "Empty DataFrame\n",
       "Columns: [date_hoje, user, ling, num_ani, m_f, date_nasc, id_orig, util, id_solic, data_inicio, time, total_time, doses, data_solic, data_forn, data_fim, num_m, num_f, date_acas, date_nasc_acas, num_nasc, date_sex, num_sex_m, num_sex_f, num_ani_ini, num_ani_fim, obs_desc, grupos_acas]\n",
       "Index: []\n",
       "\n",
       "[0 rows x 28 columns]"
      ]
     },
     "execution_count": 39,
     "metadata": {},
     "output_type": "execute_result"
    }
   ],
   "source": [
    "descarte[descarte['obs_desc'] == termos_repetidos['escart'][1]]"
   ]
  },
  {
   "cell_type": "code",
   "execution_count": 43,
   "metadata": {},
   "outputs": [],
   "source": [
    "#o que tiver em lista_termos_pesq coloque em i e faça isso:\n",
    "for i in lista_termos_pesq:\n",
    "    descarte['obs_desc'].replace(termos_repetidos[i], 'Descarte Zootécnico', inplace=True)\n",
    "#     print(termos_repetidos[i])\n",
    "    break"
   ]
  },
  {
   "cell_type": "code",
   "execution_count": null,
   "metadata": {},
   "outputs": [],
   "source": [
    "#Função nlargest com os parametros vai apresentar os maiores valores dentro de um limite\n",
    "#Por exemplo 25 maiores valores na coluna num_ani\n",
    "descarte.nlargest(25, 'num_ani').head()"
   ]
  },
  {
   "cell_type": "code",
   "execution_count": null,
   "metadata": {},
   "outputs": [],
   "source": [
    "descarte[[\"obs_desc\", \"num_ani\"]].groupby(['obs_desc'])"
   ]
  },
  {
   "cell_type": "code",
   "execution_count": null,
   "metadata": {},
   "outputs": [],
   "source": [
    "descarte['obs_desc'].value_counts()[:25].sum()"
   ]
  },
  {
   "cell_type": "code",
   "execution_count": null,
   "metadata": {},
   "outputs": [],
   "source": [
    "num_animais = descarte.groupby('obs_desc')\n",
    "num_animais['num_ani'].sum().sort_values(ascending=False)[:25].sum()"
   ]
  },
  {
   "cell_type": "code",
   "execution_count": null,
   "metadata": {},
   "outputs": [],
   "source": [
    "#somar os demais termos e nomear por outros\n",
    "descarte['obs_desc'].value_counts()[25:].sum()\n"
   ]
  },
  {
   "cell_type": "code",
   "execution_count": null,
   "metadata": {},
   "outputs": [],
   "source": [
    "num_animais = descarte.groupby('obs_desc')\n",
    "num_animais['num_ani'].sum().sort_values(ascending=False)[25:].sum()"
   ]
  },
  {
   "cell_type": "code",
   "execution_count": null,
   "metadata": {},
   "outputs": [],
   "source": []
  },
  {
   "cell_type": "code",
   "execution_count": 52,
   "metadata": {},
   "outputs": [
    {
     "data": {
      "text/plain": [
       "<matplotlib.axes._subplots.AxesSubplot at 0x7ff3f5a3e4a8>"
      ]
     },
     "execution_count": 52,
     "metadata": {},
     "output_type": "execute_result"
    },
    {
     "data": {
      "image/png": "[encoded data removed]",
      "text/plain": [
       "<Figure size 1440x720 with 1 Axes>"
      ]
     },
     "metadata": {
      "needs_background": "light"
     },
     "output_type": "display_data"
    }
   ],
   "source": [
    "#motivo de descarte\n",
    "plt.figure(figsize=(20,10))\n",
    "descarte[(descarte['obs_desc'] != 'AAA')\n",
    "     & (descarte['obs_desc'] != '666')\n",
    "    & (descarte['num_ani'] < 200)\n",
    "    ]['obs_desc'].value_counts()[:25].plot(\n",
    "    kind='bar'\n",
    ")\n",
    "\n",
    "#desc[desc['obs_desc'] == 'Descarte Zootécnico']['num_ani'].sum()"
   ]
  },
  {
   "cell_type": "code",
   "execution_count": null,
   "metadata": {},
   "outputs": [],
   "source": [
    "plt.figure(figsize=(20,10))\n",
    "num_animais = descarte.groupby('obs_desc')\n",
    "num_animais['num_ani'].sum().sort_values(ascending=False)[:25].plot(\n",
    "    kind='bar'\n",
    ")"
   ]
  },
  {
   "cell_type": "code",
   "execution_count": null,
   "metadata": {},
   "outputs": [],
   "source": []
  }
 ],
 "metadata": {
  "kernelspec": {
   "display_name": "Python 3",
   "language": "python",
   "name": "python3"
  },
  "language_info": {
   "codemirror_mode": {
    "name": "ipython",
    "version": 3
   },
   "file_extension": ".py",
   "mimetype": "text/x-python",
   "name": "python",
   "nbconvert_exporter": "python",
   "pygments_lexer": "ipython3",
   "version": "3.7.1"
  }
 },
 "nbformat": 4,
 "nbformat_minor": 2
}
