{
 "cells": [
  {
   "cell_type": "markdown",
   "metadata": {},
   "source": [
    "16) Quais são os principais motivos de descarte? Qual valor total de descarte? Qual período com maior descarte? Qual sexo é mais descartado? "
   ]
  },
  {
   "cell_type": "code",
   "execution_count": 105,
   "metadata": {},
   "outputs": [],
   "source": [
    "import pandas as pd \n",
    "import matplotlib.pyplot as plt\n",
    "import re as re"
   ]
  },
  {
   "cell_type": "code",
   "execution_count": 106,
   "metadata": {},
   "outputs": [
    {
     "data": {
      "text/html": [
       "<div>\n",
       "<style scoped>\n",
       "    .dataframe tbody tr th:only-of-type {\n",
       "        vertical-align: middle;\n",
       "    }\n",
       "\n",
       "    .dataframe tbody tr th {\n",
       "        vertical-align: top;\n",
       "    }\n",
       "\n",
       "    .dataframe thead th {\n",
       "        text-align: right;\n",
       "    }\n",
       "</style>\n",
       "<table border=\"1\" class=\"dataframe\">\n",
       "  <thead>\n",
       "    <tr style=\"text-align: right;\">\n",
       "      <th></th>\n",
       "      <th>date_hoje</th>\n",
       "      <th>user</th>\n",
       "      <th>ling</th>\n",
       "      <th>num_ani</th>\n",
       "      <th>m_f</th>\n",
       "      <th>date_nasc</th>\n",
       "      <th>id_orig</th>\n",
       "      <th>util</th>\n",
       "      <th>id_solic</th>\n",
       "      <th>data_inicio</th>\n",
       "      <th>...</th>\n",
       "      <th>date_acas</th>\n",
       "      <th>date_nasc_acas</th>\n",
       "      <th>num_nasc</th>\n",
       "      <th>date_sex</th>\n",
       "      <th>num_sex_m</th>\n",
       "      <th>num_sex_f</th>\n",
       "      <th>num_ani_ini</th>\n",
       "      <th>num_ani_fim</th>\n",
       "      <th>obs_desc</th>\n",
       "      <th>grupos_acas</th>\n",
       "    </tr>\n",
       "    <tr>\n",
       "      <th>id</th>\n",
       "      <th></th>\n",
       "      <th></th>\n",
       "      <th></th>\n",
       "      <th></th>\n",
       "      <th></th>\n",
       "      <th></th>\n",
       "      <th></th>\n",
       "      <th></th>\n",
       "      <th></th>\n",
       "      <th></th>\n",
       "      <th></th>\n",
       "      <th></th>\n",
       "      <th></th>\n",
       "      <th></th>\n",
       "      <th></th>\n",
       "      <th></th>\n",
       "      <th></th>\n",
       "      <th></th>\n",
       "      <th></th>\n",
       "      <th></th>\n",
       "      <th></th>\n",
       "    </tr>\n",
       "  </thead>\n",
       "  <tbody>\n",
       "    <tr>\n",
       "      <th>66</th>\n",
       "      <td>2014-08-26 17:58:05</td>\n",
       "      <td>Tania</td>\n",
       "      <td>Swiss B</td>\n",
       "      <td>3</td>\n",
       "      <td>f</td>\n",
       "      <td>2014-04-03 04:00:00</td>\n",
       "      <td>6</td>\n",
       "      <td>desc</td>\n",
       "      <td>666</td>\n",
       "      <td>1970-01-01 00:11:06</td>\n",
       "      <td>...</td>\n",
       "      <td>1970-01-01 00:11:06</td>\n",
       "      <td>1970-01-01 00:11:06</td>\n",
       "      <td>666</td>\n",
       "      <td>1970-01-01 00:11:06</td>\n",
       "      <td>666</td>\n",
       "      <td>666</td>\n",
       "      <td>3</td>\n",
       "      <td>0</td>\n",
       "      <td>Descarte Zootecnico</td>\n",
       "      <td>I</td>\n",
       "    </tr>\n",
       "    <tr>\n",
       "      <th>73</th>\n",
       "      <td>2014-09-02 12:20:36</td>\n",
       "      <td>Tania</td>\n",
       "      <td>Swiss B</td>\n",
       "      <td>1</td>\n",
       "      <td>m</td>\n",
       "      <td>2014-06-10 04:00:00</td>\n",
       "      <td>55</td>\n",
       "      <td>desc</td>\n",
       "      <td>666</td>\n",
       "      <td>1970-01-01 00:11:06</td>\n",
       "      <td>...</td>\n",
       "      <td>1970-01-01 00:11:06</td>\n",
       "      <td>1970-01-01 00:11:06</td>\n",
       "      <td>666</td>\n",
       "      <td>1970-01-01 00:11:06</td>\n",
       "      <td>666</td>\n",
       "      <td>666</td>\n",
       "      <td>1</td>\n",
       "      <td>0</td>\n",
       "      <td>p/ acasal.</td>\n",
       "      <td>I</td>\n",
       "    </tr>\n",
       "    <tr>\n",
       "      <th>95</th>\n",
       "      <td>2014-09-17 13:14:12</td>\n",
       "      <td>Tania</td>\n",
       "      <td>S129WT</td>\n",
       "      <td>2</td>\n",
       "      <td>m</td>\n",
       "      <td>2014-04-21 04:00:00</td>\n",
       "      <td>67</td>\n",
       "      <td>desc</td>\n",
       "      <td>666</td>\n",
       "      <td>1970-01-01 00:11:06</td>\n",
       "      <td>...</td>\n",
       "      <td>1970-01-01 00:11:06</td>\n",
       "      <td>1970-01-01 00:11:06</td>\n",
       "      <td>666</td>\n",
       "      <td>1970-01-01 00:11:06</td>\n",
       "      <td>666</td>\n",
       "      <td>666</td>\n",
       "      <td>2</td>\n",
       "      <td>0</td>\n",
       "      <td>Tranferencia cx</td>\n",
       "      <td>AAA</td>\n",
       "    </tr>\n",
       "    <tr>\n",
       "      <th>96</th>\n",
       "      <td>2014-09-17 13:14:12</td>\n",
       "      <td>Tania</td>\n",
       "      <td>S129WT</td>\n",
       "      <td>4</td>\n",
       "      <td>m</td>\n",
       "      <td>2014-06-26 04:00:00</td>\n",
       "      <td>68</td>\n",
       "      <td>desc</td>\n",
       "      <td>666</td>\n",
       "      <td>1970-01-01 00:11:06</td>\n",
       "      <td>...</td>\n",
       "      <td>1970-01-01 00:11:06</td>\n",
       "      <td>1970-01-01 00:11:06</td>\n",
       "      <td>666</td>\n",
       "      <td>1970-01-01 00:11:06</td>\n",
       "      <td>666</td>\n",
       "      <td>666</td>\n",
       "      <td>4</td>\n",
       "      <td>0</td>\n",
       "      <td>Tranferencia cx</td>\n",
       "      <td>AAA</td>\n",
       "    </tr>\n",
       "    <tr>\n",
       "      <th>97</th>\n",
       "      <td>2014-09-17 13:14:12</td>\n",
       "      <td>Tania</td>\n",
       "      <td>S129WT</td>\n",
       "      <td>2</td>\n",
       "      <td>m</td>\n",
       "      <td>2014-07-28 04:00:00</td>\n",
       "      <td>69</td>\n",
       "      <td>desc</td>\n",
       "      <td>666</td>\n",
       "      <td>1970-01-01 00:11:06</td>\n",
       "      <td>...</td>\n",
       "      <td>1970-01-01 00:11:06</td>\n",
       "      <td>1970-01-01 00:11:06</td>\n",
       "      <td>666</td>\n",
       "      <td>1970-01-01 00:11:06</td>\n",
       "      <td>666</td>\n",
       "      <td>666</td>\n",
       "      <td>2</td>\n",
       "      <td>0</td>\n",
       "      <td>Tranferencia cx</td>\n",
       "      <td>AAA</td>\n",
       "    </tr>\n",
       "  </tbody>\n",
       "</table>\n",
       "<p>5 rows × 28 columns</p>\n",
       "</div>"
      ],
      "text/plain": [
       "             date_hoje   user     ling  num_ani m_f           date_nasc  \\\n",
       "id                                                                        \n",
       "66 2014-08-26 17:58:05  Tania  Swiss B        3   f 2014-04-03 04:00:00   \n",
       "73 2014-09-02 12:20:36  Tania  Swiss B        1   m 2014-06-10 04:00:00   \n",
       "95 2014-09-17 13:14:12  Tania   S129WT        2   m 2014-04-21 04:00:00   \n",
       "96 2014-09-17 13:14:12  Tania   S129WT        4   m 2014-06-26 04:00:00   \n",
       "97 2014-09-17 13:14:12  Tania   S129WT        2   m 2014-07-28 04:00:00   \n",
       "\n",
       "   id_orig  util  id_solic         data_inicio     ...      \\\n",
       "id                                                 ...       \n",
       "66       6  desc       666 1970-01-01 00:11:06     ...       \n",
       "73      55  desc       666 1970-01-01 00:11:06     ...       \n",
       "95      67  desc       666 1970-01-01 00:11:06     ...       \n",
       "96      68  desc       666 1970-01-01 00:11:06     ...       \n",
       "97      69  desc       666 1970-01-01 00:11:06     ...       \n",
       "\n",
       "             date_acas      date_nasc_acas  num_nasc            date_sex  \\\n",
       "id                                                                         \n",
       "66 1970-01-01 00:11:06 1970-01-01 00:11:06       666 1970-01-01 00:11:06   \n",
       "73 1970-01-01 00:11:06 1970-01-01 00:11:06       666 1970-01-01 00:11:06   \n",
       "95 1970-01-01 00:11:06 1970-01-01 00:11:06       666 1970-01-01 00:11:06   \n",
       "96 1970-01-01 00:11:06 1970-01-01 00:11:06       666 1970-01-01 00:11:06   \n",
       "97 1970-01-01 00:11:06 1970-01-01 00:11:06       666 1970-01-01 00:11:06   \n",
       "\n",
       "    num_sex_m  num_sex_f  num_ani_ini  num_ani_fim             obs_desc  \\\n",
       "id                                                                        \n",
       "66        666        666            3            0  Descarte Zootecnico   \n",
       "73        666        666            1            0           p/ acasal.   \n",
       "95        666        666            2            0      Tranferencia cx   \n",
       "96        666        666            4            0      Tranferencia cx   \n",
       "97        666        666            2            0      Tranferencia cx   \n",
       "\n",
       "   grupos_acas  \n",
       "id              \n",
       "66           I  \n",
       "73           I  \n",
       "95         AAA  \n",
       "96         AAA  \n",
       "97         AAA  \n",
       "\n",
       "[5 rows x 28 columns]"
      ]
     },
     "execution_count": 106,
     "metadata": {},
     "output_type": "execute_result"
    }
   ],
   "source": [
    "descarte = pd.read_csv('../tabelas_test/est_est_log_2019-06-18.csv', index_col='id')\n",
    "descarte = descarte[(descarte['obs_desc'] != 'AAA') \n",
    "            & (descarte['obs_desc'] != '666')\n",
    "            & (descarte['obs_desc'] != 'Test BioterC')\n",
    "            & (descarte['obs_desc'] != 'Test')\n",
    "            & (descarte['num_ani'] < 200)\n",
    "            & (descarte['util'] == 'desc')\n",
    "           ]\n",
    "\n",
    "#+++++++++++++++++++++++++++++++++++++++++++++++++++++++++++++++++++++++++++++++++++++++++++++++++++++++++++++++++++++++++++++++\n",
    "#Alterando formato da data\n",
    "\n",
    "datas = ['date_hoje', 'date_nasc', 'data_inicio', 'date_acas', 'date_nasc_acas', 'date_sex']\n",
    "\n",
    "for d in datas:\n",
    "    descarte[d] = pd.to_datetime(descarte[d], unit = 's')\n",
    "descarte.head()"
   ]
  },
  {
   "cell_type": "code",
   "execution_count": 107,
   "metadata": {},
   "outputs": [
    {
     "data": {
      "text/plain": [
       "945"
      ]
     },
     "execution_count": 107,
     "metadata": {},
     "output_type": "execute_result"
    }
   ],
   "source": [
    "len(descarte[descarte['obs_desc'] == 'Descarte Zootécnico'])"
   ]
  },
  {
   "cell_type": "code",
   "execution_count": 108,
   "metadata": {},
   "outputs": [],
   "source": [
    "descarte['obs_desc'] = list(map(lambda x: str(x).strip(), descarte['obs_desc']))"
   ]
  },
  {
   "cell_type": "code",
   "execution_count": 109,
   "metadata": {},
   "outputs": [
    {
     "data": {
      "text/plain": [
       "948"
      ]
     },
     "execution_count": 109,
     "metadata": {},
     "output_type": "execute_result"
    }
   ],
   "source": [
    "len(descarte[descarte['obs_desc'] == 'Descarte Zootécnico'])"
   ]
  },
  {
   "cell_type": "code",
   "execution_count": 112,
   "metadata": {},
   "outputs": [
    {
     "data": {
      "text/html": [
       "<div>\n",
       "<style scoped>\n",
       "    .dataframe tbody tr th:only-of-type {\n",
       "        vertical-align: middle;\n",
       "    }\n",
       "\n",
       "    .dataframe tbody tr th {\n",
       "        vertical-align: top;\n",
       "    }\n",
       "\n",
       "    .dataframe thead th {\n",
       "        text-align: right;\n",
       "    }\n",
       "</style>\n",
       "<table border=\"1\" class=\"dataframe\">\n",
       "  <thead>\n",
       "    <tr style=\"text-align: right;\">\n",
       "      <th></th>\n",
       "      <th>obs_desc</th>\n",
       "      <th>num_ani</th>\n",
       "    </tr>\n",
       "    <tr>\n",
       "      <th>id</th>\n",
       "      <th></th>\n",
       "      <th></th>\n",
       "    </tr>\n",
       "  </thead>\n",
       "  <tbody>\n",
       "    <tr>\n",
       "      <th>66</th>\n",
       "      <td>Descarte Zootecnico</td>\n",
       "      <td>3</td>\n",
       "    </tr>\n",
       "    <tr>\n",
       "      <th>73</th>\n",
       "      <td>p/ acasal.</td>\n",
       "      <td>1</td>\n",
       "    </tr>\n",
       "    <tr>\n",
       "      <th>95</th>\n",
       "      <td>Tranferencia cx</td>\n",
       "      <td>2</td>\n",
       "    </tr>\n",
       "    <tr>\n",
       "      <th>96</th>\n",
       "      <td>Tranferencia cx</td>\n",
       "      <td>4</td>\n",
       "    </tr>\n",
       "    <tr>\n",
       "      <th>97</th>\n",
       "      <td>Tranferencia cx</td>\n",
       "      <td>2</td>\n",
       "    </tr>\n",
       "  </tbody>\n",
       "</table>\n",
       "</div>"
      ],
      "text/plain": [
       "               obs_desc  num_ani\n",
       "id                              \n",
       "66  Descarte Zootecnico        3\n",
       "73           p/ acasal.        1\n",
       "95      Tranferencia cx        2\n",
       "96      Tranferencia cx        4\n",
       "97      Tranferencia cx        2"
      ]
     },
     "execution_count": 112,
     "metadata": {},
     "output_type": "execute_result"
    }
   ],
   "source": [
    "desc_df = pd.DataFrame(descarte['obs_desc'])\n",
    "desc_df['num_ani'] = descarte['num_ani']\n",
    "#desc_df = descarte.set_index('obs_desc')\n",
    "desc_df.head()\n",
    "\n",
    "#.lower().capitalize()"
   ]
  },
  {
   "cell_type": "code",
   "execution_count": 16,
   "metadata": {},
   "outputs": [
    {
     "name": "stdout",
     "output_type": "stream",
     "text": [
      "<class 'pandas.core.frame.DataFrame'>\n",
      "Int64Index: 2287 entries, 66 to 18379\n",
      "Data columns (total 28 columns):\n",
      "date_hoje         2287 non-null datetime64[ns]\n",
      "user              2284 non-null object\n",
      "ling              2287 non-null object\n",
      "num_ani           2287 non-null int64\n",
      "m_f               2287 non-null object\n",
      "date_nasc         2287 non-null datetime64[ns]\n",
      "id_orig           2287 non-null object\n",
      "util              2287 non-null object\n",
      "id_solic          2287 non-null int64\n",
      "data_inicio       2287 non-null datetime64[ns]\n",
      "time              2287 non-null object\n",
      "total_time        2287 non-null int64\n",
      "doses             2287 non-null int64\n",
      "data_solic        2287 non-null int64\n",
      "data_forn         2287 non-null int64\n",
      "data_fim          2287 non-null int64\n",
      "num_m             2287 non-null int64\n",
      "num_f             2287 non-null int64\n",
      "date_acas         2287 non-null datetime64[ns]\n",
      "date_nasc_acas    2287 non-null datetime64[ns]\n",
      "num_nasc          2287 non-null int64\n",
      "date_sex          2287 non-null datetime64[ns]\n",
      "num_sex_m         2287 non-null int64\n",
      "num_sex_f         2287 non-null int64\n",
      "num_ani_ini       2287 non-null int64\n",
      "num_ani_fim       2287 non-null int64\n",
      "obs_desc          2287 non-null object\n",
      "grupos_acas       2287 non-null object\n",
      "dtypes: datetime64[ns](6), int64(14), object(8)\n",
      "memory usage: 518.1+ KB\n"
     ]
    }
   ],
   "source": [
    "descarte.info()"
   ]
  },
  {
   "cell_type": "code",
   "execution_count": 160,
   "metadata": {},
   "outputs": [
    {
     "data": {
      "text/plain": [
       "Descarte Zootécnico                                         962\n",
       "Fim Experimento                                             317\n",
       "Encontrado Morto                                            163\n",
       "Velhos                                                      110\n",
       "Erro de cadastro                                             96\n",
       "Canibalismo                                                  72\n",
       "Fornecido Zoológico                                          71\n",
       "Para acasalamento                                            45\n",
       "UEL                                                          40\n",
       "Animais Doentes                                              36\n",
       "Mudança                                                      25\n",
       "Transferencia cx                                             22\n",
       "Cascavel                                                     22\n",
       "Troca de Macho                                               21\n",
       "Monitoramento Sanitário                                      17\n",
       "Ivermectina                                                  15\n",
       "Excesso de Filhotes                                          14\n",
       "Exp Lorena                                                   13\n",
       ".                                                            12\n",
       "Ninhada Grande                                               11\n",
       "Fornecimento Guilhermina - Sem número do comitê de Ética      9\n",
       "Fornecimento Recife - Sem número do comitê de Ética           8\n",
       "Erro Experimento                                              8\n",
       "Troca de Fêmea                                                7\n",
       "TCC João                                                      6\n",
       "Name: obs_desc, dtype: int64"
      ]
     },
     "execution_count": 160,
     "metadata": {},
     "output_type": "execute_result"
    }
   ],
   "source": [
    "erro = descarte['obs_desc'].replace(('erro de cadastro', \n",
    "                              'erro cadastro', 'error','erro de cadastro era 1 fêmea','erro  de cadastro',\n",
    "                             'erro programa','Transferencia error','erro de contagem','erro de cadatro',\n",
    "                             'erro de casa','erro sexagem','Erro Cadastro', 'Erro cadastro', 'Erro cadastro',\n",
    "                              'Erro de Cadastro', 'Erro no cadastro','Animais fornecidos para Fabiano Figueiredo em 15/02/2018 - Erro no sistema (Exp. já encerrado).',\n",
    "                              'Erro de registro','Erro de cadastro. Eram femeas', 'Erro de sexagem', 'Erro de cadastro, não estava na cx',\n",
    "                             'Erro de lançamento no bioterc', 'teste de cadastro', 'ñ encontrado na cx',\n",
    "                                    'nao estava na cx', 'Erro de cadastro', 'não estava na cx'), 'Erro de cadastro', inplace=True)\n",
    "descarte['obs_desc'].value_counts()[:25]"
   ]
  },
  {
   "cell_type": "code",
   "execution_count": 150,
   "metadata": {},
   "outputs": [],
   "source": [
    "zoo = descarte['obs_desc'].replace(('ZOO', 'fornecido Zoológico', \n",
    "                              'Fornecido zoológico', \n",
    "                              'Fornecido Zoológico', \n",
    "                              'Fornecidos Zoológico',\n",
    "                             'fornecido zoológico',\n",
    "                             'zoo', 'zoologico'),'Fornecido Zoológico', inplace=True)\n",
    "#descarte['obs_desc'].value_counts()[:25]"
   ]
  },
  {
   "cell_type": "code",
   "execution_count": 151,
   "metadata": {},
   "outputs": [],
   "source": [
    "velhos = descarte['obs_desc'].replace(('velhos', \n",
    "                              'ANIMAIS VELHOS',\n",
    "                             'Animais velhos',\n",
    "                             'Animais Velhos',\n",
    "                             'Animal velho'), 'Velhos', inplace=True)\n",
    "#descarte['obs_desc'].value_counts()[:25]"
   ]
  },
  {
   "cell_type": "code",
   "execution_count": 152,
   "metadata": {},
   "outputs": [],
   "source": [
    "descart_zoo = descarte['obs_desc'].replace(('Descarte Zootecnico', \n",
    "                              'Caixa caiu no chão > Descarte Zootécnico',\n",
    "                             'Animais com idade apropriada para descarte zootécnico',\n",
    "                             'descarte'), 'Descarte Zootécnico', inplace=True)\n",
    "#descarte['obs_desc'].value_counts()[:25]"
   ]
  },
  {
   "cell_type": "code",
   "execution_count": 153,
   "metadata": {},
   "outputs": [],
   "source": [
    "monitoramento = descarte['obs_desc'].replace(('monitoramento sanitario', \n",
    "                                              'Kelly monitoramento'), 'Monitoramento Sanitátio', inplace=True)\n",
    "#descarte['obs_desc'].value_counts()[:25]"
   ]
  },
  {
   "cell_type": "code",
   "execution_count": 154,
   "metadata": {},
   "outputs": [],
   "source": [
    "ex_filho = descarte['obs_desc'].replace(('Excesso de filhotes', 'Filhotes em excesso'), 'Excesso de Filhotes', inplace=True)\n",
    "#descarte['obs_desc'].value_counts()[:25]"
   ]
  },
  {
   "cell_type": "code",
   "execution_count": 155,
   "metadata": {},
   "outputs": [],
   "source": [
    "acasa = descarte['obs_desc'].replace(('para acasalamento', \n",
    "                              'usada em acasalamento',\n",
    "                             'P acasalamento experim Rosiane',\n",
    "                             'Usado em acasalamento',\n",
    "                             'p acasalamento',\n",
    "                             'Para acasalamento 21136',\n",
    "                             'Foi para o acasalamento B2',\n",
    "                             'foi para acasalamento',\n",
    "                             'para acasalamento 2:1',\n",
    "                             'Foi para o acasalamento - Troca de macho',\n",
    "                             'Usada em acasalamento',\n",
    "                             'Para acasalamento 2:1',\n",
    "                             'Foi encaminhada para acasalamento',\n",
    "                             'Foi encaminhada para acasalamento na experimentação',\n",
    "                             'Para o acasalamento 193',\n",
    "                             'Usada no acasalamento 5.50',\n",
    "                             'para acasalamento 3:!',\n",
    "                             'Para acasalamento 25568',\n",
    "                             'Usada no acasalamento 2.54',\n",
    "                             'Enviado para acasalamento na experimentação.',\n",
    "                             'Usada no acasalamento',\n",
    "                             'femea usada em acasalamento 2:1',\n",
    "                             'Para acasalamento da cesárea', 'Foi encaminhada para acasalamento na experimentação',\n",
    "                                      'Foi encaminhada para acasalamento'), 'Para acasalamento', inplace=True)\n",
    "#descarte['obs_desc'].value_counts()[:25]"
   ]
  },
  {
   "cell_type": "code",
   "execution_count": 156,
   "metadata": {},
   "outputs": [],
   "source": [
    "lorena = descarte['obs_desc'].replace('Lorena', 'Exp Lorena', inplace=True)\n",
    "#descarte['obs_desc'].value_counts()[:25]"
   ]
  },
  {
   "cell_type": "code",
   "execution_count": 157,
   "metadata": {},
   "outputs": [],
   "source": [
    "ninhada_g = descarte['obs_desc'].replace(('ninhada grande', 'Animais |Sacrificados ninhada grande',\n",
    "                                         'ninhada muito grande', 'Filhote menor na ninhada'),'Ninhada Grande', inplace=True)"
   ]
  },
  {
   "cell_type": "code",
   "execution_count": 158,
   "metadata": {},
   "outputs": [],
   "source": [
    "trans_cx = descarte['obs_desc'].replace(('nao estavam na cx', 'Transferido para a cx 526141',\n",
    "                                        'haviam apenas 10 na cx', 'Transferido para a cx 3-1-4-74',\n",
    "                                        'Transf para a cx 436', 'Transferido para a cx 21237',\n",
    "                                        'Transferência de cx', 'Troca de cx', 'Transferido para cx 513143',\n",
    "                                        'Transferido para a cx 512142', 'Transferidos 3 para cx 3.38',\n",
    "                                        'Transferido para a cx 514144', 'transferência de cx',\n",
    "                                        'Tranferencia cx', 'Transferido para cx 522150',\n",
    "                                        'para outra cx'), 'Transferencia cx', inplace=True)"
   ]
  },
  {
   "cell_type": "code",
   "execution_count": 159,
   "metadata": {},
   "outputs": [
    {
     "data": {
      "text/plain": [
       "Transferencia cx                                                  22\n",
       "não estavam na cx                                                  1\n",
       "Trocado de cx                                                      1\n",
       "Usada no ac 2:1.bioterc n permite usar Femeas de cx diferente.     1\n",
       "Name: obs_desc, dtype: int64"
      ]
     },
     "execution_count": 159,
     "metadata": {},
     "output_type": "execute_result"
    }
   ],
   "source": [
    "#Na dataframe descarte - coluna obs_desc, buscando padrões para fazer o replace de diferentes termos\n",
    "#str - indica que é uma string/ contains onde buscarei o padrão / astype boleano/ e apresentando os valores dessa mesma coluna.\n",
    "\n",
    "descarte[descarte['obs_desc'].str.contains('cx', regex=False).astype('bool')]['obs_desc'].value_counts()"
   ]
  },
  {
   "cell_type": "code",
   "execution_count": 114,
   "metadata": {},
   "outputs": [
    {
     "ename": "KeyError",
     "evalue": "\"['Descarte Zootecnico' 'p/ acasal.' 'Tranferencia cx' ...\\n 'Descarte Zootécnico' 'Descarte Zootécnico' 'Descarte Zootécnico'] not in index\"",
     "output_type": "error",
     "traceback": [
      "\u001b[0;31m---------------------------------------------------------------------------\u001b[0m",
      "\u001b[0;31mKeyError\u001b[0m                                  Traceback (most recent call last)",
      "\u001b[0;32m<ipython-input-114-2ca12c394155>\u001b[0m in \u001b[0;36m<module>\u001b[0;34m\u001b[0m\n\u001b[1;32m      1\u001b[0m \u001b[0;31m#descarte[descarte['obs_desc']] = re.search('Fornecimento',test)\u001b[0m\u001b[0;34m\u001b[0m\u001b[0;34m\u001b[0m\u001b[0;34m\u001b[0m\u001b[0m\n\u001b[1;32m      2\u001b[0m \u001b[0;31m#test = 'Testando a string'\u001b[0m\u001b[0;34m\u001b[0m\u001b[0;34m\u001b[0m\u001b[0;34m\u001b[0m\u001b[0m\n\u001b[0;32m----> 3\u001b[0;31m \u001b[0mtest\u001b[0m \u001b[0;34m=\u001b[0m \u001b[0mdesc_df\u001b[0m\u001b[0;34m[\u001b[0m\u001b[0mdesc_df\u001b[0m\u001b[0;34m[\u001b[0m\u001b[0;34m'obs_desc'\u001b[0m\u001b[0;34m]\u001b[0m\u001b[0;34m]\u001b[0m\u001b[0;34m.\u001b[0m\u001b[0msearch\u001b[0m\u001b[0;34m(\u001b[0m\u001b[0;34m'Descarte'\u001b[0m\u001b[0;34m,\u001b[0m\u001b[0mtest\u001b[0m\u001b[0;34m)\u001b[0m\u001b[0;34m\u001b[0m\u001b[0;34m\u001b[0m\u001b[0m\n\u001b[0m\u001b[1;32m      4\u001b[0m \u001b[0mresult\u001b[0m\u001b[0;34m.\u001b[0m\u001b[0mgroup\u001b[0m\u001b[0;34m(\u001b[0m\u001b[0;36m0\u001b[0m\u001b[0;34m)\u001b[0m\u001b[0;34m\u001b[0m\u001b[0;34m\u001b[0m\u001b[0m\n\u001b[1;32m      5\u001b[0m \u001b[0;31m#print(result)\u001b[0m\u001b[0;34m\u001b[0m\u001b[0;34m\u001b[0m\u001b[0;34m\u001b[0m\u001b[0m\n",
      "\u001b[0;32m~/anaconda3/lib/python3.7/site-packages/pandas/core/frame.py\u001b[0m in \u001b[0;36m__getitem__\u001b[0;34m(self, key)\u001b[0m\n\u001b[1;32m   2680\u001b[0m         \u001b[0;32mif\u001b[0m \u001b[0misinstance\u001b[0m\u001b[0;34m(\u001b[0m\u001b[0mkey\u001b[0m\u001b[0;34m,\u001b[0m \u001b[0;34m(\u001b[0m\u001b[0mSeries\u001b[0m\u001b[0;34m,\u001b[0m \u001b[0mnp\u001b[0m\u001b[0;34m.\u001b[0m\u001b[0mndarray\u001b[0m\u001b[0;34m,\u001b[0m \u001b[0mIndex\u001b[0m\u001b[0;34m,\u001b[0m \u001b[0mlist\u001b[0m\u001b[0;34m)\u001b[0m\u001b[0;34m)\u001b[0m\u001b[0;34m:\u001b[0m\u001b[0;34m\u001b[0m\u001b[0;34m\u001b[0m\u001b[0m\n\u001b[1;32m   2681\u001b[0m             \u001b[0;31m# either boolean or fancy integer index\u001b[0m\u001b[0;34m\u001b[0m\u001b[0;34m\u001b[0m\u001b[0;34m\u001b[0m\u001b[0m\n\u001b[0;32m-> 2682\u001b[0;31m             \u001b[0;32mreturn\u001b[0m \u001b[0mself\u001b[0m\u001b[0;34m.\u001b[0m\u001b[0m_getitem_array\u001b[0m\u001b[0;34m(\u001b[0m\u001b[0mkey\u001b[0m\u001b[0;34m)\u001b[0m\u001b[0;34m\u001b[0m\u001b[0;34m\u001b[0m\u001b[0m\n\u001b[0m\u001b[1;32m   2683\u001b[0m         \u001b[0;32melif\u001b[0m \u001b[0misinstance\u001b[0m\u001b[0;34m(\u001b[0m\u001b[0mkey\u001b[0m\u001b[0;34m,\u001b[0m \u001b[0mDataFrame\u001b[0m\u001b[0;34m)\u001b[0m\u001b[0;34m:\u001b[0m\u001b[0;34m\u001b[0m\u001b[0;34m\u001b[0m\u001b[0m\n\u001b[1;32m   2684\u001b[0m             \u001b[0;32mreturn\u001b[0m \u001b[0mself\u001b[0m\u001b[0;34m.\u001b[0m\u001b[0m_getitem_frame\u001b[0m\u001b[0;34m(\u001b[0m\u001b[0mkey\u001b[0m\u001b[0;34m)\u001b[0m\u001b[0;34m\u001b[0m\u001b[0;34m\u001b[0m\u001b[0m\n",
      "\u001b[0;32m~/anaconda3/lib/python3.7/site-packages/pandas/core/frame.py\u001b[0m in \u001b[0;36m_getitem_array\u001b[0;34m(self, key)\u001b[0m\n\u001b[1;32m   2724\u001b[0m             \u001b[0;32mreturn\u001b[0m \u001b[0mself\u001b[0m\u001b[0;34m.\u001b[0m\u001b[0m_take\u001b[0m\u001b[0;34m(\u001b[0m\u001b[0mindexer\u001b[0m\u001b[0;34m,\u001b[0m \u001b[0maxis\u001b[0m\u001b[0;34m=\u001b[0m\u001b[0;36m0\u001b[0m\u001b[0;34m)\u001b[0m\u001b[0;34m\u001b[0m\u001b[0;34m\u001b[0m\u001b[0m\n\u001b[1;32m   2725\u001b[0m         \u001b[0;32melse\u001b[0m\u001b[0;34m:\u001b[0m\u001b[0;34m\u001b[0m\u001b[0;34m\u001b[0m\u001b[0m\n\u001b[0;32m-> 2726\u001b[0;31m             \u001b[0mindexer\u001b[0m \u001b[0;34m=\u001b[0m \u001b[0mself\u001b[0m\u001b[0;34m.\u001b[0m\u001b[0mloc\u001b[0m\u001b[0;34m.\u001b[0m\u001b[0m_convert_to_indexer\u001b[0m\u001b[0;34m(\u001b[0m\u001b[0mkey\u001b[0m\u001b[0;34m,\u001b[0m \u001b[0maxis\u001b[0m\u001b[0;34m=\u001b[0m\u001b[0;36m1\u001b[0m\u001b[0;34m)\u001b[0m\u001b[0;34m\u001b[0m\u001b[0;34m\u001b[0m\u001b[0m\n\u001b[0m\u001b[1;32m   2727\u001b[0m             \u001b[0;32mreturn\u001b[0m \u001b[0mself\u001b[0m\u001b[0;34m.\u001b[0m\u001b[0m_take\u001b[0m\u001b[0;34m(\u001b[0m\u001b[0mindexer\u001b[0m\u001b[0;34m,\u001b[0m \u001b[0maxis\u001b[0m\u001b[0;34m=\u001b[0m\u001b[0;36m1\u001b[0m\u001b[0;34m)\u001b[0m\u001b[0;34m\u001b[0m\u001b[0;34m\u001b[0m\u001b[0m\n\u001b[1;32m   2728\u001b[0m \u001b[0;34m\u001b[0m\u001b[0m\n",
      "\u001b[0;32m~/anaconda3/lib/python3.7/site-packages/pandas/core/indexing.py\u001b[0m in \u001b[0;36m_convert_to_indexer\u001b[0;34m(self, obj, axis, is_setter)\u001b[0m\n\u001b[1;32m   1325\u001b[0m                 \u001b[0;32mif\u001b[0m \u001b[0mmask\u001b[0m\u001b[0;34m.\u001b[0m\u001b[0many\u001b[0m\u001b[0;34m(\u001b[0m\u001b[0;34m)\u001b[0m\u001b[0;34m:\u001b[0m\u001b[0;34m\u001b[0m\u001b[0;34m\u001b[0m\u001b[0m\n\u001b[1;32m   1326\u001b[0m                     raise KeyError('{mask} not in index'\n\u001b[0;32m-> 1327\u001b[0;31m                                    .format(mask=objarr[mask]))\n\u001b[0m\u001b[1;32m   1328\u001b[0m \u001b[0;34m\u001b[0m\u001b[0m\n\u001b[1;32m   1329\u001b[0m                 \u001b[0;32mreturn\u001b[0m \u001b[0mcom\u001b[0m\u001b[0;34m.\u001b[0m\u001b[0m_values_from_object\u001b[0m\u001b[0;34m(\u001b[0m\u001b[0mindexer\u001b[0m\u001b[0;34m)\u001b[0m\u001b[0;34m\u001b[0m\u001b[0;34m\u001b[0m\u001b[0m\n",
      "\u001b[0;31mKeyError\u001b[0m: \"['Descarte Zootecnico' 'p/ acasal.' 'Tranferencia cx' ...\\n 'Descarte Zootécnico' 'Descarte Zootécnico' 'Descarte Zootécnico'] not in index\""
     ]
    }
   ],
   "source": [
    "#descarte[descarte['obs_desc']] = re.search('Fornecimento',test)\n",
    "#test = 'Testando a string'\n",
    "test = desc_df[desc_df['obs_desc']].search('Descarte',test)\n",
    "result.group(0)\n",
    "#print(result)\n",
    "print(result.group(0))"
   ]
  },
  {
   "cell_type": "code",
   "execution_count": 27,
   "metadata": {},
   "outputs": [
    {
     "data": {
      "text/html": [
       "<div>\n",
       "<style scoped>\n",
       "    .dataframe tbody tr th:only-of-type {\n",
       "        vertical-align: middle;\n",
       "    }\n",
       "\n",
       "    .dataframe tbody tr th {\n",
       "        vertical-align: top;\n",
       "    }\n",
       "\n",
       "    .dataframe thead th {\n",
       "        text-align: right;\n",
       "    }\n",
       "</style>\n",
       "<table border=\"1\" class=\"dataframe\">\n",
       "  <thead>\n",
       "    <tr style=\"text-align: right;\">\n",
       "      <th></th>\n",
       "      <th>date_hoje</th>\n",
       "      <th>user</th>\n",
       "      <th>ling</th>\n",
       "      <th>num_ani</th>\n",
       "      <th>m_f</th>\n",
       "      <th>date_nasc</th>\n",
       "      <th>id_orig</th>\n",
       "      <th>util</th>\n",
       "      <th>id_solic</th>\n",
       "      <th>data_inicio</th>\n",
       "      <th>...</th>\n",
       "      <th>date_acas</th>\n",
       "      <th>date_nasc_acas</th>\n",
       "      <th>num_nasc</th>\n",
       "      <th>date_sex</th>\n",
       "      <th>num_sex_m</th>\n",
       "      <th>num_sex_f</th>\n",
       "      <th>num_ani_ini</th>\n",
       "      <th>num_ani_fim</th>\n",
       "      <th>obs_desc</th>\n",
       "      <th>grupos_acas</th>\n",
       "    </tr>\n",
       "    <tr>\n",
       "      <th>id</th>\n",
       "      <th></th>\n",
       "      <th></th>\n",
       "      <th></th>\n",
       "      <th></th>\n",
       "      <th></th>\n",
       "      <th></th>\n",
       "      <th></th>\n",
       "      <th></th>\n",
       "      <th></th>\n",
       "      <th></th>\n",
       "      <th></th>\n",
       "      <th></th>\n",
       "      <th></th>\n",
       "      <th></th>\n",
       "      <th></th>\n",
       "      <th></th>\n",
       "      <th></th>\n",
       "      <th></th>\n",
       "      <th></th>\n",
       "      <th></th>\n",
       "      <th></th>\n",
       "    </tr>\n",
       "  </thead>\n",
       "  <tbody>\n",
       "    <tr>\n",
       "      <th>66</th>\n",
       "      <td>2014-08-26 17:58:05</td>\n",
       "      <td>Tania</td>\n",
       "      <td>Swiss B</td>\n",
       "      <td>3</td>\n",
       "      <td>f</td>\n",
       "      <td>2014-04-03 04:00:00</td>\n",
       "      <td>6</td>\n",
       "      <td>desc</td>\n",
       "      <td>666</td>\n",
       "      <td>666</td>\n",
       "      <td>...</td>\n",
       "      <td>666</td>\n",
       "      <td>666</td>\n",
       "      <td>666</td>\n",
       "      <td>666</td>\n",
       "      <td>666</td>\n",
       "      <td>666</td>\n",
       "      <td>3</td>\n",
       "      <td>0</td>\n",
       "      <td>Descarte Zootecnico</td>\n",
       "      <td>I</td>\n",
       "    </tr>\n",
       "    <tr>\n",
       "      <th>73</th>\n",
       "      <td>2014-09-02 12:20:36</td>\n",
       "      <td>Tania</td>\n",
       "      <td>Swiss B</td>\n",
       "      <td>1</td>\n",
       "      <td>m</td>\n",
       "      <td>2014-06-10 04:00:00</td>\n",
       "      <td>55</td>\n",
       "      <td>desc</td>\n",
       "      <td>666</td>\n",
       "      <td>666</td>\n",
       "      <td>...</td>\n",
       "      <td>666</td>\n",
       "      <td>666</td>\n",
       "      <td>666</td>\n",
       "      <td>666</td>\n",
       "      <td>666</td>\n",
       "      <td>666</td>\n",
       "      <td>1</td>\n",
       "      <td>0</td>\n",
       "      <td>p/ acasal.</td>\n",
       "      <td>I</td>\n",
       "    </tr>\n",
       "    <tr>\n",
       "      <th>95</th>\n",
       "      <td>2014-09-17 13:14:12</td>\n",
       "      <td>Tania</td>\n",
       "      <td>S129WT</td>\n",
       "      <td>2</td>\n",
       "      <td>m</td>\n",
       "      <td>2014-04-21 04:00:00</td>\n",
       "      <td>67</td>\n",
       "      <td>desc</td>\n",
       "      <td>666</td>\n",
       "      <td>666</td>\n",
       "      <td>...</td>\n",
       "      <td>666</td>\n",
       "      <td>666</td>\n",
       "      <td>666</td>\n",
       "      <td>666</td>\n",
       "      <td>666</td>\n",
       "      <td>666</td>\n",
       "      <td>2</td>\n",
       "      <td>0</td>\n",
       "      <td>Tranferencia cx</td>\n",
       "      <td>AAA</td>\n",
       "    </tr>\n",
       "    <tr>\n",
       "      <th>96</th>\n",
       "      <td>2014-09-17 13:14:12</td>\n",
       "      <td>Tania</td>\n",
       "      <td>S129WT</td>\n",
       "      <td>4</td>\n",
       "      <td>m</td>\n",
       "      <td>2014-06-26 04:00:00</td>\n",
       "      <td>68</td>\n",
       "      <td>desc</td>\n",
       "      <td>666</td>\n",
       "      <td>666</td>\n",
       "      <td>...</td>\n",
       "      <td>666</td>\n",
       "      <td>666</td>\n",
       "      <td>666</td>\n",
       "      <td>666</td>\n",
       "      <td>666</td>\n",
       "      <td>666</td>\n",
       "      <td>4</td>\n",
       "      <td>0</td>\n",
       "      <td>Tranferencia cx</td>\n",
       "      <td>AAA</td>\n",
       "    </tr>\n",
       "    <tr>\n",
       "      <th>97</th>\n",
       "      <td>2014-09-17 13:14:12</td>\n",
       "      <td>Tania</td>\n",
       "      <td>S129WT</td>\n",
       "      <td>2</td>\n",
       "      <td>m</td>\n",
       "      <td>2014-07-28 04:00:00</td>\n",
       "      <td>69</td>\n",
       "      <td>desc</td>\n",
       "      <td>666</td>\n",
       "      <td>666</td>\n",
       "      <td>...</td>\n",
       "      <td>666</td>\n",
       "      <td>666</td>\n",
       "      <td>666</td>\n",
       "      <td>666</td>\n",
       "      <td>666</td>\n",
       "      <td>666</td>\n",
       "      <td>2</td>\n",
       "      <td>0</td>\n",
       "      <td>Tranferencia cx</td>\n",
       "      <td>AAA</td>\n",
       "    </tr>\n",
       "  </tbody>\n",
       "</table>\n",
       "<p>5 rows × 28 columns</p>\n",
       "</div>"
      ],
      "text/plain": [
       "             date_hoje   user     ling  num_ani m_f           date_nasc  \\\n",
       "id                                                                        \n",
       "66 2014-08-26 17:58:05  Tania  Swiss B        3   f 2014-04-03 04:00:00   \n",
       "73 2014-09-02 12:20:36  Tania  Swiss B        1   m 2014-06-10 04:00:00   \n",
       "95 2014-09-17 13:14:12  Tania   S129WT        2   m 2014-04-21 04:00:00   \n",
       "96 2014-09-17 13:14:12  Tania   S129WT        4   m 2014-06-26 04:00:00   \n",
       "97 2014-09-17 13:14:12  Tania   S129WT        2   m 2014-07-28 04:00:00   \n",
       "\n",
       "   id_orig  util  id_solic  data_inicio     ...      date_acas  \\\n",
       "id                                          ...                  \n",
       "66       6  desc       666          666     ...            666   \n",
       "73      55  desc       666          666     ...            666   \n",
       "95      67  desc       666          666     ...            666   \n",
       "96      68  desc       666          666     ...            666   \n",
       "97      69  desc       666          666     ...            666   \n",
       "\n",
       "    date_nasc_acas  num_nasc  date_sex  num_sex_m  num_sex_f  num_ani_ini  \\\n",
       "id                                                                          \n",
       "66             666       666       666        666        666            3   \n",
       "73             666       666       666        666        666            1   \n",
       "95             666       666       666        666        666            2   \n",
       "96             666       666       666        666        666            4   \n",
       "97             666       666       666        666        666            2   \n",
       "\n",
       "    num_ani_fim             obs_desc  grupos_acas  \n",
       "id                                                 \n",
       "66            0  Descarte Zootecnico            I  \n",
       "73            0           p/ acasal.            I  \n",
       "95            0      Tranferencia cx          AAA  \n",
       "96            0      Tranferencia cx          AAA  \n",
       "97            0      Tranferencia cx          AAA  \n",
       "\n",
       "[5 rows x 28 columns]"
      ]
     },
     "execution_count": 27,
     "metadata": {},
     "output_type": "execute_result"
    }
   ],
   "source": [
    "descarte.head()"
   ]
  },
  {
   "cell_type": "code",
   "execution_count": 30,
   "metadata": {},
   "outputs": [
    {
     "data": {
      "text/html": [
       "<div>\n",
       "<style scoped>\n",
       "    .dataframe tbody tr th:only-of-type {\n",
       "        vertical-align: middle;\n",
       "    }\n",
       "\n",
       "    .dataframe tbody tr th {\n",
       "        vertical-align: top;\n",
       "    }\n",
       "\n",
       "    .dataframe thead th {\n",
       "        text-align: right;\n",
       "    }\n",
       "</style>\n",
       "<table border=\"1\" class=\"dataframe\">\n",
       "  <thead>\n",
       "    <tr style=\"text-align: right;\">\n",
       "      <th></th>\n",
       "      <th>date_hoje</th>\n",
       "      <th>user</th>\n",
       "      <th>ling</th>\n",
       "      <th>num_ani</th>\n",
       "      <th>m_f</th>\n",
       "      <th>date_nasc</th>\n",
       "      <th>id_orig</th>\n",
       "      <th>util</th>\n",
       "      <th>id_solic</th>\n",
       "      <th>data_inicio</th>\n",
       "      <th>...</th>\n",
       "      <th>date_acas</th>\n",
       "      <th>date_nasc_acas</th>\n",
       "      <th>num_nasc</th>\n",
       "      <th>date_sex</th>\n",
       "      <th>num_sex_m</th>\n",
       "      <th>num_sex_f</th>\n",
       "      <th>num_ani_ini</th>\n",
       "      <th>num_ani_fim</th>\n",
       "      <th>obs_desc</th>\n",
       "      <th>grupos_acas</th>\n",
       "    </tr>\n",
       "    <tr>\n",
       "      <th>id</th>\n",
       "      <th></th>\n",
       "      <th></th>\n",
       "      <th></th>\n",
       "      <th></th>\n",
       "      <th></th>\n",
       "      <th></th>\n",
       "      <th></th>\n",
       "      <th></th>\n",
       "      <th></th>\n",
       "      <th></th>\n",
       "      <th></th>\n",
       "      <th></th>\n",
       "      <th></th>\n",
       "      <th></th>\n",
       "      <th></th>\n",
       "      <th></th>\n",
       "      <th></th>\n",
       "      <th></th>\n",
       "      <th></th>\n",
       "      <th></th>\n",
       "      <th></th>\n",
       "    </tr>\n",
       "  </thead>\n",
       "  <tbody>\n",
       "    <tr>\n",
       "      <th>3044</th>\n",
       "      <td>2016-02-22 11:44:32</td>\n",
       "      <td>Tania</td>\n",
       "      <td>Balb/c</td>\n",
       "      <td>80</td>\n",
       "      <td>AAA</td>\n",
       "      <td>1970-01-01 00:00:00</td>\n",
       "      <td>AAA</td>\n",
       "      <td>AAA</td>\n",
       "      <td>100</td>\n",
       "      <td>1454302800</td>\n",
       "      <td>...</td>\n",
       "      <td>666</td>\n",
       "      <td>666</td>\n",
       "      <td>666</td>\n",
       "      <td>666</td>\n",
       "      <td>666</td>\n",
       "      <td>666</td>\n",
       "      <td>666</td>\n",
       "      <td>666</td>\n",
       "      <td>Solic Descartada</td>\n",
       "      <td>AAA</td>\n",
       "    </tr>\n",
       "    <tr>\n",
       "      <th>3043</th>\n",
       "      <td>2016-02-22 11:44:13</td>\n",
       "      <td>Tania</td>\n",
       "      <td>C57BL06WT</td>\n",
       "      <td>65</td>\n",
       "      <td>AAA</td>\n",
       "      <td>1970-01-01 00:00:00</td>\n",
       "      <td>AAA</td>\n",
       "      <td>AAA</td>\n",
       "      <td>99</td>\n",
       "      <td>1454302800</td>\n",
       "      <td>...</td>\n",
       "      <td>666</td>\n",
       "      <td>666</td>\n",
       "      <td>666</td>\n",
       "      <td>666</td>\n",
       "      <td>666</td>\n",
       "      <td>666</td>\n",
       "      <td>666</td>\n",
       "      <td>666</td>\n",
       "      <td>Solic Descartada</td>\n",
       "      <td>AAA</td>\n",
       "    </tr>\n",
       "    <tr>\n",
       "      <th>129</th>\n",
       "      <td>2014-09-23 18:16:16</td>\n",
       "      <td>Tania</td>\n",
       "      <td>Swiss C</td>\n",
       "      <td>60</td>\n",
       "      <td>AAA</td>\n",
       "      <td>1970-01-01 00:11:06</td>\n",
       "      <td>124</td>\n",
       "      <td>desc</td>\n",
       "      <td>666</td>\n",
       "      <td>666</td>\n",
       "      <td>...</td>\n",
       "      <td>1409075167</td>\n",
       "      <td>1411496005</td>\n",
       "      <td>20</td>\n",
       "      <td>1413310405</td>\n",
       "      <td>666</td>\n",
       "      <td>666</td>\n",
       "      <td>60</td>\n",
       "      <td>20</td>\n",
       "      <td>erro programa</td>\n",
       "      <td>AAA</td>\n",
       "    </tr>\n",
       "    <tr>\n",
       "      <th>16909</th>\n",
       "      <td>2019-04-03 19:24:45</td>\n",
       "      <td>Tania</td>\n",
       "      <td>C57BL/6</td>\n",
       "      <td>60</td>\n",
       "      <td>AAA</td>\n",
       "      <td>1970-01-01 00:00:00</td>\n",
       "      <td>AAA</td>\n",
       "      <td>AAA</td>\n",
       "      <td>384</td>\n",
       "      <td>1554260400</td>\n",
       "      <td>...</td>\n",
       "      <td>666</td>\n",
       "      <td>666</td>\n",
       "      <td>666</td>\n",
       "      <td>666</td>\n",
       "      <td>666</td>\n",
       "      <td>666</td>\n",
       "      <td>666</td>\n",
       "      <td>666</td>\n",
       "      <td>Solic Descartada</td>\n",
       "      <td>AAA</td>\n",
       "    </tr>\n",
       "    <tr>\n",
       "      <th>8001</th>\n",
       "      <td>2017-07-06 11:32:26</td>\n",
       "      <td>Tania</td>\n",
       "      <td>C57BL/6</td>\n",
       "      <td>43</td>\n",
       "      <td>AAA</td>\n",
       "      <td>1970-01-01 00:00:00</td>\n",
       "      <td>AAA</td>\n",
       "      <td>AAA</td>\n",
       "      <td>223</td>\n",
       "      <td>1495422000</td>\n",
       "      <td>...</td>\n",
       "      <td>666</td>\n",
       "      <td>666</td>\n",
       "      <td>666</td>\n",
       "      <td>666</td>\n",
       "      <td>666</td>\n",
       "      <td>666</td>\n",
       "      <td>666</td>\n",
       "      <td>666</td>\n",
       "      <td>Solic Descartada</td>\n",
       "      <td>AAA</td>\n",
       "    </tr>\n",
       "  </tbody>\n",
       "</table>\n",
       "<p>5 rows × 28 columns</p>\n",
       "</div>"
      ],
      "text/plain": [
       "                date_hoje   user       ling  num_ani  m_f           date_nasc  \\\n",
       "id                                                                              \n",
       "3044  2016-02-22 11:44:32  Tania     Balb/c       80  AAA 1970-01-01 00:00:00   \n",
       "3043  2016-02-22 11:44:13  Tania  C57BL06WT       65  AAA 1970-01-01 00:00:00   \n",
       "129   2014-09-23 18:16:16  Tania    Swiss C       60  AAA 1970-01-01 00:11:06   \n",
       "16909 2019-04-03 19:24:45  Tania    C57BL/6       60  AAA 1970-01-01 00:00:00   \n",
       "8001  2017-07-06 11:32:26  Tania    C57BL/6       43  AAA 1970-01-01 00:00:00   \n",
       "\n",
       "      id_orig  util  id_solic  data_inicio     ...        date_acas  \\\n",
       "id                                             ...                    \n",
       "3044      AAA   AAA       100   1454302800     ...              666   \n",
       "3043      AAA   AAA        99   1454302800     ...              666   \n",
       "129       124  desc       666          666     ...       1409075167   \n",
       "16909     AAA   AAA       384   1554260400     ...              666   \n",
       "8001      AAA   AAA       223   1495422000     ...              666   \n",
       "\n",
       "       date_nasc_acas  num_nasc    date_sex  num_sex_m  num_sex_f  \\\n",
       "id                                                                  \n",
       "3044              666       666         666        666        666   \n",
       "3043              666       666         666        666        666   \n",
       "129        1411496005        20  1413310405        666        666   \n",
       "16909             666       666         666        666        666   \n",
       "8001              666       666         666        666        666   \n",
       "\n",
       "       num_ani_ini  num_ani_fim          obs_desc  grupos_acas  \n",
       "id                                                              \n",
       "3044           666          666  Solic Descartada          AAA  \n",
       "3043           666          666  Solic Descartada          AAA  \n",
       "129             60           20     erro programa          AAA  \n",
       "16909          666          666  Solic Descartada          AAA  \n",
       "8001           666          666  Solic Descartada          AAA  \n",
       "\n",
       "[5 rows x 28 columns]"
      ]
     },
     "execution_count": 30,
     "metadata": {},
     "output_type": "execute_result"
    }
   ],
   "source": [
    "#Função nlargest com os parametros vai apresentar os maiores valores dentro de um limite\n",
    "#Por exemplo 25 maiores valores na coluna num_ani\n",
    "descarte.nlargest(25, 'num_ani').head()"
   ]
  },
  {
   "cell_type": "code",
   "execution_count": 41,
   "metadata": {},
   "outputs": [
    {
     "data": {
      "text/plain": [
       "<pandas.core.groupby.groupby.DataFrameGroupBy object at 0x7f70a21ccb00>"
      ]
     },
     "execution_count": 41,
     "metadata": {},
     "output_type": "execute_result"
    }
   ],
   "source": [
    "descarte[[\"obs_desc\", \"num_ani\"]].groupby(['obs_desc'])"
   ]
  },
  {
   "cell_type": "code",
   "execution_count": null,
   "metadata": {},
   "outputs": [],
   "source": []
  },
  {
   "cell_type": "code",
   "execution_count": null,
   "metadata": {},
   "outputs": [],
   "source": []
  },
  {
   "cell_type": "markdown",
   "metadata": {},
   "source": [
    "FUNÇÃO MATCH: Esse método encontra equivalência se ela ocorrer no início da string. GROUP Para retornar a string correspondente vamos usar o método group(). Use ‘r’ no começo da string padrão para designar ao Python uma string raw.\n",
    "START: Onde encontra a primeira string \n",
    "END: Onde encontra a ultima strig"
   ]
  },
  {
   "cell_type": "code",
   "execution_count": 139,
   "metadata": {},
   "outputs": [
    {
     "data": {
      "text/plain": [
       "<re.Match object; span=(0, 9), match='Fornecido'>"
      ]
     },
     "execution_count": 139,
     "metadata": {},
     "output_type": "execute_result"
    }
   ],
   "source": [
    "test_match = re.match(r'Fornecido', 'Fornecido Zoológico')\n",
    "test_match\n"
   ]
  },
  {
   "cell_type": "code",
   "execution_count": 131,
   "metadata": {},
   "outputs": [
    {
     "data": {
      "text/plain": [
       "'Fornecido'"
      ]
     },
     "execution_count": 131,
     "metadata": {},
     "output_type": "execute_result"
    }
   ],
   "source": [
    "test_match = re.match(r'Fornecido', 'Fornecido Zoológico')\n",
    "test_match.group(0)\n"
   ]
  },
  {
   "cell_type": "markdown",
   "metadata": {},
   "source": [
    "Apenas mudando a string a ser encontrada, nesse caso ao invéz de pedir pra encontrar \"Fornecido\", pede pra encontrar \"Zoologico\" e ao printar não da resultado (em outras IDEs printa 'None' - como aqui não resulta em nada, entendo que deu certo)"
   ]
  },
  {
   "cell_type": "code",
   "execution_count": 132,
   "metadata": {},
   "outputs": [],
   "source": [
    "test_match = re.match(r'Zoológico', 'Fornecido Zoológico')\n",
    "test_match"
   ]
  },
  {
   "cell_type": "code",
   "execution_count": 136,
   "metadata": {},
   "outputs": [
    {
     "data": {
      "text/plain": [
       "9"
      ]
     },
     "execution_count": 136,
     "metadata": {},
     "output_type": "execute_result"
    }
   ],
   "source": [
    "test_match = re.match(r'Fornecido', 'Fornecido Zoológico')\n",
    "test_match.start()\n",
    "test_match.end()\n",
    "#Resultado start 0 (onde começa) end 9 (onde termina)"
   ]
  },
  {
   "cell_type": "markdown",
   "metadata": {},
   "source": [
    "FUNÇÃO SEARCH: É similar a match() mas não nos restringe a encontrar equivalência apenas no começo da string.aqui a busca pelo padrão “Analytics” irá retornar resultado positivo. Aqui podemos ver que o método search() consegue encontrar um padrão em qualquer posição da string mas que somente retorna a primeira ocorrência do padrão de busca.\n"
   ]
  },
  {
   "cell_type": "code",
   "execution_count": 137,
   "metadata": {},
   "outputs": [
    {
     "data": {
      "text/plain": [
       "'Fornecido'"
      ]
     },
     "execution_count": 137,
     "metadata": {},
     "output_type": "execute_result"
    }
   ],
   "source": [
    "test_search = re.search(r'Fornecido', 'Fornecido Zoológico')\n",
    "test_search.group(0)\n"
   ]
  },
  {
   "cell_type": "markdown",
   "metadata": {},
   "source": [
    "FUNÇÃO FINDALL: É útil obter uma lista de todos os padrões encontrados. Não há restrições em buscar do começo ou do fim. Se usarmos o método findall para buscar por ‘AV’ numa dada string, irá retornar amboas ocorrências de AV. Quando efetuar buscas numa string, recomendo usar re.findall() sempre, funciona como ambas re.search() e re.match().\n",
    "\n",
    "Não consegui fazer funcionar"
   ]
  },
  {
   "cell_type": "code",
   "execution_count": 142,
   "metadata": {},
   "outputs": [
    {
     "data": {
      "text/plain": [
       "['erro']"
      ]
     },
     "execution_count": 142,
     "metadata": {},
     "output_type": "execute_result"
    }
   ],
   "source": [
    "test_findall = re.findall(r'erro', 'erro descarte') #mudei de exemplo pra ver se listava mais de uma vez.\n",
    "test_findall"
   ]
  },
  {
   "cell_type": "markdown",
   "metadata": {},
   "source": [
    "FUNÇÃO SPLIT: Este método ajuda a dividir a string pela ocorrências do padrão dado."
   ]
  },
  {
   "cell_type": "code",
   "execution_count": 144,
   "metadata": {},
   "outputs": [
    {
     "data": {
      "text/plain": [
       "['Forn', 'cido']"
      ]
     },
     "execution_count": 144,
     "metadata": {},
     "output_type": "execute_result"
    }
   ],
   "source": [
    "teste_split = re.split(r'e', 'Fornecido')\n",
    "teste_split"
   ]
  },
  {
   "cell_type": "markdown",
   "metadata": {},
   "source": [
    "FUNÇÃO SUB: Às vezes é útil buscar um padrão de string e substituí-lo por uma nova sub-string. Se o padrão não for encontrado, a string é retornada sem mudanças."
   ]
  },
  {
   "cell_type": "code",
   "execution_count": 145,
   "metadata": {},
   "outputs": [
    {
     "data": {
      "text/plain": [
       "'Fornecido Zoológico'"
      ]
     },
     "execution_count": 145,
     "metadata": {},
     "output_type": "execute_result"
    }
   ],
   "source": [
    "test_sub = re.sub(r'fornecido', 'Fornecido', 'fornecido Zoológico')\n",
    "test_sub"
   ]
  },
  {
   "cell_type": "markdown",
   "metadata": {},
   "source": [
    "FUNÇÃO COMPILE: Podemos combinar uma expressão regular com objetos de padrões, que pode ser usado para encontrar padrões. É útil também para buscar um padrão sem ter que re-escrevê-lo."
   ]
  },
  {
   "cell_type": "code",
   "execution_count": 159,
   "metadata": {},
   "outputs": [
    {
     "data": {
      "text/plain": [
       "['fornecido']"
      ]
     },
     "execution_count": 159,
     "metadata": {},
     "output_type": "execute_result"
    }
   ],
   "source": [
    "test_compile = re.compile('fornecido')\n",
    "resultado = test_compile.findall('fornecido Zoológico')\n",
    "resultado\n",
    "resultado_2 = test_compile.findall('fornecido Zoológico de Curitiba')\n",
    "resultado_2"
   ]
  },
  {
   "cell_type": "code",
   "execution_count": null,
   "metadata": {},
   "outputs": [],
   "source": []
  },
  {
   "cell_type": "code",
   "execution_count": 119,
   "metadata": {},
   "outputs": [
    {
     "data": {
      "text/plain": [
       "3008"
      ]
     },
     "execution_count": 119,
     "metadata": {},
     "output_type": "execute_result"
    }
   ],
   "source": [
    "descarte['obs_desc'].value_counts()[:25].sum()"
   ]
  },
  {
   "cell_type": "code",
   "execution_count": 122,
   "metadata": {},
   "outputs": [
    {
     "data": {
      "text/plain": [
       "11871"
      ]
     },
     "execution_count": 122,
     "metadata": {},
     "output_type": "execute_result"
    }
   ],
   "source": [
    "num_animais = descarte.groupby('obs_desc')\n",
    "num_animais['num_ani'].sum().sort_values(ascending=False)[:25].sum()"
   ]
  },
  {
   "cell_type": "code",
   "execution_count": 120,
   "metadata": {},
   "outputs": [
    {
     "data": {
      "text/plain": [
       "356"
      ]
     },
     "execution_count": 120,
     "metadata": {},
     "output_type": "execute_result"
    }
   ],
   "source": [
    "#somar os demais termos e nomear por outros\n",
    "descarte['obs_desc'].value_counts()[25:].sum()\n"
   ]
  },
  {
   "cell_type": "code",
   "execution_count": 121,
   "metadata": {},
   "outputs": [
    {
     "data": {
      "text/plain": [
       "1339"
      ]
     },
     "execution_count": 121,
     "metadata": {},
     "output_type": "execute_result"
    }
   ],
   "source": [
    "num_animais = descarte.groupby('obs_desc')\n",
    "num_animais['num_ani'].sum().sort_values(ascending=False)[25:].sum()"
   ]
  },
  {
   "cell_type": "code",
   "execution_count": null,
   "metadata": {},
   "outputs": [],
   "source": []
  },
  {
   "cell_type": "code",
   "execution_count": 123,
   "metadata": {},
   "outputs": [
    {
     "data": {
      "text/plain": [
       "<matplotlib.axes._subplots.AxesSubplot at 0x7f314e23d1d0>"
      ]
     },
     "execution_count": 123,
     "metadata": {},
     "output_type": "execute_result"
    },
    {
     "data": {
      "image/png": "[encoded data removed]",
      "text/plain": [
       "<Figure size 1440x720 with 1 Axes>"
      ]
     },
     "metadata": {
      "needs_background": "light"
     },
     "output_type": "display_data"
    }
   ],
   "source": [
    "#motivo de descarte\n",
    "plt.figure(figsize=(20,10))\n",
    "descarte[(desc['obs_desc'] != 'AAA')\n",
    "     & (desc['obs_desc'] != '666')\n",
    "    & (desc['num_ani'] < 200)\n",
    "    ]['obs_desc'].value_counts()[:25].plot(\n",
    "    kind='bar'\n",
    ")\n",
    "\n",
    "#desc[desc['obs_desc'] == 'Descarte Zootécnico']['num_ani'].sum()"
   ]
  },
  {
   "cell_type": "code",
   "execution_count": 124,
   "metadata": {},
   "outputs": [
    {
     "data": {
      "text/plain": [
       "<matplotlib.axes._subplots.AxesSubplot at 0x7f314e004cf8>"
      ]
     },
     "execution_count": 124,
     "metadata": {},
     "output_type": "execute_result"
    },
    {
     "data": {
      "image/png": "[encoded data removed]",
      "text/plain": [
       "<Figure size 1440x720 with 1 Axes>"
      ]
     },
     "metadata": {
      "needs_background": "light"
     },
     "output_type": "display_data"
    }
   ],
   "source": [
    "plt.figure(figsize=(20,10))\n",
    "num_animais = descarte.groupby('obs_desc')\n",
    "num_animais['num_ani'].sum().sort_values(ascending=False)[:25].plot(\n",
    "    kind='bar'\n",
    ")"
   ]
  },
  {
   "cell_type": "code",
   "execution_count": null,
   "metadata": {},
   "outputs": [],
   "source": []
  }
 ],
 "metadata": {
  "kernelspec": {
   "display_name": "Python 3",
   "language": "python",
   "name": "python3"
  },
  "language_info": {
   "codemirror_mode": {
    "name": "ipython",
    "version": 3
   },
   "file_extension": ".py",
   "mimetype": "text/x-python",
   "name": "python",
   "nbconvert_exporter": "python",
   "pygments_lexer": "ipython3",
   "version": "3.7.1"
  }
 },
 "nbformat": 4,
 "nbformat_minor": 2
}
