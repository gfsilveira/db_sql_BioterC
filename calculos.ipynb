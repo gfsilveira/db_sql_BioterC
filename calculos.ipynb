{
 "cells": [
  {
   "cell_type": "code",
   "execution_count": 1,
   "metadata": {},
   "outputs": [],
   "source": [
    "import numpy as np"
   ]
  },
  {
   "cell_type": "code",
   "execution_count": 17,
   "metadata": {},
   "outputs": [],
   "source": [
    "class Calcular():\n",
    "    def __init__(self, lista):\n",
    "        self.lista = lista\n",
    "    \n",
    "    def organo(self):    \n",
    "        lista_org = self.lista[:]\n",
    "        conta = 1\n",
    "        for k1 in range(len(lista_org) - 1):\n",
    "            conta += 1\n",
    "            for k2 in range(len(lista_org) - 1):\n",
    "                if lista_org[k2] > lista_org[k2 + 1]:\n",
    "                    lista_org[k2], lista_org[k2 + 1] = lista_org[k2 + 1], lista_org[k2]\n",
    "        return [lista_org, conta]\n",
    "    \n",
    "    def mediana(self):\n",
    "        lista_org = Calcular(self.lista).organo()[0]\n",
    "        conta = Calcular(self.lista).organo()[1]\n",
    "        if conta%2 == 1:\n",
    "            lista_mediana = lista_org[int(conta/2)]\n",
    "        else:\n",
    "            lista_mediana = (lista_org[int(conta/2)] - lista_org[int(conta/2) - 1])/2 + lista_org[int(conta/2) - 1]\n",
    "        return [conta, lista_mediana]\n",
    "    \n",
    "    \n",
    "    def media_soma(self):\n",
    "        lista_org = self.lista[:]\n",
    "        conta = 0\n",
    "        soma = 0\n",
    "        for k, v in enumerate(lista_org):\n",
    "            soma += v\n",
    "            conta += 1\n",
    "        return [soma/conta, soma]\n",
    "    \n",
    "    \n",
    "    def max_min(self):\n",
    "        lista_org = Calcular(self.lista).organo()[0]\n",
    "        for c in lista_org:\n",
    "            list_max = c\n",
    "        return [lista_org[0], c]"
   ]
  },
  {
   "cell_type": "code",
   "execution_count": 18,
   "metadata": {},
   "outputs": [
    {
     "data": {
      "text/plain": [
       "array([706, 954,  12,  46, 681, 338, 847, 299, 186, 148, 307, 293, 932,\n",
       "       277, 243, 453, 765, 371, 527, 283, 852, 620, 161, 251, 970, 765,\n",
       "       973, 695, 997,  52, 609, 269, 256, 356, 448, 426, 910, 878, 375,\n",
       "       778,  99,  49, 653, 702, 906, 261, 854, 947, 635, 524, 310, 596,\n",
       "        72, 486, 857, 924, 746, 600, 477, 278, 376, 310,  13, 424, 125,\n",
       "       823, 716, 495, 702, 888, 677, 159, 303, 712, 385, 193, 962, 272,\n",
       "        44, 118,  77, 165, 520, 836, 465, 194, 805, 296, 765, 176, 433,\n",
       "       434, 327, 340, 852, 765, 642, 727,  22, 196])"
      ]
     },
     "execution_count": 18,
     "metadata": {},
     "output_type": "execute_result"
    }
   ],
   "source": [
    "l = np.random.randint(low=2, high=1000, size=100)\n",
    "# l = [1,2,3,4,5,6]\n",
    "l"
   ]
  },
  {
   "cell_type": "code",
   "execution_count": 19,
   "metadata": {},
   "outputs": [
    {
     "data": {
      "text/plain": [
       "<__main__.Calcular at 0x702fdb0>"
      ]
     },
     "execution_count": 19,
     "metadata": {},
     "output_type": "execute_result"
    }
   ],
   "source": [
    "resumo_l = Calcular(l)\n",
    "resumo_l"
   ]
  },
  {
   "cell_type": "code",
   "execution_count": 20,
   "metadata": {},
   "outputs": [
    {
     "name": "stdout",
     "output_type": "stream",
     "text": [
      "Organizado -> [ 12  13  22  44  46  49  52  72  77  99 118 125 148 159 161 165 176 186\n",
      " 193 194 196 243 251 256 261 269 272 277 278 283 293 296 299 303 307 310\n",
      " 310 327 338 340 356 371 375 376 385 424 426 433 434 448 453 465 477 486\n",
      " 495 520 524 527 596 600 609 620 635 642 653 677 681 695 702 702 706 712\n",
      " 716 727 746 765 765 765 765 778 805 823 836 847 852 852 854 857 878 888\n",
      " 906 910 924 932 947 954 962 970 973 997]\n"
     ]
    }
   ],
   "source": [
    "lista_org = resumo_l.organo()[0]\n",
    "print(f'Organizado -> {lista_org}')"
   ]
  },
  {
   "cell_type": "code",
   "execution_count": 23,
   "metadata": {},
   "outputs": [
    {
     "name": "stdout",
     "output_type": "stream",
     "text": [
      "Média -> 490.19 - 490.19\n"
     ]
    }
   ],
   "source": [
    "print(f'Média -> {resumo_l.media_soma()[0]} - {np.mean(l)}')"
   ]
  },
  {
   "cell_type": "code",
   "execution_count": 24,
   "metadata": {},
   "outputs": [
    {
     "name": "stdout",
     "output_type": "stream",
     "text": [
      "Mediana -> 450.5 - 450.5\n"
     ]
    }
   ],
   "source": [
    "lista_org = resumo_l.mediana()[1]\n",
    "print(f'Mediana -> {lista_org} - {np.median(l)}')"
   ]
  },
  {
   "cell_type": "code",
   "execution_count": 25,
   "metadata": {},
   "outputs": [
    {
     "name": "stdout",
     "output_type": "stream",
     "text": [
      "Mínimo -> 12 - 12\n"
     ]
    }
   ],
   "source": [
    "print(f'Mínimo -> {resumo_l.max_min()[0]} - {np.min(l)}')"
   ]
  },
  {
   "cell_type": "code",
   "execution_count": 26,
   "metadata": {},
   "outputs": [
    {
     "name": "stdout",
     "output_type": "stream",
     "text": [
      "Máximo -> 997 - 997\n"
     ]
    }
   ],
   "source": [
    "print(f'Máximo -> {resumo_l.max_min()[1]} - {np.max(l)}')"
   ]
  },
  {
   "cell_type": "code",
   "execution_count": 27,
   "metadata": {},
   "outputs": [
    {
     "name": "stdout",
     "output_type": "stream",
     "text": [
      "Soma -> 49019 - 49019\n"
     ]
    }
   ],
   "source": [
    "print(f'Soma -> {resumo_l.media_soma()[1]} - {np.sum(l)}')"
   ]
  },
  {
   "cell_type": "code",
   "execution_count": null,
   "metadata": {},
   "outputs": [],
   "source": []
  }
 ],
 "metadata": {
  "kernelspec": {
   "display_name": "Python 3",
   "language": "python",
   "name": "python3"
  },
  "language_info": {
   "codemirror_mode": {
    "name": "ipython",
    "version": 3
   },
   "file_extension": ".py",
   "mimetype": "text/x-python",
   "name": "python",
   "nbconvert_exporter": "python",
   "pygments_lexer": "ipython3",
   "version": "3.7.4"
  }
 },
 "nbformat": 4,
 "nbformat_minor": 4
}
